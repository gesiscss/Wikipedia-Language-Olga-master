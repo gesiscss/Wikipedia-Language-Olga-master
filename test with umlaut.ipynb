{
 "cells": [
  {
   "cell_type": "code",
   "execution_count": 14,
   "metadata": {
    "collapsed": false
   },
   "outputs": [
    {
     "name": "stdout",
     "output_type": "stream",
     "text": [
      "[[u'RevisorIn', u'Revisorin und Revisor', u'Revisorin oder Revisor', u'Revisorin bzw. Revisor'], u'Revisorin']\n",
      "Technischer Konfektionär im Spezialarbeiten\n",
      "Technischer Konfektionär im Flächenverbindung\n",
      "Technischer Konfektionär\n",
      "Technischer Konfektionär im Fertigungsvorbereitung\n"
     ]
    }
   ],
   "source": [
    "from bs4 import BeautifulSoup\n",
    "from wikitools import wiki, api\n",
    "import json\n",
    "import re\n",
    "from collections import defaultdict\n",
    "\n",
    "def load_simple_json(filename):\n",
    "    with open(filename, 'r') as f:\n",
    "        return json.load(f)\n",
    "\n",
    "    \n",
    "def check_revision(revisions):\n",
    "    redir=\"\"\n",
    "    page=False\n",
    "    for j in revisions:\n",
    "        redir_marker=[\"#WEITERLEITUNG\",\"#REDIRECT\",\"#redirect\",\"#weiterleitung\",\"#Weiterleitung\",\"#Redirect\"]\n",
    "        if (\"#WEITERLEITUNG\" in j[\"*\"])|(\"#REDIRECT\" in j[\"*\"])|(\"#redirect\" in j[\"*\"])|(\"#weiterleitung\" in j[\"*\"])\\\n",
    "        |(\"#Redirect\" in j[\"*\"])|(\"#Weiterleitung\" in j[\"*\"]):\n",
    "            m = re.search(r\"\\[\\[(.+)\\]\\]\", j[\"*\"])\n",
    "            s = m.group(0)[2:].split('#', 1)[0].replace(\"]]\",'')\n",
    "            redir=s\n",
    "        else:\n",
    "            page=True\n",
    "    return redir,page\n",
    "\n",
    "\n",
    "def check_with_mark_beruf(beruf_m):\n",
    "    beruf_markers=[\" Beruf\",\" (Beruf)\",\" beruf\", \" (Amt)\", \" Amt\"]\n",
    "    for i in beruf_markers:\n",
    "        l=\"de\" \n",
    "        site = wiki.Wiki(\"http://\"+l+\".wikipedia.org/w/api.php\")\n",
    "        params={'action':'query','titles':beruf_m+i,'prop':'revisions','rvprop':'timestamp|content','format':'json','continue':''}\n",
    "        request = api.APIRequest(site, params)\n",
    "        result=request.query()\n",
    "        if result[\"query\"][\"pages\"].values()[0].get(\"revisions\"):\n",
    "            redir,page=check_revision(result[\"query\"][\"pages\"].values()[0][\"revisions\"])\n",
    "            if page:\n",
    "                page=beruf_m+i\n",
    "            return redir,page     \n",
    "    return False,False\n",
    "\n",
    "def check_with_im(beruf_m):\n",
    "    beruf_markers=[\" \",\" für \".decode('utf-8')]\n",
    "    for i in beruf_markers:\n",
    "        l=\"de\" \n",
    "        site = wiki.Wiki(\"http://\"+l+\".wikipedia.org/w/api.php\")\n",
    "        params={'action':'query','titles':beruf_m.replace(\" im \",i),'prop':'revisions','rvprop':'timestamp|content','format':'json','continue':''}\n",
    "        request = api.APIRequest(site, params)\n",
    "        result=request.query()\n",
    "        if result[\"query\"][\"pages\"].values()[0].get(\"revisions\"):\n",
    "            redir,page=check_revision(result[\"query\"][\"pages\"].values()[0][\"revisions\"])\n",
    "            if page:\n",
    "                page=beruf_m.replace(\" im \",i)\n",
    "            return redir,page     \n",
    "    return False,False\n",
    "\n",
    "\n",
    "\n",
    "words=load_simple_json('de/occupation_all.json')\n",
    "\n",
    "print words[words.keys()[0]]\n",
    "a=defaultdict(list)\n",
    "for m in words:\n",
    "    if \"Technischer Konfektion\" in m:\n",
    "        print m\n",
    "        a[m]= words[m]\n",
    "\n",
    "#words = {\"Lehrer\":[[],\"Lehrerin\"],\"Professor\":[[],\"Professorin\"], \"Profesghhsor\":[[],\"Professorin\"]}\n",
    "words={    \"Technischer Konfektion\\u00e4r\": [\n",
    "        [\n",
    "            \"Technische Konfektion\\u00e4rin und Technischer Konfektion\\u00e4r\", \n",
    "            \"Technische Konfektion\\u00e4rin oder Technischer Konfektion\\u00e4r\", \n",
    "            \"Technische Konfektion\\u00e4rin bzw. Technischer Konfektion\\u00e4r\"\n",
    "        ], \n",
    "        \"Technische Konfektion\\u00e4rin\"\n",
    "    ], \n",
    "    \"Kapit\\u00e4n\": [\n",
    "        [\n",
    "            \"Kapit\\u00e4nIn\", \n",
    "            \"Kapit\\u00e4nin und Kapit\\u00e4n\", \n",
    "            \"Kapit\\u00e4nin oder Kapit\\u00e4n\", \n",
    "            \"Kapit\\u00e4nin bzw. Kapit\\u00e4n\"\n",
    "        ], \n",
    "        \"Kapit\\u00e4nin\"\n",
    "    ]}\n",
    "words=a\n",
    "redirection_m={}\n",
    "redirection_f={}\n",
    "page_m=[]\n",
    "page_m_new=[]\n",
    "no_page_m=[]\n",
    "no_page_m_new=[]\n",
    "page_f=[]\n",
    "no_page_f=[]\n",
    "\n",
    "#=====progressbar\n",
    "import sys #for progressbar\n",
    "k=0#for the progressbar\n",
    "number_pages=len(words)#for the progressbar\n",
    "steps = number_pages/100 #progressbar step (each 1% show)\n",
    "#======\n",
    "\n",
    "for beruf_m in words:\n",
    "    l=\"de\" \n",
    "    site = wiki.Wiki(\"http://\"+l+\".wikipedia.org/w/api.php\")\n",
    "    #all revisions\n",
    "    #http://de.wikipedia.org/w/api.php?action=query&prop=revisions&rvprop=timestamp|content&rvlimit=500&titles=Professorin&format=json&continue=\n",
    "    #params={'action':'query','titles':beruf_m,'prop':'revisions','rvprop':'timestamp|content','rvlimit':'500','format':'json','continue':''}\n",
    "    #last revision\n",
    "    #http://de.wikipedia.org/w/api.php?action=query&prop=revisions&rvprop=timestamp|content&titles=Professorin&format=json&continue=\n",
    "    \n",
    "    #try beruf_m\n",
    "    #print beruf_m\n",
    "    params={'action':'query','titles':beruf_m,'prop':'revisions','rvprop':'timestamp|content','format':'json','continue':''}\n",
    "    request = api.APIRequest(site, params)\n",
    "    result=request.query()\n",
    "    \n",
    "    if result[\"query\"][\"pages\"].values()[0].get(\"revisions\"):\n",
    "        redir,page=check_revision(result[\"query\"][\"pages\"].values()[0][\"revisions\"])\n",
    "        if redir:\n",
    "            redirection_m[beruf_m]=redir\n",
    "        if page:\n",
    "            page_m.append(beruf_m)        \n",
    "    else:\n",
    "        #there is no page\n",
    "        #print \"no page\",beruf_m\n",
    "        #redir,page=check_with_mark_beruf(beruf_m)\n",
    "        if \" im \" in beruf_m:\n",
    "            redir,page=check_with_im(beruf_m)\n",
    "            if redir:\n",
    "                redirection_m[beruf_m]=redir\n",
    "            elif page:\n",
    "                page_m_new.append(page)   ######we addd beruf_m+i, where i is some substring,e.g. \" (Beruf)\"           \n",
    "            else:\n",
    "                no_page_m_new.append(beruf_m)\n",
    "        else:\n",
    "            no_page_m_new.append(beruf_m)\n",
    "        no_page_m.append(beruf_m)\n",
    "        \n",
    "    #try beruf_f \n",
    "    beruf_f =words[beruf_m][1]\n",
    "    #print beruf_f\n",
    "    params={'action':'query','titles':beruf_f,'prop':'revisions','rvprop':'timestamp|content','format':'json','continue':''}\n",
    "    request = api.APIRequest(site, params)\n",
    "    result=request.query()\n",
    "    if result[\"query\"][\"pages\"].values()[0].get(\"revisions\"):\n",
    "        redir,page=check_revision(result[\"query\"][\"pages\"].values()[0][\"revisions\"])\n",
    "        if redir:\n",
    "            redirection_f[beruf_f]=redir\n",
    "        if page:\n",
    "            page_f.append(beruf_f)         \n",
    "    else:\n",
    "        #there is no page\n",
    "        #print \"no page\",beruf_f\n",
    "        no_page_f.append(beruf_f) \n",
    "        \n",
    "    #=====progressbar \n",
    "    if steps!=0:\n",
    "        if k%steps == 0:\n",
    "            print '\\b'+str((k)*100/number_pages)+'%',\n",
    "            sys.stdout.flush()\n",
    "    k=k+1#forthe  progressbar\n",
    "\n",
    "                "
   ]
  },
  {
   "cell_type": "code",
   "execution_count": 15,
   "metadata": {
    "collapsed": false
   },
   "outputs": [
    {
     "data": {
      "text/plain": [
       "[u'Technischer Konfektion\\xe4r im Fertigungsvorbereitung',\n",
       " u'Technischer Konfektion\\xe4r im Fl\\xe4chenverbindung',\n",
       " u'Technischer Konfektion\\xe4r im Spezialarbeiten']"
      ]
     },
     "execution_count": 15,
     "metadata": {},
     "output_type": "execute_result"
    }
   ],
   "source": [
    "no_page_m"
   ]
  },
  {
   "cell_type": "code",
   "execution_count": 16,
   "metadata": {
    "collapsed": false
   },
   "outputs": [
    {
     "data": {
      "text/plain": [
       "[u'Technischer Konfektion\\xe4r']"
      ]
     },
     "execution_count": 16,
     "metadata": {},
     "output_type": "execute_result"
    }
   ],
   "source": [
    "page_m"
   ]
  },
  {
   "cell_type": "code",
   "execution_count": null,
   "metadata": {
    "collapsed": true
   },
   "outputs": [],
   "source": []
  }
 ],
 "metadata": {
  "kernelspec": {
   "display_name": "Python 2",
   "language": "python",
   "name": "python2"
  },
  "language_info": {
   "codemirror_mode": {
    "name": "ipython",
    "version": 2
   },
   "file_extension": ".py",
   "mimetype": "text/x-python",
   "name": "python",
   "nbconvert_exporter": "python",
   "pygments_lexer": "ipython2",
   "version": "2.7.11"
  }
 },
 "nbformat": 4,
 "nbformat_minor": 0
}
