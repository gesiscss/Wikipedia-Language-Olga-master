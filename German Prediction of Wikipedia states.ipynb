{
 "cells": [
  {
   "cell_type": "markdown",
   "metadata": {},
   "source": [
    "#Read data"
   ]
  },
  {
   "cell_type": "code",
   "execution_count": 10,
   "metadata": {
    "collapsed": false
   },
   "outputs": [],
   "source": [
    "%matplotlib inline\n",
    "\n",
    "import json\n",
    "def load_simple_json(filename):\n",
    "    with open(filename, 'r') as f:\n",
    "        return json.load(f)\n",
    "    \n",
    "words=load_simple_json('de/occupation_all.json')#{masculine:[[],[feminine]]}\n",
    "words_revert={words[i][1]:i for i in words}#feminine:masculine\n",
    "#neutral=load_simple_json('de/neutral_new.json')\n",
    "\n",
    "no_page_m=load_simple_json('de/wiki/m_no_page.json')\n",
    "no_page_f=load_simple_json('de/wiki/f_no_page.json')\n",
    "#no_page_n=load_simple_json('de/wiki/n_no_page.json')\n",
    "page_m=load_simple_json('de/wiki/m_page.json')\n",
    "page_f=load_simple_json('de/wiki/f_page.json')\n",
    "#page_n=load_simple_json('de/wiki/n_page.json')\n",
    "m_page_levenshtein=load_simple_json('de/wiki/m_page_levenshtein.json')\n",
    "#n_page_levenshtein=load_simple_json('de/wiki/n_page_levenshtein.json')\n",
    "\n",
    "\n",
    "page_f_validated=load_simple_json('de/wiki/f_page_validated.json')\n",
    "page_f_ambigious=load_simple_json('de/wiki/f_page_ambigious.json')\n",
    "page_f_other=load_simple_json('de/wiki/f_page_other.json')  \n",
    "    \n",
    "page_m_validated=load_simple_json('de/wiki/m_page_validated.json') \n",
    "page_m_ambigious=load_simple_json('de/wiki/m_page_ambigious.json')\n",
    "page_m_other=load_simple_json('de/wiki/m_page_other.json')\n",
    "\n",
    "#page_n_validated=load_simple_json('de/wiki/n_page_validated.json')\n",
    "#page_n_ambigious=load_simple_json('de/wiki/n_page_ambigious.json')\n",
    "#page_n_other=load_simple_json('de/wiki/n_page_other.json') \n",
    "\n",
    "m_links_to_feminine=load_simple_json('de/wiki/m_links_to_feminine.json')\n",
    "m_links_to_smth=load_simple_json('de/wiki/m_links_to_smth.json')\n",
    "f_links_to_mascuilne=load_simple_json('de/wiki/f_links_to_mascuilne.json')\n",
    "f_links_to_smth=load_simple_json('de/wiki/f_links_to_smth.json')\n",
    "#redirection_n=load_simple_json('de/wiki/n_redirects.json')\n",
    "f_links_to_mascuilne_lev=load_simple_json('de/wiki/f_links_to_mascuilne_lev.json')\n",
    "\n",
    "\n",
    "googlenumber=load_simple_json('de/googlenumber_new2.json')"
   ]
  },
  {
   "cell_type": "markdown",
   "metadata": {},
   "source": [
    "##Linear regression"
   ]
  },
  {
   "cell_type": "code",
   "execution_count": 11,
   "metadata": {
    "collapsed": false,
    "scrolled": true
   },
   "outputs": [
    {
     "name": "stdout",
     "output_type": "stream",
     "text": [
      "Male bias: 863 , Female bias: 6 , No bias: 6\n",
      "875\n"
     ]
    }
   ],
   "source": [
    "#count: masculine exist AND (no feminine OR feminine label redirects to masculine label) => male bias (Rank 1)\n",
    "#count: feminine exist AND (no masculine OR masculine label redirects to feminine label)  => female bias (Rank 3)\n",
    "#count: masculine exist AND feminine exist => balanced (Rank 2)\n",
    "\n",
    "    \n",
    "google_dif={}\n",
    "for i in googlenumber:\n",
    "    google_dif[i]=int(googlenumber[i][0])-int(googlenumber[i][1])\n",
    "\n",
    "google_percent={}\n",
    "for i in googlenumber:\n",
    "    sum_m_f=float(int(googlenumber[i][0])+int(googlenumber[i][1]))\n",
    "    google_percent[i]=100*float(googlenumber[i][0])/sum_m_f if sum_m_f!=0 else 0\n",
    "\n",
    "\n",
    "#start with male bias\n",
    "male_bias_labels=[]\n",
    "female_bias_labels=[]\n",
    "no_bias=[]\n",
    "google_rank_male={}\n",
    "for i in words:\n",
    "    if ((i in page_m)&(words[i][1] not in page_f))|((i in page_m)&(i in m_links_to_feminine)):\n",
    "        male_bias_labels.append(i)\n",
    "        google_rank_male[i]=[int(googlenumber[i][0]),google_dif[i],google_percent[i],1]\n",
    "    elif ((words[i][1] in page_f)&(i not in page_m))|((words[i][1] in page_f)&(i in f_links_to_mascuilne)):\n",
    "        female_bias_labels.append(i)\n",
    "        google_rank_male[i]=[int(googlenumber[i][0]),google_dif[i],google_percent[i],3]\n",
    "        #print i\n",
    "    elif (i in page_m)&(words[i][1] in page_f):\n",
    "        no_bias.append(i)\n",
    "        google_rank_male[i]=[int(googlenumber[i][0]),google_dif[i],google_percent[i],2]\n",
    "\n",
    "print \"Male bias:\",len(male_bias_labels),\", Female bias:\",len(female_bias_labels),\", No bias:\",len(no_bias)\n",
    "print len(google_rank_male)         \n",
    "\n"
   ]
  },
  {
   "cell_type": "code",
   "execution_count": 12,
   "metadata": {
    "collapsed": false
   },
   "outputs": [
    {
     "name": "stdout",
     "output_type": "stream",
     "text": [
      "       GoogleResults     GoogleDif  GooglePercent        Wiki\n",
      "count   8.750000e+02  8.750000e+02     875.000000  875.000000\n",
      "mean    1.557747e+06  1.516560e+06      86.356289    1.020571\n",
      "std     9.353227e+06  9.287636e+06      17.911941    0.184123\n",
      "min     2.300000e+01 -1.251000e+06       2.101443    1.000000\n",
      "25%     3.375000e+03  1.967000e+03      82.191140    1.000000\n",
      "50%     2.490000e+04  1.762700e+04      93.818798    1.000000\n",
      "75%     2.395000e+05  2.191880e+05      98.069337    1.000000\n",
      "max     1.610000e+08  1.606710e+08     100.000000    3.000000\n",
      "GoogleResults    9353226.549176\n",
      "GoogleDif        9287635.999626\n",
      "GooglePercent         17.911941\n",
      "Wiki                   0.184123\n",
      "dtype: float64\n"
     ]
    },
    {
     "data": {
      "image/png": "[encoded data removed]",
      "text/plain": [
       "<matplotlib.figure.Figure at 0xd88b770>"
      ]
     },
     "metadata": {},
     "output_type": "display_data"
    }
   ],
   "source": [
    "import pandas as pd\n",
    "import statsmodels.api as sm\n",
    "import pylab as pl\n",
    "import numpy as np\n",
    "\n",
    "\n",
    "\n",
    "df = pd.DataFrame.from_dict(google_rank_male,orient='index')\n",
    "df.columns = ['GoogleResults','GoogleDif', 'GooglePercent','Wiki']\n",
    "\n",
    "# summarize the data\n",
    "print df.describe()\n",
    "\n",
    "# take a look at the standard deviation of each column\n",
    "print df.std()\n",
    "\n",
    "# frequency table cutting presitge and whether or not someone was admitted\n",
    "#print pd.crosstab(df['Wiki'], df['GooglePercent'])\n",
    "# plot all of the columns\n",
    "\n",
    "df.hist()\n",
    "pl.show()\n"
   ]
  },
  {
   "cell_type": "code",
   "execution_count": 20,
   "metadata": {
    "collapsed": false
   },
   "outputs": [
    {
     "name": "stderr",
     "output_type": "stream",
     "text": [
      "C:\\Anaconda\\lib\\site-packages\\matplotlib\\axes\\_base.py:2562: UserWarning: Attempting to set identical left==right results\n",
      "in singular transformations; automatically expanding.\n",
      "left=1.0, right=1.0\n",
      "  'left=%s, right=%s') % (left, right))\n"
     ]
    },
    {
     "data": {
      "text/plain": [
       "<matplotlib.axes._subplots.AxesSubplot at 0xda247f0>"
      ]
     },
     "execution_count": 20,
     "metadata": {},
     "output_type": "execute_result"
    },
    {
     "data": {
      "image/png": "[encoded data removed]",
      "text/plain": [
       "<matplotlib.figure.Figure at 0xd883190>"
      ]
     },
     "metadata": {},
     "output_type": "display_data"
    }
   ],
   "source": [
    "df.plot(x='Wiki', y='GooglePercent')"
   ]
  },
  {
   "cell_type": "code",
   "execution_count": 13,
   "metadata": {
    "collapsed": false
   },
   "outputs": [
    {
     "name": "stdout",
     "output_type": "stream",
     "text": [
      "                         GoogleResults  GoogleDif  GooglePercent  const\n",
      "Fahrzeuginnenausstatter           3130       2870      92.330383      1\n",
      "Revisor                         858000     852360      99.346950      1\n",
      "Tapezierer                       50600      49874      98.585512      1\n",
      "Jäger                          2350000    2301800      97.990159      1\n",
      "Zusteller                       596000     591750      99.291962      1\n",
      "Optimization terminated successfully.\n",
      "         Current function value: 0.064070\n",
      "         Iterations 15\n",
      "                       0         1\n",
      "GoogleResults   0.000003 -0.000001\n",
      "GoogleDif      -0.000003 -0.000001\n",
      "GooglePercent   0.071830 -0.053112\n",
      "const         -11.913598 -1.177503\n",
      "       MNLogit Marginal Effects      \n",
      "=====================================\n",
      "Dep. Variable:                   Wiki\n",
      "Method:                          dydx\n",
      "At:                           overall\n",
      "=================================================================================\n",
      "       Wiki=1      dy/dx    std err          z      P>|z|      [95.0% Conf. Int.]\n",
      "---------------------------------------------------------------------------------\n",
      "GoogleResults -1.017e-08   2.24e-08     -0.454      0.650     -5.41e-08  3.38e-08\n",
      "GoogleDif      2.046e-08   1.77e-08      1.153      0.249     -1.43e-08  5.52e-08\n",
      "GooglePercent -7.096e-05      0.000     -0.162      0.871        -0.001     0.001\n",
      "---------------------------------------------------------------------------------\n",
      "       Wiki=2      dy/dx    std err          z      P>|z|      [95.0% Conf. Int.]\n",
      "---------------------------------------------------------------------------------\n",
      "GoogleResults  1.487e-08   1.24e-08      1.198      0.231     -9.46e-09  3.92e-08\n",
      "GoogleDif     -1.484e-08   1.24e-08     -1.192      0.233     -3.92e-08  9.56e-09\n",
      "GooglePercent     0.0004      0.000      0.983      0.325        -0.000     0.001\n",
      "---------------------------------------------------------------------------------\n",
      "       Wiki=3      dy/dx    std err          z      P>|z|      [95.0% Conf. Int.]\n",
      "---------------------------------------------------------------------------------\n",
      "GoogleResults -4.699e-09   1.87e-08     -0.251      0.801     -4.13e-08  3.19e-08\n",
      "GoogleDif     -5.622e-09   1.27e-08     -0.444      0.657     -3.05e-08  1.92e-08\n",
      "GooglePercent    -0.0003      0.000     -2.307      0.021        -0.001 -5.05e-05\n",
      "=================================================================================\n"
     ]
    }
   ],
   "source": [
    "\n",
    "# manually add the intercept\n",
    "data = df[['GoogleResults', 'GoogleDif', 'GooglePercent']]\n",
    "data=sm.add_constant(data, prepend=False)\n",
    "print data.head()\n",
    "train_cols = data.columns[:4]\n",
    "#res1 = sm.MNLogit( Y,X)\n",
    "res1 = sm.MNLogit( df['Wiki'], data[train_cols])\n",
    "\n",
    "mlogit_res = res1.fit()\n",
    "print mlogit_res.params\n",
    "mlogit_margeff = mlogit_res.get_margeff()\n",
    "print mlogit_margeff.summary()"
   ]
  },
  {
   "cell_type": "code",
   "execution_count": 14,
   "metadata": {
    "collapsed": false
   },
   "outputs": [
    {
     "data": {
      "image/png": "[encoded data removed]",
      "text/plain": [
       "<matplotlib.figure.Figure at 0xe1c5bf0>"
      ]
     },
     "execution_count": 14,
     "metadata": {},
     "output_type": "execute_result"
    },
    {
     "data": {
      "image/png": "[encoded data removed]",
      "text/plain": [
       "<matplotlib.figure.Figure at 0xe1c5bf0>"
      ]
     },
     "metadata": {},
     "output_type": "display_data"
    }
   ],
   "source": [
    "sm.graphics.plot_partregress('Wiki', 'GooglePercent', ['GoogleDif', 'GoogleResults'], data=df, obs_labels=False)"
   ]
  },
  {
   "cell_type": "code",
   "execution_count": 15,
   "metadata": {
    "collapsed": false
   },
   "outputs": [
    {
     "data": {
      "image/png": "[encoded data removed]",
      "text/plain": [
       "<matplotlib.figure.Figure at 0xdb09a30>"
      ]
     },
     "execution_count": 15,
     "metadata": {},
     "output_type": "execute_result"
    },
    {
     "data": {
      "image/png": "[encoded data removed]",
      "text/plain": [
       "<matplotlib.figure.Figure at 0xdb09a30>"
      ]
     },
     "metadata": {},
     "output_type": "display_data"
    }
   ],
   "source": [
    "sm.graphics.plot_partregress('Wiki', 'GoogleDif', ['GooglePercent', 'GoogleResults'], data=df, obs_labels=False)"
   ]
  },
  {
   "cell_type": "code",
   "execution_count": 16,
   "metadata": {
    "collapsed": false
   },
   "outputs": [
    {
     "name": "stdout",
     "output_type": "stream",
     "text": [
      "                      0         1\n",
      "GoogleResults  1.000003  0.999999\n",
      "GoogleDif      0.999997  0.999999\n",
      "GooglePercent  1.074472  0.948274\n",
      "const          0.000007  0.308047\n"
     ]
    }
   ],
   "source": [
    "# odds ratios only\n",
    "print np.exp(mlogit_res.params)"
   ]
  },
  {
   "cell_type": "code",
   "execution_count": 24,
   "metadata": {
    "collapsed": false
   },
   "outputs": [],
   "source": [
    "#pd.save(df, 'de/values_googlenumber_pred.csv')"
   ]
  },
  {
   "cell_type": "markdown",
   "metadata": {},
   "source": [
    "#!!!END is here======="
   ]
  },
  {
   "cell_type": "markdown",
   "metadata": {},
   "source": [
    "#Prediction function #old"
   ]
  },
  {
   "cell_type": "code",
   "execution_count": 17,
   "metadata": {
    "collapsed": false
   },
   "outputs": [],
   "source": [
    "#prediction function\n",
    "\n",
    "import numpy as np\n",
    "from scipy import interp\n",
    "\n",
    "import numpy as np\n",
    "import matplotlib.pyplot as plt\n",
    "from sklearn import linear_model\n",
    "from sklearn.cross_validation import train_test_split,StratifiedKFold\n",
    "from sklearn.metrics import roc_curve, auc\n",
    "def predict_linear_regr(df,C_val=1e5,multi_class='ovr',n=1):#'multinomial'\n",
    "    X = df.get_values()[:,:n] # we only take the first two features.\n",
    "    Y = df.Wiki\n",
    "    skf = StratifiedKFold(Y, n_folds=3)\n",
    "    logreg = linear_model.LogisticRegression(C=C_val,solver='newton-cg',multi_class='multinomial')# lbfgs’ & ‘newton-cg’ solvers\n",
    "    mean_tpr=0.0\n",
    "    mean_fpr = np.linspace(0, 1, 100)\n",
    "    i=1\n",
    "    plt.figure()\n",
    "    for train_index, test_index in skf:\n",
    "        #print(\"TRAIN:\", train_index, \"TEST:\", test_index)\n",
    "        X_train, X_test = X[train_index], X[test_index]\n",
    "        y_train, y_test = Y[train_index], Y[test_index]\n",
    "        probas_ = logreg.fit(X_train, y_train).predict_proba(X_test)\n",
    "        # Compute ROC curve and area the curve\n",
    "        fpr, tpr, thresholds = roc_curve(y_test, probas_[:, 1],pos_label =1)\n",
    "        #roc_curve(y_test[:, i], y_score[:, i])\n",
    "        mean_tpr += interp(mean_fpr, fpr, tpr)\n",
    "        mean_tpr[0] = 0.0\n",
    "        roc_auc = auc(fpr, tpr)\n",
    "        plt.plot(fpr, tpr, lw=1, label='ROC fold %d (area = %0.2f)' % (i, roc_auc))\n",
    "        i+=1\n",
    "    # we create an instance of Neighbours Classifier and fit the data.\n",
    "    X_train, X_test, y_train, y_test = train_test_split(X, Y)\n",
    "    print \"train and test data size:\",X_train.shape, X_test.shape\n",
    "    logreg_fit=logreg.fit(X_train, y_train)\n",
    "    #print logreg_fit.intercept_\n",
    "    y_pred = logreg_fit.predict(X_test)\n",
    "    print\"{0} / {1} correct ({2})\".format(np.sum(y_test == y_pred), len(y_test),np.sum(y_test == y_pred)/float(len(y_test)))\n",
    "  \n",
    "    #print ROC curve labels\n",
    "    plt.plot([0, 1], [0, 1], '--', color=(0.6, 0.6, 0.6), label='Luck')\n",
    "    mean_tpr /= len(skf)\n",
    "    mean_tpr[-1] = 1.0\n",
    "    mean_auc = auc(mean_fpr, mean_tpr)\n",
    "    plt.plot(mean_fpr, mean_tpr, 'k--',\n",
    "             label='Mean ROC (area = %0.2f)' % mean_auc, lw=2)\n",
    "    plt.xlim([-0.05, 1.05])\n",
    "    plt.ylim([-0.05, 1.05])\n",
    "    plt.xlabel('False Positive Rate')\n",
    "    plt.ylabel('True Positive Rate')\n",
    "    plt.title('Receiver operating characteristic example')\n",
    "    plt.legend()\n",
    "    plt.show()\n",
    "    \n",
    "    #return probas_\n",
    "    return y_pred"
   ]
  },
  {
   "cell_type": "code",
   "execution_count": 18,
   "metadata": {
    "collapsed": false
   },
   "outputs": [
    {
     "name": "stdout",
     "output_type": "stream",
     "text": [
      "train and test data size: (656, 3) (219, 3)\n",
      "217 / 219 correct (0.990867579909)\n"
     ]
    },
    {
     "data": {
      "image/png": "[encoded data removed]",
      "text/plain": [
       "<matplotlib.figure.Figure at 0xdb097d0>"
      ]
     },
     "metadata": {},
     "output_type": "display_data"
    }
   ],
   "source": [
    "res2=predict_linear_regr(df,n=3)\n",
    "for i in res2:\n",
    "    if i!=1:\n",
    "        print i"
   ]
  },
  {
   "cell_type": "markdown",
   "metadata": {},
   "source": [
    "## old #simple Google hits, predict if wiki page exist"
   ]
  },
  {
   "cell_type": "code",
   "execution_count": 3,
   "metadata": {
    "collapsed": false
   },
   "outputs": [
    {
     "name": "stderr",
     "output_type": "stream",
     "text": [
      "C:\\Anaconda\\lib\\site-packages\\scipy\\optimize\\linesearch.py:414: LineSearchWarning: The line search algorithm did not converge\n",
      "  warn('The line search algorithm did not converge', LineSearchWarning)\n",
      "C:\\Anaconda\\lib\\site-packages\\scipy\\optimize\\linesearch.py:285: LineSearchWarning: The line search algorithm did not converge\n",
      "  warn('The line search algorithm did not converge', LineSearchWarning)\n",
      "C:\\Anaconda\\lib\\site-packages\\sklearn\\utils\\optimize.py:157: UserWarning: newton-cg failed to converge. Increase the number of iterations.\n",
      "  warnings.warn(\"newton-cg failed to converge. Increase the \"\n"
     ]
    },
    {
     "name": "stdout",
     "output_type": "stream",
     "text": [
      "train and test data size: (3123, 1) (1041, 1)\n",
      "740 / 1041 correct (0.710854947166)\n",
      "Last 90 predicted values: [4 4 4 4 4 4 4 4 4 4 4 4 4 4 4 4 4 4 4 4 4 4 4 4 4 4 4 4 4 4 4 4 4 4 4 4 4\n",
      " 4 4 4 4 4 4 4 4 4 4 4 4 4 4 4 4 4 4 4 4 4 4 4 4 4 4 4 4 4 4 4 4 4 4 4 4 4\n",
      " 4 4 4 4 4 4 4 4 4 4 4 4 4 4 4 4]\n"
     ]
    }
   ],
   "source": [
    "#dependent var\n",
    "#(i) has WP article entry with text (real article), #1\n",
    "#(ii) has entry that is a redirect to other gender profession name, #2\n",
    "#(iii) has entry that is a redirect to something else, #3\n",
    "#(iv) has no entry at all #4\n",
    "#use as independent vars /predictors:\n",
    "#(i) total number of google hits, \n",
    "#(ii) relative hits in relation to gender counterpart \n",
    "#            (i would suggest to just sum up hits for male and female and take the percentage for the target gender), \n",
    "#(iii) chars in profession name (just for control)\n",
    "\n",
    "\n",
    "#male\n",
    "google_rank_male={}\n",
    "for i in words:\n",
    "    if (i in page_m_validated):\n",
    "        google_rank_male[i]=[int(googlenumber[i][0]),1]\n",
    "    elif (i in m_links_to_feminine):\n",
    "        google_rank_male[i]=[int(googlenumber[i][0]),2]\n",
    "    elif (i in m_links_to_smth) :#3\n",
    "        google_rank_male[i]=[int(googlenumber[i][0]),3]\n",
    "    #elif (i in no_page_m):\n",
    "    else:\n",
    "        google_rank_male[i]=[int(googlenumber[i][0]),4]\n",
    "\n",
    "        \n",
    "        \n",
    "len(google_rank_male)\n",
    "import pandas as pd\n",
    "df = pd.DataFrame.from_dict(google_rank_male,orient='index')\n",
    "df.columns = ['GoogleResults', 'Wiki']\n",
    "res1=predict_linear_regr(df)\n",
    "\n",
    "for i in res1:\n",
    "    if i!=4:\n",
    "        print 'Not equal \"4\": ',i"
   ]
  },
  {
   "cell_type": "code",
   "execution_count": 4,
   "metadata": {
    "collapsed": false
   },
   "outputs": [
    {
     "name": "stdout",
     "output_type": "stream",
     "text": [
      "train and test data size: (3123, 1) (1041, 1)\n",
      "966 / 1041 correct (0.92795389049)\n",
      "Last 90 predicted values: [4 4 4 4 4 4 4 4 4 4 4 4 4 4 4 4 4 4 4 4 4 4 4 4 4 2 4 4 4 4 4 4 4 4 4 4 4\n",
      " 4 4 4 4 4 4 4 4 4 4 4 4 4 4 4 4 4 4 4 4 4 4 4 4 4 4 4 4 4 4 4 4 4 4 4 4 4\n",
      " 4 4 4 4 4 4 2 4 4 4 4 4 4 4 4 4]\n",
      "Not equal \"4\":  2\n",
      "Not equal \"4\":  2\n",
      "Not equal \"4\":  2\n",
      "Not equal \"4\":  2\n",
      "Not equal \"4\":  2\n",
      "Not equal \"4\":  2\n",
      "Not equal \"4\":  2\n",
      "Not equal \"4\":  2\n",
      "Not equal \"4\":  2\n",
      "Not equal \"4\":  2\n",
      "Not equal \"4\":  2\n",
      "Not equal \"4\":  2\n",
      "Not equal \"4\":  2\n",
      "Not equal \"4\":  2\n",
      "Not equal \"4\":  2\n",
      "Not equal \"4\":  2\n",
      "Not equal \"4\":  2\n",
      "Not equal \"4\":  2\n"
     ]
    }
   ],
   "source": [
    "#female\n",
    "google_rank_male={}\n",
    "\n",
    "for i in words:\n",
    "    if (words[i][1] in page_f):\n",
    "        google_rank_male[i]=[int(googlenumber[i][1]),1]\n",
    "    elif (words[i][1] in f_links_to_mascuilne):\n",
    "        google_rank_male[i]=[int(googlenumber[i][1]),2]\n",
    "    elif (words[i][1] in f_links_to_smth) :#3\n",
    "        google_rank_male[i]=[int(googlenumber[i][1]),3]\n",
    "    elif (words[i][1] in no_page_f):\n",
    "        google_rank_male[i]=[int(googlenumber[i][1]),4]\n",
    "        \n",
    "        \n",
    "len(google_rank_male)\n",
    "import pandas as pd\n",
    "df = pd.DataFrame.from_dict(google_rank_male,orient='index')\n",
    "df.columns = ['GoogleResults', 'Wiki']\n",
    "res1=predict_linear_regr(df)\n",
    "\n",
    "for i in res1:\n",
    "    if i!=4:\n",
    "        print 'Not equal \"4\": ',i"
   ]
  },
  {
   "cell_type": "markdown",
   "metadata": {},
   "source": [
    "#use difference"
   ]
  },
  {
   "cell_type": "code",
   "execution_count": 27,
   "metadata": {
    "collapsed": false,
    "scrolled": true
   },
   "outputs": [
    {
     "name": "stdout",
     "output_type": "stream",
     "text": [
      "train and test data size: (3123, 1) (1041, 1)\n",
      "724 / 1041 correct (0.695485110471)\n",
      "Last 90 predicted values: [4 4 4 4 4 4 4 4 4 4 4 4 4 4 4 4 4 4 4 4 4 4 4 4 4 4 4 1 4 4 4 4 4 4 4 4 4\n",
      " 4 4 4 4 4 4 4 4 4 4 4 4 4 1 4 4 4 4 4 4 4 4 4 4 4 4 1 4 4 4 4 4 4 4 4 4 4\n",
      " 4 4 4 4 4 4 4 4 4 4 4 4 4 4 1 4]\n",
      "Not equal  \"4\" 34 times\n"
     ]
    }
   ],
   "source": [
    "google_dif={}\n",
    "for i in googlenumber:\n",
    "    google_dif[i]=int(googlenumber[i][0])-int(googlenumber[i][1])\n",
    "\n",
    "#start with male bias\n",
    "google_rank_male={}\n",
    "for i in words:\n",
    "    if (i in page_m):\n",
    "        google_rank_male[i]=[google_dif[i],1]\n",
    "    elif (i in m_links_to_feminine):\n",
    "        google_rank_male[i]=[google_dif[i],2]\n",
    "    elif (i in m_links_to_smth) :#3\n",
    "        google_rank_male[i]=[google_dif[i],3]\n",
    "    elif (i in no_page_m):\n",
    "        google_rank_male[i]=[google_dif[i],4]\n",
    "\n",
    "len(google_rank_male)\n",
    "\n",
    "import pandas as pd\n",
    "df = pd.DataFrame.from_dict(google_rank_male,orient='index')\n",
    "df.columns = ['GoogleResults', 'Wiki']\n",
    "res2=predict_linear_regr(df)\n",
    "n=0\n",
    "for i in res2:\n",
    "    if i!=4:\n",
    "        n+=1\n",
    "print 'Not equal  \"4\" {0} times'.format(n)"
   ]
  },
  {
   "cell_type": "markdown",
   "metadata": {},
   "source": [
    "#use percentage\n",
    "##male prediction"
   ]
  },
  {
   "cell_type": "code",
   "execution_count": 15,
   "metadata": {
    "collapsed": false,
    "scrolled": true
   },
   "outputs": [
    {
     "name": "stdout",
     "output_type": "stream",
     "text": [
      "                                   GoogleResults  Wiki\n",
      "Revisor                                99.346950     1\n",
      "Krankenversicherungskalkulator         70.000000     4\n",
      "Aquariumbauer                          99.820144     4\n",
      "Planungstechniker                      91.769547     4\n",
      "Ozeanograph                            88.412960     3\n",
      "Immobilienbetriebswirt                 83.042394     4\n",
      "Radio- und Fernsehtechniker            98.284128     3\n",
      "Finanzdienstleister                    99.522780     3\n",
      "NC-Anwendungsfachmann                  95.106383     4\n",
      "Bekleidungsteilenäher                  80.555556     4\n",
      "Buchfertigmacher                       91.428571     4\n",
      "Rohrvorrichter                         98.870056     3\n",
      "Familiengesundheitspfleger             65.000000     4\n",
      "Metallformer                           98.953378     4\n",
      "Heilerziehungspflegehelfer             83.843618     3\n",
      "Komparse                               82.323232     1\n",
      "Direktionsbevollmächtigter             82.352941     4\n",
      "Erwachsenenheimleiter                  65.581395     4\n",
      "Leitergerüstbauer                      92.000000     4\n",
      "Versicherungsinspektor                 92.427184     4\n",
      "Genetiker                              93.014569     3\n",
      "Barmeister                             97.110580     1\n",
      "Elektro- und Schutzgasschweißer        95.708155     4\n",
      "Pflanzenschützer                       96.373057     4\n",
      "Keramikermeister                       77.488515     4\n",
      "Onlineredakteur                        66.666667     4\n",
      "Schmuckgoldschmied                    100.000000     4\n",
      "Tibetologe                             66.998578     3\n",
      "Verhaltenstherapeut                    60.162602     3\n",
      "Theaterschneider                       44.253633     4\n",
      "...                                          ...   ...\n",
      "Feinpolierer                           91.484716     1\n",
      "Sicherheitstechniker                   95.298602     3\n",
      "Betonfertigteilbauer                   96.708418     1\n",
      "Serviermeister                         97.890295     4\n",
      "Hauswirtschaftlicher Berater           18.867925     4\n",
      "Glasapparatebläser                     96.078431     4\n",
      "Social-Media-Manager                   99.048612     1\n",
      "Bewegungspädagoge                      17.655786     4\n",
      "Presseneinrichter                      99.833333     4\n",
      "Chefkoch                               99.518691     3\n",
      "Hochbautechniker                       95.135258     4\n",
      "Kühlerklempner                         91.666667     4\n",
      "Elektriker                             99.803048     3\n",
      "Gastronom                              95.522388     3\n",
      "Friedhofsgärtner                       96.735187     3\n",
      "Maler- und Lackiererhelfer             94.405594     4\n",
      "Disponent                              90.909091     1\n",
      "Industrieschmied                       96.226415     4\n",
      "Bohrarbeiter                           72.949816     4\n",
      "Anwendungsberater                      94.226848     4\n",
      "Bergbautechnologe                      82.963901     1\n",
      "Langdrehautomatendreher                85.714286     4\n",
      "Kundendienstleiter                     94.732370     4\n",
      "Torfarbeiter                           98.067633     4\n",
      "Radio- und Fernsehtechnikerhelfer     100.000000     4\n",
      "Holzbearbeitungsmechaniker             96.281909     1\n",
      "Popularmusiker                         88.235294     4\n",
      "Serviceberater                         96.469418     4\n",
      "Praktischer Betriebswirt               84.222474     4\n",
      "Digitaldrucker                         99.830730     4\n",
      "\n",
      "[4164 rows x 2 columns]\n"
     ]
    }
   ],
   "source": [
    "google_dif={}\n",
    "for i in googlenumber:\n",
    "    sum_m_f=float(int(googlenumber[i][0])+int(googlenumber[i][1]))\n",
    "    google_dif[i]=100*float(googlenumber[i][0])/sum_m_f if sum_m_f!=0 else 0\n",
    "\n",
    "#start with male bias\n",
    "google_rank_male={}\n",
    "for i in words:\n",
    "    if (i in page_m):\n",
    "        google_rank_male[i]=[google_dif[i],1]\n",
    "    elif (i in m_links_to_feminine):\n",
    "        google_rank_male[i]=[google_dif[i],2]\n",
    "    elif (i in m_links_to_smth) :#3\n",
    "        google_rank_male[i]=[google_dif[i],3]\n",
    "    elif (i in no_page_m):\n",
    "        google_rank_male[i]=[google_dif[i],4]\n",
    "\n",
    "len(google_rank_male)\n",
    "\n",
    "import pandas as pd\n",
    "df = pd.DataFrame.from_dict(google_rank_male,orient='index')\n",
    "df.columns = ['GoogleResults', 'Wiki']\n",
    "print df\n"
   ]
  },
  {
   "cell_type": "code",
   "execution_count": 16,
   "metadata": {
    "collapsed": false
   },
   "outputs": [
    {
     "name": "stdout",
     "output_type": "stream",
     "text": [
      "train and test data size: (3123, 1) (1041, 1)\n",
      "704 / 1041 correct (0.676272814601)\n",
      "Last 90 predicted values: [4 4 4 4 4 4 4 4 4 4 4 4 4 4 4 4 4 4 4 4 4 4 4 4 4 4 4 4 4 4 4 4 4 4 4 4 4\n",
      " 4 4 4 4 4 4 4 4 4 4 4 4 4 4 4 4 4 4 4 4 4 4 4 4 4 4 4 4 4 4 4 4 4 4 4 4 4\n",
      " 4 4 4 4 4 4 4 4 4 4 4 4 4 4 4 4]\n",
      "train and test data size: (3123, 1) (1041, 1)\n",
      "682 / 1041 correct (0.655139289145)\n",
      "Last 90 predicted values: [4 4 4 4 4 4 4 4 4 4 4 4 4 4 4 4 4 4 4 4 4 4 4 4 4 4 4 4 4 4 4 4 4 4 4 4 4\n",
      " 4 4 4 4 4 4 4 4 4 4 4 4 4 4 4 4 4 4 4 4 4 4 4 4 4 4 4 4 4 4 4 4 4 4 4 4 4\n",
      " 4 4 4 4 4 4 4 4 4 4 4 4 4 4 4 4]\n"
     ]
    }
   ],
   "source": [
    "res3=predict_linear_regr(df)\n",
    "\n",
    "for i in res3:\n",
    "    if i!=4:\n",
    "        print \"Not equal 4: \",i\n",
    "        \n",
    "res3=predict_linear_regr(df,C_val=1)\n",
    "\n",
    "for i in res3:\n",
    "    if i!=4:\n",
    "        print \"Not equal 4: \",i"
   ]
  },
  {
   "cell_type": "markdown",
   "metadata": {},
   "source": [
    "##female prediction"
   ]
  },
  {
   "cell_type": "code",
   "execution_count": null,
   "metadata": {
    "collapsed": true
   },
   "outputs": [],
   "source": [
    "\n",
    "google_dif={}\n",
    "for i in googlenumber:\n",
    "    sum_m_f=float(int(googlenumber[i][0])+int(googlenumber[i][1]))\n",
    "    google_dif[i]=100*float(googlenumber[i][1])/sum_m_f if sum_m_f!=0 else 0\n",
    "\n",
    "#start with female bias\n",
    "google_rank_male={}\n",
    "for i in words:\n",
    "    if (words[i][1] in page_f):\n",
    "        google_rank_male[i]=[google_dif[i],1]\n",
    "    elif (words[i][1] in f_links_to_mascuilne):\n",
    "        google_rank_male[i]=[google_dif[i],2]\n",
    "    elif (words[i][1] in f_links_to_smth) :#3\n",
    "        google_rank_male[i]=[google_dif[i],3]\n",
    "    elif (words[i][1] in no_page_f):\n",
    "        google_rank_male[i]=[google_dif[i],4]\n",
    "\n",
    "len(google_rank_male)\n",
    "\n",
    "import pandas as pd\n",
    "df = pd.DataFrame.from_dict(google_rank_male,orient='index')\n",
    "df.columns = ['GoogleResults', 'Wiki']\n",
    "print df\n"
   ]
  },
  {
   "cell_type": "code",
   "execution_count": 18,
   "metadata": {
    "collapsed": false
   },
   "outputs": [
    {
     "name": "stdout",
     "output_type": "stream",
     "text": [
      "train and test data size: (3123, 1) (1041, 1)\n",
      "974 / 1041 correct (0.935638808838)\n",
      "Last 90 predicted values: [4 4 4 4 4 4 4 4 4 4 4 4 4 4 4 4 4 4 4 4 4 4 4 4 4 4 4 4 4 4 4 4 4 4 4 4 4\n",
      " 4 4 4 4 4 4 4 4 4 4 4 4 4 4 4 4 4 4 4 4 4 4 4 4 4 4 4 4 4 4 4 4 4 4 4 4 4\n",
      " 4 4 4 4 4 4 4 4 4 4 4 4 4 4 4 4]\n",
      "train and test data size: (3123, 1) (1041, 1)\n",
      "962 / 1041 correct (0.924111431316)\n",
      "Last 90 predicted values: [4 4 4 4 4 4 4 4 4 4 4 4 4 4 4 4 4 4 4 4 4 4 4 4 4 4 4 4 4 4 4 4 4 4 4 4 4\n",
      " 4 4 4 4 4 4 4 4 4 4 4 4 4 4 4 4 4 4 4 4 4 4 4 4 4 4 4 4 4 4 4 4 4 4 4 4 4\n",
      " 4 4 4 4 4 4 4 4 4 4 4 4 4 4 4 4]\n"
     ]
    }
   ],
   "source": [
    "res4=predict_linear_regr(df)\n",
    "\n",
    "for i in res4:\n",
    "    if i!=4:\n",
    "        print \"Not equal 4: \",i\n",
    "\n",
    "res4=predict_linear_regr(df,multi_class='multinomial')\n",
    "for i in res4:\n",
    "    if i!=4:\n",
    "        print \"Not equal 4: \",i"
   ]
  },
  {
   "cell_type": "markdown",
   "metadata": {},
   "source": [
    "##all together"
   ]
  },
  {
   "cell_type": "code",
   "execution_count": 31,
   "metadata": {
    "collapsed": false
   },
   "outputs": [
    {
     "name": "stdout",
     "output_type": "stream",
     "text": [
      "train and test data size: (3123, 3) (1041, 3)\n",
      "734 / 1041 correct (0.705091258405)\n",
      "Last 90 predicted values: [4 1 4 4 4 4 4 4 4 4 4 4 4 4 4 4 4 4 4 4 4 4 1 4 4 4 4 1 4 4 4 1 4 4 4 4 4\n",
      " 4 1 4 1 4 4 4 4 4 4 4 4 1 4 4 4 4 4 1 4 1 4 4 4 4 4 4 4 4 4 4 4 4 4 4 4 1\n",
      " 4 4 4 4 4 4 4 4 4 4 4 4 4 4 4 4]\n",
      "Not equal  \"4\" 73 times\n"
     ]
    }
   ],
   "source": [
    "google_dif={}\n",
    "for i in googlenumber:\n",
    "    google_dif[i]=int(googlenumber[i][0])-int(googlenumber[i][1])\n",
    "\n",
    "google_percent={}\n",
    "for i in googlenumber:\n",
    "    sum_m_f=float(int(googlenumber[i][0])+int(googlenumber[i][1]))\n",
    "    google_percent[i]=100*float(googlenumber[i][0])/sum_m_f if sum_m_f!=0 else 0\n",
    "#start with male bias\n",
    "google_rank_male={}\n",
    "for i in words:\n",
    "    if (i in page_m):\n",
    "        google_rank_male[i]=[int(googlenumber[i][0]),google_dif[i],google_percent[i],1]\n",
    "    elif (i in m_links_to_feminine):\n",
    "        google_rank_male[i]=[int(googlenumber[i][0]),google_dif[i],google_percent[i],2]\n",
    "    elif (i in m_links_to_smth) :#3\n",
    "        google_rank_male[i]=[int(googlenumber[i][0]),google_dif[i],google_percent[i],3]\n",
    "    elif (i in no_page_m):\n",
    "        google_rank_male[i]=[int(googlenumber[i][0]),google_dif[i],google_percent[i],4]\n",
    "\n",
    "len(google_rank_male)\n",
    "\n",
    "import pandas as pd\n",
    "df = pd.DataFrame.from_dict(google_rank_male,orient='index')\n",
    "df.columns = ['GoogleResults','GoogleDif', 'GooglePercent','Wiki']\n",
    "res2=predict_linear_regr(df,n=3)\n",
    "n=0\n",
    "for i in res2:\n",
    "    if i!=4:\n",
    "        n+=1\n",
    "print 'Not equal  \"4\" {0} times'.format(n)"
   ]
  },
  {
   "cell_type": "markdown",
   "metadata": {},
   "source": [
    "#Trash & old"
   ]
  },
  {
   "cell_type": "code",
   "execution_count": null,
   "metadata": {
    "collapsed": true
   },
   "outputs": [],
   "source": [
    "import json\n",
    "#google Results\n",
    "#difference would be our Goosle Runking\n",
    "\n",
    "with open(\"de/googlenumber_new.json\", 'r') as f:\n",
    "    googlenumber=json.load(f)\n",
    "google_dif={}\n",
    "for i in googlenumber:\n",
    "    google_dif[i]=int(googlenumber[i][0])-int(googlenumber[i][1])\n",
    "    \n",
    "#Rank these values\n",
    "from scipy import stats\n",
    "google_rank=stats.rankdata(google_dif.values())\n",
    "google_rank_labels=google_dif.keys()\n",
    "google_rank_dict={}\n",
    "print google_dif.keys().index(u'Ozeanograph'),google_rank_labels.index(u'Ozeanograph')\n",
    "for i in google_dif.keys():\n",
    "    if wiki_bias_rank.has_key(i):\n",
    "        google_rank_dict[i]=[google_rank[google_dif.keys().index(i)],wiki_bias_rank[i]]\n",
    "    else:\n",
    "        google_rank_dict[i]=[google_rank[google_dif.keys().index(i)],None]\n",
    "print len(google_rank_labels),len(google_rank_dict)"
   ]
  },
  {
   "cell_type": "markdown",
   "metadata": {},
   "source": [
    "###Prediction example"
   ]
  },
  {
   "cell_type": "code",
   "execution_count": 22,
   "metadata": {
    "collapsed": true
   },
   "outputs": [],
   "source": [
    "# Code source: Gaël Varoquaux\n",
    "# Modified for documentation by Jaques Grobler\n",
    "# License: BSD 3 clause\n",
    "\n",
    "import numpy as np\n",
    "import matplotlib.pyplot as plt\n",
    "from sklearn import linear_model, datasets\n",
    "\n",
    "# import some data to play with\n",
    "iris = datasets.load_iris()\n",
    "X = iris.data[:, :2]  # we only take the first two features.\n",
    "Y = iris.target\n",
    "\n",
    "h = .02  # step size in the mesh\n",
    "\n",
    "logreg = linear_model.LogisticRegression(C=1e5)\n",
    "\n",
    "# we create an instance of Neighbours Classifier and fit the data.\n",
    "logreg.fit(X, Y)\n",
    "\n",
    "# Plot the decision boundary. For that, we will assign a color to each\n",
    "# point in the mesh [x_min, m_max]x[y_min, y_max].\n",
    "x_min, x_max = X[:, 0].min() - .5, X[:, 0].max() + .5\n",
    "y_min, y_max = X[:, 1].min() - .5, X[:, 1].max() + .5\n",
    "xx, yy = np.meshgrid(np.arange(x_min, x_max, h), np.arange(y_min, y_max, h))\n",
    "Z = logreg.predict(np.c_[xx.ravel(), yy.ravel()])\n",
    "\n",
    "# Put the result into a color plot\n",
    "Z = Z.reshape(xx.shape)\n",
    "plt.figure(1, figsize=(4, 3))\n",
    "plt.pcolormesh(xx, yy, Z, cmap=plt.cm.Paired)\n",
    "\n",
    "# Plot also the training points\n",
    "plt.scatter(X[:, 0], X[:, 1], c=Y, edgecolors='k', cmap=plt.cm.Paired)\n",
    "plt.xlabel('Sepal length')\n",
    "plt.ylabel('Sepal width')\n",
    "\n",
    "plt.xlim(xx.min(), xx.max())\n",
    "plt.ylim(yy.min(), yy.max())\n",
    "plt.xticks(())\n",
    "plt.yticks(())\n",
    "\n",
    "plt.show()"
   ]
  },
  {
   "cell_type": "code",
   "execution_count": 23,
   "metadata": {
    "collapsed": false
   },
   "outputs": [
    {
     "name": "stdout",
     "output_type": "stream",
     "text": [
      "(112, 2) (38, 2)\n",
      "[ 96.61635458   9.13595029 -15.66607786]\n",
      "28 / 38 correct\n",
      "[1 2 0 1 0 2 0 2 0 1 1 1 0 1 2 0 2 2 0 0 1 2 2 0 0 1 2 1 0 2 2 0 2 0 1 0 0\n",
      " 2]\n"
     ]
    }
   ],
   "source": [
    "import numpy as np\n",
    "import matplotlib.pyplot as plt\n",
    "from sklearn import linear_model, datasets\n",
    "from sklearn.cross_validation import train_test_split\n",
    "# import some data to play with\n",
    "iris = datasets.load_iris()\n",
    "X = iris.data[:, :2]  # we only take the first two features.\n",
    "Y = iris.target\n",
    "X_train, X_test, y_train, y_test = train_test_split(X, Y)\n",
    "print X_train.shape, X_test.shape\n",
    "logreg = linear_model.LogisticRegression(C=1e5)\n",
    "\n",
    "# we create an instance of Neighbours Classifier and fit the data.\n",
    "logreg_fit=logreg.fit(X_train, y_train)\n",
    "print logreg_fit.intercept_\n",
    "y_pred = logreg_fit.predict(X_test)\n",
    "print(\"{0} / {1} correct\".format(np.sum(y_test == y_pred), len(y_test)))\n",
    "print y_pred"
   ]
  },
  {
   "cell_type": "code",
   "execution_count": 8,
   "metadata": {
    "collapsed": false
   },
   "outputs": [
    {
     "data": {
      "image/png": "[encoded data removed]",
      "text/plain": [
       "<matplotlib.figure.Figure at 0x4f4a490>"
      ]
     },
     "metadata": {},
     "output_type": "display_data"
    }
   ],
   "source": [
    "import numpy as np\n",
    "from scipy import interp\n",
    "import matplotlib.pyplot as plt\n",
    "\n",
    "from sklearn import svm, datasets\n",
    "from sklearn.metrics import roc_curve, auc\n",
    "from sklearn.cross_validation import StratifiedKFold\n",
    "\n",
    "###############################################################################\n",
    "# Data IO and generation\n",
    "\n",
    "# import some data to play with\n",
    "iris = datasets.load_iris()\n",
    "X = iris.data\n",
    "y = iris.target\n",
    "X, y = X[y != 2], y[y != 2]\n",
    "n_samples, n_features = X.shape\n",
    "\n",
    "# Add noisy features\n",
    "random_state = np.random.RandomState(0)\n",
    "X = np.c_[X, random_state.randn(n_samples, 200 * n_features)]\n",
    "\n",
    "###############################################################################\n",
    "# Classification and ROC analysis\n",
    "\n",
    "# Run classifier with cross-validation and plot ROC curves\n",
    "cv = StratifiedKFold(y, n_folds=6)\n",
    "classifier = svm.SVC(kernel='linear', probability=True,\n",
    "                     random_state=random_state)\n",
    "\n",
    "mean_tpr = 0.0\n",
    "mean_fpr = np.linspace(0, 1, 100)\n",
    "all_tpr = []\n",
    "\n",
    "for i, (train, test) in enumerate(cv):\n",
    "    probas_ = classifier.fit(X[train], y[train]).predict_proba(X[test])\n",
    "    # Compute ROC curve and area the curve\n",
    "    fpr, tpr, thresholds = roc_curve(y[test], probas_[:, 1])\n",
    "    mean_tpr += interp(mean_fpr, fpr, tpr)\n",
    "    mean_tpr[0] = 0.0\n",
    "    roc_auc = auc(fpr, tpr)\n",
    "    plt.plot(fpr, tpr, lw=1, label='ROC fold %d (area = %0.2f)' % (i, roc_auc))\n",
    "\n",
    "plt.plot([0, 1], [0, 1], '--', color=(0.6, 0.6, 0.6), label='Luck')\n",
    "\n",
    "mean_tpr /= len(cv)\n",
    "mean_tpr[-1] = 1.0\n",
    "mean_auc = auc(mean_fpr, mean_tpr)\n",
    "plt.plot(mean_fpr, mean_tpr, 'k--',\n",
    "         label='Mean ROC (area = %0.2f)' % mean_auc, lw=2)\n",
    "\n",
    "plt.xlim([-0.05, 1.05])\n",
    "plt.ylim([-0.05, 1.05])\n",
    "plt.xlabel('False Positive Rate')\n",
    "plt.ylabel('True Positive Rate')\n",
    "plt.title('Receiver operating characteristic example')\n",
    "plt.legend(loc=\"lower right\")\n",
    "plt.show()"
   ]
  },
  {
   "cell_type": "markdown",
   "metadata": {},
   "source": [
    "##  not relevant - examples"
   ]
  },
  {
   "cell_type": "code",
   "execution_count": 111,
   "metadata": {
    "collapsed": false,
    "scrolled": true
   },
   "outputs": [
    {
     "name": "stdout",
     "output_type": "stream",
     "text": [
      "Optimization terminated successfully.\n",
      "         Current function value: 1.548647\n",
      "         Iterations 7\n",
      "[[ -1.15359746e-02  -8.87506530e-02  -1.05966699e-01  -9.15567017e-02\n",
      "   -9.32846040e-02  -1.40880692e-01]\n",
      " [  2.97714352e-01   3.91668642e-01   5.73450508e-01   1.27877179e+00\n",
      "    1.34696165e+00   2.07008014e+00]\n",
      " [ -2.49449954e-02  -2.28978371e-02  -1.48512069e-02  -8.68134503e-03\n",
      "   -1.79040689e-02  -9.43264870e-03]\n",
      " [  8.24914421e-02   1.81042758e-01  -7.15241904e-03   1.99827955e-01\n",
      "    2.16938850e-01   3.21925702e-01]\n",
      " [  5.19655317e-03   4.78739761e-02   5.75751595e-02   8.44983753e-02\n",
      "    8.09584122e-02   1.08894083e-01]\n",
      " [ -3.73401677e-01  -2.25091318e+00  -3.66558353e+00  -7.61384309e+00\n",
      "   -7.06047825e+00  -1.21057509e+01]]\n",
      "       MNLogit Marginal Effects      \n",
      "=====================================\n",
      "Dep. Variable:                      y\n",
      "Method:                          dydx\n",
      "At:                           overall\n",
      "==============================================================================\n",
      "       y=0      dy/dx    std err          z      P>|z|      [95.0% Conf. Int.]\n",
      "------------------------------------------------------------------------------\n",
      "x1             0.0087      0.004      2.250      0.024         0.001     0.016\n",
      "x2            -0.0978      0.008    -12.153      0.000        -0.114    -0.082\n",
      "x3             0.0027      0.001      3.856      0.000         0.001     0.004\n",
      "x4            -0.0199      0.008     -2.420      0.016        -0.036    -0.004\n",
      "x5            -0.0060      0.002     -2.977      0.003        -0.010    -0.002\n",
      "------------------------------------------------------------------------------\n",
      "       y=1      dy/dx    std err          z      P>|z|      [95.0% Conf. Int.]\n",
      "------------------------------------------------------------------------------\n",
      "x1             0.0070      0.004      1.791      0.073        -0.001     0.015\n",
      "x2            -0.0502      0.007     -6.824      0.000        -0.065    -0.036\n",
      "x3            -0.0021      0.001     -2.789      0.005        -0.004    -0.001\n",
      "x4            -0.0054      0.008     -0.636      0.525        -0.022     0.011\n",
      "x5            -0.0055      0.002     -2.707      0.007        -0.010    -0.002\n",
      "------------------------------------------------------------------------------\n",
      "       y=2      dy/dx    std err          z      P>|z|      [95.0% Conf. Int.]\n",
      "------------------------------------------------------------------------------\n",
      "x1            -0.0039      0.003     -1.246      0.213        -0.010     0.002\n",
      "x2            -0.0282      0.006     -4.972      0.000        -0.039    -0.017\n",
      "x3            -0.0010      0.001     -1.523      0.128        -0.002     0.000\n",
      "x4             0.0066      0.007      0.964      0.335        -0.007     0.020\n",
      "x5             0.0010      0.002      0.530      0.596        -0.003     0.005\n",
      "------------------------------------------------------------------------------\n",
      "       y=3      dy/dx    std err          z      P>|z|      [95.0% Conf. Int.]\n",
      "------------------------------------------------------------------------------\n",
      "x1            -0.0018      0.002     -0.940      0.347        -0.006     0.002\n",
      "x2            -0.0057      0.003     -1.798      0.072        -0.012     0.001\n",
      "x3         -4.249e-05      0.000     -0.110      0.912        -0.001     0.001\n",
      "x4            -0.0055      0.004     -1.253      0.210        -0.014     0.003\n",
      "x5             0.0005      0.001      0.469      0.639        -0.002     0.003\n",
      "------------------------------------------------------------------------------\n",
      "       y=4      dy/dx    std err          z      P>|z|      [95.0% Conf. Int.]\n",
      "------------------------------------------------------------------------------\n",
      "x1            -0.0010      0.003     -0.330      0.741        -0.007     0.005\n",
      "x2             0.0199      0.005      3.672      0.000         0.009     0.030\n",
      "x3             0.0005      0.001      0.815      0.415        -0.001     0.002\n",
      "x4             0.0017      0.006      0.268      0.789        -0.011     0.014\n",
      "x5             0.0021      0.002      1.119      0.263        -0.002     0.006\n",
      "------------------------------------------------------------------------------\n",
      "       y=5      dy/dx    std err          z      P>|z|      [95.0% Conf. Int.]\n",
      "------------------------------------------------------------------------------\n",
      "x1            -0.0015      0.004     -0.429      0.668        -0.009     0.005\n",
      "x2             0.0376      0.007      5.404      0.000         0.024     0.051\n",
      "x3            -0.0007      0.001     -0.949      0.343        -0.002     0.001\n",
      "x4             0.0047      0.008      0.604      0.546        -0.011     0.020\n",
      "x5             0.0025      0.002      1.140      0.254        -0.002     0.007\n",
      "------------------------------------------------------------------------------\n",
      "       y=6      dy/dx    std err          z      P>|z|      [95.0% Conf. Int.]\n",
      "------------------------------------------------------------------------------\n",
      "x1            -0.0074      0.003     -2.205      0.027        -0.014    -0.001\n",
      "x2             0.1246      0.008     14.875      0.000         0.108     0.141\n",
      "x3             0.0006      0.001      0.942      0.346        -0.001     0.002\n",
      "x4             0.0177      0.007      2.403      0.016         0.003     0.032\n",
      "x5             0.0054      0.002      2.490      0.013         0.001     0.010\n",
      "==============================================================================\n"
     ]
    }
   ],
   "source": [
    "anes_data = sm.datasets.anes96.load()\n",
    "anes_exog = anes_data.exog\n",
    "\n",
    "anes_exog = sm.add_constant(anes_exog, prepend=False)\n",
    "\n",
    "res1 = sm.MNLogit(anes_data.endog, anes_exog)\n",
    "\n",
    "mlogit_res = res1.fit()\n",
    "print mlogit_res.params\n",
    "mlogit_margeff = mlogit_res.get_margeff()\n",
    "print mlogit_margeff.summary()\n",
    "\n",
    "#print res1.summary()\n",
    "\n",
    "#res1.predict(x.mean(0))"
   ]
  },
  {
   "cell_type": "code",
   "execution_count": 112,
   "metadata": {
    "collapsed": false
   },
   "outputs": [
    {
     "name": "stdout",
     "output_type": "stream",
     "text": [
      "Index([u'admit', u'gre', u'gpa', u'prestige'], dtype='object')\n",
      "            admit         gre         gpa   prestige\n",
      "count  400.000000  400.000000  400.000000  400.00000\n",
      "mean     0.317500  587.700000    3.389900    2.48500\n",
      "std      0.466087  115.516536    0.380567    0.94446\n",
      "min      0.000000  220.000000    2.260000    1.00000\n",
      "25%      0.000000  520.000000    3.130000    2.00000\n",
      "50%      0.000000  580.000000    3.395000    2.00000\n",
      "75%      1.000000  660.000000    3.670000    3.00000\n",
      "max      1.000000  800.000000    4.000000    4.00000\n",
      "admit         0.466087\n",
      "gre         115.516536\n",
      "gpa           0.380567\n",
      "prestige      0.944460\n",
      "dtype: float64\n",
      "prestige   1   2   3   4\n",
      "admit                   \n",
      "0         28  97  93  55\n",
      "1         33  54  28  12\n"
     ]
    },
    {
     "data": {
      "image/png": "[encoded data removed]",
      "text/plain": [
       "<matplotlib.figure.Figure at 0x1bef1630>"
      ]
     },
     "metadata": {},
     "output_type": "display_data"
    }
   ],
   "source": [
    "# read the data in\n",
    "df = pd.read_csv(\"http://www.ats.ucla.edu/stat/data/binary.csv\")\n",
    "df.columns = [\"admit\", \"gre\", \"gpa\", \"prestige\"]\n",
    "print df.columns\n",
    "\n",
    "# summarize the data\n",
    "print df.describe()\n",
    "\n",
    "# take a look at the standard deviation of each column\n",
    "print df.std()\n",
    "\n",
    "# frequency table cutting presitge and whether or not someone was admitted\n",
    "print pd.crosstab(df['admit'], df['prestige'], rownames=['admit'])\n",
    "# plot all of the columns\n",
    "\n",
    "df.hist()\n",
    "pl.show()\n"
   ]
  },
  {
   "cell_type": "code",
   "execution_count": null,
   "metadata": {
    "collapsed": true
   },
   "outputs": [],
   "source": []
  },
  {
   "cell_type": "code",
   "execution_count": 7,
   "metadata": {
    "collapsed": false
   },
   "outputs": [
    {
     "data": {
      "image/png": "[encoded data removed]",
      "text/plain": [
       "<matplotlib.figure.Figure at 0x28ba518>"
      ]
     },
     "metadata": {},
     "output_type": "display_data"
    },
    {
     "data": {
      "image/png": "[encoded data removed]",
      "text/plain": [
       "<matplotlib.figure.Figure at 0xac57898>"
      ]
     },
     "metadata": {},
     "output_type": "display_data"
    }
   ],
   "source": [
    "####Example\n",
    "import numpy as np\n",
    "import matplotlib.pyplot as plt\n",
    "from sklearn import svm, datasets\n",
    "from sklearn.metrics import roc_curve, auc\n",
    "from sklearn.cross_validation import train_test_split\n",
    "from sklearn.preprocessing import label_binarize\n",
    "from sklearn.multiclass import OneVsRestClassifier\n",
    "\n",
    "# Import some data to play with\n",
    "iris = datasets.load_iris()\n",
    "X = iris.data\n",
    "y = iris.target\n",
    "\n",
    "# Binarize the output\n",
    "y = label_binarize(y, classes=[0, 1, 2])\n",
    "n_classes = y.shape[1]\n",
    "\n",
    "# Add noisy features to make the problem harder\n",
    "random_state = np.random.RandomState(0)\n",
    "n_samples, n_features = X.shape\n",
    "X = np.c_[X, random_state.randn(n_samples, 200 * n_features)]\n",
    "\n",
    "# shuffle and split training and test sets\n",
    "X_train, X_test, y_train, y_test = train_test_split(X, y, test_size=.5,\n",
    "                                                    random_state=0)\n",
    "\n",
    "# Learn to predict each class against the other\n",
    "classifier = OneVsRestClassifier(svm.SVC(kernel='linear', probability=True,\n",
    "                                 random_state=random_state))\n",
    "y_score = classifier.fit(X_train, y_train).decision_function(X_test)\n",
    "\n",
    "# Compute ROC curve and ROC area for each class\n",
    "fpr = dict()\n",
    "tpr = dict()\n",
    "roc_auc = dict()\n",
    "for i in range(n_classes):\n",
    "    fpr[i], tpr[i], _ = roc_curve(y_test[:, i], y_score[:, i])\n",
    "    roc_auc[i] = auc(fpr[i], tpr[i])\n",
    "\n",
    "# Compute micro-average ROC curve and ROC area\n",
    "fpr[\"micro\"], tpr[\"micro\"], _ = roc_curve(y_test.ravel(), y_score.ravel())\n",
    "roc_auc[\"micro\"] = auc(fpr[\"micro\"], tpr[\"micro\"])\n",
    "\n",
    "# Plot of a ROC curve for a specific class\n",
    "plt.figure()\n",
    "plt.plot(fpr[2], tpr[2], label='ROC curve (area = %0.2f)' % roc_auc[2])\n",
    "plt.plot([0, 1], [0, 1], 'k--')\n",
    "plt.xlim([0.0, 1.0])\n",
    "plt.ylim([0.0, 1.05])\n",
    "plt.xlabel('False Positive Rate')\n",
    "plt.ylabel('True Positive Rate')\n",
    "plt.title('Receiver operating characteristic example')\n",
    "plt.legend(loc=\"lower right\")\n",
    "plt.show()\n",
    "\n",
    "# Plot ROC curve\n",
    "plt.figure()\n",
    "plt.plot(fpr[\"micro\"], tpr[\"micro\"],\n",
    "         label='micro-average ROC curve (area = {0:0.2f})'\n",
    "               ''.format(roc_auc[\"micro\"]))\n",
    "for i in range(n_classes):\n",
    "    plt.plot(fpr[i], tpr[i], label='ROC curve of class {0} (area = {1:0.2f})'\n",
    "                                   ''.format(i, roc_auc[i]))\n",
    "\n",
    "plt.plot([0, 1], [0, 1], 'k--')\n",
    "plt.xlim([0.0, 1.0])\n",
    "plt.ylim([0.0, 1.05])\n",
    "plt.xlabel('False Positive Rate')\n",
    "plt.ylabel('True Positive Rate')\n",
    "plt.title('Some extension of Receiver operating characteristic to multi-class')\n",
    "plt.legend(loc=\"lower right\")\n",
    "plt.show()\n"
   ]
  }
 ],
 "metadata": {
  "kernelspec": {
   "display_name": "Python 2",
   "language": "python",
   "name": "python2"
  },
  "language_info": {
   "codemirror_mode": {
    "name": "ipython",
    "version": 2
   },
   "file_extension": ".py",
   "mimetype": "text/x-python",
   "name": "python",
   "nbconvert_exporter": "python",
   "pygments_lexer": "ipython2",
   "version": "2.7.8"
  }
 },
 "nbformat": 4,
 "nbformat_minor": 0
}
