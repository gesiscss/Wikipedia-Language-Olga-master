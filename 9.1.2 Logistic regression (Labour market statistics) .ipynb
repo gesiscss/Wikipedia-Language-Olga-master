{
 "cells": [
  {
   "cell_type": "code",
   "execution_count": null,
   "metadata": {
    "collapsed": true
   },
   "outputs": [],
   "source": [
    "# Plot for group of biases ====> 1st VARIANT"
   ]
  },
  {
   "cell_type": "code",
   "execution_count": 3,
   "metadata": {
    "collapsed": false
   },
   "outputs": [
    {
     "name": "stdout",
     "output_type": "stream",
     "text": [
      "Populating the interactive namespace from numpy and matplotlib\n"
     ]
    },
    {
     "name": "stderr",
     "output_type": "stream",
     "text": [
      "C:\\Anaconda\\lib\\site-packages\\matplotlib\\__init__.py:872: UserWarning: axes.color_cycle is deprecated and replaced with axes.prop_cycle; please use the latter.\n",
      "  warnings.warn(self.msg_depr % (key, alt_key))\n"
     ]
    }
   ],
   "source": [
    "%pylab inline\n",
    "import seaborn as sns\n",
    "#sns.set_style(\"whitegrid\")\n",
    "plt.rcParams['patch.linewidth'] = 0.5  \n",
    "plt.rcParams['patch.edgecolor'] =\"black\"# 'white' \n",
    "plt.rcParams['lines.markeredgewidth']=0.5\n",
    "plt.rcParams['boxplot.showfliers']=False\n",
    "#'markerfacecolor'\n",
    "#print rcParams.keys()\n",
    "#plt.rcParams['figure.edgecolor'] ='white' "
   ]
  },
  {
   "cell_type": "code",
   "execution_count": 2,
   "metadata": {
    "collapsed": false
   },
   "outputs": [
    {
     "name": "stdout",
     "output_type": "stream",
     "text": [
      "Male bias [n=799].\n",
      "Female bias [n=6]:\n"
     ]
    },
    {
     "data": {
      "text/html": [
       "<div>\n",
       "<table border=\"1\" class=\"dataframe\">\n",
       "  <thead>\n",
       "    <tr style=\"text-align: right;\">\n",
       "      <th></th>\n",
       "      <th>Berufsgruppe</th>\n",
       "      <th>Frauen</th>\n",
       "      <th>KldB</th>\n",
       "      <th>KldB5</th>\n",
       "      <th>Männer</th>\n",
       "      <th>Overall</th>\n",
       "      <th>name</th>\n",
       "      <th>Bias</th>\n",
       "      <th>page_exist</th>\n",
       "    </tr>\n",
       "  </thead>\n",
       "  <tbody>\n",
       "    <tr>\n",
       "      <th>0</th>\n",
       "      <td>Berufe in der Hauswirtschaft</td>\n",
       "      <td>93.691910</td>\n",
       "      <td>8321</td>\n",
       "      <td>83212</td>\n",
       "      <td>6.308090</td>\n",
       "      <td>190866</td>\n",
       "      <td>Haushälter</td>\n",
       "      <td>female</td>\n",
       "      <td>only female</td>\n",
       "    </tr>\n",
       "    <tr>\n",
       "      <th>1</th>\n",
       "      <td>Betriebsinterne Wahlämter</td>\n",
       "      <td>32.042925</td>\n",
       "      <td>7123</td>\n",
       "      <td>71234</td>\n",
       "      <td>67.957075</td>\n",
       "      <td>12580</td>\n",
       "      <td>Gleichstellungsbeauftragter</td>\n",
       "      <td>female</td>\n",
       "      <td>only female</td>\n",
       "    </tr>\n",
       "    <tr>\n",
       "      <th>2</th>\n",
       "      <td>Berufe Geburtshilfe, Entbindungspflege</td>\n",
       "      <td>99.843137</td>\n",
       "      <td>8135</td>\n",
       "      <td>81353</td>\n",
       "      <td>0.156863</td>\n",
       "      <td>10200</td>\n",
       "      <td>Entbindungspfleger</td>\n",
       "      <td>female</td>\n",
       "      <td>only female</td>\n",
       "    </tr>\n",
       "    <tr>\n",
       "      <th>3</th>\n",
       "      <td>Berufe Gesundheits-, Krankenpflege (o.S)</td>\n",
       "      <td>84.959672</td>\n",
       "      <td>8130</td>\n",
       "      <td>81301</td>\n",
       "      <td>15.040328</td>\n",
       "      <td>807755</td>\n",
       "      <td>Pflegediensthelfer</td>\n",
       "      <td>female</td>\n",
       "      <td>only female</td>\n",
       "    </tr>\n",
       "    <tr>\n",
       "      <th>4</th>\n",
       "      <td>Berufe in der Hauswirtschaft</td>\n",
       "      <td>93.691910</td>\n",
       "      <td>8321</td>\n",
       "      <td>83212</td>\n",
       "      <td>6.308090</td>\n",
       "      <td>190866</td>\n",
       "      <td>Beschließer</td>\n",
       "      <td>female</td>\n",
       "      <td>only female</td>\n",
       "    </tr>\n",
       "    <tr>\n",
       "      <th>5</th>\n",
       "      <td>Berufe Geburtshilfe, Entbindungspflege</td>\n",
       "      <td>99.843137</td>\n",
       "      <td>8135</td>\n",
       "      <td>81353</td>\n",
       "      <td>0.156863</td>\n",
       "      <td>10200</td>\n",
       "      <td>Belegentbindungspfleger</td>\n",
       "      <td>female</td>\n",
       "      <td>only female</td>\n",
       "    </tr>\n",
       "  </tbody>\n",
       "</table>\n",
       "</div>"
      ],
      "text/plain": [
       "                               Berufsgruppe     Frauen  KldB  KldB5  \\\n",
       "0              Berufe in der Hauswirtschaft  93.691910  8321  83212   \n",
       "1                 Betriebsinterne Wahlämter  32.042925  7123  71234   \n",
       "2    Berufe Geburtshilfe, Entbindungspflege  99.843137  8135  81353   \n",
       "3  Berufe Gesundheits-, Krankenpflege (o.S)  84.959672  8130  81301   \n",
       "4              Berufe in der Hauswirtschaft  93.691910  8321  83212   \n",
       "5    Berufe Geburtshilfe, Entbindungspflege  99.843137  8135  81353   \n",
       "\n",
       "      Männer  Overall                         name    Bias   page_exist  \n",
       "0   6.308090   190866                   Haushälter  female  only female  \n",
       "1  67.957075    12580  Gleichstellungsbeauftragter  female  only female  \n",
       "2   0.156863    10200           Entbindungspfleger  female  only female  \n",
       "3  15.040328   807755           Pflegediensthelfer  female  only female  \n",
       "4   6.308090   190866                  Beschließer  female  only female  \n",
       "5   0.156863    10200      Belegentbindungspfleger  female  only female  "
      ]
     },
     "execution_count": 2,
     "metadata": {},
     "output_type": "execute_result"
    }
   ],
   "source": [
    "import pandas as pd\n",
    "import numpy as np\n",
    "import matplotlib.pyplot as pyplot\n",
    "from scipy import stats  \n",
    "import json\n",
    "def load_simple_json(filename):\n",
    "    with open(filename, 'r') as f:\n",
    "        return json.load(f)\n",
    "f_bias_prop=load_simple_json('de/f_bias_labour.json')\n",
    "n_bias_prop=load_simple_json('de/n_bias_labour.json')\n",
    "n_n_bias_prop=load_simple_json('de/n_n_bias_labour.json')\n",
    "m_bias_prop=load_simple_json('de/m_bias_labour.json')\n",
    "n_pages_lev=load_simple_json('de/wiki/m_neutral_lev.json')\n",
    "                       \n",
    "f_df=pd.DataFrame.from_dict(f_bias_prop)\n",
    "n_df=pd.DataFrame.from_dict(n_bias_prop)\n",
    "n_n_df=pd.DataFrame.from_dict(n_n_bias_prop)\n",
    "m_df=pd.DataFrame.from_dict(m_bias_prop)\n",
    "print \"Male bias [n={0}].\".format(len(m_df))\n",
    "print \"Female bias [n={0}]:\".format(len(f_df))\n",
    "f_df[\"Bias\"]=\"female\"\n",
    "m_df[\"Bias\"]=\"male\"\n",
    "n_df[\"Bias\"]=\"neutral\"\n",
    "n_n_df[\"Bias\"]=\"neutral\"\n",
    "f_df[\"page_exist\"]=\"only female\"#female form of profession\n",
    "m_df[\"page_exist\"]=\"only male\"\n",
    "n_df[\"page_exist\"]=\"female&male\"\n",
    "n_df.loc[n_df[\"name\"].isin(n_pages_lev.keys()),\"page_exist\"]=\"only neutral\"\n",
    "n_n_df[\"page_exist\"]=\"only neutral\"\n",
    "all_together = pd.concat([n_df,n_n_df,f_df,m_df],ignore_index=True)\n",
    "f_df"
   ]
  },
  {
   "cell_type": "code",
   "execution_count": 3,
   "metadata": {
    "collapsed": false
   },
   "outputs": [
    {
     "name": "stdout",
     "output_type": "stream",
     "text": [
      "Neutral(male&female profession label on Wiki) [n=12]:\n"
     ]
    },
    {
     "data": {
      "text/html": [
       "<div>\n",
       "<table border=\"1\" class=\"dataframe\">\n",
       "  <thead>\n",
       "    <tr style=\"text-align: right;\">\n",
       "      <th></th>\n",
       "      <th>Berufsgruppe</th>\n",
       "      <th>Frauen</th>\n",
       "      <th>KldB</th>\n",
       "      <th>KldB5</th>\n",
       "      <th>Männer</th>\n",
       "      <th>Overall</th>\n",
       "      <th>name</th>\n",
       "      <th>Bias</th>\n",
       "      <th>page_exist</th>\n",
       "    </tr>\n",
       "  </thead>\n",
       "  <tbody>\n",
       "    <tr>\n",
       "      <th>0</th>\n",
       "      <td>Obj.Pers.Brandschutz,Arbeitssicherh(ssT)</td>\n",
       "      <td>37.700505</td>\n",
       "      <td>5318</td>\n",
       "      <td>53182</td>\n",
       "      <td>62.299495</td>\n",
       "      <td>8915</td>\n",
       "      <td>Hilfspolizist</td>\n",
       "      <td>neutral</td>\n",
       "      <td>female&amp;male</td>\n",
       "    </tr>\n",
       "    <tr>\n",
       "      <th>3</th>\n",
       "      <td>Führung - Allgemeinbildende Schulen</td>\n",
       "      <td>62.997543</td>\n",
       "      <td>8419</td>\n",
       "      <td>84194</td>\n",
       "      <td>37.002457</td>\n",
       "      <td>2035</td>\n",
       "      <td>Direktor</td>\n",
       "      <td>neutral</td>\n",
       "      <td>female&amp;male</td>\n",
       "    </tr>\n",
       "    <tr>\n",
       "      <th>4</th>\n",
       "      <td>Berufe für Post- und Zustelldienste</td>\n",
       "      <td>47.894039</td>\n",
       "      <td>5132</td>\n",
       "      <td>51321</td>\n",
       "      <td>52.105961</td>\n",
       "      <td>205963</td>\n",
       "      <td>Bote</td>\n",
       "      <td>neutral</td>\n",
       "      <td>female&amp;male</td>\n",
       "    </tr>\n",
       "    <tr>\n",
       "      <th>5</th>\n",
       "      <td>Angehörige gesetzgebender Körperschaften</td>\n",
       "      <td>18.156809</td>\n",
       "      <td>7121</td>\n",
       "      <td>71214</td>\n",
       "      <td>81.843191</td>\n",
       "      <td>2908</td>\n",
       "      <td>Bundeskanzler</td>\n",
       "      <td>neutral</td>\n",
       "      <td>female&amp;male</td>\n",
       "    </tr>\n",
       "    <tr>\n",
       "      <th>6</th>\n",
       "      <td>Berufe in der Gemeindearbeit</td>\n",
       "      <td>58.613996</td>\n",
       "      <td>8332</td>\n",
       "      <td>83323</td>\n",
       "      <td>41.386004</td>\n",
       "      <td>10303</td>\n",
       "      <td>Diakon</td>\n",
       "      <td>neutral</td>\n",
       "      <td>female&amp;male</td>\n",
       "    </tr>\n",
       "    <tr>\n",
       "      <th>9</th>\n",
       "      <td>Angehörige geistl. Orden, Mutterhäuser</td>\n",
       "      <td>62.571104</td>\n",
       "      <td>8333</td>\n",
       "      <td>83332</td>\n",
       "      <td>37.428896</td>\n",
       "      <td>879</td>\n",
       "      <td>Mönch</td>\n",
       "      <td>neutral</td>\n",
       "      <td>female&amp;male</td>\n",
       "    </tr>\n",
       "    <tr>\n",
       "      <th>10</th>\n",
       "      <td>Berufe im Veranstaltungsservice,-manag.</td>\n",
       "      <td>58.326084</td>\n",
       "      <td>6340</td>\n",
       "      <td>63401</td>\n",
       "      <td>41.673916</td>\n",
       "      <td>27588</td>\n",
       "      <td>Host</td>\n",
       "      <td>neutral</td>\n",
       "      <td>female&amp;male</td>\n",
       "    </tr>\n",
       "    <tr>\n",
       "      <th>12</th>\n",
       "      <td>Berufe in der Landwirtschaft (o.S.)</td>\n",
       "      <td>21.576590</td>\n",
       "      <td>1110</td>\n",
       "      <td>11101</td>\n",
       "      <td>78.423410</td>\n",
       "      <td>124357</td>\n",
       "      <td>Knecht</td>\n",
       "      <td>neutral</td>\n",
       "      <td>female&amp;male</td>\n",
       "    </tr>\n",
       "    <tr>\n",
       "      <th>13</th>\n",
       "      <td>Apotheker, Pharmazeuten</td>\n",
       "      <td>83.810209</td>\n",
       "      <td>8180</td>\n",
       "      <td>81804</td>\n",
       "      <td>16.189791</td>\n",
       "      <td>37536</td>\n",
       "      <td>Apotheker</td>\n",
       "      <td>neutral</td>\n",
       "      <td>female&amp;male</td>\n",
       "    </tr>\n",
       "    <tr>\n",
       "      <th>16</th>\n",
       "      <td>Angehörige geistl. Orden, Mutterhäuser</td>\n",
       "      <td>62.571104</td>\n",
       "      <td>8333</td>\n",
       "      <td>83332</td>\n",
       "      <td>37.428896</td>\n",
       "      <td>879</td>\n",
       "      <td>Ordensbruder</td>\n",
       "      <td>neutral</td>\n",
       "      <td>female&amp;male</td>\n",
       "    </tr>\n",
       "    <tr>\n",
       "      <th>17</th>\n",
       "      <td>Berufskraftfahrer(Personentransport/PKW)</td>\n",
       "      <td>13.962924</td>\n",
       "      <td>5211</td>\n",
       "      <td>52112</td>\n",
       "      <td>86.037076</td>\n",
       "      <td>74927</td>\n",
       "      <td>Taxifahrer</td>\n",
       "      <td>neutral</td>\n",
       "      <td>female&amp;male</td>\n",
       "    </tr>\n",
       "    <tr>\n",
       "      <th>18</th>\n",
       "      <td>Mannequins, Dressmen, sonstige Models</td>\n",
       "      <td>88.775510</td>\n",
       "      <td>9423</td>\n",
       "      <td>94232</td>\n",
       "      <td>11.224490</td>\n",
       "      <td>98</td>\n",
       "      <td>Dressman</td>\n",
       "      <td>neutral</td>\n",
       "      <td>female&amp;male</td>\n",
       "    </tr>\n",
       "  </tbody>\n",
       "</table>\n",
       "</div>"
      ],
      "text/plain": [
       "                                Berufsgruppe     Frauen  KldB  KldB5  \\\n",
       "0   Obj.Pers.Brandschutz,Arbeitssicherh(ssT)  37.700505  5318  53182   \n",
       "3        Führung - Allgemeinbildende Schulen  62.997543  8419  84194   \n",
       "4        Berufe für Post- und Zustelldienste  47.894039  5132  51321   \n",
       "5   Angehörige gesetzgebender Körperschaften  18.156809  7121  71214   \n",
       "6               Berufe in der Gemeindearbeit  58.613996  8332  83323   \n",
       "9     Angehörige geistl. Orden, Mutterhäuser  62.571104  8333  83332   \n",
       "10   Berufe im Veranstaltungsservice,-manag.  58.326084  6340  63401   \n",
       "12       Berufe in der Landwirtschaft (o.S.)  21.576590  1110  11101   \n",
       "13                   Apotheker, Pharmazeuten  83.810209  8180  81804   \n",
       "16    Angehörige geistl. Orden, Mutterhäuser  62.571104  8333  83332   \n",
       "17  Berufskraftfahrer(Personentransport/PKW)  13.962924  5211  52112   \n",
       "18     Mannequins, Dressmen, sonstige Models  88.775510  9423  94232   \n",
       "\n",
       "       Männer  Overall           name     Bias   page_exist  \n",
       "0   62.299495     8915  Hilfspolizist  neutral  female&male  \n",
       "3   37.002457     2035       Direktor  neutral  female&male  \n",
       "4   52.105961   205963           Bote  neutral  female&male  \n",
       "5   81.843191     2908  Bundeskanzler  neutral  female&male  \n",
       "6   41.386004    10303         Diakon  neutral  female&male  \n",
       "9   37.428896      879          Mönch  neutral  female&male  \n",
       "10  41.673916    27588           Host  neutral  female&male  \n",
       "12  78.423410   124357         Knecht  neutral  female&male  \n",
       "13  16.189791    37536      Apotheker  neutral  female&male  \n",
       "16  37.428896      879   Ordensbruder  neutral  female&male  \n",
       "17  86.037076    74927     Taxifahrer  neutral  female&male  \n",
       "18  11.224490       98       Dressman  neutral  female&male  "
      ]
     },
     "execution_count": 3,
     "metadata": {},
     "output_type": "execute_result"
    }
   ],
   "source": [
    "print \"Neutral(male&female profession label on Wiki) [n={0}]:\".format(len(all_together[all_together.page_exist==\"female&male\"]))\n",
    "all_together[all_together.page_exist==\"female&male\"]"
   ]
  },
  {
   "cell_type": "code",
   "execution_count": 4,
   "metadata": {
    "collapsed": false,
    "scrolled": true
   },
   "outputs": [
    {
     "name": "stdout",
     "output_type": "stream",
     "text": [
      "Neutral (only neutral label exist) [n=42]:\n"
     ]
    },
    {
     "data": {
      "text/html": [
       "<div>\n",
       "<table border=\"1\" class=\"dataframe\">\n",
       "  <thead>\n",
       "    <tr style=\"text-align: right;\">\n",
       "      <th></th>\n",
       "      <th>Berufsgruppe</th>\n",
       "      <th>Frauen</th>\n",
       "      <th>KldB</th>\n",
       "      <th>KldB5</th>\n",
       "      <th>Männer</th>\n",
       "      <th>Overall</th>\n",
       "      <th>name</th>\n",
       "      <th>Bias</th>\n",
       "      <th>page_exist</th>\n",
       "    </tr>\n",
       "  </thead>\n",
       "  <tbody>\n",
       "    <tr>\n",
       "      <th>1</th>\n",
       "      <td>Musik-,Gesangs-, Dirigententätigk. (ssT)</td>\n",
       "      <td>35.508637</td>\n",
       "      <td>9418</td>\n",
       "      <td>94183</td>\n",
       "      <td>64.491363</td>\n",
       "      <td>521</td>\n",
       "      <td>Audiodesigner</td>\n",
       "      <td>neutral</td>\n",
       "      <td>only neutral</td>\n",
       "    </tr>\n",
       "    <tr>\n",
       "      <th>2</th>\n",
       "      <td>Aufsicht,Führung-TheaterFilm,Fernsehprod</td>\n",
       "      <td>40.187288</td>\n",
       "      <td>9449</td>\n",
       "      <td>94494</td>\n",
       "      <td>59.812712</td>\n",
       "      <td>5019</td>\n",
       "      <td>Filmgeschäftsführer</td>\n",
       "      <td>neutral</td>\n",
       "      <td>only neutral</td>\n",
       "    </tr>\n",
       "    <tr>\n",
       "      <th>7</th>\n",
       "      <td>Berufe Informations,Telekommunikationst.</td>\n",
       "      <td>11.438161</td>\n",
       "      <td>2631</td>\n",
       "      <td>26313</td>\n",
       "      <td>88.561839</td>\n",
       "      <td>191884</td>\n",
       "      <td>Medientechniker</td>\n",
       "      <td>neutral</td>\n",
       "      <td>only neutral</td>\n",
       "    </tr>\n",
       "    <tr>\n",
       "      <th>8</th>\n",
       "      <td>Berufe Informations,Telekommunikationst.</td>\n",
       "      <td>11.438161</td>\n",
       "      <td>2631</td>\n",
       "      <td>26313</td>\n",
       "      <td>88.561839</td>\n",
       "      <td>191884</td>\n",
       "      <td>Projektassistent</td>\n",
       "      <td>neutral</td>\n",
       "      <td>only neutral</td>\n",
       "    </tr>\n",
       "    <tr>\n",
       "      <th>11</th>\n",
       "      <td>Berufe i.d. Bühnen- und Kostümbildnerei</td>\n",
       "      <td>70.973668</td>\n",
       "      <td>9461</td>\n",
       "      <td>94612</td>\n",
       "      <td>29.026332</td>\n",
       "      <td>3266</td>\n",
       "      <td>Dekorationenmaler</td>\n",
       "      <td>neutral</td>\n",
       "      <td>only neutral</td>\n",
       "    </tr>\n",
       "    <tr>\n",
       "      <th>14</th>\n",
       "      <td>Berufe in der Bautischlerei</td>\n",
       "      <td>2.720148</td>\n",
       "      <td>3333</td>\n",
       "      <td>33332</td>\n",
       "      <td>97.279852</td>\n",
       "      <td>23859</td>\n",
       "      <td>Messebauer</td>\n",
       "      <td>neutral</td>\n",
       "      <td>only neutral</td>\n",
       "    </tr>\n",
       "    <tr>\n",
       "      <th>15</th>\n",
       "      <td>Aufsicht,Führung-Krankenpfl.,Rettungsd.</td>\n",
       "      <td>78.356648</td>\n",
       "      <td>8139</td>\n",
       "      <td>81394</td>\n",
       "      <td>21.643352</td>\n",
       "      <td>36815</td>\n",
       "      <td>Pflegedienstleiter</td>\n",
       "      <td>neutral</td>\n",
       "      <td>only neutral</td>\n",
       "    </tr>\n",
       "    <tr>\n",
       "      <th>19</th>\n",
       "      <td>Berufe in der Elektrotechnik (o.S.)</td>\n",
       "      <td>25.599873</td>\n",
       "      <td>2630</td>\n",
       "      <td>26302</td>\n",
       "      <td>74.400127</td>\n",
       "      <td>220505</td>\n",
       "      <td>Elektrofachkraft</td>\n",
       "      <td>neutral</td>\n",
       "      <td>only neutral</td>\n",
       "    </tr>\n",
       "    <tr>\n",
       "      <th>20</th>\n",
       "      <td>Berufe Wasserversorgung,Abwassertechnik</td>\n",
       "      <td>3.556357</td>\n",
       "      <td>3431</td>\n",
       "      <td>34312</td>\n",
       "      <td>96.443643</td>\n",
       "      <td>27725</td>\n",
       "      <td>Fachkraft für Wasserversorgungstechnik</td>\n",
       "      <td>neutral</td>\n",
       "      <td>only neutral</td>\n",
       "    </tr>\n",
       "    <tr>\n",
       "      <th>21</th>\n",
       "      <td>Athleten, Berufssportler</td>\n",
       "      <td>8.496605</td>\n",
       "      <td>9424</td>\n",
       "      <td>94243</td>\n",
       "      <td>91.503395</td>\n",
       "      <td>5155</td>\n",
       "      <td>Jockey</td>\n",
       "      <td>neutral</td>\n",
       "      <td>only neutral</td>\n",
       "    </tr>\n",
       "    <tr>\n",
       "      <th>22</th>\n",
       "      <td>Berufe im Holz-, Möbel-, Innenausbau</td>\n",
       "      <td>3.901460</td>\n",
       "      <td>2234</td>\n",
       "      <td>22342</td>\n",
       "      <td>96.098540</td>\n",
       "      <td>143049</td>\n",
       "      <td>Fachkraft für Möbel-, Küchen- und Umzugsservice</td>\n",
       "      <td>neutral</td>\n",
       "      <td>only neutral</td>\n",
       "    </tr>\n",
       "    <tr>\n",
       "      <th>23</th>\n",
       "      <td>Berufe in der Wasserwirtschaft</td>\n",
       "      <td>29.759646</td>\n",
       "      <td>3114</td>\n",
       "      <td>31142</td>\n",
       "      <td>70.240354</td>\n",
       "      <td>3162</td>\n",
       "      <td>Fachkraft für Wasserwirtschaft</td>\n",
       "      <td>neutral</td>\n",
       "      <td>only neutral</td>\n",
       "    </tr>\n",
       "    <tr>\n",
       "      <th>24</th>\n",
       "      <td>Berufe in der Metallbearbeitung (o.S.)</td>\n",
       "      <td>18.449343</td>\n",
       "      <td>2420</td>\n",
       "      <td>24202</td>\n",
       "      <td>81.550657</td>\n",
       "      <td>396735</td>\n",
       "      <td>Fachkraft für Metalltechnik</td>\n",
       "      <td>neutral</td>\n",
       "      <td>only neutral</td>\n",
       "    </tr>\n",
       "    <tr>\n",
       "      <th>25</th>\n",
       "      <td>Berufe im Objekt-,Werte-, Personenschutz</td>\n",
       "      <td>31.087103</td>\n",
       "      <td>5311</td>\n",
       "      <td>53112</td>\n",
       "      <td>68.912897</td>\n",
       "      <td>212059</td>\n",
       "      <td>Fachkraft für Schutz und Sicherheit</td>\n",
       "      <td>neutral</td>\n",
       "      <td>only neutral</td>\n",
       "    </tr>\n",
       "    <tr>\n",
       "      <th>26</th>\n",
       "      <td>Berufe im Gastronomieservice (o.S.)</td>\n",
       "      <td>65.264831</td>\n",
       "      <td>6330</td>\n",
       "      <td>63302</td>\n",
       "      <td>34.735169</td>\n",
       "      <td>391439</td>\n",
       "      <td>Fachkraft im Gastgewerbe</td>\n",
       "      <td>neutral</td>\n",
       "      <td>only neutral</td>\n",
       "    </tr>\n",
       "    <tr>\n",
       "      <th>27</th>\n",
       "      <td>Berufe i.d. Lebensmittelherstellung (oS)</td>\n",
       "      <td>38.666751</td>\n",
       "      <td>2920</td>\n",
       "      <td>29202</td>\n",
       "      <td>61.333249</td>\n",
       "      <td>126398</td>\n",
       "      <td>Fachkraft für Lebensmitteltechnik</td>\n",
       "      <td>neutral</td>\n",
       "      <td>only neutral</td>\n",
       "    </tr>\n",
       "    <tr>\n",
       "      <th>28</th>\n",
       "      <td>Berufe in der Abfallwirtschaft</td>\n",
       "      <td>8.069793</td>\n",
       "      <td>3433</td>\n",
       "      <td>34332</td>\n",
       "      <td>91.930207</td>\n",
       "      <td>11004</td>\n",
       "      <td>Fachkraft für Kreislauf- und Abfallwirtschaft</td>\n",
       "      <td>neutral</td>\n",
       "      <td>only neutral</td>\n",
       "    </tr>\n",
       "    <tr>\n",
       "      <th>29</th>\n",
       "      <td>Berufe Veranstaltungs- und Bühnentechnik</td>\n",
       "      <td>12.590514</td>\n",
       "      <td>9451</td>\n",
       "      <td>94512</td>\n",
       "      <td>87.409486</td>\n",
       "      <td>17815</td>\n",
       "      <td>Fachkraft für Veranstaltungstechnik</td>\n",
       "      <td>neutral</td>\n",
       "      <td>only neutral</td>\n",
       "    </tr>\n",
       "    <tr>\n",
       "      <th>30</th>\n",
       "      <td>Aufsicht und Führung - Verkauf</td>\n",
       "      <td>51.144516</td>\n",
       "      <td>6219</td>\n",
       "      <td>62193</td>\n",
       "      <td>48.855484</td>\n",
       "      <td>96460</td>\n",
       "      <td>Kassenaufsicht</td>\n",
       "      <td>neutral</td>\n",
       "      <td>only neutral</td>\n",
       "    </tr>\n",
       "    <tr>\n",
       "      <th>31</th>\n",
       "      <td>Berufe Arbeitssicherh. Sicherheitstech.</td>\n",
       "      <td>13.171087</td>\n",
       "      <td>5312</td>\n",
       "      <td>53123</td>\n",
       "      <td>86.828913</td>\n",
       "      <td>35707</td>\n",
       "      <td>Fachkraft für Arbeitssicherheit</td>\n",
       "      <td>neutral</td>\n",
       "      <td>only neutral</td>\n",
       "    </tr>\n",
       "    <tr>\n",
       "      <th>32</th>\n",
       "      <td>Berufe für Post- und Zustelldienste</td>\n",
       "      <td>47.894039</td>\n",
       "      <td>5132</td>\n",
       "      <td>51322</td>\n",
       "      <td>52.105961</td>\n",
       "      <td>205963</td>\n",
       "      <td>Fachkraft für Kurier-, Express- und Postdienst...</td>\n",
       "      <td>neutral</td>\n",
       "      <td>only neutral</td>\n",
       "    </tr>\n",
       "    <tr>\n",
       "      <th>33</th>\n",
       "      <td>Berufe im Bestattungswesen</td>\n",
       "      <td>26.259416</td>\n",
       "      <td>8240</td>\n",
       "      <td>82402</td>\n",
       "      <td>73.740584</td>\n",
       "      <td>8496</td>\n",
       "      <td>Bestattungsfachkraft</td>\n",
       "      <td>neutral</td>\n",
       "      <td>only neutral</td>\n",
       "    </tr>\n",
       "    <tr>\n",
       "      <th>34</th>\n",
       "      <td>Berufe im Holz- und Bautenschutz</td>\n",
       "      <td>1.222494</td>\n",
       "      <td>3324</td>\n",
       "      <td>33242</td>\n",
       "      <td>98.777506</td>\n",
       "      <td>1636</td>\n",
       "      <td>Fachkraft für Holz- und Bautenschutzarbeiten</td>\n",
       "      <td>neutral</td>\n",
       "      <td>only neutral</td>\n",
       "    </tr>\n",
       "    <tr>\n",
       "      <th>35</th>\n",
       "      <td>Berufe in der Landwirtschaft (o.S.)</td>\n",
       "      <td>21.576590</td>\n",
       "      <td>1110</td>\n",
       "      <td>11102</td>\n",
       "      <td>78.423410</td>\n",
       "      <td>124357</td>\n",
       "      <td>Fachkraft für Agrarservice</td>\n",
       "      <td>neutral</td>\n",
       "      <td>only neutral</td>\n",
       "    </tr>\n",
       "    <tr>\n",
       "      <th>36</th>\n",
       "      <td>Berufe im Güter- und Warenumschlag</td>\n",
       "      <td>14.357637</td>\n",
       "      <td>5133</td>\n",
       "      <td>51332</td>\n",
       "      <td>85.642363</td>\n",
       "      <td>16486</td>\n",
       "      <td>Fachkraft für Hafenlogistik</td>\n",
       "      <td>neutral</td>\n",
       "      <td>only neutral</td>\n",
       "    </tr>\n",
       "    <tr>\n",
       "      <th>37</th>\n",
       "      <td>Berufe in der Lederherstellung</td>\n",
       "      <td>34.473198</td>\n",
       "      <td>2831</td>\n",
       "      <td>28312</td>\n",
       "      <td>65.526802</td>\n",
       "      <td>1082</td>\n",
       "      <td>Fachkraft für Lederverarbeitung</td>\n",
       "      <td>neutral</td>\n",
       "      <td>only neutral</td>\n",
       "    </tr>\n",
       "    <tr>\n",
       "      <th>38</th>\n",
       "      <td>Berufe in der Lagerwirtschaft</td>\n",
       "      <td>24.976831</td>\n",
       "      <td>5131</td>\n",
       "      <td>51312</td>\n",
       "      <td>75.023169</td>\n",
       "      <td>1265705</td>\n",
       "      <td>Fachkraft für Lagerwirtschaft</td>\n",
       "      <td>neutral</td>\n",
       "      <td>only neutral</td>\n",
       "    </tr>\n",
       "    <tr>\n",
       "      <th>39</th>\n",
       "      <td>Berufe Wasserversorgung,Abwassertechnik</td>\n",
       "      <td>3.556357</td>\n",
       "      <td>3431</td>\n",
       "      <td>34312</td>\n",
       "      <td>96.443643</td>\n",
       "      <td>27725</td>\n",
       "      <td>Fachkraft für Rohr-, Kanal- und Industrieservice</td>\n",
       "      <td>neutral</td>\n",
       "      <td>only neutral</td>\n",
       "    </tr>\n",
       "    <tr>\n",
       "      <th>40</th>\n",
       "      <td>Berufe i.d. Kinderbetreuung, -erziehung</td>\n",
       "      <td>91.017849</td>\n",
       "      <td>8311</td>\n",
       "      <td>83111</td>\n",
       "      <td>8.982151</td>\n",
       "      <td>732486</td>\n",
       "      <td>Au-pair</td>\n",
       "      <td>neutral</td>\n",
       "      <td>only neutral</td>\n",
       "    </tr>\n",
       "    <tr>\n",
       "      <th>41</th>\n",
       "      <td>Berufe in der Chemie- und Pharmatechnik</td>\n",
       "      <td>26.783835</td>\n",
       "      <td>4131</td>\n",
       "      <td>41312</td>\n",
       "      <td>73.216165</td>\n",
       "      <td>179627</td>\n",
       "      <td>Produktionsfachkraft Chemie</td>\n",
       "      <td>neutral</td>\n",
       "      <td>only neutral</td>\n",
       "    </tr>\n",
       "    <tr>\n",
       "      <th>42</th>\n",
       "      <td>Berufe im Dialogmarketing</td>\n",
       "      <td>60.041787</td>\n",
       "      <td>9212</td>\n",
       "      <td>92122</td>\n",
       "      <td>39.958213</td>\n",
       "      <td>147414</td>\n",
       "      <td>Servicefachkraft für Dialogmarketing</td>\n",
       "      <td>neutral</td>\n",
       "      <td>only neutral</td>\n",
       "    </tr>\n",
       "    <tr>\n",
       "      <th>43</th>\n",
       "      <td>Berufe in der Bauelektrik</td>\n",
       "      <td>1.461264</td>\n",
       "      <td>2621</td>\n",
       "      <td>26212</td>\n",
       "      <td>98.538736</td>\n",
       "      <td>224121</td>\n",
       "      <td>Elektrofachkraft für festgelegte Tätigkeiten</td>\n",
       "      <td>neutral</td>\n",
       "      <td>only neutral</td>\n",
       "    </tr>\n",
       "    <tr>\n",
       "      <th>44</th>\n",
       "      <td>Berufe Bauplanung Verkehrswege, -anlagen</td>\n",
       "      <td>22.241135</td>\n",
       "      <td>3113</td>\n",
       "      <td>31132</td>\n",
       "      <td>77.758865</td>\n",
       "      <td>3525</td>\n",
       "      <td>Fachkraft für Straßen- und Verkehrstechnik</td>\n",
       "      <td>neutral</td>\n",
       "      <td>only neutral</td>\n",
       "    </tr>\n",
       "    <tr>\n",
       "      <th>45</th>\n",
       "      <td>Bus-, Straßenbahnfahrer/innen</td>\n",
       "      <td>11.630906</td>\n",
       "      <td>5213</td>\n",
       "      <td>52132</td>\n",
       "      <td>88.369094</td>\n",
       "      <td>119406</td>\n",
       "      <td>Fachkraft im Fahrbetrieb</td>\n",
       "      <td>neutral</td>\n",
       "      <td>only neutral</td>\n",
       "    </tr>\n",
       "    <tr>\n",
       "      <th>46</th>\n",
       "      <td>Berufe Sozialverwaltung, versicherung</td>\n",
       "      <td>76.993323</td>\n",
       "      <td>7321</td>\n",
       "      <td>73214</td>\n",
       "      <td>23.006677</td>\n",
       "      <td>129106</td>\n",
       "      <td>Aufsichtsperson</td>\n",
       "      <td>neutral</td>\n",
       "      <td>only neutral</td>\n",
       "    </tr>\n",
       "    <tr>\n",
       "      <th>47</th>\n",
       "      <td>Rechtsberatung,-sprechung,-ordnung (ssT)</td>\n",
       "      <td>57.932782</td>\n",
       "      <td>7318</td>\n",
       "      <td>73183</td>\n",
       "      <td>42.067218</td>\n",
       "      <td>26838</td>\n",
       "      <td>Rechtsbeistand</td>\n",
       "      <td>neutral</td>\n",
       "      <td>only neutral</td>\n",
       "    </tr>\n",
       "    <tr>\n",
       "      <th>48</th>\n",
       "      <td>Berufe Wasserversorgung,Abwassertechnik</td>\n",
       "      <td>3.556357</td>\n",
       "      <td>3431</td>\n",
       "      <td>34312</td>\n",
       "      <td>96.443643</td>\n",
       "      <td>27725</td>\n",
       "      <td>Fachkraft für Abwassertechnik</td>\n",
       "      <td>neutral</td>\n",
       "      <td>only neutral</td>\n",
       "    </tr>\n",
       "    <tr>\n",
       "      <th>49</th>\n",
       "      <td>Berufe i.d. spanenden Metallbearbeitung</td>\n",
       "      <td>2.737703</td>\n",
       "      <td>2423</td>\n",
       "      <td>24233</td>\n",
       "      <td>97.262297</td>\n",
       "      <td>195675</td>\n",
       "      <td>CNC-Fachkraft</td>\n",
       "      <td>neutral</td>\n",
       "      <td>only neutral</td>\n",
       "    </tr>\n",
       "    <tr>\n",
       "      <th>50</th>\n",
       "      <td>Berufe Informations,Telekommunikationst.</td>\n",
       "      <td>11.438161</td>\n",
       "      <td>2631</td>\n",
       "      <td>26312</td>\n",
       "      <td>88.561839</td>\n",
       "      <td>191884</td>\n",
       "      <td>Elektrogerätefachkraft</td>\n",
       "      <td>neutral</td>\n",
       "      <td>only neutral</td>\n",
       "    </tr>\n",
       "    <tr>\n",
       "      <th>51</th>\n",
       "      <td>Büro- und Sekretariatskräfte (o.S.)</td>\n",
       "      <td>79.444358</td>\n",
       "      <td>7140</td>\n",
       "      <td>71402</td>\n",
       "      <td>20.555642</td>\n",
       "      <td>1969075</td>\n",
       "      <td>Bürokraft</td>\n",
       "      <td>neutral</td>\n",
       "      <td>only neutral</td>\n",
       "    </tr>\n",
       "    <tr>\n",
       "      <th>52</th>\n",
       "      <td>Berufe in der Süßwarenherstellung</td>\n",
       "      <td>57.693876</td>\n",
       "      <td>2926</td>\n",
       "      <td>29262</td>\n",
       "      <td>42.306124</td>\n",
       "      <td>12263</td>\n",
       "      <td>Fachkraft für Süßwarentechnik</td>\n",
       "      <td>neutral</td>\n",
       "      <td>only neutral</td>\n",
       "    </tr>\n",
       "    <tr>\n",
       "      <th>53</th>\n",
       "      <td>Kaufleute im Automatenservice</td>\n",
       "      <td>31.104167</td>\n",
       "      <td>6114</td>\n",
       "      <td>61142</td>\n",
       "      <td>68.895833</td>\n",
       "      <td>4800</td>\n",
       "      <td>Fachkraft für Automatenservice</td>\n",
       "      <td>neutral</td>\n",
       "      <td>only neutral</td>\n",
       "    </tr>\n",
       "  </tbody>\n",
       "</table>\n",
       "</div>"
      ],
      "text/plain": [
       "                                Berufsgruppe     Frauen  KldB  KldB5  \\\n",
       "1   Musik-,Gesangs-, Dirigententätigk. (ssT)  35.508637  9418  94183   \n",
       "2   Aufsicht,Führung-TheaterFilm,Fernsehprod  40.187288  9449  94494   \n",
       "7   Berufe Informations,Telekommunikationst.  11.438161  2631  26313   \n",
       "8   Berufe Informations,Telekommunikationst.  11.438161  2631  26313   \n",
       "11   Berufe i.d. Bühnen- und Kostümbildnerei  70.973668  9461  94612   \n",
       "14               Berufe in der Bautischlerei   2.720148  3333  33332   \n",
       "15   Aufsicht,Führung-Krankenpfl.,Rettungsd.  78.356648  8139  81394   \n",
       "19       Berufe in der Elektrotechnik (o.S.)  25.599873  2630  26302   \n",
       "20   Berufe Wasserversorgung,Abwassertechnik   3.556357  3431  34312   \n",
       "21                  Athleten, Berufssportler   8.496605  9424  94243   \n",
       "22      Berufe im Holz-, Möbel-, Innenausbau   3.901460  2234  22342   \n",
       "23            Berufe in der Wasserwirtschaft  29.759646  3114  31142   \n",
       "24    Berufe in der Metallbearbeitung (o.S.)  18.449343  2420  24202   \n",
       "25  Berufe im Objekt-,Werte-, Personenschutz  31.087103  5311  53112   \n",
       "26       Berufe im Gastronomieservice (o.S.)  65.264831  6330  63302   \n",
       "27  Berufe i.d. Lebensmittelherstellung (oS)  38.666751  2920  29202   \n",
       "28            Berufe in der Abfallwirtschaft   8.069793  3433  34332   \n",
       "29  Berufe Veranstaltungs- und Bühnentechnik  12.590514  9451  94512   \n",
       "30            Aufsicht und Führung - Verkauf  51.144516  6219  62193   \n",
       "31   Berufe Arbeitssicherh. Sicherheitstech.  13.171087  5312  53123   \n",
       "32       Berufe für Post- und Zustelldienste  47.894039  5132  51322   \n",
       "33                Berufe im Bestattungswesen  26.259416  8240  82402   \n",
       "34          Berufe im Holz- und Bautenschutz   1.222494  3324  33242   \n",
       "35       Berufe in der Landwirtschaft (o.S.)  21.576590  1110  11102   \n",
       "36        Berufe im Güter- und Warenumschlag  14.357637  5133  51332   \n",
       "37            Berufe in der Lederherstellung  34.473198  2831  28312   \n",
       "38             Berufe in der Lagerwirtschaft  24.976831  5131  51312   \n",
       "39   Berufe Wasserversorgung,Abwassertechnik   3.556357  3431  34312   \n",
       "40   Berufe i.d. Kinderbetreuung, -erziehung  91.017849  8311  83111   \n",
       "41   Berufe in der Chemie- und Pharmatechnik  26.783835  4131  41312   \n",
       "42                 Berufe im Dialogmarketing  60.041787  9212  92122   \n",
       "43                 Berufe in der Bauelektrik   1.461264  2621  26212   \n",
       "44  Berufe Bauplanung Verkehrswege, -anlagen  22.241135  3113  31132   \n",
       "45             Bus-, Straßenbahnfahrer/innen  11.630906  5213  52132   \n",
       "46     Berufe Sozialverwaltung, versicherung  76.993323  7321  73214   \n",
       "47  Rechtsberatung,-sprechung,-ordnung (ssT)  57.932782  7318  73183   \n",
       "48   Berufe Wasserversorgung,Abwassertechnik   3.556357  3431  34312   \n",
       "49   Berufe i.d. spanenden Metallbearbeitung   2.737703  2423  24233   \n",
       "50  Berufe Informations,Telekommunikationst.  11.438161  2631  26312   \n",
       "51       Büro- und Sekretariatskräfte (o.S.)  79.444358  7140  71402   \n",
       "52         Berufe in der Süßwarenherstellung  57.693876  2926  29262   \n",
       "53             Kaufleute im Automatenservice  31.104167  6114  61142   \n",
       "\n",
       "       Männer  Overall                                               name  \\\n",
       "1   64.491363      521                                      Audiodesigner   \n",
       "2   59.812712     5019                                Filmgeschäftsführer   \n",
       "7   88.561839   191884                                    Medientechniker   \n",
       "8   88.561839   191884                                   Projektassistent   \n",
       "11  29.026332     3266                                  Dekorationenmaler   \n",
       "14  97.279852    23859                                         Messebauer   \n",
       "15  21.643352    36815                                 Pflegedienstleiter   \n",
       "19  74.400127   220505                                   Elektrofachkraft   \n",
       "20  96.443643    27725             Fachkraft für Wasserversorgungstechnik   \n",
       "21  91.503395     5155                                             Jockey   \n",
       "22  96.098540   143049    Fachkraft für Möbel-, Küchen- und Umzugsservice   \n",
       "23  70.240354     3162                     Fachkraft für Wasserwirtschaft   \n",
       "24  81.550657   396735                        Fachkraft für Metalltechnik   \n",
       "25  68.912897   212059                Fachkraft für Schutz und Sicherheit   \n",
       "26  34.735169   391439                           Fachkraft im Gastgewerbe   \n",
       "27  61.333249   126398                  Fachkraft für Lebensmitteltechnik   \n",
       "28  91.930207    11004      Fachkraft für Kreislauf- und Abfallwirtschaft   \n",
       "29  87.409486    17815                Fachkraft für Veranstaltungstechnik   \n",
       "30  48.855484    96460                                     Kassenaufsicht   \n",
       "31  86.828913    35707                    Fachkraft für Arbeitssicherheit   \n",
       "32  52.105961   205963  Fachkraft für Kurier-, Express- und Postdienst...   \n",
       "33  73.740584     8496                               Bestattungsfachkraft   \n",
       "34  98.777506     1636       Fachkraft für Holz- und Bautenschutzarbeiten   \n",
       "35  78.423410   124357                         Fachkraft für Agrarservice   \n",
       "36  85.642363    16486                        Fachkraft für Hafenlogistik   \n",
       "37  65.526802     1082                    Fachkraft für Lederverarbeitung   \n",
       "38  75.023169  1265705                      Fachkraft für Lagerwirtschaft   \n",
       "39  96.443643    27725   Fachkraft für Rohr-, Kanal- und Industrieservice   \n",
       "40   8.982151   732486                                            Au-pair   \n",
       "41  73.216165   179627                        Produktionsfachkraft Chemie   \n",
       "42  39.958213   147414               Servicefachkraft für Dialogmarketing   \n",
       "43  98.538736   224121       Elektrofachkraft für festgelegte Tätigkeiten   \n",
       "44  77.758865     3525         Fachkraft für Straßen- und Verkehrstechnik   \n",
       "45  88.369094   119406                           Fachkraft im Fahrbetrieb   \n",
       "46  23.006677   129106                                    Aufsichtsperson   \n",
       "47  42.067218    26838                                     Rechtsbeistand   \n",
       "48  96.443643    27725                      Fachkraft für Abwassertechnik   \n",
       "49  97.262297   195675                                      CNC-Fachkraft   \n",
       "50  88.561839   191884                             Elektrogerätefachkraft   \n",
       "51  20.555642  1969075                                          Bürokraft   \n",
       "52  42.306124    12263                      Fachkraft für Süßwarentechnik   \n",
       "53  68.895833     4800                     Fachkraft für Automatenservice   \n",
       "\n",
       "       Bias    page_exist  \n",
       "1   neutral  only neutral  \n",
       "2   neutral  only neutral  \n",
       "7   neutral  only neutral  \n",
       "8   neutral  only neutral  \n",
       "11  neutral  only neutral  \n",
       "14  neutral  only neutral  \n",
       "15  neutral  only neutral  \n",
       "19  neutral  only neutral  \n",
       "20  neutral  only neutral  \n",
       "21  neutral  only neutral  \n",
       "22  neutral  only neutral  \n",
       "23  neutral  only neutral  \n",
       "24  neutral  only neutral  \n",
       "25  neutral  only neutral  \n",
       "26  neutral  only neutral  \n",
       "27  neutral  only neutral  \n",
       "28  neutral  only neutral  \n",
       "29  neutral  only neutral  \n",
       "30  neutral  only neutral  \n",
       "31  neutral  only neutral  \n",
       "32  neutral  only neutral  \n",
       "33  neutral  only neutral  \n",
       "34  neutral  only neutral  \n",
       "35  neutral  only neutral  \n",
       "36  neutral  only neutral  \n",
       "37  neutral  only neutral  \n",
       "38  neutral  only neutral  \n",
       "39  neutral  only neutral  \n",
       "40  neutral  only neutral  \n",
       "41  neutral  only neutral  \n",
       "42  neutral  only neutral  \n",
       "43  neutral  only neutral  \n",
       "44  neutral  only neutral  \n",
       "45  neutral  only neutral  \n",
       "46  neutral  only neutral  \n",
       "47  neutral  only neutral  \n",
       "48  neutral  only neutral  \n",
       "49  neutral  only neutral  \n",
       "50  neutral  only neutral  \n",
       "51  neutral  only neutral  \n",
       "52  neutral  only neutral  \n",
       "53  neutral  only neutral  "
      ]
     },
     "execution_count": 4,
     "metadata": {},
     "output_type": "execute_result"
    }
   ],
   "source": [
    "print \"Neutral (only neutral label exist) [n={0}]:\".format(len(all_together[all_together.page_exist==\"only neutral\"]))\n",
    "all_together[all_together.page_exist==\"only neutral\"]"
   ]
  },
  {
   "cell_type": "markdown",
   "metadata": {},
   "source": [
    "### var1"
   ]
  },
  {
   "cell_type": "code",
   "execution_count": 72,
   "metadata": {
    "collapsed": false
   },
   "outputs": [
    {
     "name": "stdout",
     "output_type": "stream",
     "text": [
      "Median male bias:  35.5086372361\n",
      "Median neutral bias:  28.271740593\n",
      "Median female bias:  93.6919095072\n"
     ]
    },
    {
     "data": {
      "image/png": "[encoded data removed]",
      "text/plain": [
       "<matplotlib.figure.Figure at 0x11aa7510>"
      ]
     },
     "metadata": {},
     "output_type": "display_data"
    }
   ],
   "source": [
    "fig, big_axes = plt.subplots( figsize=(10,5) , nrows=1, ncols=2)\n",
    "for row, big_ax in enumerate(big_axes, start=1):\n",
    "    #big_ax.set_title(groups.size().index[row-1].title()+\" dominnated professions\", fontsize=12)\n",
    "    # Turn off axis lines and ticks of the big subplot \n",
    "    # obs alpha is 0 in RGBA string!\n",
    "    big_ax.tick_params(labelcolor=(1.,1.,1., 0.0), top='off', bottom='off', left='off', right='off')\n",
    "ax1 = fig.add_subplot(1,2,1) \n",
    "\n",
    "\n",
    "colors = [\"pink\",\"green\",\"windows blue\", \"amber\", \"greyish\", \"faded green\", \"dusty purple\"]\n",
    "with sns.xkcd_palette(colors):#sns.color_palette(\"pastel\", len(set(all_together.Bias.values))):\n",
    "    sns.stripplot(x=\"Bias\",y=\"Frauen\",order=[\"female\",\"neutral\", \"male\"],\n",
    "               data=all_together,jitter=True,edgecolor='white',linewidth=0.7)#,hue=\"smoker\",split=True)\n",
    "    ax1.set_ylabel('women in the labour market,%')\n",
    "    ax1.set_xlabel('Redirection bias')\n",
    "    ax1.set_ylim(0,100)\n",
    "    \n",
    "f_df2=all_together[all_together.page_exist==\"only female\"].Frauen\n",
    "m_df2=all_together[all_together.page_exist==\"only male\"].Frauen\n",
    "n_df2=pd.concat([n_df.Frauen,n_n_df.Frauen])\n",
    "\n",
    "ax1.set_xticklabels([\"female\\n[n={}]\".format(len(f_df2)),\"neutral\\n[n={}]\".format(len(n_df2)),\"male\\n[n={}]\".format(len(m_df2))])\n",
    "\n",
    "\n",
    "ax2= fig.add_subplot(1,2,2)\n",
    "ax2.boxplot([f_df2,n_df2,m_df2], )\n",
    "ax2.set_xticklabels([\"female\\n[n={}]\".format(len(f_df2)),\"neutral\\n[n={}]\".format(len(n_df2)),\"male\\n[n={}]\".format(len(m_df2))])\n",
    "#ax2.set_xticks([1,2,3],[\"female bias\\n[n={}]\".format(len(f_df2)),\"neutral\\n[n={}]\".format(len(n_df2)),\"male bias\\n[n={}]\".format(len(m_df2))])\n",
    "#ax2.ylabel(\"women in labour market, %\")\n",
    "\n",
    "ax2.scatter(x=[1,3,3,2,2],y=[all_together[all_together.name==\"Entbindungspfleger\"].Frauen.values[0],\n",
    "                all_together[all_together.name==u\"Sekretär\"].Frauen.values[0],\n",
    "                all_together[all_together.name==u\"Projektleiter\"].Frauen.values[0],\n",
    "                           all_together[all_together.name==u\"Host\"].Frauen.values[0],\n",
    "                            all_together[all_together.name==u\"Projektassistent\"].Frauen.values[0]],\n",
    "                 c=[\"r\",\"r\",\"r\",\"r\"])\n",
    "ax2.annotate('Hebamme', xy=(1, all_together[all_together.name==\"Entbindungspfleger\"].Frauen.values[0]), xytext=(1.2, 85),\n",
    "             arrowprops=dict(width=0.5,shrink=0.05,headwidth=4,facecolor='black'))\n",
    "ax2.annotate(u\"Sekretär\", xy=(3, all_together[all_together.name==u\"Sekretär\"].Frauen.values[0]), xytext=(2.3, 70),\n",
    "             arrowprops=dict(width=0.5,shrink=0.05,headwidth=4,facecolor='black'))\n",
    "ax2.annotate(u\"Projektleiter\", xy=(3, all_together[all_together.name==u\"Projektleiter\"].Frauen.values[0]), xytext=(2.05, 7),\n",
    "             arrowprops=dict(width=0.5,shrink=0.05,headwidth=4,facecolor='black'))\n",
    "ax2.annotate(u\"Host/Hostess\", xy=(2, all_together[all_together.name==u\"Host\"].Frauen.values[0]), xytext=(0.9, 48),\n",
    "             arrowprops=dict(width=0.5,shrink=0.05,headwidth=4,facecolor='black'))\n",
    "ax2.annotate(u\"Projektassistent/in\", xy=(2, all_together[all_together.name==u\"Projektassistent\"].Frauen.values[0]),\n",
    "             xytext=(0.6, 2),   arrowprops=dict(width=0.5,shrink=0.05,headwidth=4,facecolor='black'))\n",
    "ax2.set_xlabel(\"Redirection Bias\")\n",
    "ax2.set_ylabel('women involved in profession,%')\n",
    "ax2.set_ylim(-0.5,100.5)\n",
    "fig.show()\n",
    "fig.savefig(\"de/labour_market_redirect.png\",dpi=500)\n",
    "\n",
    "print \"Median male bias: \",m_df2.median()\n",
    "print \"Median neutral bias: \",n_df2.median()\n",
    "print \"Median female bias: \",f_df2.median()"
   ]
  },
  {
   "cell_type": "markdown",
   "metadata": {},
   "source": [
    "# significanse test "
   ]
  },
  {
   "cell_type": "markdown",
   "metadata": {},
   "source": [
    "Then we check whether all groups follow the same distribution. In order to do so, we perform Mann-Whitney-Wilcoxon RankSum test. The null hypothesis is that all instances of two groups are independent and identically distributed. The alternative hypothesis is that all instances of the first group are independent and identically distributed according to some underlying distribution F_X and all instances of the second group are independent and identically distributed according to some underlying distribution F_Y but F_X differs from F_Y."
   ]
  },
  {
   "cell_type": "code",
   "execution_count": 18,
   "metadata": {
    "collapsed": false
   },
   "outputs": [
    {
     "name": "stdout",
     "output_type": "stream",
     "text": [
      "MWW RankSum P for male and female distributions = 0.000888464276433 z_stat= -3.32365376474\n",
      "MWW RankSum P for male and neutral distributions = 0.401687143991 z_stat= 0.838611876286\n",
      "MWW RankSum P for neutral and female distributions = 0.000804806421507 z_stat= -3.35113642833\n",
      "MWW RankSum P for all together and female distributions = 0.000915003594479 z_stat= -3.31543578854\n",
      "MWW RankSum P for all together and neutral distributions = 0.393021634532 z_stat= 0.854150448439\n",
      "MWW RankSum P for all together and male distributions = 0.965894830531 z_stat= 0.0427575157314\n"
     ]
    }
   ],
   "source": [
    "f_=all_together[all_together.page_exist==\"only female\"].Frauen.tolist()\n",
    "n_=all_together[all_together.page_exist==\"female&male\"].Frauen.tolist()\n",
    "m_=all_together[all_together.page_exist==\"only male\"].Frauen.tolist()\n",
    "n_n_=all_together[all_together.page_exist==\"only neutral\"].Frauen.tolist()\n",
    "\n",
    "z_stat, p_val = stats.ranksums(m_, f_)  \n",
    "print \"MWW RankSum P for male and female distributions =\", p_val , \"z_stat=\",z_stat\n",
    "z_stat, p_val = stats.ranksums(m_, n_+n_n_)   \n",
    "print \"MWW RankSum P for male and neutral distributions =\", p_val ,\"z_stat=\",z_stat\n",
    "z_stat, p_val = stats.ranksums(n_+n_n_, f_)  \n",
    "print \"MWW RankSum P for neutral and female distributions =\", p_val  , \"z_stat=\",z_stat\n",
    "z_stat, p_val = stats.ranksums(n_+n_n_+m_+f_, f_)  \n",
    "print \"MWW RankSum P for all together and female distributions =\", p_val , \"z_stat=\",z_stat\n",
    "z_stat, p_val = stats.ranksums(n_+n_n_+f_+m_, n_+n_n_)  \n",
    "print \"MWW RankSum P for all together and neutral distributions =\", p_val , \"z_stat=\",z_stat\n",
    "z_stat, p_val = stats.ranksums(n_+n_n_+f_+m_, m_)  \n",
    "print \"MWW RankSum P for all together and male distributions =\", p_val , \"z_stat=\",z_stat\n",
    "\n",
    "\n",
    "#with Bonferroni correction (3*2/2=3)=> alpha=0.05/3=0.0167 # in order to controlling the familywise error rate\n",
    "#p-val should be smaller than 0.0167"
   ]
  },
  {
   "cell_type": "markdown",
   "metadata": {},
   "source": [
    "| | p-val | z | \n",
    "| :-|:-:|\n",
    "| male bias & female bias |    8.88e-04     |    -3.32    |\n",
    "| male bias & neutral |     0.40     |    0.83    | \n",
    "| neutral & female bias |     8.04e-04     |      -3.35    |"
   ]
  },
  {
   "cell_type": "code",
   "execution_count": 68,
   "metadata": {
    "collapsed": false
   },
   "outputs": [
    {
     "name": "stdout",
     "output_type": "stream",
     "text": [
      "Two stage FDR correction of Benjamini-Hochberg:\n",
      "---------------------------------------------------------------------------\n",
      " ======================================== | p-value_old | reject | p-value_corrected\n",
      "---------------------------------------------------------------------------\n",
      "male bias & female bias                         8.88e-04    True   0.00044\n",
      "male bias & neutral                             4.02e-01   False   0.13390\n",
      "neutral & female bias                           8.05e-04    True   0.00044\n"
     ]
    }
   ],
   "source": [
    "from statsmodels.sandbox.stats.multicomp import multipletests\n",
    "p_all=[0.000888464276433,0.401687143991,0.000804806421507]\n",
    "names_c=[\"male bias & female bias\",\"male bias & neutral\",\"neutral & female bias\"]\n",
    "print \"Two stage FDR correction of Benjamini-Hochberg:\"\n",
    "res=multipletests(p_all, alpha=0.05, method='fdr_tsbh')[:2]\n",
    "print \"-\"*75\n",
    "print \" ======================================== | p-value_old | reject | p-value_corrected\"\n",
    "print \"-\"*75\n",
    "for i in range(0,len(names_c)):\n",
    "    print \"{:<46}  {:<3.2e} {!r:>7}   {:<3.5f}\".format(names_c[i],p_all[i],res[0][i],res[1][i])"
   ]
  },
  {
   "cell_type": "markdown",
   "metadata": {},
   "source": [
    "| | p-val | z | reject null |\n",
    "| :-|:-:|:-:|\n",
    "| male bias & female bias |    8.88e-04     |    -3.32    |  4.44e-04 |\n",
    "| male bias & neutral |     0.40     |    0.83    |  1.34e-01 |  \n",
    "| neutral & female bias |     8.04e-04     |      -3.35    |   4.44e-04 |\n"
   ]
  },
  {
   "cell_type": "code",
   "execution_count": 22,
   "metadata": {
    "collapsed": false
   },
   "outputs": [
    {
     "name": "stdout",
     "output_type": "stream",
     "text": [
      "H-statistic:\t11.8479647609\n",
      "P-value:\t0.00267452795285\n",
      "Reject NULL hypothesis - Significant differences exist between groups.\n"
     ]
    }
   ],
   "source": [
    "#we can use Kruskal–Wallis test (for comparing two or more independent samples of equal or different sample sizes)\n",
    "from scipy.stats.mstats import kruskalwallis\n",
    "H, pval = kruskalwallis(m_,f_,n_+n_n_)\n",
    "print \"H-statistic:\\t%s\\nP-value:\\t%s\" % (str(H),str(pval))\n",
    "if pval < 0.05:\n",
    "    print(\"Reject NULL hypothesis - Significant differences exist between groups.\")\n",
    "if pval > 0.05:\n",
    "    print(\"Accept NULL hypothesis - No significant difference between groups.\")\n",
    "# A significant Kruskal-Wallis test indicates that at least one sample stochastically dominates one other sample.\n",
    "#The test does not identify where this stochastic dominance occurs or for how many pairs of groups stochastic\n",
    "#dominance obtains. Dunn's test[5] would help analyze the specific sample pairs for stochastic dominance."
   ]
  },
  {
   "cell_type": "markdown",
   "metadata": {},
   "source": [
    "dependent variable: the percentage of women involved in profession;\n",
    "independent variable: bias category\n",
    "\n",
    "The results suggest that there is a statistically significant difference between the underlying distributions of:\n",
    "\n",
    "1) the percentage of women involved in male bias professions and the percentage of women involved in female bias professions (z = -3.32, p = 8.88e-04). \n",
    "\n",
    "2) the percentage of women involved in no bias (neutral) professions and the percentage of women involved in female bias professions (z = -3.35, p = 8.04e-04).\n",
    "\n",
    "There is no statistically significant difference between the underlying distributions of the percentage of women involved in male bias professions and the percentage of women involved in no bias (neutral) professions (z = 0.83, p = 0.4)."
   ]
  },
  {
   "cell_type": "markdown",
   "metadata": {},
   "source": [
    "# Fit logistic regression model (predict female bias)"
   ]
  },
  {
   "cell_type": "code",
   "execution_count": 4,
   "metadata": {
    "collapsed": false
   },
   "outputs": [
    {
     "name": "stdout",
     "output_type": "stream",
     "text": [
      "Populating the interactive namespace from numpy and matplotlib\n"
     ]
    }
   ],
   "source": [
    "%pylab inline\n",
    "from sklearn.linear_model import LogisticRegression\n",
    "from sklearn.metrics import r2_score,confusion_matrix,classification_report\n",
    "from sklearn.cross_validation import train_test_split \n",
    "from sklearn.learning_curve import learning_curve\n",
    "from sklearn.metrics import roc_curve, auc\n",
    "from statsmodels.tools import categorical\n",
    "\n",
    "import pandas as pd\n",
    "\n",
    "from sklearn import cross_validation\n",
    "import statsmodels.api as sm\n",
    "from statsmodels.tools.tools import add_constant\n",
    "import numpy as np\n",
    "\n",
    "def reject_outliers2(data, m=2):\n",
    "    return data[abs(data - np.mean(data)) < m * np.std(data)]\n",
    "def load_data():\n",
    "    df=pd.read_csv(\"de/all_data_bias_labour_gender_all_persons.csv\",sep=\"\\t\",index_col=0)\n",
    "    df2=df[[\"labor_market_woman\",\"Bias\"]]\n",
    "    df2=df2.dropna()\n",
    "    df2.drop([\"Apothekerin\",\"Botin\",\"Bundeskanzlerin\",\"Diakonin\",\"Direktrice\",\"Politesse\",\"Hostess\",\"Magd\",\n",
    "         \"Mannequin\",\"Nonne\",\"Ordensschwester\",\"Taxifahrerin\"],inplace=True)\n",
    "    print len(df),len(df2)\n",
    "    df2[\"Bias2\"]=df2.Bias.apply(lambda x: 0 if x==\"male\" else 1 if x==\"neutral\" else 2 )\n",
    "\n",
    "\n",
    "    dff_m=reject_outliers2(df2[df2.Bias==\"male\"].labor_market_woman.values)\n",
    "    dff_f=reject_outliers2(df2[df2.Bias==\"female\"].labor_market_woman.values)\n",
    "    dff_n=reject_outliers2(df2[df2.Bias==\"neutral\"].labor_market_woman.values)\n",
    "    df_df = pd.DataFrame({'labor_market_woman':np.append(dff_m,values=np.append(dff_f,dff_n)),\n",
    "                          'Bias':[\"male\"]*len(dff_m)+[\"female\"]*len(dff_f)+[\"neutral\"]*len(dff_n)})\n",
    "    df_df[\"Bias2\"]=df_df.Bias.apply(lambda x: 0 if x==\"male\" else 1 if x==\"neutral\" else 2 )\n",
    "    return df_df\n",
    "\n",
    "def predict_model(predict_case,remove=False,train_split=True):\n",
    "    \n",
    "    df_df=load_data()\n",
    "    if remove==\"neutral\":\n",
    "        df_df=df_df[(df_df[\"Bias2\"]==0)|(df_df[\"Bias2\"]==2)]\n",
    "    elif remove==\"male\":\n",
    "        df_df=df_df[(df_df[\"Bias2\"]==1)|(df_df[\"Bias2\"]==2)]\n",
    "    df_df[\"Bias2\"]=df_df.Bias.apply(lambda x: 1 if x==predict_case else 0 )\n",
    "    \n",
    "    data = df_df[[\"labor_market_woman\",\"Bias2\"]]\n",
    "    data=sm.add_constant(data, prepend=False)\n",
    "    train_cols = data.columns[0]\n",
    "    y=data['Bias2']\n",
    "    X=data[train_cols]\n",
    "    X=sm.add_constant(X, prepend=False)\n",
    "    X=X.rename(columns = {'const':'intercept'})\n",
    "\n",
    "    #res1 = sm.MNLogit(y, X) \n",
    "    if train_split==True:\n",
    "        X_train, X_test, Y_train, Y_test = train_test_split(X, y, test_size=0.2)\n",
    "        print len(X_train), len(X_test), len(X_train) + len(X_test)\n",
    "    else:\n",
    "        X_train,Y_train=X,y\n",
    "    res1=sm.Logit(Y_train, X_train) \n",
    "    mlogit_res = res1.fit()\n",
    "    print mlogit_res.params\n",
    "    print mlogit_res.summary()\n",
    "    print mlogit_res.pred_table()\n",
    "    acc=float(sum(mlogit_res.pred_table().diagonal()))/float(len(Y_train))\n",
    "    print \"Accuracy:\",acc\n",
    "    print \"Odds:\\n\", np.exp(mlogit_res.params)\n",
    "    print \"p:\\n\", np.exp(mlogit_res.params)/(1+np.exp(mlogit_res.params))\n",
    "\n",
    "    return mlogit_res\n"
   ]
  },
  {
   "cell_type": "code",
   "execution_count": 69,
   "metadata": {
    "collapsed": false
   },
   "outputs": [
    {
     "name": "stdout",
     "output_type": "stream",
     "text": [
      "885 859\n",
      "Optimization terminated successfully.\n",
      "         Current function value: 0.014341\n",
      "         Iterations 14\n",
      "labor_market_woman     0.364305\n",
      "intercept            -35.534682\n",
      "dtype: float64\n",
      "                           Logit Regression Results                           \n",
      "==============================================================================\n",
      "Dep. Variable:                  Bias2   No. Observations:                  840\n",
      "Model:                          Logit   Df Residuals:                      838\n",
      "Method:                           MLE   Df Model:                            1\n",
      "Date:                Tue, 30 Aug 2016   Pseudo R-squ.:                  0.6064\n",
      "Time:                        20:10:22   Log-Likelihood:                -12.047\n",
      "converged:                       True   LL-Null:                       -30.605\n",
      "                                        LLR p-value:                 1.113e-09\n",
      "======================================================================================\n",
      "                         coef    std err          z      P>|z|      [95.0% Conf. Int.]\n",
      "--------------------------------------------------------------------------------------\n",
      "labor_market_woman     0.3643      0.137      2.669      0.008         0.097     0.632\n",
      "intercept            -35.5347     12.709     -2.796      0.005       -60.443   -10.626\n",
      "======================================================================================\n",
      "[[ 835.    0.]\n",
      " [   3.    2.]]\n",
      "Accuracy: 0.996428571429\n",
      "Odds:\n",
      "labor_market_woman    1.439513e+00\n",
      "intercept             3.693888e-16\n",
      "dtype: float64\n",
      "p:\n",
      "labor_market_woman    5.900822e-01\n",
      "intercept             3.693888e-16\n",
      "dtype: float64\n"
     ]
    }
   ],
   "source": [
    "df_df=load_data()\n",
    "female_pred_full=predict_model(predict_case=\"female\",train_split=False)"
   ]
  },
  {
   "cell_type": "code",
   "execution_count": 94,
   "metadata": {
    "collapsed": false
   },
   "outputs": [
    {
     "name": "stdout",
     "output_type": "stream",
     "text": [
      "probability of being in female bias group given 2% of woman in labor market:\n",
      "7.65447166167e-16\n",
      "probability of being in female bias group given 20% of woman in labor market:\n",
      "5.3925996984e-13\n",
      "probability of being in female bias group given 80% of woman in labor market:\n",
      "0.00167499434126\n",
      "probability of being in female bias group given 90% of woman in labor market:\n",
      "0.0602439875119\n",
      "probability of being in female bias group given 95% of woman in labor market:\n",
      "0.283799589728\n",
      "probability of being in female bias group given 98% of woman in labor market:\n",
      "0.54170879189\n",
      "probability of being in female bias group given 99% of woman in labor market:\n",
      "0.629839638539\n"
     ]
    }
   ],
   "source": [
    "print \"probability of being in female bias group given 2% of woman in labor market:\"\n",
    "print 1.0/(1+np.exp(-(female_pred_full.params[1]+female_pred_full.params[0]*2)))\n",
    "\n",
    "print \"probability of being in female bias group given 20% of woman in labor market:\"\n",
    "print 1.0/(1+np.exp(-(female_pred_full.params[1]+female_pred_full.params[0]*20)))\n",
    "\n",
    "print \"probability of being in female bias group given 80% of woman in labor market:\"\n",
    "print 1.0/(1+np.exp(-(female_pred_full.params[1]+female_pred_full.params[0]*80)))\n",
    "\n",
    "print \"probability of being in female bias group given 90% of woman in labor market:\"\n",
    "print 1.0/(1+np.exp(-(female_pred_full.params[1]+female_pred_full.params[0]*90)))\n",
    "\n",
    "print \"probability of being in female bias group given 95% of woman in labor market:\"\n",
    "print 1.0/(1+np.exp(-(female_pred_full.params[1]+female_pred_full.params[0]*95)))\n",
    "\n",
    "print \"probability of being in female bias group given 98% of woman in labor market:\"\n",
    "print 1.0/(1+np.exp(-(female_pred_full.params[1]+female_pred_full.params[0]*98)))\n",
    "\n",
    "print \"probability of being in female bias group given 99% of woman in labor market:\"\n",
    "print 1.0/(1+np.exp(-(female_pred_full.params[1]+female_pred_full.params[0]*99)))"
   ]
  },
  {
   "cell_type": "code",
   "execution_count": 207,
   "metadata": {
    "collapsed": false
   },
   "outputs": [
    {
     "name": "stdout",
     "output_type": "stream",
     "text": [
      "885 859\n",
      "672 168 840\n",
      "Optimization terminated successfully.\n",
      "         Current function value: 0.017014\n",
      "         Iterations 14\n",
      "labor_market_woman     0.344288\n",
      "intercept            -33.503123\n",
      "dtype: float64\n",
      "                           Logit Regression Results                           \n",
      "==============================================================================\n",
      "Dep. Variable:                  Bias2   No. Observations:                  672\n",
      "Model:                          Logit   Df Residuals:                      670\n",
      "Method:                           MLE   Df Model:                            1\n",
      "Date:                Tue, 30 Aug 2016   Pseudo R-squ.:                  0.6122\n",
      "Time:                        01:21:33   Log-Likelihood:                -11.433\n",
      "converged:                       True   LL-Null:                       -29.485\n",
      "                                        LLR p-value:                 1.871e-09\n",
      "======================================================================================\n",
      "                         coef    std err          z      P>|z|      [95.0% Conf. Int.]\n",
      "--------------------------------------------------------------------------------------\n",
      "labor_market_woman     0.3443      0.128      2.683      0.007         0.093     0.596\n",
      "intercept            -33.5031     11.941     -2.806      0.005       -56.908   -10.098\n",
      "======================================================================================\n",
      "[[ 667.    0.]\n",
      " [   3.    2.]]\n",
      "Accuracy: 0.995535714286\n",
      "Odds:\n",
      "labor_market_woman    1.410984e+00\n",
      "intercept             2.816945e-15\n",
      "dtype: float64\n",
      "p:\n",
      "labor_market_woman    5.852317e-01\n",
      "intercept             2.816945e-15\n",
      "dtype: float64\n"
     ]
    }
   ],
   "source": [
    "#use only 80% of data\n",
    "fem_pred=predict_model(predict_case=\"female\")"
   ]
  },
  {
   "cell_type": "markdown",
   "metadata": {},
   "source": [
    "## consider in neutral group only professions with 2 articles"
   ]
  },
  {
   "cell_type": "code",
   "execution_count": 10,
   "metadata": {
    "collapsed": false
   },
   "outputs": [
    {
     "data": {
      "image/png": "[encoded data removed]",
      "text/plain": [
       "<matplotlib.figure.Figure at 0x1f2b7668>"
      ]
     },
     "metadata": {},
     "output_type": "display_data"
    }
   ],
   "source": [
    "f_df2=all_together[all_together.page_exist==\"only female\"].Frauen\n",
    "m_df2=all_together[all_together.page_exist==\"only male\"].Frauen\n",
    "n_df2=all_together[all_together.page_exist==\"female&male\"].Frauen\n",
    "pyplot.boxplot([f_df2,n_df2,m_df2])\n",
    "pyplot.xticks([1,2,3],[\"female bias\\n[n={}]\".format(len(f_df2)),\"no bias(female&male page)\\n[n={}]\".format(len(n_df2)),\"male bias\\n[n={}]\".format(len(m_df2))])\n",
    "pyplot.ylabel(\"women in labour market, %\")\n",
    "#pyplot.xlabel(\"Profession labels of Wiki pages\")\n",
    "pyplot.show()"
   ]
  },
  {
   "cell_type": "code",
   "execution_count": 19,
   "metadata": {
    "collapsed": false
   },
   "outputs": [
    {
     "name": "stdout",
     "output_type": "stream",
     "text": [
      "MWW RankSum P for male and female distributions = 0.000888464276433 z_stat= -3.32365376474\n",
      "MWW RankSum P for male and neutral distributions = 0.0847385046498 z_stat= -1.72383017978\n",
      "MWW RankSum P for neutral and female distributions = 0.0148867238335 z_stat= -2.43512311011\n",
      "MWW RankSum P for all together and female distributions = 0.000982283024057 z_stat= -3.29555262954\n",
      "MWW RankSum P for all together and neutral distributions = 0.0980107548006 z_stat= -1.65457491801\n",
      "MWW RankSum P for all together and male distributions = 0.726986270702 z_stat= 0.349137252466\n"
     ]
    }
   ],
   "source": [
    " z_stat, p_val = stats.ranksums(m_, f_)   \n",
    "print \"MWW RankSum P for male and female distributions =\", p_val , \"z_stat=\",z_stat\n",
    "z_stat, p_val = stats.ranksums(m_, n_)  \n",
    "print \"MWW RankSum P for male and neutral distributions =\", p_val ,\"z_stat=\",z_stat\n",
    "z_stat, p_val = stats.ranksums(n_, f_)  \n",
    "print \"MWW RankSum P for neutral and female distributions =\", p_val  , \"z_stat=\",z_stat\n",
    "z_stat, p_val = stats.ranksums(n_+m_+f_, f_)  \n",
    "print \"MWW RankSum P for all together and female distributions =\", p_val , \"z_stat=\",z_stat\n",
    "z_stat, p_val = stats.ranksums(n_+f_+m_, n_)  \n",
    "print \"MWW RankSum P for all together and neutral distributions =\", p_val , \"z_stat=\",z_stat\n",
    "z_stat, p_val = stats.ranksums(n_+f_+m_, m_)  \n",
    "print \"MWW RankSum P for all together and male distributions =\", p_val , \"z_stat=\",z_stat"
   ]
  },
  {
   "cell_type": "markdown",
   "metadata": {},
   "source": [
    "| | p-val | z |\n",
    "| :-|:-:|:-:|\n",
    "| male bias & female bias |    9.42e-04     |    -3.32    | \n",
    "| male bias & neutral |     0.084     |    -1.72    |  \n",
    "| neutral & female bias |     0.015     |      -2.43    | \n",
    "\n",
    "| all_together & female bias |     9.84e-04    |     -3.29    | \n",
    "| all_together & neutral |     0.098    |     -1.65    | \n",
    "| all_together & male bias |     0.727    |     0.35    | \n"
   ]
  },
  {
   "cell_type": "markdown",
   "metadata": {},
   "source": [
    "We can reject null hypothesis for pairs male-female,neutral-female and all_together-female, i.e., two distributions are significantly different. In other words female professions that are represented in Wikipedia has significantly different distribution of involved in profession women. "
   ]
  },
  {
   "cell_type": "markdown",
   "metadata": {},
   "source": [
    "# 2nd VARIANT ====>  Group articles by gender of title"
   ]
  },
  {
   "cell_type": "code",
   "execution_count": 63,
   "metadata": {
    "collapsed": false,
    "scrolled": true
   },
   "outputs": [],
   "source": [
    "all_together = pd.concat([n_df,n_n_df,f_df,m_df],ignore_index=True)\n",
    "f_val=load_simple_json('de/wiki/f_page_validated.json')\n",
    "f_amb=load_simple_json('de/wiki/f_page_ambigious.json')\n",
    "n_pages=load_simple_json('de/wiki/n_page_validated.json')\n",
    "n_pages_lev=load_simple_json('de/wiki/m_neutral_lev.json')\n",
    "\n",
    "words=load_simple_json('de/occupation_all.json')\n",
    "words_revert={words[i][1]:i for i in words}#feminine:masculine\n",
    "f_val_m=[]\n",
    "f_val_m_onlyval=[]\n",
    "for i in f_val:\n",
    "    f_val_m.append(words_revert[i])\n",
    "    f_val_m_onlyval.append(words_revert[i])\n",
    "for i in f_amb:\n",
    "    f_val_m.append(words_revert[i])\n",
    "all_together.loc[all_together[\"name\"].isin(n_pages),\"label\"]=\"neutral\"\n",
    "all_together.loc[all_together[\"name\"].isin(n_pages_lev.keys()),\"label\"]=\"neutral\"\n",
    "all_together.loc[all_together[\"name\"].isin(f_val_m),\"label\"]=\"female\"\n",
    "all_together.loc[all_together[\"name\"].isin(m_df.name.values),\"label\"]=\"male\"\n",
    "#m_all_df=all_together[all_together.page_exist.isin([\"only male\",\"female&male\"])]#811\n",
    "#m_all_df.loc[:,\"label\"]=\"male\"\n",
    "m_f_df=all_together[all_together.page_exist==\"female&male\"]#12\n",
    "m_f_df.loc[:,\"label\"]=\"male\"\n",
    "all_df=pd.concat([all_together,m_f_df],ignore_index=True)#871\n",
    "all_df.to_csv('de/labour_market_for_all_pages.csv', sep='\\t', encoding='utf-8')"
   ]
  },
  {
   "cell_type": "code",
   "execution_count": 49,
   "metadata": {
    "collapsed": true
   },
   "outputs": [],
   "source": [
    "f_=all_df[all_df[\"label\"]==\"female\"].Frauen.tolist()\n",
    "f_onlyval=all_together[all_together[\"name\"].isin(f_val_m_onlyval)].Frauen.tolist() #f_val_m_onlyval\n",
    "n_=all_df[all_df[\"label\"]==\"neutral\"].Frauen.tolist()\n",
    "m_=all_df[all_df[\"label\"]==\"male\"].Frauen.tolist()"
   ]
  },
  {
   "cell_type": "code",
   "execution_count": 52,
   "metadata": {
    "collapsed": false
   },
   "outputs": [
    {
     "data": {
      "image/png": "[encoded data removed]",
      "text/plain": [
       "<matplotlib.figure.Figure at 0x1dd0dd68>"
      ]
     },
     "metadata": {},
     "output_type": "display_data"
    }
   ],
   "source": [
    "f_df2=all_df[all_df[\"label\"]==\"female\"].Frauen\n",
    "m_df2=all_df[all_df[\"label\"]==\"male\"].Frauen\n",
    "n_df2=all_df[all_df[\"label\"]==\"neutral\"].Frauen\n",
    "pyplot.boxplot([f_df2,n_df2,m_df2])\n",
    "pyplot.xticks([1,2,3],[\"female\\n[n={0}]\".format(len(f_df2)),\"neutral\\n[n={0}]\".format(len(n_df2)),\"male\\n[n={0}]\".format(len(m_df2))])\n",
    "pyplot.ylabel(\"women in labour market, %\")\n",
    "pyplot.xlabel(\"Gender of profession name of Wiki article\")\n",
    "pyplot.show()"
   ]
  },
  {
   "cell_type": "code",
   "execution_count": 53,
   "metadata": {
    "collapsed": false
   },
   "outputs": [
    {
     "data": {
      "text/plain": [
       "<matplotlib.axes._subplots.AxesSubplot at 0x1dd0d160>"
      ]
     },
     "execution_count": 53,
     "metadata": {},
     "output_type": "execute_result"
    },
    {
     "data": {
      "image/png": "[encoded data removed]",
      "text/plain": [
       "<matplotlib.figure.Figure at 0x1dd0da90>"
      ]
     },
     "metadata": {},
     "output_type": "display_data"
    }
   ],
   "source": [
    "sns.distplot(m_)"
   ]
  },
  {
   "cell_type": "code",
   "execution_count": 54,
   "metadata": {
    "collapsed": false
   },
   "outputs": [
    {
     "data": {
      "text/plain": [
       "<matplotlib.axes._subplots.AxesSubplot at 0x23d020f0>"
      ]
     },
     "execution_count": 54,
     "metadata": {},
     "output_type": "execute_result"
    },
    {
     "data": {
      "image/png": "[encoded data removed]",
      "text/plain": [
       "<matplotlib.figure.Figure at 0x23cf8c18>"
      ]
     },
     "metadata": {},
     "output_type": "display_data"
    }
   ],
   "source": [
    "sns.distplot(n_)"
   ]
  },
  {
   "cell_type": "code",
   "execution_count": 55,
   "metadata": {
    "collapsed": false
   },
   "outputs": [
    {
     "data": {
      "text/plain": [
       "<matplotlib.axes._subplots.AxesSubplot at 0x23edcdd8>"
      ]
     },
     "execution_count": 55,
     "metadata": {},
     "output_type": "execute_result"
    },
    {
     "data": {
      "image/png": "[encoded data removed]",
      "text/plain": [
       "<matplotlib.figure.Figure at 0x23edc940>"
      ]
     },
     "metadata": {},
     "output_type": "display_data"
    }
   ],
   "source": [
    "sns.distplot(f_)"
   ]
  },
  {
   "cell_type": "code",
   "execution_count": 56,
   "metadata": {
    "collapsed": false
   },
   "outputs": [
    {
     "data": {
      "text/plain": [
       "<matplotlib.axes._subplots.AxesSubplot at 0x23cf8a20>"
      ]
     },
     "execution_count": 56,
     "metadata": {},
     "output_type": "execute_result"
    },
    {
     "data": {
      "image/png": "[encoded data removed]",
      "text/plain": [
       "<matplotlib.figure.Figure at 0x240dd518>"
      ]
     },
     "metadata": {},
     "output_type": "display_data"
    }
   ],
   "source": [
    "sns.distplot(f_+m_+n_)"
   ]
  },
  {
   "cell_type": "markdown",
   "metadata": {
    "collapsed": true
   },
   "source": [
    "### All data for Germany. Distribution of involved women"
   ]
  },
  {
   "cell_type": "code",
   "execution_count": 57,
   "metadata": {
    "collapsed": false
   },
   "outputs": [
    {
     "data": {
      "text/plain": [
       "<matplotlib.axes._subplots.AxesSubplot at 0x22cdb358>"
      ]
     },
     "execution_count": 57,
     "metadata": {},
     "output_type": "execute_result"
    },
    {
     "data": {
      "image/png": "[encoded data removed]",
      "text/plain": [
       "<matplotlib.figure.Figure at 0x2339ce80>"
      ]
     },
     "metadata": {},
     "output_type": "display_data"
    }
   ],
   "source": [
    "df_all_subgroups=pd.read_csv(\"de/labourmarket_subgroups.csv\",sep='\\t', encoding='utf-8',index_col=0)\n",
    "all_frauen_ratio=df_all_subgroups.Frauen_ratio.values\n",
    "sns.distplot(all_frauen_ratio)"
   ]
  },
  {
   "cell_type": "markdown",
   "metadata": {},
   "source": [
    "# Tests of Significance"
   ]
  },
  {
   "cell_type": "markdown",
   "metadata": {},
   "source": [
    "The null hypothesis is that all instances of X and Y are independent and identically distributed (iid).\n",
    "\n",
    "Let us take as the alternate hypothesis that (a) all instances of X are iid according to some underlying distribution F_X and (b) all instances of Y are iid according to some underlying distribution F_Y but (c) F_X differs from F_Y. "
   ]
  },
  {
   "cell_type": "markdown",
   "metadata": {},
   "source": [
    "Mann-Whitney-Wilcoxon (MWW) RankSum test\n",
    "The MWW RankSum test is a useful test to determine if two distributions are significantly different or not."
   ]
  },
  {
   "cell_type": "code",
   "execution_count": 59,
   "metadata": {
    "collapsed": false
   },
   "outputs": [
    {
     "name": "stdout",
     "output_type": "stream",
     "text": [
      "MWW RankSum P for male and female distributions = 0.00102121367586 z_stat= -3.28461622826\n",
      "MWW RankSum P for male and neutral distributions = 0.0557839582946 z_stat= 1.91271960265\n",
      "MWW RankSum P for neutral and female distributions = 0.000207128266371 z_stat= -3.7101600418\n",
      "MWW RankSum P for all together and female distributions = 0.00106014461881 z_stat= -3.27405903129\n",
      "MWW RankSum P for all together and neutral distributions = 0.0546253733428 z_stat= 1.92184413219\n",
      "MWW RankSum P for all together and male distributions = 0.974152243293 z_stat= 0.0324010272497\n"
     ]
    }
   ],
   "source": [
    "from scipy import stats  \n",
    "  \n",
    "z_stat, p_val = stats.ranksums(m_, f_)  \n",
    "print \"MWW RankSum P for male and female distributions =\", p_val , \"z_stat=\",z_stat\n",
    "z_stat, p_val = stats.ranksums(m_, n_)  \n",
    "print \"MWW RankSum P for male and neutral distributions =\", p_val , \"z_stat=\",z_stat\n",
    "z_stat, p_val = stats.ranksums(n_, f_)  \n",
    "print \"MWW RankSum P for neutral and female distributions =\", p_val , \"z_stat=\",z_stat\n",
    "z_stat, p_val = stats.ranksums(n_+m_+f_, f_)  \n",
    "print \"MWW RankSum P for all together and female distributions =\", p_val , \"z_stat=\",z_stat\n",
    "z_stat, p_val = stats.ranksums(n_+f_+m_, n_)  \n",
    "print \"MWW RankSum P for all together and neutral distributions =\", p_val , \"z_stat=\",z_stat\n",
    "z_stat, p_val = stats.ranksums(n_+f_+m_, m_)  \n",
    "print \"MWW RankSum P for all together and male distributions =\", p_val , \"z_stat=\",z_stat"
   ]
  },
  {
   "cell_type": "code",
   "execution_count": 61,
   "metadata": {
    "collapsed": false
   },
   "outputs": [
    {
     "name": "stdout",
     "output_type": "stream",
     "text": [
      "MWW RankSum P for those that have wikipedia page and all Germany labour market distributions = 0.492401303559 z_stat= 0.686494544192\n",
      "MWW RankSum P for those that have female wikipedia page and all Germany labour market distributions = 0.000750774810638 z_stat= 3.37033269226\n",
      "MWW RankSum P for those that have male wikipedia page and all Germany labour market distributions = 0.518994425105 z_stat= 0.644896245275\n",
      "MWW RankSum P for those that have neutral wikipedia page and all Germany labour market distributions = 0.0963858092114 z_stat= -1.6626335592\n"
     ]
    }
   ],
   "source": [
    "z_stat, p_val = stats.ranksums(n_+f_+m_, all_frauen_ratio)  \n",
    "print \"MWW RankSum P for those that have wikipedia page and all Germany labour market distributions =\", p_val , \"z_stat=\",z_stat\n",
    "z_stat, p_val = stats.ranksums(f_, all_frauen_ratio)  \n",
    "print \"MWW RankSum P for those that have female wikipedia page and all Germany labour market distributions =\", p_val , \"z_stat=\",z_stat\n",
    "z_stat, p_val = stats.ranksums(m_, all_frauen_ratio)  \n",
    "print \"MWW RankSum P for those that have male wikipedia page and all Germany labour market distributions =\", p_val , \"z_stat=\",z_stat\n",
    "z_stat, p_val = stats.ranksums(n_, all_frauen_ratio)  \n",
    "print \"MWW RankSum P for those that have neutral wikipedia page and all Germany labour market distributions =\", p_val , \"z_stat=\",z_stat\n"
   ]
  },
  {
   "cell_type": "markdown",
   "metadata": {},
   "source": [
    "|pair  | p-val | z |\n",
    "| :-|:-:|:-:|\n",
    "| male & female |    0.001     |    -3.28    | \n",
    "| male & neutral |     0.056     |    1.91    |  \n",
    "| neutral & female |     2.07e-04     |      -3.71    | \n",
    "| all_that_have_Wiki_page & female |     0.001    |     -3.27    | \n",
    "| all_that_have_Wiki_page & neutral |     0.055    |     1.92    | \n",
    "| all_that_have_Wiki_page & male |     0.974    |     0.03    | \n",
    "| all_that_have_Wiki_page & German labor market |     0.492    |     0.69    | \n",
    "| female & German labor market |     7.50e-04    |     3.37    | \n",
    "| male & German labor market |     0.51    |     0.64    | \n",
    "| neutral & German labor market |     0.096    |     -1.66    | "
   ]
  },
  {
   "cell_type": "markdown",
   "metadata": {},
   "source": [
    "|pair  | p-val | z |\n",
    "| :-|:-:|:-:|\n",
    "| male & female |    0.001     |    -3.28    | \n",
    "| male & neutral |     0.056     |    1.91    |  \n",
    "| neutral & female |     2.07e-04     |      -3.71    | \n",
    "| all_that_have_Wiki_page & German labor market |     0.492    |     0.69    | \n",
    "| female & German labor market |     7.50e-04    |     3.37    | \n",
    "| male & German labor market |     0.51    |     0.64    | \n",
    "| neutral & German labor market |     0.096    |     -1.66    | "
   ]
  },
  {
   "cell_type": "markdown",
   "metadata": {
    "collapsed": true
   },
   "source": [
    "# the Kolmogorov-Smirnov test"
   ]
  },
  {
   "cell_type": "code",
   "execution_count": 62,
   "metadata": {
    "collapsed": false
   },
   "outputs": [
    {
     "name": "stdout",
     "output_type": "stream",
     "text": [
      "Ks_2sampResult(statistic=0.20788562033938118, pvalue=0.054473445111893663)\n",
      "Ks_2sampResult(statistic=0.3867653103164817, pvalue=0.0070933955390278169)\n",
      "Ks_2sampResult(statistic=0.5, pvalue=0.0021245199617610125)\n",
      "Ks_2sampResult(statistic=0.0048076038285288503, pvalue=1.0000000000000002)\n",
      "Ks_2sampResult(statistic=0.38423268274014549, pvalue=0.0075745918499930624)\n",
      "Ks_2sampResult(statistic=0.20307801651085233, pvalue=0.063497984844993915)\n"
     ]
    }
   ],
   "source": [
    "from scipy.stats import ks_2samp,ttest_1samp,kstest\n",
    "print ks_2samp(m_, n_)\n",
    "print ks_2samp(m_, f_)\n",
    "print ks_2samp(f_, n_)\n",
    "print ks_2samp(m_+n_+f_, m_)\n",
    "print ks_2samp(m_+n_+f_, f_)\n",
    "print ks_2samp(m_+n_+f_, n_)"
   ]
  }
 ],
 "metadata": {
  "kernelspec": {
   "display_name": "Python 2",
   "language": "python",
   "name": "python2"
  },
  "language_info": {
   "codemirror_mode": {
    "name": "ipython",
    "version": 2
   },
   "file_extension": ".py",
   "mimetype": "text/x-python",
   "name": "python",
   "nbconvert_exporter": "python",
   "pygments_lexer": "ipython2",
   "version": "2.7.11"
  }
 },
 "nbformat": 4,
 "nbformat_minor": 0
}
