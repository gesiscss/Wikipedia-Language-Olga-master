{
 "cells": [
  {
   "cell_type": "markdown",
   "metadata": {},
   "source": [
    "# Logistic regression"
   ]
  },
  {
   "cell_type": "code",
   "execution_count": 187,
   "metadata": {
    "collapsed": false,
    "scrolled": true
   },
   "outputs": [],
   "source": [
    "%pylab inline\n",
    "import pandas as pd\n",
    "import numpy as np\n",
    "\n",
    "def calculate_norm_dif(x):\n",
    "    i=x.decode(\"utf8\")\n",
    "    sum_m_f=float(int(googlenumber[i][0])+int(googlenumber[i][1]))\n",
    "    return (float(googlenumber[i][0])-float(googlenumber[i][1]))/sum_m_f if sum_m_f!=0 else 0\n",
    "def reject_outliers2(data, m=2):\n",
    "    return data[abs(data - np.mean(data)) < m * np.std(data)]\n",
    "def check_outlier(x,mean,std):\n",
    "    if abs(x - mean) < 2.0 * std :\n",
    "        return x\n",
    "\n",
    "def load_data(bias=True):\n",
    "    df=pd.read_csv(\"de/all_data_bias_labour_gender_all_persons.csv\",sep=\"\\t\",index_col=0)\n",
    "    df2=df[[\"labor_market_woman\",\"Bias\"]]\n",
    "    df2=df2.dropna()\n",
    "    df2.drop([\"Apothekerin\",\"Botin\",\"Bundeskanzlerin\",\"Diakonin\",\"Direktrice\",\"Politesse\",\"Hostess\",\"Magd\",\n",
    "         \"Mannequin\",\"Nonne\",\"Ordensschwester\",\"Taxifahrerin\"],inplace=True)\n",
    "    print len(df),len(df2)\n",
    "    df2[\"Bias2\"]=df2.Bias.apply(lambda x: 0 if x==\"male\" else 1 if x==\"neutral\" else 2 )\n",
    "    df2[\"WikiName\"]=df2.index\n",
    "    page_name=pd.DataFrame.from_csv(\"de/wiki/all_wiki_pages.csv\",sep=\"\\t\")\n",
    "    page_name=page_name.drop(\"Bias\",1)\n",
    "    df2=pd.merge(df2,page_name, on=\"WikiName\",how=\"inner\",right_index=True)#.drop_columns(\"Bias_y\")\n",
    "    df2[\"Profession_name\"]=df2.apply(lambda x:  x.Oppositgender if x.Bias==\"female\" else x.Name,axis=1)\n",
    "    df2[\"NormalizedGoogleDif\"]=df2.Profession_name.apply(lambda x: calculate_norm_dif(x) if googlenumber.has_key(x.decode(\"utf8\")) else None)\n",
    "    df2=df2[~df2.NormalizedGoogleDif.isnull()] \n",
    "    if bias:\n",
    "        df2[\"l_m_without_outliers\"]=df2.apply(lambda x: check_outlier(x.labor_market_woman,\n",
    "                                            df2[df2.Bias2==x.Bias2].labor_market_woman.mean(),\n",
    "                                         df2[df2.Bias2==x.Bias2].labor_market_woman.std()) ,axis=1)\n",
    "        df2[\"NormalizedGoogleDif2\"]=df2.apply(lambda x: check_outlier(x.NormalizedGoogleDif,\n",
    "                                            df2[df2.Bias2==x.Bias2].NormalizedGoogleDif.mean(),\n",
    "                                         df2[df2.Bias2==x.Bias2].NormalizedGoogleDif.std()) ,axis=1)\n",
    "    else:\n",
    "        df2[\"l_m_without_outliers\"]=df2.apply(lambda x: check_outlier(x.labor_market_woman,\n",
    "                                            np.mean(df2[df2.Bias2==x.Bias2].labor_market_woman.values),\n",
    "                                         np.std(df2[df2.Bias2==x.Bias2].labor_market_woman.values)) ,axis=1)\n",
    "        df2[\"NormalizedGoogleDif2\"]=df2.apply(lambda x: check_outlier(x.NormalizedGoogleDif,\n",
    "                                            np.mean(df2[df2.Bias2==x.Bias2].NormalizedGoogleDif.values),\n",
    "                                         np.std(df2[df2.Bias2==x.Bias2].NormalizedGoogleDif.values)) ,axis=1)\n",
    "    df2=df2[(~df2.l_m_without_outliers.isnull())&(~df2.NormalizedGoogleDif2.isnull())]\n",
    "    df2.to_csv(\"de/predict_GoogleDif_labor_market.csv\")\n",
    "    return df2\n",
    "\n",
    "\n",
    "#print abs(32.042925 - df2[df2.Bias2==2].labor_market_woman.mean())\n",
    "#print abs(32.042925 - np.mean(df2[df2.Bias2==2].labor_market_woman.values))\n",
    "#print 2 * df2[df2.Bias2==2].labor_market_woman.std()\n",
    "#print 2 * np.std(df2[df2.Bias2==2].labor_market_woman.values)\n",
    "\n",
    "\n",
    "#Male bias: 812 , Female bias: 6 , No bias: 19 All: 837"
   ]
  },
  {
   "cell_type": "code",
   "execution_count": 127,
   "metadata": {
    "collapsed": false
   },
   "outputs": [
    {
     "name": "stdout",
     "output_type": "stream",
     "text": [
      "Populating the interactive namespace from numpy and matplotlib\n"
     ]
    }
   ],
   "source": [
    "%pylab inline\n",
    "from sklearn.linear_model import LogisticRegression\n",
    "from sklearn.metrics import r2_score,confusion_matrix,classification_report\n",
    "from sklearn.cross_validation import train_test_split \n",
    "from sklearn import cross_validation\n",
    "from sklearn.learning_curve import learning_curve\n",
    "from sklearn.metrics import roc_curve, auc\n",
    "from statsmodels.tools import categorical\n",
    "from statsmodels.tools.tools import add_constant\n",
    "import statsmodels.api as sm\n",
    "\n",
    "import pandas as pd\n",
    "import numpy as np\n",
    "\n",
    "\n",
    "def predict_model(df_df,predict_case,remove=False,train_split=True):\n",
    "    \n",
    "    \n",
    "    if remove==\"neutral\":\n",
    "        df_df=df_df[(df_df[\"Bias2\"]==0)|(df_df[\"Bias2\"]==2)]\n",
    "    elif remove==\"male\":\n",
    "        df_df=df_df[(df_df[\"Bias2\"]==1)|(df_df[\"Bias2\"]==2)]\n",
    "    df_df[\"Bias2\"]=df_df.Bias.apply(lambda x: 1 if x==predict_case else 0 )\n",
    "    \n",
    "    data = df_df[[\"l_m_without_outliers\",\"NormalizedGoogleDif2\",\"Bias2\"]]\n",
    "    data=sm.add_constant(data, prepend=False)\n",
    "    \n",
    "    y=data['Bias2']\n",
    "    X=data[[\"l_m_without_outliers\",\"NormalizedGoogleDif2\"]]\n",
    "    X=sm.add_constant(X, prepend=False)\n",
    "    X=X.rename(columns = {'const':'intercept'})\n",
    " \n",
    "    if train_split==True:\n",
    "        X_train, X_test, Y_train, Y_test = train_test_split(X, y, test_size=0.2)\n",
    "        print len(X_train), len(X_test), len(X_train) + len(X_test)\n",
    "    else:\n",
    "        X_train,Y_train=X,y\n",
    "    res1=sm.Logit(Y_train, X_train) \n",
    "    mlogit_res = res1.fit()\n",
    "    print mlogit_res.params\n",
    "    print mlogit_res.summary()\n",
    "    print mlogit_res.pred_table()\n",
    "    acc=float(sum(mlogit_res.pred_table().diagonal()))/float(len(Y_train))\n",
    "    print \"Accuracy:\",acc\n",
    "    print \"Odds:\\n\", np.exp(mlogit_res.params)\n",
    "    print \"p:\\n\", np.exp(mlogit_res.params)/(1+np.exp(mlogit_res.params))\n",
    "\n",
    "    return mlogit_res,data,X_train,Y_train\n"
   ]
  },
  {
   "cell_type": "code",
   "execution_count": 188,
   "metadata": {
    "collapsed": false
   },
   "outputs": [
    {
     "name": "stdout",
     "output_type": "stream",
     "text": [
      "885 859\n"
     ]
    }
   ],
   "source": [
    "df_df=load_data(bias=False)"
   ]
  },
  {
   "cell_type": "code",
   "execution_count": 165,
   "metadata": {
    "collapsed": false
   },
   "outputs": [
    {
     "name": "stdout",
     "output_type": "stream",
     "text": [
      "Coef: [  1.02744038 -49.83521435]  intercept: -97.5001883706\n",
      "Standard errors:  [ 88.35911882   0.935471    46.33579888]\n",
      "Wald statistics:  [ 1.21760986  1.20629242  1.15674958]\n",
      "p_val coef 0.272067642664\n",
      "p_val coef 0.282140670121\n",
      "p_val intercep 0.269830227941\n",
      "17.4783600338\n",
      "0.446604088382\n",
      "t = 1.09831344569\n",
      "p_val: 0.272067642664\n",
      "CI:\n",
      "-0.806082785158 2.86096354625\n"
     ]
    },
    {
     "name": "stderr",
     "output_type": "stream",
     "text": [
      "C:\\Anaconda\\lib\\site-packages\\ipykernel\\__main__.py:7: SettingWithCopyWarning: \n",
      "A value is trying to be set on a copy of a slice from a DataFrame.\n",
      "Try using .loc[row_indexer,col_indexer] = value instead\n",
      "\n",
      "See the caveats in the documentation: http://pandas.pydata.org/pandas-docs/stable/indexing.html#indexing-view-versus-copy\n"
     ]
    }
   ],
   "source": [
    "import scikits.bootstrap as boot\n",
    "from sklearn.linear_model import LogisticRegression\n",
    "#====== predict female!!!!!    \n",
    "\n",
    "#data = df_df[(df_df[\"Bias2\"]==1)|(df_df[\"Bias2\"]==2)]\n",
    "data=df_df[[\"l_m_without_outliers\",\"NormalizedGoogleDif2\",\"Bias2\",\"Bias\"]]\n",
    "data[\"Bias2\"]=data.Bias.apply(lambda x: 1 if x==\"female\" else 0 )\n",
    "\n",
    "\n",
    "\n",
    "y=data['Bias2'].values.reshape((len(data),1))\n",
    "X=data[[\"l_m_without_outliers\",\"NormalizedGoogleDif2\"]].values.reshape((len(data),2))\n",
    "\n",
    "X_train=X[:,:]\n",
    "Y_train=y[:,:]\n",
    "model = LogisticRegression(C=1e5)\n",
    "model = model.fit(X_train,Y_train.ravel())\n",
    "print \"Coef:\", model.coef_[0],\" intercept:\",model.intercept_[0]\n",
    "ci_p_val_z_score_scikit(model,X_train)"
   ]
  },
  {
   "cell_type": "code",
   "execution_count": 167,
   "metadata": {
    "collapsed": false,
    "scrolled": true
   },
   "outputs": [
    {
     "name": "stdout",
     "output_type": "stream",
     "text": [
      "===== new fold\n",
      "Coef: [  0.43528202 -16.9167843 ]  intercept: -42.2548250784\n",
      "1.0\n"
     ]
    },
    {
     "data": {
      "image/png": "[encoded data removed]",
      "text/plain": [
       "<matplotlib.figure.Figure at 0xefe0e10>"
      ]
     },
     "metadata": {},
     "output_type": "display_data"
    },
    {
     "name": "stdout",
     "output_type": "stream",
     "text": [
      "[[685   0]\n",
      " [  0   4]]\n",
      "Standard errors:  [ 45.30949776   0.49027428  20.7849941 ]\n",
      "Wald statistics:  [ 0.86970931  0.78824865  0.66242362]\n",
      "p_val coef 0.374630221367\n",
      "p_val coef 0.415705614477\n",
      "p_val intercep 0.351035795972\n",
      "4.03989871056\n",
      "0.591167683608\n",
      "t = 0.887833683349\n",
      "p_val: 0.374630221367\n",
      "CI:\n",
      "-0.525655573211 1.39621962002\n",
      "===== new fold\n",
      "Coef: [  1.00158705 -48.68718032]  intercept: -95.0777151303\n",
      "1.0\n"
     ]
    },
    {
     "data": {
      "image/png": "[encoded data removed]",
      "text/plain": [
       "<matplotlib.figure.Figure at 0xf3aadd8>"
      ]
     },
     "metadata": {},
     "output_type": "display_data"
    },
    {
     "name": "stdout",
     "output_type": "stream",
     "text": [
      "[[685   0]\n",
      " [  0   5]]\n",
      "Standard errors:  [ 85.79928163   0.90780403  45.23539282]\n",
      "Wald statistics:  [ 1.22797682  1.21728758  1.15843725]\n",
      "p_val coef 0.269893623417\n",
      "p_val coef 0.281789876433\n",
      "p_val intercep 0.267800859175\n",
      "16.1332595318\n",
      "0.459457493774\n",
      "t = 1.10330756288\n",
      "p_val: 0.269893623417\n",
      "CI:\n",
      "-0.777708846853 2.78088295057\n",
      "===== new fold\n",
      "Coef: [  0.95243838 -46.14233386]  intercept: -90.3996132045\n",
      "1.0\n"
     ]
    },
    {
     "data": {
      "image/png": "[encoded data removed]",
      "text/plain": [
       "<matplotlib.figure.Figure at 0xedd5da0>"
      ]
     },
     "metadata": {},
     "output_type": "display_data"
    },
    {
     "name": "stdout",
     "output_type": "stream",
     "text": [
      "[[686   0]\n",
      " [  0   4]]\n",
      "Standard errors:  [ 80.98230323   0.85745191  42.49562544]\n",
      "Wald statistics:  [ 1.2461      1.23382689  1.17899147]\n",
      "p_val coef 0.266664087466\n",
      "p_val coef 0.277561407579\n",
      "p_val intercep 0.264298665704\n",
      "13.9160678176\n",
      "0.48279296339\n",
      "t = 1.11077760717\n",
      "p_val: 0.266664087466\n",
      "CI:\n",
      "-0.728167364451 2.63304413063\n",
      "===== new fold\n",
      "Coef: [  1.0277503  -49.82434586]  intercept: -97.524296091\n",
      "1.0\n"
     ]
    },
    {
     "data": {
      "image/png": "[encoded data removed]",
      "text/plain": [
       "<matplotlib.figure.Figure at 0xf027438>"
      ]
     },
     "metadata": {},
     "output_type": "display_data"
    },
    {
     "name": "stdout",
     "output_type": "stream",
     "text": [
      "[[686   0]\n",
      " [  0   5]]\n",
      "Standard errors:  [ 88.40651676   0.93608812  46.3111043 ]\n",
      "Wald statistics:  [ 1.21690616  1.20542935  1.15747851]\n",
      "p_val coef 0.272239220122\n",
      "p_val coef 0.2819890893\n",
      "p_val intercep 0.269968674976\n",
      "17.5049379606\n",
      "0.446202494313\n",
      "t = 1.09792046652\n",
      "p_val: 0.272239220122\n",
      "CI:\n",
      "-0.806982406875 2.8624830103\n",
      "===== new fold\n",
      "Coef: [  1.0987799  -53.34944793]  intercept: -104.255206015\n",
      "1.0\n"
     ]
    },
    {
     "data": {
      "image/png": "[encoded data removed]",
      "text/plain": [
       "<matplotlib.figure.Figure at 0xf352780>"
      ]
     },
     "metadata": {},
     "output_type": "display_data"
    },
    {
     "name": "stdout",
     "output_type": "stream",
     "text": [
      "[[686   0]\n",
      " [  0   5]]\n",
      "Standard errors:  [ 96.12861978   1.01765179  50.38927064]\n",
      "Wald statistics:  [ 1.17622414  1.1657972   1.12094348]\n",
      "p_val coef 0.28026648812\n",
      "p_val coef 0.289715389168\n",
      "p_val intercep 0.278126028348\n",
      "22.0514289356\n",
      "0.4082736533\n",
      "t = 1.07972089096\n",
      "p_val: 0.28026648812\n",
      "CI:\n",
      "-0.895817610538 3.09337740413\n",
      "===== new fold\n",
      "Coef: [  0.75045286 -44.78342938]  intercept: -72.140150015\n",
      "1.0\n"
     ]
    },
    {
     "data": {
      "image/png": "[encoded data removed]",
      "text/plain": [
       "<matplotlib.figure.Figure at 0xef3b6a0>"
      ]
     },
     "metadata": {},
     "output_type": "display_data"
    },
    {
     "name": "stdout",
     "output_type": "stream",
     "text": [
      "[[686   0]\n",
      " [  0   4]]\n",
      "Standard errors:  [ 70.33998923   0.74179093  44.14060578]\n",
      "Wald statistics:  [ 1.05183953  1.02349047  1.02933826]\n",
      "p_val coef 0.311692487649\n",
      "p_val coef 0.310314141266\n",
      "p_val intercep 0.305083807317\n",
      "9.06447635924\n",
      "0.494871398032\n",
      "t = 1.01167705946\n",
      "p_val: 0.311692487649\n",
      "CI:\n",
      "-0.703457352123 2.20436307742\n",
      "===== new fold\n",
      "Coef: [  1.06927752 -51.74249528]  intercept: -101.430960863\n",
      "1.0\n"
     ]
    },
    {
     "data": {
      "image/png": "[encoded data removed]",
      "text/plain": [
       "<matplotlib.figure.Figure at 0xe875828>"
      ]
     },
     "metadata": {},
     "output_type": "display_data"
    },
    {
     "name": "stdout",
     "output_type": "stream",
     "text": [
      "[[686   0]\n",
      " [  0   4]]\n",
      "Standard errors:  [ 93.12645518   0.98662152  48.49030191]\n",
      "Wald statistics:  [ 1.18630111  1.17457217  1.13863613]\n",
      "p_val coef 0.27846377128\n",
      "p_val coef 0.285940704188\n",
      "p_val intercep 0.276076938826\n",
      "20.1470063083\n",
      "0.421261852404\n",
      "t = 1.08377680634\n",
      "p_val: 0.27846377128\n",
      "CI:\n",
      "-0.86450066144 3.00305570705\n",
      "===== new fold\n",
      "Coef: [  0.9718733  -47.05830602]  intercept: -92.2312706086\n",
      "1.0\n"
     ]
    },
    {
     "data": {
      "image/png": "[encoded data removed]",
      "text/plain": [
       "<matplotlib.figure.Figure at 0xeb7b358>"
      ]
     },
     "metadata": {},
     "output_type": "display_data"
    },
    {
     "name": "stdout",
     "output_type": "stream",
     "text": [
      "[[686   0]\n",
      " [  0   5]]\n",
      "Standard errors:  [ 82.83934384   0.87725677  43.39042556]\n",
      "Wald statistics:  [ 1.23960433  1.22734272  1.17620971]\n",
      "p_val coef 0.26792443956\n",
      "p_val coef 0.278128976279\n",
      "p_val intercep 0.265547323634\n",
      "14.7507890003\n",
      "0.473525286753\n",
      "t = 1.10785500689\n",
      "p_val: 0.26792443956\n",
      "CI:\n",
      "-0.74754996387 2.6912965729\n",
      "===== new fold\n",
      "Coef: [  1.06067575 -51.46747973]  intercept: -100.64610717\n",
      "1.0\n"
     ]
    },
    {
     "data": {
      "image/png": "[encoded data removed]",
      "text/plain": [
       "<matplotlib.figure.Figure at 0xeaaeb70>"
      ]
     },
     "metadata": {},
     "output_type": "display_data"
    },
    {
     "name": "stdout",
     "output_type": "stream",
     "text": [
      "[[686   0]\n",
      " [  0   5]]\n",
      "Standard errors:  [ 91.88555428   0.97279296  48.16521502]\n",
      "Wald statistics:  [ 1.19977411  1.18884282  1.14182303]\n",
      "p_val coef 0.275563097529\n",
      "p_val coef 0.285267441863\n",
      "p_val intercep 0.273366831906\n",
      "19.4403333898\n",
      "0.429128678785\n",
      "t = 1.09034068985\n",
      "p_val: 0.275563097529\n",
      "CI:\n",
      "-0.845998454483 2.96734994857\n",
      "===== new fold\n",
      "Coef: [  0.96021511 -46.47081496]  intercept: -91.1249472454\n",
      "1.0\n"
     ]
    },
    {
     "data": {
      "image/png": "[encoded data removed]",
      "text/plain": [
       "<matplotlib.figure.Figure at 0xc5e55f8>"
      ]
     },
     "metadata": {},
     "output_type": "display_data"
    },
    {
     "name": "stdout",
     "output_type": "stream",
     "text": [
      "[[686   0]\n",
      " [  0   4]]\n",
      "Standard errors:  [ 81.7359114    0.86563825  42.79428629]\n",
      "Wald statistics:  [ 1.24293598  1.23045063  1.17920416]\n",
      "p_val coef 0.267319418583\n",
      "p_val coef 0.277518072572\n",
      "p_val intercep 0.264905967882\n",
      "14.251555671\n",
      "0.47881745106\n",
      "t = 1.10925679309\n",
      "p_val: 0.267319418583\n",
      "CI:\n",
      "-0.736435858469 2.65686607065\n"
     ]
    }
   ],
   "source": [
    "import scipy\n",
    "from scipy.stats import chisqprob\n",
    "\n",
    "def ci_p_val_z_score_scikit(model,X_train):\n",
    "    # Calculate matrix of predicted class probabilities. \n",
    "    predProbs = np.matrix(model.predict_proba(X_train))\n",
    "    # Design matrix -- add column of 1's at the beginning of your X_train matrix\n",
    "    X_design = np.concatenate((np.ones( X_train.shape[0]).reshape(X_train.shape[0], 1),\n",
    "                    X_train[:,:].reshape(X_train.shape[0], 2)),axis=1)\n",
    "    # Initiate matrix of 0's, fill diagonal with each predicted observation's variance\n",
    "    V = np.matrix(np.zeros(shape = (X_design.shape[0], X_design.shape[0])))\n",
    "    #np.fill_diagonal(V, np.multiply(predProbs[:,0], predProbs[:,1]).A1)\n",
    "    np.fill_diagonal(V, np.multiply(predProbs[:,0], predProbs[:,1]).A1)\n",
    "    # Covariance matrix\n",
    "    covLogit = np.linalg.inv(X_design.T * V * X_design)\n",
    "    #print \"Covariance matrix: \", covLogit\n",
    "    # Standard errors\n",
    "    sdd=np.sqrt(np.diag(covLogit))\n",
    "    print \"Standard errors: \", sdd\n",
    "    # Wald statistic (coefficient / s.e.) ^ 2\n",
    "    logitParams = np.insert(model.coef_[0], 0, model.intercept_[0])\n",
    "    print \"Wald statistics: \", ((logitParams / sdd) ** 2)\n",
    "    #print \"Wald statistics intercept: \", ((logitParams_intercept / sdd** 2)[0]\n",
    "    wald_score=((logitParams / sdd) ** 2 )\n",
    "    #wald_score_intercept=((logitParams_intercept / np.sqrt(np.diag(covLogit))) ** 2)[0]\n",
    "    print \"p_val coef\",chisqprob(wald_score[1],1)\n",
    "    print \"p_val coef\",chisqprob(wald_score[2],1)\n",
    "    print \"p_val intercep\",chisqprob(wald_score[0],1)\n",
    "    #print \"p_val intercept\",chisqprob(wald_score_intercept,1)\n",
    "\n",
    "    # upper CI for beta\n",
    "    print np.exp(model.coef_[0][0]+1.96*sdd[1])\n",
    "    # lower CI for beta\n",
    "    print np.exp(model.coef_[0][0]-1.96*sdd[1])\n",
    "    #print np.exp(mlogit_res_.params[0])\n",
    "    # critical value of the t-statistic\n",
    "\n",
    "\n",
    "    i=0\n",
    "    # the estimated coefficient, and its variance\n",
    "    beta = model.coef_[0][0]\n",
    "    se = sdd[1]\n",
    "    t = beta / se\n",
    "    print 't =', t\n",
    "\n",
    "    print \"p_val:\",2* (1 - scipy.stats.norm.cdf(abs(t)))\n",
    "    print \"CI:\"\n",
    "    # the confidence interval\n",
    "    print beta - 1.96 * se, beta + 1.96 * se \n",
    "    \n",
    "def predict_model_scikit(X,y):\n",
    "    X_train=X\n",
    "    Y_train=y\n",
    "    model = LogisticRegression(C=1e5)\n",
    "\n",
    "    skf = cross_validation.StratifiedKFold(Y_train.ravel(), n_folds=10,shuffle=True)\n",
    "    for train_index,test_index in skf:\n",
    "        print \"===== new fold\"\n",
    "        model = model.fit(X_train[train_index,:],Y_train.ravel()[train_index])\n",
    "        print \"Coef:\", model.coef_[0],\" intercept:\",model.intercept_[0]\n",
    "        y_true=Y_train.ravel()[train_index]\n",
    "        y_pred=model.predict(X_train[train_index,:])\n",
    "\n",
    "\n",
    "        #target_names = ['female',  'neutral']\n",
    "        #print(classification_report(y_true, y_pred, target_names=target_names))\n",
    "        print r2_score(y_true, y_pred)\n",
    "\n",
    "        plt.matshow(confusion_matrix(y_true, y_pred), cmap=plt.cm.binary, interpolation='nearest')\n",
    "        plt.title('confusion matrix')\n",
    "        plt.colorbar()\n",
    "        plt.ylabel('expected label')\n",
    "        plt.xlabel('predicted label')\n",
    "        plt.show()\n",
    "\n",
    "        #print classification_report(y_true, y_pred)\n",
    "        print confusion_matrix(y_true, y_pred)   \n",
    "        ci_p_val_z_score_scikit(model,X_train[train_index,:])\n",
    "        \n",
    "predict_model_scikit(X,y)        "
   ]
  },
  {
   "cell_type": "markdown",
   "metadata": {},
   "source": [
    "# full models (all data)"
   ]
  },
  {
   "cell_type": "code",
   "execution_count": 168,
   "metadata": {
    "collapsed": false
   },
   "outputs": [
    {
     "name": "stdout",
     "output_type": "stream",
     "text": [
      "Warning: Maximum number of iterations has been exceeded.\n",
      "         Current function value: 0.000000\n",
      "         Iterations: 35\n",
      "l_m_without_outliers      9.511698\n",
      "NormalizedGoogleDif2   -466.847973\n",
      "intercept              -900.941214\n",
      "dtype: float64\n",
      "                           Logit Regression Results                           \n",
      "==============================================================================\n",
      "Dep. Variable:                  Bias2   No. Observations:                  767\n",
      "Model:                          Logit   Df Residuals:                      764\n",
      "Method:                           MLE   Df Model:                            2\n",
      "Date:                Tue, 30 Aug 2016   Pseudo R-squ.:                   1.000\n",
      "Time:                        19:47:12   Log-Likelihood:            -3.5983e-11\n",
      "converged:                      False   LL-Null:                       -30.149\n",
      "                                        LLR p-value:                 8.063e-14\n",
      "========================================================================================\n",
      "                           coef    std err          z      P>|z|      [95.0% Conf. Int.]\n",
      "----------------------------------------------------------------------------------------\n",
      "l_m_without_outliers     9.5117   6.48e+04      0.000      1.000     -1.27e+05  1.27e+05\n",
      "NormalizedGoogleDif2  -466.8480   3.15e+06     -0.000      1.000     -6.18e+06  6.17e+06\n",
      "intercept             -900.9412   6.09e+06     -0.000      1.000     -1.19e+07  1.19e+07\n",
      "========================================================================================\n",
      "\n",
      "Complete Separation: The results show that there iscomplete separation.\n",
      "In this case the Maximum Likelihood Estimator does not exist and the parameters\n",
      "are not identified.\n",
      "[[ 762.    0.]\n",
      " [   0.    5.]]\n",
      "Accuracy: 1.0\n",
      "Odds:\n",
      "l_m_without_outliers     1.351693e+04\n",
      "NormalizedGoogleDif2    1.780333e-203\n",
      "intercept                0.000000e+00\n",
      "dtype: float64\n",
      "p:\n",
      "l_m_without_outliers     9.999260e-01\n",
      "NormalizedGoogleDif2    1.780333e-203\n",
      "intercept                0.000000e+00\n",
      "dtype: float64\n"
     ]
    }
   ],
   "source": [
    "res_female,data_,X_train,Y_train=predict_model(df_df,predict_case=\"female\",train_split=False)\n",
    "#data.to_csv(\"de/predict_female.csv\")\n",
    "data_.to_csv(\"de/predict_female_b.csv\")"
   ]
  },
  {
   "cell_type": "code",
   "execution_count": 106,
   "metadata": {
    "collapsed": false
   },
   "outputs": [
    {
     "name": "stdout",
     "output_type": "stream",
     "text": [
      "Optimization terminated successfully.\n",
      "         Current function value: 0.107391\n",
      "         Iterations 8\n",
      "l_m_without_outliers    0.002656\n",
      "NormalizedGoogleDif2    3.449065\n",
      "intercept               1.297880\n",
      "dtype: float64\n",
      "                           Logit Regression Results                           \n",
      "==============================================================================\n",
      "Dep. Variable:                  Bias2   No. Observations:                  768\n",
      "Model:                          Logit   Df Residuals:                      765\n",
      "Method:                           MLE   Df Model:                            2\n",
      "Date:                Tue, 30 Aug 2016   Pseudo R-squ.:                  0.2277\n",
      "Time:                        17:38:41   Log-Likelihood:                -82.477\n",
      "converged:                       True   LL-Null:                       -106.80\n",
      "                                        LLR p-value:                 2.736e-11\n",
      "========================================================================================\n",
      "                           coef    std err          z      P>|z|      [95.0% Conf. Int.]\n",
      "----------------------------------------------------------------------------------------\n",
      "l_m_without_outliers     0.0027      0.010      0.275      0.783        -0.016     0.022\n",
      "NormalizedGoogleDif2     3.4491      0.606      5.695      0.000         2.262     4.636\n",
      "intercept                1.2979      0.687      1.889      0.059        -0.049     2.644\n",
      "========================================================================================\n",
      "[[   7.   17.]\n",
      " [   0.  744.]]\n",
      "Accuracy: 0.977864583333\n",
      "Odds:\n",
      "l_m_without_outliers     1.002660\n",
      "NormalizedGoogleDif2    31.470943\n",
      "intercept                3.661526\n",
      "dtype: float64\n",
      "p:\n",
      "l_m_without_outliers    0.500664\n",
      "NormalizedGoogleDif2    0.969203\n",
      "intercept               0.785478\n",
      "dtype: float64\n"
     ]
    }
   ],
   "source": [
    "res_male,data2,X_train,Y_train=predict_model(df_df,predict_case=\"male\",train_split=False)"
   ]
  },
  {
   "cell_type": "code",
   "execution_count": 107,
   "metadata": {
    "collapsed": false
   },
   "outputs": [
    {
     "name": "stdout",
     "output_type": "stream",
     "text": [
      "Optimization terminated successfully.\n",
      "         Current function value: 0.105718\n",
      "         Iterations 8\n",
      "l_m_without_outliers   -0.002919\n",
      "NormalizedGoogleDif2   -1.784924\n",
      "intercept              -2.411276\n",
      "dtype: float64\n",
      "                           Logit Regression Results                           \n",
      "==============================================================================\n",
      "Dep. Variable:                  Bias2   No. Observations:                  768\n",
      "Model:                          Logit   Df Residuals:                      765\n",
      "Method:                           MLE   Df Model:                            2\n",
      "Date:                Tue, 30 Aug 2016   Pseudo R-squ.:                 0.04872\n",
      "Time:                        17:39:06   Log-Likelihood:                -81.191\n",
      "converged:                       True   LL-Null:                       -85.349\n",
      "                                        LLR p-value:                   0.01564\n",
      "========================================================================================\n",
      "                           coef    std err          z      P>|z|      [95.0% Conf. Int.]\n",
      "----------------------------------------------------------------------------------------\n",
      "l_m_without_outliers    -0.0029      0.010     -0.289      0.773        -0.023     0.017\n",
      "NormalizedGoogleDif2    -1.7849      0.607     -2.941      0.003        -2.975    -0.595\n",
      "intercept               -2.4113      0.720     -3.350      0.001        -3.822    -1.000\n",
      "========================================================================================\n",
      "[[   0.  750.]\n",
      " [   0.   18.]]\n",
      "Accuracy: 0.0234375\n",
      "Odds:\n",
      "l_m_without_outliers    0.997085\n",
      "NormalizedGoogleDif2    0.167810\n",
      "intercept               0.089701\n",
      "dtype: float64\n",
      "p:\n",
      "l_m_without_outliers    0.499270\n",
      "NormalizedGoogleDif2    0.143696\n",
      "intercept               0.082317\n",
      "dtype: float64\n"
     ]
    }
   ],
   "source": [
    "res_n,data3,X_train,Y_train=predict_model(df_df,predict_case=\"neutral\",train_split=False)"
   ]
  },
  {
   "cell_type": "code",
   "execution_count": null,
   "metadata": {
    "collapsed": true
   },
   "outputs": [],
   "source": [
    "#perform Bayesian gml in R\n",
    "#=====>"
   ]
  },
  {
   "cell_type": "markdown",
   "metadata": {},
   "source": [
    "# predict for training data"
   ]
  },
  {
   "cell_type": "code",
   "execution_count": 186,
   "metadata": {
    "collapsed": false
   },
   "outputs": [
    {
     "name": "stdout",
     "output_type": "stream",
     "text": [
      "613 154 767\n",
      "Warning: Maximum number of iterations has been exceeded.\n",
      "         Current function value: 0.000000\n",
      "         Iterations: 35\n",
      "l_m_without_outliers      9.589135\n",
      "NormalizedGoogleDif2   -470.669764\n",
      "intercept              -908.282898\n",
      "dtype: float64\n",
      "                           Logit Regression Results                           \n",
      "==============================================================================\n",
      "Dep. Variable:                  Bias2   No. Observations:                  613\n",
      "Model:                          Logit   Df Residuals:                      610\n",
      "Method:                           MLE   Df Model:                            2\n",
      "Date:                Tue, 30 Aug 2016   Pseudo R-squ.:                   1.000\n",
      "Time:                        20:04:59   Log-Likelihood:            -2.9298e-11\n",
      "converged:                      False   LL-Null:                       -18.952\n",
      "                                        LLR p-value:                 5.879e-09\n",
      "========================================================================================\n",
      "                           coef    std err          z      P>|z|      [95.0% Conf. Int.]\n",
      "----------------------------------------------------------------------------------------\n",
      "l_m_without_outliers     9.5891   7.17e+04      0.000      1.000     -1.41e+05  1.41e+05\n",
      "NormalizedGoogleDif2  -470.6698   3.49e+06     -0.000      1.000     -6.84e+06  6.84e+06\n",
      "intercept             -908.2829   6.74e+06     -0.000      1.000     -1.32e+07  1.32e+07\n",
      "========================================================================================\n",
      "\n",
      "Complete Separation: The results show that there iscomplete separation.\n",
      "In this case the Maximum Likelihood Estimator does not exist and the parameters\n",
      "are not identified.\n",
      "[[ 610.    0.]\n",
      " [   0.    3.]]\n",
      "Accuracy: 1.0\n",
      "Odds:\n",
      "l_m_without_outliers     1.460523e+04\n",
      "NormalizedGoogleDif2    3.896893e-205\n",
      "intercept                0.000000e+00\n",
      "dtype: float64\n",
      "p:\n",
      "l_m_without_outliers     9.999315e-01\n",
      "NormalizedGoogleDif2    3.896893e-205\n",
      "intercept                0.000000e+00\n",
      "dtype: float64\n"
     ]
    }
   ],
   "source": [
    "res_f,data_,X_train,Y_train=predict_model(df_df,predict_case=\"female\")\n"
   ]
  },
  {
   "cell_type": "code",
   "execution_count": 185,
   "metadata": {
    "collapsed": false,
    "scrolled": true
   },
   "outputs": [],
   "source": [
    "#merge train data\n",
    "X_train[\"Bias2\"]=Y_train\n",
    "X_train.to_csv(\"de/predict_female_btrain2.csv\")"
   ]
  },
  {
   "cell_type": "code",
   "execution_count": 129,
   "metadata": {
    "collapsed": false,
    "scrolled": true
   },
   "outputs": [
    {
     "name": "stdout",
     "output_type": "stream",
     "text": [
      "Warning: Maximum number of iterations has been exceeded.\n",
      "         Current function value: 0.000000\n",
      "         Iterations: 35\n",
      "l_m_without_outliers     -0.007094\n",
      "NormalizedGoogleDif2   -213.850792\n",
      "intercept               -25.734197\n",
      "dtype: float64\n",
      "                           Logit Regression Results                           \n",
      "==============================================================================\n",
      "Dep. Variable:                  Bias2   No. Observations:                  750\n",
      "Model:                          Logit   Df Residuals:                      747\n",
      "Method:                           MLE   Df Model:                            2\n",
      "Date:                Tue, 30 Aug 2016   Pseudo R-squ.:                   1.000\n",
      "Time:                        18:32:01   Log-Likelihood:            -2.8615e-12\n",
      "converged:                      False   LL-Null:                       -34.946\n",
      "                                        LLR p-value:                 6.656e-16\n",
      "========================================================================================\n",
      "                           coef    std err          z      P>|z|      [95.0% Conf. Int.]\n",
      "----------------------------------------------------------------------------------------\n",
      "l_m_without_outliers    -0.0071   2.61e+05  -2.72e-08      1.000     -5.12e+05  5.12e+05\n",
      "NormalizedGoogleDif2  -213.8508   1.19e+07  -1.79e-05      1.000     -2.34e+07  2.34e+07\n",
      "intercept              -25.7342   1.94e+07  -1.32e-06      1.000     -3.81e+07  3.81e+07\n",
      "========================================================================================\n",
      "\n",
      "Complete Separation: The results show that there iscomplete separation.\n",
      "In this case the Maximum Likelihood Estimator does not exist and the parameters\n",
      "are not identified.\n",
      "[[ 744.    0.]\n",
      " [   0.    6.]]\n",
      "Accuracy: 1.0\n",
      "Odds:\n",
      "l_m_without_outliers    9.929309e-01\n",
      "NormalizedGoogleDif2    1.335922e-93\n",
      "intercept               6.664695e-12\n",
      "dtype: float64\n",
      "p:\n",
      "l_m_without_outliers    4.982265e-01\n",
      "NormalizedGoogleDif2    1.335922e-93\n",
      "intercept               6.664695e-12\n",
      "dtype: float64\n"
     ]
    },
    {
     "name": "stderr",
     "output_type": "stream",
     "text": [
      "C:\\Anaconda\\lib\\site-packages\\ipykernel\\__main__.py:23: SettingWithCopyWarning: \n",
      "A value is trying to be set on a copy of a slice from a DataFrame.\n",
      "Try using .loc[row_indexer,col_indexer] = value instead\n",
      "\n",
      "See the caveats in the documentation: http://pandas.pydata.org/pandas-docs/stable/indexing.html#indexing-view-versus-copy\n"
     ]
    }
   ],
   "source": [
    "res_female2,data,X_train,Y_train=predict_model(df_df,predict_case=\"female\",remove=\"neutral\",train_split=False)\n"
   ]
  },
  {
   "cell_type": "code",
   "execution_count": 130,
   "metadata": {
    "collapsed": true
   },
   "outputs": [],
   "source": [
    "data.to_csv(\"de/predict_female_train2.csv\")"
   ]
  },
  {
   "cell_type": "code",
   "execution_count": 140,
   "metadata": {
    "collapsed": false,
    "scrolled": false
   },
   "outputs": [
    {
     "name": "stdout",
     "output_type": "stream",
     "text": [
      "600 150 750\n",
      "Warning: Maximum number of iterations has been exceeded.\n",
      "         Current function value: 0.000000\n",
      "         Iterations: 35\n",
      "l_m_without_outliers      0.186157\n",
      "NormalizedGoogleDif2   -175.894215\n",
      "intercept               -32.048449\n",
      "dtype: float64\n",
      "                           Logit Regression Results                           \n",
      "==============================================================================\n",
      "Dep. Variable:                  Bias2   No. Observations:                  600\n",
      "Model:                          Logit   Df Residuals:                      597\n",
      "Method:                           MLE   Df Model:                            2\n",
      "Date:                Tue, 30 Aug 2016   Pseudo R-squ.:                   1.000\n",
      "Time:                        18:41:18   Log-Likelihood:            -1.6827e-12\n",
      "converged:                      False   LL-Null:                       -33.601\n",
      "                                        LLR p-value:                 2.554e-15\n",
      "========================================================================================\n",
      "                           coef    std err          z      P>|z|      [95.0% Conf. Int.]\n",
      "----------------------------------------------------------------------------------------\n",
      "l_m_without_outliers     0.1862   7.18e+04   2.59e-06      1.000     -1.41e+05  1.41e+05\n",
      "NormalizedGoogleDif2  -175.8942   5.89e+06  -2.98e-05      1.000     -1.16e+07  1.16e+07\n",
      "intercept              -32.0484   5.42e+06  -5.92e-06      1.000     -1.06e+07  1.06e+07\n",
      "========================================================================================\n",
      "\n",
      "Complete Separation: The results show that there iscomplete separation.\n",
      "In this case the Maximum Likelihood Estimator does not exist and the parameters\n",
      "are not identified.\n",
      "[[ 594.    0.]\n",
      " [   0.    6.]]\n",
      "Accuracy: 1.0\n",
      "Odds:\n",
      "l_m_without_outliers    1.204612e+00\n",
      "NormalizedGoogleDif2    4.074864e-77\n",
      "intercept               1.206523e-14\n",
      "dtype: float64\n",
      "p:\n",
      "l_m_without_outliers    5.464054e-01\n",
      "NormalizedGoogleDif2    4.074864e-77\n",
      "intercept               1.206523e-14\n",
      "dtype: float64\n"
     ]
    },
    {
     "name": "stderr",
     "output_type": "stream",
     "text": [
      "C:\\Anaconda\\lib\\site-packages\\ipykernel\\__main__.py:23: SettingWithCopyWarning: \n",
      "A value is trying to be set on a copy of a slice from a DataFrame.\n",
      "Try using .loc[row_indexer,col_indexer] = value instead\n",
      "\n",
      "See the caveats in the documentation: http://pandas.pydata.org/pandas-docs/stable/indexing.html#indexing-view-versus-copy\n"
     ]
    }
   ],
   "source": [
    "res_f3,data,X_train,Y_train=predict_model(df_df,predict_case=\"female\",remove=\"neutral\")"
   ]
  },
  {
   "cell_type": "code",
   "execution_count": 135,
   "metadata": {
    "collapsed": true
   },
   "outputs": [],
   "source": [
    "data.to_csv(\"de/predict_female_train3.csv\")"
   ]
  }
 ],
 "metadata": {
  "kernelspec": {
   "display_name": "Python 2",
   "language": "python",
   "name": "python2"
  },
  "language_info": {
   "codemirror_mode": {
    "name": "ipython",
    "version": 2
   },
   "file_extension": ".py",
   "mimetype": "text/x-python",
   "name": "python",
   "nbconvert_exporter": "python",
   "pygments_lexer": "ipython2",
   "version": "2.7.11"
  }
 },
 "nbformat": 4,
 "nbformat_minor": 0
}
