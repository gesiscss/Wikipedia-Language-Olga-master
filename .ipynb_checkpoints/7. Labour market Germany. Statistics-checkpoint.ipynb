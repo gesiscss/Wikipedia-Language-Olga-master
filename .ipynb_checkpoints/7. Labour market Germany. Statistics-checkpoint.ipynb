{
 "cells": [
  {
   "cell_type": "markdown",
   "metadata": {
    "collapsed": true
   },
   "source": [
    "# Plot for group of biases ====> 1st VARIANT"
   ]
  },
  {
   "cell_type": "code",
   "execution_count": null,
   "metadata": {
    "collapsed": true
   },
   "outputs": [],
   "source": [
    "%pylab inline"
   ]
  },
  {
   "cell_type": "code",
   "execution_count": 29,
   "metadata": {
    "collapsed": false
   },
   "outputs": [
    {
     "name": "stdout",
     "output_type": "stream",
     "text": [
      "Male bias [n=771].\n",
      "Female bias [n=6]:\n"
     ]
    },
    {
     "data": {
      "text/html": [
       "<div>\n",
       "<table border=\"1\" class=\"dataframe\">\n",
       "  <thead>\n",
       "    <tr style=\"text-align: right;\">\n",
       "      <th></th>\n",
       "      <th>Berufsgruppe</th>\n",
       "      <th>Frauen</th>\n",
       "      <th>KldB</th>\n",
       "      <th>KldB5</th>\n",
       "      <th>Männer</th>\n",
       "      <th>Overall</th>\n",
       "      <th>name</th>\n",
       "    </tr>\n",
       "  </thead>\n",
       "  <tbody>\n",
       "    <tr>\n",
       "      <th>0</th>\n",
       "      <td>Berufe in der Hauswirtschaft</td>\n",
       "      <td>93.691910</td>\n",
       "      <td>8321</td>\n",
       "      <td>83212</td>\n",
       "      <td>6.308090</td>\n",
       "      <td>190866</td>\n",
       "      <td>Haushälter</td>\n",
       "    </tr>\n",
       "    <tr>\n",
       "      <th>1</th>\n",
       "      <td>Betriebsinterne Wahlämter</td>\n",
       "      <td>32.042925</td>\n",
       "      <td>7123</td>\n",
       "      <td>71234</td>\n",
       "      <td>67.957075</td>\n",
       "      <td>12580</td>\n",
       "      <td>Gleichstellungsbeauftragter</td>\n",
       "    </tr>\n",
       "    <tr>\n",
       "      <th>2</th>\n",
       "      <td>Berufe Geburtshilfe, Entbindungspflege</td>\n",
       "      <td>99.843137</td>\n",
       "      <td>8135</td>\n",
       "      <td>81353</td>\n",
       "      <td>0.156863</td>\n",
       "      <td>10200</td>\n",
       "      <td>Entbindungspfleger</td>\n",
       "    </tr>\n",
       "    <tr>\n",
       "      <th>3</th>\n",
       "      <td>Berufe Gesundheits-, Krankenpflege (o.S)</td>\n",
       "      <td>84.959672</td>\n",
       "      <td>8130</td>\n",
       "      <td>81301</td>\n",
       "      <td>15.040328</td>\n",
       "      <td>807755</td>\n",
       "      <td>Pflegediensthelfer</td>\n",
       "    </tr>\n",
       "    <tr>\n",
       "      <th>4</th>\n",
       "      <td>Berufe in der Hauswirtschaft</td>\n",
       "      <td>93.691910</td>\n",
       "      <td>8321</td>\n",
       "      <td>83212</td>\n",
       "      <td>6.308090</td>\n",
       "      <td>190866</td>\n",
       "      <td>Beschließer</td>\n",
       "    </tr>\n",
       "    <tr>\n",
       "      <th>5</th>\n",
       "      <td>Berufe Geburtshilfe, Entbindungspflege</td>\n",
       "      <td>99.843137</td>\n",
       "      <td>8135</td>\n",
       "      <td>81353</td>\n",
       "      <td>0.156863</td>\n",
       "      <td>10200</td>\n",
       "      <td>Belegentbindungspfleger</td>\n",
       "    </tr>\n",
       "  </tbody>\n",
       "</table>\n",
       "</div>"
      ],
      "text/plain": [
       "                               Berufsgruppe     Frauen  KldB  KldB5  \\\n",
       "0              Berufe in der Hauswirtschaft  93.691910  8321  83212   \n",
       "1                 Betriebsinterne Wahlämter  32.042925  7123  71234   \n",
       "2    Berufe Geburtshilfe, Entbindungspflege  99.843137  8135  81353   \n",
       "3  Berufe Gesundheits-, Krankenpflege (o.S)  84.959672  8130  81301   \n",
       "4              Berufe in der Hauswirtschaft  93.691910  8321  83212   \n",
       "5    Berufe Geburtshilfe, Entbindungspflege  99.843137  8135  81353   \n",
       "\n",
       "      Männer  Overall                         name  \n",
       "0   6.308090   190866                   Haushälter  \n",
       "1  67.957075    12580  Gleichstellungsbeauftragter  \n",
       "2   0.156863    10200           Entbindungspfleger  \n",
       "3  15.040328   807755           Pflegediensthelfer  \n",
       "4   6.308090   190866                  Beschließer  \n",
       "5   0.156863    10200      Belegentbindungspfleger  "
      ]
     },
     "execution_count": 29,
     "metadata": {},
     "output_type": "execute_result"
    }
   ],
   "source": [
    "import pandas as pd\n",
    "import numpy as np\n",
    "import matplotlib.pyplot as pyplot\n",
    "import json\n",
    "def load_simple_json(filename):\n",
    "    with open(filename, 'r') as f:\n",
    "        return json.load(f)\n",
    "f_bias_prop=load_simple_json('de/f_bias_labour.json')\n",
    "n_bias_prop=load_simple_json('de/n_bias_labour.json')\n",
    "n_n_bias_prop=load_simple_json('de/n_n_bias_labour.json')\n",
    "m_bias_prop=load_simple_json('de/m_bias_labour.json')\n",
    "                       \n",
    "f_df=pd.DataFrame.from_dict(f_bias_prop)\n",
    "n_df=pd.DataFrame.from_dict(n_bias_prop)\n",
    "n_n_df=pd.DataFrame.from_dict(n_n_bias_prop)\n",
    "m_df=pd.DataFrame.from_dict(m_bias_prop)\n",
    "print \"Male bias [n={0}].\".format(len(m_df))\n",
    "print \"Female bias [n={0}]:\".format(len(f_df))\n",
    "f_df"
   ]
  },
  {
   "cell_type": "code",
   "execution_count": 75,
   "metadata": {
    "collapsed": false
   },
   "outputs": [
    {
     "name": "stdout",
     "output_type": "stream",
     "text": [
      "Neutral ( male&female profession label on Wiki) [n=20]:\n"
     ]
    },
    {
     "data": {
      "text/html": [
       "<div>\n",
       "<table border=\"1\" class=\"dataframe\">\n",
       "  <thead>\n",
       "    <tr style=\"text-align: right;\">\n",
       "      <th></th>\n",
       "      <th>Berufsgruppe</th>\n",
       "      <th>Frauen</th>\n",
       "      <th>KldB</th>\n",
       "      <th>KldB5</th>\n",
       "      <th>Männer</th>\n",
       "      <th>Overall</th>\n",
       "      <th>name</th>\n",
       "    </tr>\n",
       "  </thead>\n",
       "  <tbody>\n",
       "    <tr>\n",
       "      <th>0</th>\n",
       "      <td>Obj.Pers.Brandschutz,Arbeitssicherh(ssT)</td>\n",
       "      <td>37.700505</td>\n",
       "      <td>5318</td>\n",
       "      <td>53182</td>\n",
       "      <td>62.299495</td>\n",
       "      <td>8915</td>\n",
       "      <td>Hilfspolizist</td>\n",
       "    </tr>\n",
       "    <tr>\n",
       "      <th>1</th>\n",
       "      <td>Musik-,Gesangs-, Dirigententätigk. (ssT)</td>\n",
       "      <td>35.508637</td>\n",
       "      <td>9418</td>\n",
       "      <td>94183</td>\n",
       "      <td>64.491363</td>\n",
       "      <td>521</td>\n",
       "      <td>Audiodesigner</td>\n",
       "    </tr>\n",
       "    <tr>\n",
       "      <th>2</th>\n",
       "      <td>Aufsicht,Führung-TheaterFilm,Fernsehprod</td>\n",
       "      <td>40.187288</td>\n",
       "      <td>9449</td>\n",
       "      <td>94494</td>\n",
       "      <td>59.812712</td>\n",
       "      <td>5019</td>\n",
       "      <td>Filmgeschäftsführer</td>\n",
       "    </tr>\n",
       "    <tr>\n",
       "      <th>3</th>\n",
       "      <td>Führung - Allgemeinbildende Schulen</td>\n",
       "      <td>62.997543</td>\n",
       "      <td>8419</td>\n",
       "      <td>84194</td>\n",
       "      <td>37.002457</td>\n",
       "      <td>2035</td>\n",
       "      <td>Direktor</td>\n",
       "    </tr>\n",
       "    <tr>\n",
       "      <th>4</th>\n",
       "      <td>Berufe für Post- und Zustelldienste</td>\n",
       "      <td>47.894039</td>\n",
       "      <td>5132</td>\n",
       "      <td>51321</td>\n",
       "      <td>52.105961</td>\n",
       "      <td>205963</td>\n",
       "      <td>Bote</td>\n",
       "    </tr>\n",
       "    <tr>\n",
       "      <th>5</th>\n",
       "      <td>Autoren/Autorinnen, Schriftsteller/innen</td>\n",
       "      <td>47.783251</td>\n",
       "      <td>9243</td>\n",
       "      <td>92434</td>\n",
       "      <td>52.216749</td>\n",
       "      <td>812</td>\n",
       "      <td>Dichter</td>\n",
       "    </tr>\n",
       "    <tr>\n",
       "      <th>6</th>\n",
       "      <td>Angehörige gesetzgebender Körperschaften</td>\n",
       "      <td>18.156809</td>\n",
       "      <td>7121</td>\n",
       "      <td>71214</td>\n",
       "      <td>81.843191</td>\n",
       "      <td>2908</td>\n",
       "      <td>Bundeskanzler</td>\n",
       "    </tr>\n",
       "    <tr>\n",
       "      <th>7</th>\n",
       "      <td>Berufe in der Gemeindearbeit</td>\n",
       "      <td>58.613996</td>\n",
       "      <td>8332</td>\n",
       "      <td>83323</td>\n",
       "      <td>41.386004</td>\n",
       "      <td>10303</td>\n",
       "      <td>Diakon</td>\n",
       "    </tr>\n",
       "    <tr>\n",
       "      <th>8</th>\n",
       "      <td>Berufe Informations,Telekommunikationst.</td>\n",
       "      <td>11.438161</td>\n",
       "      <td>2631</td>\n",
       "      <td>26313</td>\n",
       "      <td>88.561839</td>\n",
       "      <td>191884</td>\n",
       "      <td>Medientechniker</td>\n",
       "    </tr>\n",
       "    <tr>\n",
       "      <th>9</th>\n",
       "      <td>Berufe Informations,Telekommunikationst.</td>\n",
       "      <td>11.438161</td>\n",
       "      <td>2631</td>\n",
       "      <td>26313</td>\n",
       "      <td>88.561839</td>\n",
       "      <td>191884</td>\n",
       "      <td>Projektassistent</td>\n",
       "    </tr>\n",
       "    <tr>\n",
       "      <th>10</th>\n",
       "      <td>Angehörige geistl. Orden, Mutterhäuser</td>\n",
       "      <td>62.571104</td>\n",
       "      <td>8333</td>\n",
       "      <td>83332</td>\n",
       "      <td>37.428896</td>\n",
       "      <td>879</td>\n",
       "      <td>Mönch</td>\n",
       "    </tr>\n",
       "    <tr>\n",
       "      <th>11</th>\n",
       "      <td>Berufe im Veranstaltungsservice,-manag.</td>\n",
       "      <td>58.326084</td>\n",
       "      <td>6340</td>\n",
       "      <td>63401</td>\n",
       "      <td>41.673916</td>\n",
       "      <td>27588</td>\n",
       "      <td>Host</td>\n",
       "    </tr>\n",
       "    <tr>\n",
       "      <th>12</th>\n",
       "      <td>Berufe i.d. Bühnen- und Kostümbildnerei</td>\n",
       "      <td>70.973668</td>\n",
       "      <td>9461</td>\n",
       "      <td>94612</td>\n",
       "      <td>29.026332</td>\n",
       "      <td>3266</td>\n",
       "      <td>Dekorationenmaler</td>\n",
       "    </tr>\n",
       "    <tr>\n",
       "      <th>13</th>\n",
       "      <td>Berufe in der Landwirtschaft (o.S.)</td>\n",
       "      <td>21.576590</td>\n",
       "      <td>1110</td>\n",
       "      <td>11101</td>\n",
       "      <td>78.423410</td>\n",
       "      <td>124357</td>\n",
       "      <td>Knecht</td>\n",
       "    </tr>\n",
       "    <tr>\n",
       "      <th>14</th>\n",
       "      <td>Apotheker, Pharmazeuten</td>\n",
       "      <td>83.810209</td>\n",
       "      <td>8180</td>\n",
       "      <td>81804</td>\n",
       "      <td>16.189791</td>\n",
       "      <td>37536</td>\n",
       "      <td>Apotheker</td>\n",
       "    </tr>\n",
       "    <tr>\n",
       "      <th>15</th>\n",
       "      <td>Berufe in der Bautischlerei</td>\n",
       "      <td>2.720148</td>\n",
       "      <td>3333</td>\n",
       "      <td>33332</td>\n",
       "      <td>97.279852</td>\n",
       "      <td>23859</td>\n",
       "      <td>Messebauer</td>\n",
       "    </tr>\n",
       "    <tr>\n",
       "      <th>16</th>\n",
       "      <td>Aufsicht,Führung-Krankenpfl.,Rettungsd.</td>\n",
       "      <td>78.356648</td>\n",
       "      <td>8139</td>\n",
       "      <td>81394</td>\n",
       "      <td>21.643352</td>\n",
       "      <td>36815</td>\n",
       "      <td>Pflegedienstleiter</td>\n",
       "    </tr>\n",
       "    <tr>\n",
       "      <th>17</th>\n",
       "      <td>Angehörige geistl. Orden, Mutterhäuser</td>\n",
       "      <td>62.571104</td>\n",
       "      <td>8333</td>\n",
       "      <td>83332</td>\n",
       "      <td>37.428896</td>\n",
       "      <td>879</td>\n",
       "      <td>Ordensbruder</td>\n",
       "    </tr>\n",
       "    <tr>\n",
       "      <th>18</th>\n",
       "      <td>Berufskraftfahrer(Personentransport/PKW)</td>\n",
       "      <td>13.962924</td>\n",
       "      <td>5211</td>\n",
       "      <td>52112</td>\n",
       "      <td>86.037076</td>\n",
       "      <td>74927</td>\n",
       "      <td>Taxifahrer</td>\n",
       "    </tr>\n",
       "    <tr>\n",
       "      <th>19</th>\n",
       "      <td>Mannequins, Dressmen, sonstige Models</td>\n",
       "      <td>88.775510</td>\n",
       "      <td>9423</td>\n",
       "      <td>94232</td>\n",
       "      <td>11.224490</td>\n",
       "      <td>98</td>\n",
       "      <td>Dressman</td>\n",
       "    </tr>\n",
       "  </tbody>\n",
       "</table>\n",
       "</div>"
      ],
      "text/plain": [
       "                                Berufsgruppe     Frauen  KldB  KldB5  \\\n",
       "0   Obj.Pers.Brandschutz,Arbeitssicherh(ssT)  37.700505  5318  53182   \n",
       "1   Musik-,Gesangs-, Dirigententätigk. (ssT)  35.508637  9418  94183   \n",
       "2   Aufsicht,Führung-TheaterFilm,Fernsehprod  40.187288  9449  94494   \n",
       "3        Führung - Allgemeinbildende Schulen  62.997543  8419  84194   \n",
       "4        Berufe für Post- und Zustelldienste  47.894039  5132  51321   \n",
       "5   Autoren/Autorinnen, Schriftsteller/innen  47.783251  9243  92434   \n",
       "6   Angehörige gesetzgebender Körperschaften  18.156809  7121  71214   \n",
       "7               Berufe in der Gemeindearbeit  58.613996  8332  83323   \n",
       "8   Berufe Informations,Telekommunikationst.  11.438161  2631  26313   \n",
       "9   Berufe Informations,Telekommunikationst.  11.438161  2631  26313   \n",
       "10    Angehörige geistl. Orden, Mutterhäuser  62.571104  8333  83332   \n",
       "11   Berufe im Veranstaltungsservice,-manag.  58.326084  6340  63401   \n",
       "12   Berufe i.d. Bühnen- und Kostümbildnerei  70.973668  9461  94612   \n",
       "13       Berufe in der Landwirtschaft (o.S.)  21.576590  1110  11101   \n",
       "14                   Apotheker, Pharmazeuten  83.810209  8180  81804   \n",
       "15               Berufe in der Bautischlerei   2.720148  3333  33332   \n",
       "16   Aufsicht,Führung-Krankenpfl.,Rettungsd.  78.356648  8139  81394   \n",
       "17    Angehörige geistl. Orden, Mutterhäuser  62.571104  8333  83332   \n",
       "18  Berufskraftfahrer(Personentransport/PKW)  13.962924  5211  52112   \n",
       "19     Mannequins, Dressmen, sonstige Models  88.775510  9423  94232   \n",
       "\n",
       "       Männer  Overall                 name  \n",
       "0   62.299495     8915        Hilfspolizist  \n",
       "1   64.491363      521        Audiodesigner  \n",
       "2   59.812712     5019  Filmgeschäftsführer  \n",
       "3   37.002457     2035             Direktor  \n",
       "4   52.105961   205963                 Bote  \n",
       "5   52.216749      812              Dichter  \n",
       "6   81.843191     2908        Bundeskanzler  \n",
       "7   41.386004    10303               Diakon  \n",
       "8   88.561839   191884      Medientechniker  \n",
       "9   88.561839   191884     Projektassistent  \n",
       "10  37.428896      879                Mönch  \n",
       "11  41.673916    27588                 Host  \n",
       "12  29.026332     3266    Dekorationenmaler  \n",
       "13  78.423410   124357               Knecht  \n",
       "14  16.189791    37536            Apotheker  \n",
       "15  97.279852    23859           Messebauer  \n",
       "16  21.643352    36815   Pflegedienstleiter  \n",
       "17  37.428896      879         Ordensbruder  \n",
       "18  86.037076    74927           Taxifahrer  \n",
       "19  11.224490       98             Dressman  "
      ]
     },
     "execution_count": 75,
     "metadata": {},
     "output_type": "execute_result"
    }
   ],
   "source": [
    "print \"Neutral ( male&female profession label on Wiki) [n={0}]:\".format(len(n_df))\n",
    "n_df"
   ]
  },
  {
   "cell_type": "code",
   "execution_count": 76,
   "metadata": {
    "collapsed": false
   },
   "outputs": [
    {
     "name": "stdout",
     "output_type": "stream",
     "text": [
      "Neutral (only neutral label exist) [n=35]:\n"
     ]
    },
    {
     "data": {
      "text/html": [
       "<div>\n",
       "<table border=\"1\" class=\"dataframe\">\n",
       "  <thead>\n",
       "    <tr style=\"text-align: right;\">\n",
       "      <th></th>\n",
       "      <th>Berufsgruppe</th>\n",
       "      <th>Frauen</th>\n",
       "      <th>KldB</th>\n",
       "      <th>KldB5</th>\n",
       "      <th>Männer</th>\n",
       "      <th>Overall</th>\n",
       "      <th>name</th>\n",
       "    </tr>\n",
       "  </thead>\n",
       "  <tbody>\n",
       "    <tr>\n",
       "      <th>0</th>\n",
       "      <td>Berufe in der Elektrotechnik (o.S.)</td>\n",
       "      <td>25.599873</td>\n",
       "      <td>2630</td>\n",
       "      <td>26302</td>\n",
       "      <td>74.400127</td>\n",
       "      <td>220505</td>\n",
       "      <td>Elektrofachkraft</td>\n",
       "    </tr>\n",
       "    <tr>\n",
       "      <th>1</th>\n",
       "      <td>Berufe Wasserversorgung,Abwassertechnik</td>\n",
       "      <td>3.556357</td>\n",
       "      <td>3431</td>\n",
       "      <td>34312</td>\n",
       "      <td>96.443643</td>\n",
       "      <td>27725</td>\n",
       "      <td>Fachkraft für Wasserversorgungstechnik</td>\n",
       "    </tr>\n",
       "    <tr>\n",
       "      <th>2</th>\n",
       "      <td>Athleten, Berufssportler</td>\n",
       "      <td>8.496605</td>\n",
       "      <td>9424</td>\n",
       "      <td>94243</td>\n",
       "      <td>91.503395</td>\n",
       "      <td>5155</td>\n",
       "      <td>Jockey</td>\n",
       "    </tr>\n",
       "    <tr>\n",
       "      <th>3</th>\n",
       "      <td>Berufe im Holz-, Möbel-, Innenausbau</td>\n",
       "      <td>3.901460</td>\n",
       "      <td>2234</td>\n",
       "      <td>22342</td>\n",
       "      <td>96.098540</td>\n",
       "      <td>143049</td>\n",
       "      <td>Fachkraft für Möbel-, Küchen- und Umzugsservice</td>\n",
       "    </tr>\n",
       "    <tr>\n",
       "      <th>4</th>\n",
       "      <td>Berufe in der Wasserwirtschaft</td>\n",
       "      <td>29.759646</td>\n",
       "      <td>3114</td>\n",
       "      <td>31142</td>\n",
       "      <td>70.240354</td>\n",
       "      <td>3162</td>\n",
       "      <td>Fachkraft für Wasserwirtschaft</td>\n",
       "    </tr>\n",
       "    <tr>\n",
       "      <th>5</th>\n",
       "      <td>Berufe in der Metallbearbeitung (o.S.)</td>\n",
       "      <td>18.449343</td>\n",
       "      <td>2420</td>\n",
       "      <td>24202</td>\n",
       "      <td>81.550657</td>\n",
       "      <td>396735</td>\n",
       "      <td>Fachkraft für Metalltechnik</td>\n",
       "    </tr>\n",
       "    <tr>\n",
       "      <th>6</th>\n",
       "      <td>Berufe im Objekt-,Werte-, Personenschutz</td>\n",
       "      <td>31.087103</td>\n",
       "      <td>5311</td>\n",
       "      <td>53112</td>\n",
       "      <td>68.912897</td>\n",
       "      <td>212059</td>\n",
       "      <td>Fachkraft für Schutz und Sicherheit</td>\n",
       "    </tr>\n",
       "    <tr>\n",
       "      <th>7</th>\n",
       "      <td>Berufe im Gastronomieservice (o.S.)</td>\n",
       "      <td>65.264831</td>\n",
       "      <td>6330</td>\n",
       "      <td>63302</td>\n",
       "      <td>34.735169</td>\n",
       "      <td>391439</td>\n",
       "      <td>Fachkraft im Gastgewerbe</td>\n",
       "    </tr>\n",
       "    <tr>\n",
       "      <th>8</th>\n",
       "      <td>Berufe i.d. Lebensmittelherstellung (oS)</td>\n",
       "      <td>38.666751</td>\n",
       "      <td>2920</td>\n",
       "      <td>29202</td>\n",
       "      <td>61.333249</td>\n",
       "      <td>126398</td>\n",
       "      <td>Fachkraft für Lebensmitteltechnik</td>\n",
       "    </tr>\n",
       "    <tr>\n",
       "      <th>9</th>\n",
       "      <td>Berufe in der Abfallwirtschaft</td>\n",
       "      <td>8.069793</td>\n",
       "      <td>3433</td>\n",
       "      <td>34332</td>\n",
       "      <td>91.930207</td>\n",
       "      <td>11004</td>\n",
       "      <td>Fachkraft für Kreislauf- und Abfallwirtschaft</td>\n",
       "    </tr>\n",
       "    <tr>\n",
       "      <th>10</th>\n",
       "      <td>Berufe Veranstaltungs- und Bühnentechnik</td>\n",
       "      <td>12.590514</td>\n",
       "      <td>9451</td>\n",
       "      <td>94512</td>\n",
       "      <td>87.409486</td>\n",
       "      <td>17815</td>\n",
       "      <td>Fachkraft für Veranstaltungstechnik</td>\n",
       "    </tr>\n",
       "    <tr>\n",
       "      <th>11</th>\n",
       "      <td>Aufsicht und Führung - Verkauf</td>\n",
       "      <td>51.144516</td>\n",
       "      <td>6219</td>\n",
       "      <td>62193</td>\n",
       "      <td>48.855484</td>\n",
       "      <td>96460</td>\n",
       "      <td>Kassenaufsicht</td>\n",
       "    </tr>\n",
       "    <tr>\n",
       "      <th>12</th>\n",
       "      <td>Berufe Arbeitssicherh. Sicherheitstech.</td>\n",
       "      <td>13.171087</td>\n",
       "      <td>5312</td>\n",
       "      <td>53123</td>\n",
       "      <td>86.828913</td>\n",
       "      <td>35707</td>\n",
       "      <td>Fachkraft für Arbeitssicherheit</td>\n",
       "    </tr>\n",
       "    <tr>\n",
       "      <th>13</th>\n",
       "      <td>Berufe für Post- und Zustelldienste</td>\n",
       "      <td>47.894039</td>\n",
       "      <td>5132</td>\n",
       "      <td>51322</td>\n",
       "      <td>52.105961</td>\n",
       "      <td>205963</td>\n",
       "      <td>Fachkraft für Kurier-, Express- und Postdienst...</td>\n",
       "    </tr>\n",
       "    <tr>\n",
       "      <th>14</th>\n",
       "      <td>Berufe im Bestattungswesen</td>\n",
       "      <td>26.259416</td>\n",
       "      <td>8240</td>\n",
       "      <td>82402</td>\n",
       "      <td>73.740584</td>\n",
       "      <td>8496</td>\n",
       "      <td>Bestattungsfachkraft</td>\n",
       "    </tr>\n",
       "    <tr>\n",
       "      <th>15</th>\n",
       "      <td>Berufe im Holz- und Bautenschutz</td>\n",
       "      <td>1.222494</td>\n",
       "      <td>3324</td>\n",
       "      <td>33242</td>\n",
       "      <td>98.777506</td>\n",
       "      <td>1636</td>\n",
       "      <td>Fachkraft für Holz- und Bautenschutzarbeiten</td>\n",
       "    </tr>\n",
       "    <tr>\n",
       "      <th>16</th>\n",
       "      <td>Berufe in der Landwirtschaft (o.S.)</td>\n",
       "      <td>21.576590</td>\n",
       "      <td>1110</td>\n",
       "      <td>11102</td>\n",
       "      <td>78.423410</td>\n",
       "      <td>124357</td>\n",
       "      <td>Fachkraft für Agrarservice</td>\n",
       "    </tr>\n",
       "    <tr>\n",
       "      <th>17</th>\n",
       "      <td>Berufe im Güter- und Warenumschlag</td>\n",
       "      <td>14.357637</td>\n",
       "      <td>5133</td>\n",
       "      <td>51332</td>\n",
       "      <td>85.642363</td>\n",
       "      <td>16486</td>\n",
       "      <td>Fachkraft für Hafenlogistik</td>\n",
       "    </tr>\n",
       "    <tr>\n",
       "      <th>18</th>\n",
       "      <td>Berufe in der Lederherstellung</td>\n",
       "      <td>34.473198</td>\n",
       "      <td>2831</td>\n",
       "      <td>28312</td>\n",
       "      <td>65.526802</td>\n",
       "      <td>1082</td>\n",
       "      <td>Fachkraft für Lederverarbeitung</td>\n",
       "    </tr>\n",
       "    <tr>\n",
       "      <th>19</th>\n",
       "      <td>Berufe in der Lagerwirtschaft</td>\n",
       "      <td>24.976831</td>\n",
       "      <td>5131</td>\n",
       "      <td>51312</td>\n",
       "      <td>75.023169</td>\n",
       "      <td>1265705</td>\n",
       "      <td>Fachkraft für Lagerwirtschaft</td>\n",
       "    </tr>\n",
       "    <tr>\n",
       "      <th>20</th>\n",
       "      <td>Berufe Wasserversorgung,Abwassertechnik</td>\n",
       "      <td>3.556357</td>\n",
       "      <td>3431</td>\n",
       "      <td>34312</td>\n",
       "      <td>96.443643</td>\n",
       "      <td>27725</td>\n",
       "      <td>Fachkraft für Rohr-, Kanal- und Industrieservice</td>\n",
       "    </tr>\n",
       "    <tr>\n",
       "      <th>21</th>\n",
       "      <td>Berufe i.d. Kinderbetreuung, -erziehung</td>\n",
       "      <td>91.017849</td>\n",
       "      <td>8311</td>\n",
       "      <td>83111</td>\n",
       "      <td>8.982151</td>\n",
       "      <td>732486</td>\n",
       "      <td>Au-pair</td>\n",
       "    </tr>\n",
       "    <tr>\n",
       "      <th>22</th>\n",
       "      <td>Berufe in der Chemie- und Pharmatechnik</td>\n",
       "      <td>26.783835</td>\n",
       "      <td>4131</td>\n",
       "      <td>41312</td>\n",
       "      <td>73.216165</td>\n",
       "      <td>179627</td>\n",
       "      <td>Produktionsfachkraft Chemie</td>\n",
       "    </tr>\n",
       "    <tr>\n",
       "      <th>23</th>\n",
       "      <td>Berufe im Dialogmarketing</td>\n",
       "      <td>60.041787</td>\n",
       "      <td>9212</td>\n",
       "      <td>92122</td>\n",
       "      <td>39.958213</td>\n",
       "      <td>147414</td>\n",
       "      <td>Servicefachkraft für Dialogmarketing</td>\n",
       "    </tr>\n",
       "    <tr>\n",
       "      <th>24</th>\n",
       "      <td>Berufe in der Bauelektrik</td>\n",
       "      <td>1.461264</td>\n",
       "      <td>2621</td>\n",
       "      <td>26212</td>\n",
       "      <td>98.538736</td>\n",
       "      <td>224121</td>\n",
       "      <td>Elektrofachkraft für festgelegte Tätigkeiten</td>\n",
       "    </tr>\n",
       "    <tr>\n",
       "      <th>25</th>\n",
       "      <td>Berufe Bauplanung Verkehrswege, -anlagen</td>\n",
       "      <td>22.241135</td>\n",
       "      <td>3113</td>\n",
       "      <td>31132</td>\n",
       "      <td>77.758865</td>\n",
       "      <td>3525</td>\n",
       "      <td>Fachkraft für Straßen- und Verkehrstechnik</td>\n",
       "    </tr>\n",
       "    <tr>\n",
       "      <th>26</th>\n",
       "      <td>Bus-, Straßenbahnfahrer/innen</td>\n",
       "      <td>11.630906</td>\n",
       "      <td>5213</td>\n",
       "      <td>52132</td>\n",
       "      <td>88.369094</td>\n",
       "      <td>119406</td>\n",
       "      <td>Fachkraft im Fahrbetrieb</td>\n",
       "    </tr>\n",
       "    <tr>\n",
       "      <th>27</th>\n",
       "      <td>Berufe Sozialverwaltung, versicherung</td>\n",
       "      <td>76.993323</td>\n",
       "      <td>7321</td>\n",
       "      <td>73214</td>\n",
       "      <td>23.006677</td>\n",
       "      <td>129106</td>\n",
       "      <td>Aufsichtsperson</td>\n",
       "    </tr>\n",
       "    <tr>\n",
       "      <th>28</th>\n",
       "      <td>Rechtsberatung,-sprechung,-ordnung (ssT)</td>\n",
       "      <td>57.932782</td>\n",
       "      <td>7318</td>\n",
       "      <td>73183</td>\n",
       "      <td>42.067218</td>\n",
       "      <td>26838</td>\n",
       "      <td>Rechtsbeistand</td>\n",
       "    </tr>\n",
       "    <tr>\n",
       "      <th>29</th>\n",
       "      <td>Berufe Wasserversorgung,Abwassertechnik</td>\n",
       "      <td>3.556357</td>\n",
       "      <td>3431</td>\n",
       "      <td>34312</td>\n",
       "      <td>96.443643</td>\n",
       "      <td>27725</td>\n",
       "      <td>Fachkraft für Abwassertechnik</td>\n",
       "    </tr>\n",
       "    <tr>\n",
       "      <th>30</th>\n",
       "      <td>Berufe i.d. spanenden Metallbearbeitung</td>\n",
       "      <td>2.737703</td>\n",
       "      <td>2423</td>\n",
       "      <td>24233</td>\n",
       "      <td>97.262297</td>\n",
       "      <td>195675</td>\n",
       "      <td>CNC-Fachkraft</td>\n",
       "    </tr>\n",
       "    <tr>\n",
       "      <th>31</th>\n",
       "      <td>Berufe Informations,Telekommunikationst.</td>\n",
       "      <td>11.438161</td>\n",
       "      <td>2631</td>\n",
       "      <td>26312</td>\n",
       "      <td>88.561839</td>\n",
       "      <td>191884</td>\n",
       "      <td>Elektrogerätefachkraft</td>\n",
       "    </tr>\n",
       "    <tr>\n",
       "      <th>32</th>\n",
       "      <td>Büro- und Sekretariatskräfte (o.S.)</td>\n",
       "      <td>79.444358</td>\n",
       "      <td>7140</td>\n",
       "      <td>71402</td>\n",
       "      <td>20.555642</td>\n",
       "      <td>1969075</td>\n",
       "      <td>Bürokraft</td>\n",
       "    </tr>\n",
       "    <tr>\n",
       "      <th>33</th>\n",
       "      <td>Berufe in der Süßwarenherstellung</td>\n",
       "      <td>57.693876</td>\n",
       "      <td>2926</td>\n",
       "      <td>29262</td>\n",
       "      <td>42.306124</td>\n",
       "      <td>12263</td>\n",
       "      <td>Fachkraft für Süßwarentechnik</td>\n",
       "    </tr>\n",
       "    <tr>\n",
       "      <th>34</th>\n",
       "      <td>Kaufleute im Automatenservice</td>\n",
       "      <td>31.104167</td>\n",
       "      <td>6114</td>\n",
       "      <td>61142</td>\n",
       "      <td>68.895833</td>\n",
       "      <td>4800</td>\n",
       "      <td>Fachkraft für Automatenservice</td>\n",
       "    </tr>\n",
       "  </tbody>\n",
       "</table>\n",
       "</div>"
      ],
      "text/plain": [
       "                                Berufsgruppe     Frauen  KldB  KldB5  \\\n",
       "0        Berufe in der Elektrotechnik (o.S.)  25.599873  2630  26302   \n",
       "1    Berufe Wasserversorgung,Abwassertechnik   3.556357  3431  34312   \n",
       "2                   Athleten, Berufssportler   8.496605  9424  94243   \n",
       "3       Berufe im Holz-, Möbel-, Innenausbau   3.901460  2234  22342   \n",
       "4             Berufe in der Wasserwirtschaft  29.759646  3114  31142   \n",
       "5     Berufe in der Metallbearbeitung (o.S.)  18.449343  2420  24202   \n",
       "6   Berufe im Objekt-,Werte-, Personenschutz  31.087103  5311  53112   \n",
       "7        Berufe im Gastronomieservice (o.S.)  65.264831  6330  63302   \n",
       "8   Berufe i.d. Lebensmittelherstellung (oS)  38.666751  2920  29202   \n",
       "9             Berufe in der Abfallwirtschaft   8.069793  3433  34332   \n",
       "10  Berufe Veranstaltungs- und Bühnentechnik  12.590514  9451  94512   \n",
       "11            Aufsicht und Führung - Verkauf  51.144516  6219  62193   \n",
       "12   Berufe Arbeitssicherh. Sicherheitstech.  13.171087  5312  53123   \n",
       "13       Berufe für Post- und Zustelldienste  47.894039  5132  51322   \n",
       "14                Berufe im Bestattungswesen  26.259416  8240  82402   \n",
       "15          Berufe im Holz- und Bautenschutz   1.222494  3324  33242   \n",
       "16       Berufe in der Landwirtschaft (o.S.)  21.576590  1110  11102   \n",
       "17        Berufe im Güter- und Warenumschlag  14.357637  5133  51332   \n",
       "18            Berufe in der Lederherstellung  34.473198  2831  28312   \n",
       "19             Berufe in der Lagerwirtschaft  24.976831  5131  51312   \n",
       "20   Berufe Wasserversorgung,Abwassertechnik   3.556357  3431  34312   \n",
       "21   Berufe i.d. Kinderbetreuung, -erziehung  91.017849  8311  83111   \n",
       "22   Berufe in der Chemie- und Pharmatechnik  26.783835  4131  41312   \n",
       "23                 Berufe im Dialogmarketing  60.041787  9212  92122   \n",
       "24                 Berufe in der Bauelektrik   1.461264  2621  26212   \n",
       "25  Berufe Bauplanung Verkehrswege, -anlagen  22.241135  3113  31132   \n",
       "26             Bus-, Straßenbahnfahrer/innen  11.630906  5213  52132   \n",
       "27     Berufe Sozialverwaltung, versicherung  76.993323  7321  73214   \n",
       "28  Rechtsberatung,-sprechung,-ordnung (ssT)  57.932782  7318  73183   \n",
       "29   Berufe Wasserversorgung,Abwassertechnik   3.556357  3431  34312   \n",
       "30   Berufe i.d. spanenden Metallbearbeitung   2.737703  2423  24233   \n",
       "31  Berufe Informations,Telekommunikationst.  11.438161  2631  26312   \n",
       "32       Büro- und Sekretariatskräfte (o.S.)  79.444358  7140  71402   \n",
       "33         Berufe in der Süßwarenherstellung  57.693876  2926  29262   \n",
       "34             Kaufleute im Automatenservice  31.104167  6114  61142   \n",
       "\n",
       "       Männer  Overall                                               name  \n",
       "0   74.400127   220505                                   Elektrofachkraft  \n",
       "1   96.443643    27725             Fachkraft für Wasserversorgungstechnik  \n",
       "2   91.503395     5155                                             Jockey  \n",
       "3   96.098540   143049    Fachkraft für Möbel-, Küchen- und Umzugsservice  \n",
       "4   70.240354     3162                     Fachkraft für Wasserwirtschaft  \n",
       "5   81.550657   396735                        Fachkraft für Metalltechnik  \n",
       "6   68.912897   212059                Fachkraft für Schutz und Sicherheit  \n",
       "7   34.735169   391439                           Fachkraft im Gastgewerbe  \n",
       "8   61.333249   126398                  Fachkraft für Lebensmitteltechnik  \n",
       "9   91.930207    11004      Fachkraft für Kreislauf- und Abfallwirtschaft  \n",
       "10  87.409486    17815                Fachkraft für Veranstaltungstechnik  \n",
       "11  48.855484    96460                                     Kassenaufsicht  \n",
       "12  86.828913    35707                    Fachkraft für Arbeitssicherheit  \n",
       "13  52.105961   205963  Fachkraft für Kurier-, Express- und Postdienst...  \n",
       "14  73.740584     8496                               Bestattungsfachkraft  \n",
       "15  98.777506     1636       Fachkraft für Holz- und Bautenschutzarbeiten  \n",
       "16  78.423410   124357                         Fachkraft für Agrarservice  \n",
       "17  85.642363    16486                        Fachkraft für Hafenlogistik  \n",
       "18  65.526802     1082                    Fachkraft für Lederverarbeitung  \n",
       "19  75.023169  1265705                      Fachkraft für Lagerwirtschaft  \n",
       "20  96.443643    27725   Fachkraft für Rohr-, Kanal- und Industrieservice  \n",
       "21   8.982151   732486                                            Au-pair  \n",
       "22  73.216165   179627                        Produktionsfachkraft Chemie  \n",
       "23  39.958213   147414               Servicefachkraft für Dialogmarketing  \n",
       "24  98.538736   224121       Elektrofachkraft für festgelegte Tätigkeiten  \n",
       "25  77.758865     3525         Fachkraft für Straßen- und Verkehrstechnik  \n",
       "26  88.369094   119406                           Fachkraft im Fahrbetrieb  \n",
       "27  23.006677   129106                                    Aufsichtsperson  \n",
       "28  42.067218    26838                                     Rechtsbeistand  \n",
       "29  96.443643    27725                      Fachkraft für Abwassertechnik  \n",
       "30  97.262297   195675                                      CNC-Fachkraft  \n",
       "31  88.561839   191884                             Elektrogerätefachkraft  \n",
       "32  20.555642  1969075                                          Bürokraft  \n",
       "33  42.306124    12263                      Fachkraft für Süßwarentechnik  \n",
       "34  68.895833     4800                     Fachkraft für Automatenservice  "
      ]
     },
     "execution_count": 76,
     "metadata": {},
     "output_type": "execute_result"
    }
   ],
   "source": [
    "print \"Neutral (only neutral label exist) [n={0}]:\".format(len(n_n_df))\n",
    "n_n_df "
   ]
  },
  {
   "cell_type": "markdown",
   "metadata": {},
   "source": [
    "### var1"
   ]
  },
  {
   "cell_type": "code",
   "execution_count": 66,
   "metadata": {
    "collapsed": false
   },
   "outputs": [
    {
     "data": {
      "image/png": "[encoded data removed]",
      "text/plain": [
       "<matplotlib.figure.Figure at 0x13db0610>"
      ]
     },
     "metadata": {},
     "output_type": "display_data"
    }
   ],
   "source": [
    "f_=f_df.Frauen.tolist()\n",
    "n_=n_df.Frauen.tolist()\n",
    "m_=m_df.Frauen.tolist()\n",
    "n_n_=n_n_df.Frauen.tolist()\n",
    "\n",
    "fig1 = pyplot.figure()\n",
    "pyplot.xlabel('men/women in the labour market,%')\n",
    "pyplot.ylabel('pages that exist on Wikipeia')\n",
    "pyplot.xlim(0,100)\n",
    "pyplot.ylim(0,3.5)\n",
    "min_x,max_x,min_y,max_y = pyplot.axis()\n",
    "p1,=pyplot.plot(f_,[3]*len(f_),\".\",c=\"r\")\n",
    "p4,=pyplot.plot(n_n_,[2]*len(n_n_),\".\",c=\"y\")\n",
    "p2,=pyplot.plot(n_,[2]*len(n_),\".\",c=\"g\")\n",
    "p3,=pyplot.plot(m_,[1]*len(m_),\".\",c=\"b\")\n",
    "\n",
    "pyplot.yticks([1,2,3],[\"only male\\n[male bias]\",\"female&male\\n AND neutral\\n[neutral]\",\"only female\\n[female bias]\"])\n",
    "pyplot.xticks(np.arange(0, 101, 20),[\"100% men\\n0\",\"20\\n80\",\"40\\n60\",\"60\\n40\",\"80\\n20\",\"0\\nwomen 100%\"])\n",
    "\n",
    "line,=pyplot.plot([66.7]*2,[min_y,max_y],\"--\",c=\"g\")\n",
    "line,=pyplot.plot([33.4]*2,[min_y,max_y],\"--\",c=\"g\")\n",
    "line,=pyplot.plot([min_x,max_x],[2.5]*2,\"--\",c=\"g\")\n",
    "line,=pyplot.plot([min_x,max_x],[1.5]*2,\"--\",c=\"g\")"
   ]
  },
  {
   "cell_type": "code",
   "execution_count": 34,
   "metadata": {
    "collapsed": false
   },
   "outputs": [
    {
     "name": "stdout",
     "output_type": "stream",
     "text": [
      "Ratio of professions from male bias that have more than 50% of women 0.363164721141\n"
     ]
    }
   ],
   "source": [
    "print \"Ratio of professions from male bias that have more than 50% of women\",float(len(m_df[m_df.Frauen>50]))/float(len(m_df))  "
   ]
  },
  {
   "cell_type": "code",
   "execution_count": 68,
   "metadata": {
    "collapsed": false
   },
   "outputs": [
    {
     "data": {
      "text/plain": [
       "<matplotlib.text.Text at 0x8c61b10>"
      ]
     },
     "execution_count": 68,
     "metadata": {},
     "output_type": "execute_result"
    },
    {
     "data": {
      "image/png": "[encoded data removed]",
      "text/plain": [
       "<matplotlib.figure.Figure at 0x896dfb0>"
      ]
     },
     "metadata": {},
     "output_type": "display_data"
    }
   ],
   "source": [
    "f_df2=f_df.Frauen\n",
    "m_df2=m_df.Frauen\n",
    "n_df2=pd.concat([n_df.Frauen,n_n_df.Frauen])\n",
    "pyplot.boxplot([f_df2,n_df2,m_df2])\n",
    "pyplot.xticks([1,2,3],[\"female bias\\n[n={}]\".format(len(f_df2)),\"neutral\\n[n={}]\".format(len(n_df2)),\"male bias\\n[n={}]\".format(len(m_df2))])\n",
    "pyplot.ylabel(\"women in labour market, %\")\n",
    "#pyplot.xlabel(\"Profession labels of Wiki pages\")"
   ]
  },
  {
   "cell_type": "markdown",
   "metadata": {},
   "source": [
    "### var2"
   ]
  },
  {
   "cell_type": "code",
   "execution_count": 79,
   "metadata": {
    "collapsed": false
   },
   "outputs": [
    {
     "data": {
      "image/png": "[encoded data removed]",
      "text/plain": [
       "<matplotlib.figure.Figure at 0x143f4af0>"
      ]
     },
     "metadata": {},
     "output_type": "display_data"
    }
   ],
   "source": [
    "fig1 = pyplot.figure()\n",
    "pyplot.xlabel('men/women in the labour market,%')\n",
    "pyplot.ylabel('pages that exist on Wikipeia')\n",
    "pyplot.xlim(0,100)\n",
    "pyplot.ylim(0,3.5)\n",
    "min_x,max_x,min_y,max_y = pyplot.axis()\n",
    "p1,=pyplot.plot(f_,[3]*len(f_),\".\",c=\"r\")\n",
    "p2,=pyplot.plot(n_,[2]*len(n_),\".\",c=\"g\")\n",
    "p3,=pyplot.plot(m_,[1]*len(m_),\".\",c=\"b\")\n",
    "\n",
    "pyplot.yticks([1,2,3],[\"only male\\n[male bias]\",\"female&male\\n[no bias]\",\"only female\\n[female bias]\"])\n",
    "pyplot.xticks(np.arange(0, 101, 20),[\"100% men\\n0\",\"20\\n80\",\"40\\n60\",\"60\\n40\",\"80\\n20\",\"0\\nwomen 100%\"])\n",
    "\n",
    "line,=pyplot.plot([66.7]*2,[min_y,max_y],\"--\",c=\"g\")\n",
    "line,=pyplot.plot([33.4]*2,[min_y,max_y],\"--\",c=\"g\")\n",
    "line,=pyplot.plot([min_x,max_x],[2.5]*2,\"--\",c=\"g\")\n",
    "line,=pyplot.plot([min_x,max_x],[1.5]*2,\"--\",c=\"g\")"
   ]
  },
  {
   "cell_type": "code",
   "execution_count": 78,
   "metadata": {
    "collapsed": false
   },
   "outputs": [
    {
     "data": {
      "text/plain": [
       "<matplotlib.text.Text at 0x142193d0>"
      ]
     },
     "execution_count": 78,
     "metadata": {},
     "output_type": "execute_result"
    },
    {
     "data": {
      "image/png": "[encoded data removed]",
      "text/plain": [
       "<matplotlib.figure.Figure at 0x13bd53d0>"
      ]
     },
     "metadata": {},
     "output_type": "display_data"
    }
   ],
   "source": [
    "f_df2=f_df.Frauen\n",
    "m_df2=m_df.Frauen\n",
    "n_df2=n_df.Frauen\n",
    "pyplot.boxplot([f_df2,n_df2,m_df2])\n",
    "pyplot.xticks([1,2,3],[\"female bias\\n[n={}]\".format(len(f_df2)),\"no bias(female&male page)\\n[n={}]\".format(len(n_df2)),\"male bias\\n[n={}]\".format(len(m_df2))])\n",
    "\n",
    "pyplot.ylabel(\"women in labour market, %\")\n",
    "#pyplot.xlabel(\"Profession labels of Wiki pages\")"
   ]
  },
  {
   "cell_type": "markdown",
   "metadata": {},
   "source": [
    "# significanse test "
   ]
  },
  {
   "cell_type": "markdown",
   "metadata": {},
   "source": [
    "Then we check whether all groups follow the same distribution. In order to do so, we perform Mann-Whitney-Wilcoxon RankSum test. The null hypothesis is that all instances of two groups are independent and identically distributed. The alternative hypothesis is that all instances of the first group are independent and identically distributed according to some underlying distribution F_X and all instances of the second group are independent and identically distributed according to some underlying distribution F_Y but F_X differs from F_Y."
   ]
  },
  {
   "cell_type": "markdown",
   "metadata": {},
   "source": [
    "## var1"
   ]
  },
  {
   "cell_type": "code",
   "execution_count": 72,
   "metadata": {
    "collapsed": false
   },
   "outputs": [
    {
     "name": "stdout",
     "output_type": "stream",
     "text": [
      "MWW RankSum P for male and female distributions = 0.000931238156522 z_stat= -3.31051693915\n",
      "MWW RankSum P for male and neutral distributions = 0.389200925688 z_stat= 0.861067394681\n",
      "MWW RankSum P for neutral and female distributions = 0.000831529682391 z_stat= -3.34208040991\n"
     ]
    }
   ],
   "source": [
    "z_stat, p_val = stats.ranksums(m_, f_)  \n",
    "print \"MWW RankSum P for male and female distributions =\", p_val , \"z_stat=\",z_stat\n",
    "z_stat, p_val = stats.ranksums(m_, n_+n_n_)   \n",
    "print \"MWW RankSum P for male and neutral distributions =\", p_val ,\"z_stat=\",z_stat\n",
    "z_stat, p_val = stats.ranksums(n_+n_n_, f_)  \n",
    "print \"MWW RankSum P for neutral and female distributions =\", p_val  , \"z_stat=\",z_stat"
   ]
  },
  {
   "cell_type": "code",
   "execution_count": 73,
   "metadata": {
    "collapsed": false
   },
   "outputs": [
    {
     "name": "stdout",
     "output_type": "stream",
     "text": [
      "MWW RankSum P for all together and female distributions = 0.00095861396812 z_stat= -3.30239960501\n",
      "MWW RankSum P for all together and female distributions = 0.381618900599 z_stat= 0.87491730851\n",
      "MWW RankSum P for all together and female distributions = 0.970623782382 z_stat= 0.0368259507382\n"
     ]
    }
   ],
   "source": [
    "z_stat, p_val = stats.ranksums(n_+n_n_+m_+f_, f_)  \n",
    "print \"MWW RankSum P for all together and female distributions =\", p_val , \"z_stat=\",z_stat\n",
    "z_stat, p_val = stats.ranksums(n_+n_n_+f_+m_, n_+n_n_)  \n",
    "print \"MWW RankSum P for all together and female distributions =\", p_val , \"z_stat=\",z_stat\n",
    "z_stat, p_val = stats.ranksums(n_+n_n_+f_+m_, m_)  \n",
    "print \"MWW RankSum P for all together and female distributions =\", p_val , \"z_stat=\",z_stat"
   ]
  },
  {
   "cell_type": "markdown",
   "metadata": {},
   "source": [
    "| | p-val | z |\n",
    "| :-|:-:|:-:|\n",
    "| male bias & female bias |    0.000     |    -3.31    | \n",
    "| male bias & neutral |     0.389     |    0.86    |  \n",
    "| neutral & female bias |     0.000     |      -3.34    | \n",
    "| all_together & female bias |     0.001    |     -3.30    | \n",
    "| all_together & neutral |     0.381    |     -1.10    | \n",
    "| all_together & male bias |     0.970    |     0.036    | \n"
   ]
  },
  {
   "cell_type": "markdown",
   "metadata": {},
   "source": [
    "## var2"
   ]
  },
  {
   "cell_type": "code",
   "execution_count": 40,
   "metadata": {
    "collapsed": false
   },
   "outputs": [
    {
     "name": "stdout",
     "output_type": "stream",
     "text": [
      "MWW RankSum P for male and female distributions = 0.000931238156522 z_stat= -3.31051693915\n",
      "MWW RankSum P for male and neutral distributions = 0.23404526299 z_stat= -1.19000287262\n",
      "MWW RankSum P for neutral and female distributions = 0.00616989932054 z_stat= -2.73861278753\n"
     ]
    }
   ],
   "source": [
    "from scipy import stats  \n",
    "  \n",
    "z_stat, p_val = stats.ranksums(m_, f_)   \n",
    "print \"MWW RankSum P for male and female distributions =\", p_val , \"z_stat=\",z_stat\n",
    "z_stat, p_val = stats.ranksums(m_, n_)  \n",
    "print \"MWW RankSum P for male and neutral distributions =\", p_val ,\"z_stat=\",z_stat\n",
    "z_stat, p_val = stats.ranksums(n_, f_)  \n",
    "print \"MWW RankSum P for neutral and female distributions =\", p_val  , \"z_stat=\",z_stat"
   ]
  },
  {
   "cell_type": "code",
   "execution_count": 8,
   "metadata": {
    "collapsed": false
   },
   "outputs": [
    {
     "name": "stdout",
     "output_type": "stream",
     "text": [
      "MWW RankSum P for all together and female distributions = 0.00102894329705 z_stat= -3.28249083683\n",
      "MWW RankSum P for all together and female distributions = 0.267641460666 z_stat= -1.10851037568\n",
      "MWW RankSum P for all together and female distributions = 0.73672221957 z_stat= 0.336197126605\n"
     ]
    }
   ],
   "source": [
    "z_stat, p_val = stats.ranksums(n_+m_+f_, f_)  \n",
    "print \"MWW RankSum P for all together and female distributions =\", p_val , \"z_stat=\",z_stat\n",
    "z_stat, p_val = stats.ranksums(n_+f_+m_, n_)  \n",
    "print \"MWW RankSum P for all together and female distributions =\", p_val , \"z_stat=\",z_stat\n",
    "z_stat, p_val = stats.ranksums(n_+f_+m_, m_)  \n",
    "print \"MWW RankSum P for all together and female distributions =\", p_val , \"z_stat=\",z_stat"
   ]
  },
  {
   "cell_type": "markdown",
   "metadata": {},
   "source": [
    "| | p-val | z |\n",
    "| :-|:-:|:-:|\n",
    "| male bias & female bias |    0.000     |    -3.31    | \n",
    "| male bias & neutral |     0.234     |    -1.19    |  \n",
    "| neutral & female bias |     0.006     |      -2.73    | \n",
    "| all_together & female bias |     0.001    |     -3.28    | \n",
    "| all_together & neutral |     0.267    |     -1.10    | \n",
    "| all_together & male bias |     0.736    |     0.33    | \n"
   ]
  },
  {
   "cell_type": "markdown",
   "metadata": {},
   "source": [
    "We can reject null hypothesis for pairs male-female,neutral-female and all_together-female, i.e., two distributions are significantly different. In other words female professions that are represented in Wikipedia has significantly different distribution of involved in profession women. "
   ]
  },
  {
   "cell_type": "markdown",
   "metadata": {},
   "source": [
    "# Plot for existing pages====> 2nd VARIANT"
   ]
  },
  {
   "cell_type": "code",
   "execution_count": 80,
   "metadata": {
    "collapsed": false
   },
   "outputs": [],
   "source": [
    "all_together = pd.concat([n_df,n_n_df,f_df,m_df],ignore_index=True)"
   ]
  },
  {
   "cell_type": "code",
   "execution_count": 81,
   "metadata": {
    "collapsed": false
   },
   "outputs": [],
   "source": [
    "f_val=load_simple_json('de/wiki/f_page_validated.json')\n",
    "f_amb=load_simple_json('de/wiki/f_page_ambigious.json')\n",
    "n_pages=load_simple_json('de/wiki/n_page_validated.json')\n",
    "\n",
    "words=load_simple_json('de/occupation_all.json')\n",
    "words_revert={words[i][1]:i for i in words}#feminine:masculine\n",
    "f_val_m=[]\n",
    "f_val_m_onlyval=[]\n",
    "for i in f_val:\n",
    "    f_val_m.append(words_revert[i])\n",
    "    f_val_m_onlyval.append(words_revert[i])\n",
    "for i in f_amb:\n",
    "    f_val_m.append(words_revert[i])"
   ]
  },
  {
   "cell_type": "code",
   "execution_count": 82,
   "metadata": {
    "collapsed": false
   },
   "outputs": [
    {
     "name": "stdout",
     "output_type": "stream",
     "text": [
      "Professions that have female label at Wikipedia:\n"
     ]
    },
    {
     "data": {
      "text/html": [
       "<div>\n",
       "<table border=\"1\" class=\"dataframe\">\n",
       "  <thead>\n",
       "    <tr style=\"text-align: right;\">\n",
       "      <th></th>\n",
       "      <th>Berufsgruppe</th>\n",
       "      <th>Frauen</th>\n",
       "      <th>KldB</th>\n",
       "      <th>KldB5</th>\n",
       "      <th>Männer</th>\n",
       "      <th>Overall</th>\n",
       "      <th>name</th>\n",
       "    </tr>\n",
       "  </thead>\n",
       "  <tbody>\n",
       "    <tr>\n",
       "      <th>0</th>\n",
       "      <td>Obj.Pers.Brandschutz,Arbeitssicherh(ssT)</td>\n",
       "      <td>37.700505</td>\n",
       "      <td>5318</td>\n",
       "      <td>53182</td>\n",
       "      <td>62.299495</td>\n",
       "      <td>8915</td>\n",
       "      <td>Hilfspolizist</td>\n",
       "    </tr>\n",
       "    <tr>\n",
       "      <th>3</th>\n",
       "      <td>Führung - Allgemeinbildende Schulen</td>\n",
       "      <td>62.997543</td>\n",
       "      <td>8419</td>\n",
       "      <td>84194</td>\n",
       "      <td>37.002457</td>\n",
       "      <td>2035</td>\n",
       "      <td>Direktor</td>\n",
       "    </tr>\n",
       "    <tr>\n",
       "      <th>4</th>\n",
       "      <td>Berufe für Post- und Zustelldienste</td>\n",
       "      <td>47.894039</td>\n",
       "      <td>5132</td>\n",
       "      <td>51321</td>\n",
       "      <td>52.105961</td>\n",
       "      <td>205963</td>\n",
       "      <td>Bote</td>\n",
       "    </tr>\n",
       "    <tr>\n",
       "      <th>5</th>\n",
       "      <td>Autoren/Autorinnen, Schriftsteller/innen</td>\n",
       "      <td>47.783251</td>\n",
       "      <td>9243</td>\n",
       "      <td>92434</td>\n",
       "      <td>52.216749</td>\n",
       "      <td>812</td>\n",
       "      <td>Dichter</td>\n",
       "    </tr>\n",
       "    <tr>\n",
       "      <th>6</th>\n",
       "      <td>Angehörige gesetzgebender Körperschaften</td>\n",
       "      <td>18.156809</td>\n",
       "      <td>7121</td>\n",
       "      <td>71214</td>\n",
       "      <td>81.843191</td>\n",
       "      <td>2908</td>\n",
       "      <td>Bundeskanzler</td>\n",
       "    </tr>\n",
       "    <tr>\n",
       "      <th>7</th>\n",
       "      <td>Berufe in der Gemeindearbeit</td>\n",
       "      <td>58.613996</td>\n",
       "      <td>8332</td>\n",
       "      <td>83323</td>\n",
       "      <td>41.386004</td>\n",
       "      <td>10303</td>\n",
       "      <td>Diakon</td>\n",
       "    </tr>\n",
       "    <tr>\n",
       "      <th>10</th>\n",
       "      <td>Angehörige geistl. Orden, Mutterhäuser</td>\n",
       "      <td>62.571104</td>\n",
       "      <td>8333</td>\n",
       "      <td>83332</td>\n",
       "      <td>37.428896</td>\n",
       "      <td>879</td>\n",
       "      <td>Mönch</td>\n",
       "    </tr>\n",
       "    <tr>\n",
       "      <th>11</th>\n",
       "      <td>Berufe im Veranstaltungsservice,-manag.</td>\n",
       "      <td>58.326084</td>\n",
       "      <td>6340</td>\n",
       "      <td>63401</td>\n",
       "      <td>41.673916</td>\n",
       "      <td>27588</td>\n",
       "      <td>Host</td>\n",
       "    </tr>\n",
       "    <tr>\n",
       "      <th>13</th>\n",
       "      <td>Berufe in der Landwirtschaft (o.S.)</td>\n",
       "      <td>21.576590</td>\n",
       "      <td>1110</td>\n",
       "      <td>11101</td>\n",
       "      <td>78.423410</td>\n",
       "      <td>124357</td>\n",
       "      <td>Knecht</td>\n",
       "    </tr>\n",
       "    <tr>\n",
       "      <th>14</th>\n",
       "      <td>Apotheker, Pharmazeuten</td>\n",
       "      <td>83.810209</td>\n",
       "      <td>8180</td>\n",
       "      <td>81804</td>\n",
       "      <td>16.189791</td>\n",
       "      <td>37536</td>\n",
       "      <td>Apotheker</td>\n",
       "    </tr>\n",
       "    <tr>\n",
       "      <th>17</th>\n",
       "      <td>Angehörige geistl. Orden, Mutterhäuser</td>\n",
       "      <td>62.571104</td>\n",
       "      <td>8333</td>\n",
       "      <td>83332</td>\n",
       "      <td>37.428896</td>\n",
       "      <td>879</td>\n",
       "      <td>Ordensbruder</td>\n",
       "    </tr>\n",
       "    <tr>\n",
       "      <th>18</th>\n",
       "      <td>Berufskraftfahrer(Personentransport/PKW)</td>\n",
       "      <td>13.962924</td>\n",
       "      <td>5211</td>\n",
       "      <td>52112</td>\n",
       "      <td>86.037076</td>\n",
       "      <td>74927</td>\n",
       "      <td>Taxifahrer</td>\n",
       "    </tr>\n",
       "    <tr>\n",
       "      <th>19</th>\n",
       "      <td>Mannequins, Dressmen, sonstige Models</td>\n",
       "      <td>88.775510</td>\n",
       "      <td>9423</td>\n",
       "      <td>94232</td>\n",
       "      <td>11.224490</td>\n",
       "      <td>98</td>\n",
       "      <td>Dressman</td>\n",
       "    </tr>\n",
       "    <tr>\n",
       "      <th>55</th>\n",
       "      <td>Berufe in der Hauswirtschaft</td>\n",
       "      <td>93.691910</td>\n",
       "      <td>8321</td>\n",
       "      <td>83212</td>\n",
       "      <td>6.308090</td>\n",
       "      <td>190866</td>\n",
       "      <td>Haushälter</td>\n",
       "    </tr>\n",
       "    <tr>\n",
       "      <th>56</th>\n",
       "      <td>Betriebsinterne Wahlämter</td>\n",
       "      <td>32.042925</td>\n",
       "      <td>7123</td>\n",
       "      <td>71234</td>\n",
       "      <td>67.957075</td>\n",
       "      <td>12580</td>\n",
       "      <td>Gleichstellungsbeauftragter</td>\n",
       "    </tr>\n",
       "    <tr>\n",
       "      <th>57</th>\n",
       "      <td>Berufe Geburtshilfe, Entbindungspflege</td>\n",
       "      <td>99.843137</td>\n",
       "      <td>8135</td>\n",
       "      <td>81353</td>\n",
       "      <td>0.156863</td>\n",
       "      <td>10200</td>\n",
       "      <td>Entbindungspfleger</td>\n",
       "    </tr>\n",
       "    <tr>\n",
       "      <th>58</th>\n",
       "      <td>Berufe Gesundheits-, Krankenpflege (o.S)</td>\n",
       "      <td>84.959672</td>\n",
       "      <td>8130</td>\n",
       "      <td>81301</td>\n",
       "      <td>15.040328</td>\n",
       "      <td>807755</td>\n",
       "      <td>Pflegediensthelfer</td>\n",
       "    </tr>\n",
       "    <tr>\n",
       "      <th>59</th>\n",
       "      <td>Berufe in der Hauswirtschaft</td>\n",
       "      <td>93.691910</td>\n",
       "      <td>8321</td>\n",
       "      <td>83212</td>\n",
       "      <td>6.308090</td>\n",
       "      <td>190866</td>\n",
       "      <td>Beschließer</td>\n",
       "    </tr>\n",
       "    <tr>\n",
       "      <th>60</th>\n",
       "      <td>Berufe Geburtshilfe, Entbindungspflege</td>\n",
       "      <td>99.843137</td>\n",
       "      <td>8135</td>\n",
       "      <td>81353</td>\n",
       "      <td>0.156863</td>\n",
       "      <td>10200</td>\n",
       "      <td>Belegentbindungspfleger</td>\n",
       "    </tr>\n",
       "  </tbody>\n",
       "</table>\n",
       "</div>"
      ],
      "text/plain": [
       "                                Berufsgruppe     Frauen  KldB  KldB5  \\\n",
       "0   Obj.Pers.Brandschutz,Arbeitssicherh(ssT)  37.700505  5318  53182   \n",
       "3        Führung - Allgemeinbildende Schulen  62.997543  8419  84194   \n",
       "4        Berufe für Post- und Zustelldienste  47.894039  5132  51321   \n",
       "5   Autoren/Autorinnen, Schriftsteller/innen  47.783251  9243  92434   \n",
       "6   Angehörige gesetzgebender Körperschaften  18.156809  7121  71214   \n",
       "7               Berufe in der Gemeindearbeit  58.613996  8332  83323   \n",
       "10    Angehörige geistl. Orden, Mutterhäuser  62.571104  8333  83332   \n",
       "11   Berufe im Veranstaltungsservice,-manag.  58.326084  6340  63401   \n",
       "13       Berufe in der Landwirtschaft (o.S.)  21.576590  1110  11101   \n",
       "14                   Apotheker, Pharmazeuten  83.810209  8180  81804   \n",
       "17    Angehörige geistl. Orden, Mutterhäuser  62.571104  8333  83332   \n",
       "18  Berufskraftfahrer(Personentransport/PKW)  13.962924  5211  52112   \n",
       "19     Mannequins, Dressmen, sonstige Models  88.775510  9423  94232   \n",
       "55              Berufe in der Hauswirtschaft  93.691910  8321  83212   \n",
       "56                 Betriebsinterne Wahlämter  32.042925  7123  71234   \n",
       "57    Berufe Geburtshilfe, Entbindungspflege  99.843137  8135  81353   \n",
       "58  Berufe Gesundheits-, Krankenpflege (o.S)  84.959672  8130  81301   \n",
       "59              Berufe in der Hauswirtschaft  93.691910  8321  83212   \n",
       "60    Berufe Geburtshilfe, Entbindungspflege  99.843137  8135  81353   \n",
       "\n",
       "       Männer  Overall                         name  \n",
       "0   62.299495     8915                Hilfspolizist  \n",
       "3   37.002457     2035                     Direktor  \n",
       "4   52.105961   205963                         Bote  \n",
       "5   52.216749      812                      Dichter  \n",
       "6   81.843191     2908                Bundeskanzler  \n",
       "7   41.386004    10303                       Diakon  \n",
       "10  37.428896      879                        Mönch  \n",
       "11  41.673916    27588                         Host  \n",
       "13  78.423410   124357                       Knecht  \n",
       "14  16.189791    37536                    Apotheker  \n",
       "17  37.428896      879                 Ordensbruder  \n",
       "18  86.037076    74927                   Taxifahrer  \n",
       "19  11.224490       98                     Dressman  \n",
       "55   6.308090   190866                   Haushälter  \n",
       "56  67.957075    12580  Gleichstellungsbeauftragter  \n",
       "57   0.156863    10200           Entbindungspfleger  \n",
       "58  15.040328   807755           Pflegediensthelfer  \n",
       "59   6.308090   190866                  Beschließer  \n",
       "60   0.156863    10200      Belegentbindungspfleger  "
      ]
     },
     "execution_count": 82,
     "metadata": {},
     "output_type": "execute_result"
    }
   ],
   "source": [
    "print \"Professions that have female label at Wikipedia:\"\n",
    "all_together[all_together[\"name\"].isin(f_val_m)]"
   ]
  },
  {
   "cell_type": "code",
   "execution_count": 83,
   "metadata": {
    "collapsed": false
   },
   "outputs": [
    {
     "name": "stdout",
     "output_type": "stream",
     "text": [
      "Professions that have neutral label at Wikipedia:\n"
     ]
    },
    {
     "data": {
      "text/html": [
       "<div>\n",
       "<table border=\"1\" class=\"dataframe\">\n",
       "  <thead>\n",
       "    <tr style=\"text-align: right;\">\n",
       "      <th></th>\n",
       "      <th>Berufsgruppe</th>\n",
       "      <th>Frauen</th>\n",
       "      <th>KldB</th>\n",
       "      <th>KldB5</th>\n",
       "      <th>Männer</th>\n",
       "      <th>Overall</th>\n",
       "      <th>name</th>\n",
       "    </tr>\n",
       "  </thead>\n",
       "  <tbody>\n",
       "    <tr>\n",
       "      <th>20</th>\n",
       "      <td>Berufe in der Elektrotechnik (o.S.)</td>\n",
       "      <td>25.599873</td>\n",
       "      <td>2630</td>\n",
       "      <td>26302</td>\n",
       "      <td>74.400127</td>\n",
       "      <td>220505</td>\n",
       "      <td>Elektrofachkraft</td>\n",
       "    </tr>\n",
       "    <tr>\n",
       "      <th>21</th>\n",
       "      <td>Berufe Wasserversorgung,Abwassertechnik</td>\n",
       "      <td>3.556357</td>\n",
       "      <td>3431</td>\n",
       "      <td>34312</td>\n",
       "      <td>96.443643</td>\n",
       "      <td>27725</td>\n",
       "      <td>Fachkraft für Wasserversorgungstechnik</td>\n",
       "    </tr>\n",
       "    <tr>\n",
       "      <th>22</th>\n",
       "      <td>Athleten, Berufssportler</td>\n",
       "      <td>8.496605</td>\n",
       "      <td>9424</td>\n",
       "      <td>94243</td>\n",
       "      <td>91.503395</td>\n",
       "      <td>5155</td>\n",
       "      <td>Jockey</td>\n",
       "    </tr>\n",
       "    <tr>\n",
       "      <th>23</th>\n",
       "      <td>Berufe im Holz-, Möbel-, Innenausbau</td>\n",
       "      <td>3.901460</td>\n",
       "      <td>2234</td>\n",
       "      <td>22342</td>\n",
       "      <td>96.098540</td>\n",
       "      <td>143049</td>\n",
       "      <td>Fachkraft für Möbel-, Küchen- und Umzugsservice</td>\n",
       "    </tr>\n",
       "    <tr>\n",
       "      <th>24</th>\n",
       "      <td>Berufe in der Wasserwirtschaft</td>\n",
       "      <td>29.759646</td>\n",
       "      <td>3114</td>\n",
       "      <td>31142</td>\n",
       "      <td>70.240354</td>\n",
       "      <td>3162</td>\n",
       "      <td>Fachkraft für Wasserwirtschaft</td>\n",
       "    </tr>\n",
       "    <tr>\n",
       "      <th>25</th>\n",
       "      <td>Berufe in der Metallbearbeitung (o.S.)</td>\n",
       "      <td>18.449343</td>\n",
       "      <td>2420</td>\n",
       "      <td>24202</td>\n",
       "      <td>81.550657</td>\n",
       "      <td>396735</td>\n",
       "      <td>Fachkraft für Metalltechnik</td>\n",
       "    </tr>\n",
       "    <tr>\n",
       "      <th>26</th>\n",
       "      <td>Berufe im Objekt-,Werte-, Personenschutz</td>\n",
       "      <td>31.087103</td>\n",
       "      <td>5311</td>\n",
       "      <td>53112</td>\n",
       "      <td>68.912897</td>\n",
       "      <td>212059</td>\n",
       "      <td>Fachkraft für Schutz und Sicherheit</td>\n",
       "    </tr>\n",
       "    <tr>\n",
       "      <th>27</th>\n",
       "      <td>Berufe im Gastronomieservice (o.S.)</td>\n",
       "      <td>65.264831</td>\n",
       "      <td>6330</td>\n",
       "      <td>63302</td>\n",
       "      <td>34.735169</td>\n",
       "      <td>391439</td>\n",
       "      <td>Fachkraft im Gastgewerbe</td>\n",
       "    </tr>\n",
       "    <tr>\n",
       "      <th>28</th>\n",
       "      <td>Berufe i.d. Lebensmittelherstellung (oS)</td>\n",
       "      <td>38.666751</td>\n",
       "      <td>2920</td>\n",
       "      <td>29202</td>\n",
       "      <td>61.333249</td>\n",
       "      <td>126398</td>\n",
       "      <td>Fachkraft für Lebensmitteltechnik</td>\n",
       "    </tr>\n",
       "    <tr>\n",
       "      <th>29</th>\n",
       "      <td>Berufe in der Abfallwirtschaft</td>\n",
       "      <td>8.069793</td>\n",
       "      <td>3433</td>\n",
       "      <td>34332</td>\n",
       "      <td>91.930207</td>\n",
       "      <td>11004</td>\n",
       "      <td>Fachkraft für Kreislauf- und Abfallwirtschaft</td>\n",
       "    </tr>\n",
       "    <tr>\n",
       "      <th>30</th>\n",
       "      <td>Berufe Veranstaltungs- und Bühnentechnik</td>\n",
       "      <td>12.590514</td>\n",
       "      <td>9451</td>\n",
       "      <td>94512</td>\n",
       "      <td>87.409486</td>\n",
       "      <td>17815</td>\n",
       "      <td>Fachkraft für Veranstaltungstechnik</td>\n",
       "    </tr>\n",
       "    <tr>\n",
       "      <th>31</th>\n",
       "      <td>Aufsicht und Führung - Verkauf</td>\n",
       "      <td>51.144516</td>\n",
       "      <td>6219</td>\n",
       "      <td>62193</td>\n",
       "      <td>48.855484</td>\n",
       "      <td>96460</td>\n",
       "      <td>Kassenaufsicht</td>\n",
       "    </tr>\n",
       "    <tr>\n",
       "      <th>32</th>\n",
       "      <td>Berufe Arbeitssicherh. Sicherheitstech.</td>\n",
       "      <td>13.171087</td>\n",
       "      <td>5312</td>\n",
       "      <td>53123</td>\n",
       "      <td>86.828913</td>\n",
       "      <td>35707</td>\n",
       "      <td>Fachkraft für Arbeitssicherheit</td>\n",
       "    </tr>\n",
       "    <tr>\n",
       "      <th>33</th>\n",
       "      <td>Berufe für Post- und Zustelldienste</td>\n",
       "      <td>47.894039</td>\n",
       "      <td>5132</td>\n",
       "      <td>51322</td>\n",
       "      <td>52.105961</td>\n",
       "      <td>205963</td>\n",
       "      <td>Fachkraft für Kurier-, Express- und Postdienst...</td>\n",
       "    </tr>\n",
       "    <tr>\n",
       "      <th>34</th>\n",
       "      <td>Berufe im Bestattungswesen</td>\n",
       "      <td>26.259416</td>\n",
       "      <td>8240</td>\n",
       "      <td>82402</td>\n",
       "      <td>73.740584</td>\n",
       "      <td>8496</td>\n",
       "      <td>Bestattungsfachkraft</td>\n",
       "    </tr>\n",
       "    <tr>\n",
       "      <th>35</th>\n",
       "      <td>Berufe im Holz- und Bautenschutz</td>\n",
       "      <td>1.222494</td>\n",
       "      <td>3324</td>\n",
       "      <td>33242</td>\n",
       "      <td>98.777506</td>\n",
       "      <td>1636</td>\n",
       "      <td>Fachkraft für Holz- und Bautenschutzarbeiten</td>\n",
       "    </tr>\n",
       "    <tr>\n",
       "      <th>36</th>\n",
       "      <td>Berufe in der Landwirtschaft (o.S.)</td>\n",
       "      <td>21.576590</td>\n",
       "      <td>1110</td>\n",
       "      <td>11102</td>\n",
       "      <td>78.423410</td>\n",
       "      <td>124357</td>\n",
       "      <td>Fachkraft für Agrarservice</td>\n",
       "    </tr>\n",
       "    <tr>\n",
       "      <th>37</th>\n",
       "      <td>Berufe im Güter- und Warenumschlag</td>\n",
       "      <td>14.357637</td>\n",
       "      <td>5133</td>\n",
       "      <td>51332</td>\n",
       "      <td>85.642363</td>\n",
       "      <td>16486</td>\n",
       "      <td>Fachkraft für Hafenlogistik</td>\n",
       "    </tr>\n",
       "    <tr>\n",
       "      <th>38</th>\n",
       "      <td>Berufe in der Lederherstellung</td>\n",
       "      <td>34.473198</td>\n",
       "      <td>2831</td>\n",
       "      <td>28312</td>\n",
       "      <td>65.526802</td>\n",
       "      <td>1082</td>\n",
       "      <td>Fachkraft für Lederverarbeitung</td>\n",
       "    </tr>\n",
       "    <tr>\n",
       "      <th>39</th>\n",
       "      <td>Berufe in der Lagerwirtschaft</td>\n",
       "      <td>24.976831</td>\n",
       "      <td>5131</td>\n",
       "      <td>51312</td>\n",
       "      <td>75.023169</td>\n",
       "      <td>1265705</td>\n",
       "      <td>Fachkraft für Lagerwirtschaft</td>\n",
       "    </tr>\n",
       "    <tr>\n",
       "      <th>40</th>\n",
       "      <td>Berufe Wasserversorgung,Abwassertechnik</td>\n",
       "      <td>3.556357</td>\n",
       "      <td>3431</td>\n",
       "      <td>34312</td>\n",
       "      <td>96.443643</td>\n",
       "      <td>27725</td>\n",
       "      <td>Fachkraft für Rohr-, Kanal- und Industrieservice</td>\n",
       "    </tr>\n",
       "    <tr>\n",
       "      <th>41</th>\n",
       "      <td>Berufe i.d. Kinderbetreuung, -erziehung</td>\n",
       "      <td>91.017849</td>\n",
       "      <td>8311</td>\n",
       "      <td>83111</td>\n",
       "      <td>8.982151</td>\n",
       "      <td>732486</td>\n",
       "      <td>Au-pair</td>\n",
       "    </tr>\n",
       "    <tr>\n",
       "      <th>42</th>\n",
       "      <td>Berufe in der Chemie- und Pharmatechnik</td>\n",
       "      <td>26.783835</td>\n",
       "      <td>4131</td>\n",
       "      <td>41312</td>\n",
       "      <td>73.216165</td>\n",
       "      <td>179627</td>\n",
       "      <td>Produktionsfachkraft Chemie</td>\n",
       "    </tr>\n",
       "    <tr>\n",
       "      <th>43</th>\n",
       "      <td>Berufe im Dialogmarketing</td>\n",
       "      <td>60.041787</td>\n",
       "      <td>9212</td>\n",
       "      <td>92122</td>\n",
       "      <td>39.958213</td>\n",
       "      <td>147414</td>\n",
       "      <td>Servicefachkraft für Dialogmarketing</td>\n",
       "    </tr>\n",
       "    <tr>\n",
       "      <th>44</th>\n",
       "      <td>Berufe in der Bauelektrik</td>\n",
       "      <td>1.461264</td>\n",
       "      <td>2621</td>\n",
       "      <td>26212</td>\n",
       "      <td>98.538736</td>\n",
       "      <td>224121</td>\n",
       "      <td>Elektrofachkraft für festgelegte Tätigkeiten</td>\n",
       "    </tr>\n",
       "    <tr>\n",
       "      <th>45</th>\n",
       "      <td>Berufe Bauplanung Verkehrswege, -anlagen</td>\n",
       "      <td>22.241135</td>\n",
       "      <td>3113</td>\n",
       "      <td>31132</td>\n",
       "      <td>77.758865</td>\n",
       "      <td>3525</td>\n",
       "      <td>Fachkraft für Straßen- und Verkehrstechnik</td>\n",
       "    </tr>\n",
       "    <tr>\n",
       "      <th>46</th>\n",
       "      <td>Bus-, Straßenbahnfahrer/innen</td>\n",
       "      <td>11.630906</td>\n",
       "      <td>5213</td>\n",
       "      <td>52132</td>\n",
       "      <td>88.369094</td>\n",
       "      <td>119406</td>\n",
       "      <td>Fachkraft im Fahrbetrieb</td>\n",
       "    </tr>\n",
       "    <tr>\n",
       "      <th>47</th>\n",
       "      <td>Berufe Sozialverwaltung, versicherung</td>\n",
       "      <td>76.993323</td>\n",
       "      <td>7321</td>\n",
       "      <td>73214</td>\n",
       "      <td>23.006677</td>\n",
       "      <td>129106</td>\n",
       "      <td>Aufsichtsperson</td>\n",
       "    </tr>\n",
       "    <tr>\n",
       "      <th>48</th>\n",
       "      <td>Rechtsberatung,-sprechung,-ordnung (ssT)</td>\n",
       "      <td>57.932782</td>\n",
       "      <td>7318</td>\n",
       "      <td>73183</td>\n",
       "      <td>42.067218</td>\n",
       "      <td>26838</td>\n",
       "      <td>Rechtsbeistand</td>\n",
       "    </tr>\n",
       "    <tr>\n",
       "      <th>49</th>\n",
       "      <td>Berufe Wasserversorgung,Abwassertechnik</td>\n",
       "      <td>3.556357</td>\n",
       "      <td>3431</td>\n",
       "      <td>34312</td>\n",
       "      <td>96.443643</td>\n",
       "      <td>27725</td>\n",
       "      <td>Fachkraft für Abwassertechnik</td>\n",
       "    </tr>\n",
       "    <tr>\n",
       "      <th>50</th>\n",
       "      <td>Berufe i.d. spanenden Metallbearbeitung</td>\n",
       "      <td>2.737703</td>\n",
       "      <td>2423</td>\n",
       "      <td>24233</td>\n",
       "      <td>97.262297</td>\n",
       "      <td>195675</td>\n",
       "      <td>CNC-Fachkraft</td>\n",
       "    </tr>\n",
       "    <tr>\n",
       "      <th>51</th>\n",
       "      <td>Berufe Informations,Telekommunikationst.</td>\n",
       "      <td>11.438161</td>\n",
       "      <td>2631</td>\n",
       "      <td>26312</td>\n",
       "      <td>88.561839</td>\n",
       "      <td>191884</td>\n",
       "      <td>Elektrogerätefachkraft</td>\n",
       "    </tr>\n",
       "    <tr>\n",
       "      <th>52</th>\n",
       "      <td>Büro- und Sekretariatskräfte (o.S.)</td>\n",
       "      <td>79.444358</td>\n",
       "      <td>7140</td>\n",
       "      <td>71402</td>\n",
       "      <td>20.555642</td>\n",
       "      <td>1969075</td>\n",
       "      <td>Bürokraft</td>\n",
       "    </tr>\n",
       "    <tr>\n",
       "      <th>53</th>\n",
       "      <td>Berufe in der Süßwarenherstellung</td>\n",
       "      <td>57.693876</td>\n",
       "      <td>2926</td>\n",
       "      <td>29262</td>\n",
       "      <td>42.306124</td>\n",
       "      <td>12263</td>\n",
       "      <td>Fachkraft für Süßwarentechnik</td>\n",
       "    </tr>\n",
       "    <tr>\n",
       "      <th>54</th>\n",
       "      <td>Kaufleute im Automatenservice</td>\n",
       "      <td>31.104167</td>\n",
       "      <td>6114</td>\n",
       "      <td>61142</td>\n",
       "      <td>68.895833</td>\n",
       "      <td>4800</td>\n",
       "      <td>Fachkraft für Automatenservice</td>\n",
       "    </tr>\n",
       "  </tbody>\n",
       "</table>\n",
       "</div>"
      ],
      "text/plain": [
       "                                Berufsgruppe     Frauen  KldB  KldB5  \\\n",
       "20       Berufe in der Elektrotechnik (o.S.)  25.599873  2630  26302   \n",
       "21   Berufe Wasserversorgung,Abwassertechnik   3.556357  3431  34312   \n",
       "22                  Athleten, Berufssportler   8.496605  9424  94243   \n",
       "23      Berufe im Holz-, Möbel-, Innenausbau   3.901460  2234  22342   \n",
       "24            Berufe in der Wasserwirtschaft  29.759646  3114  31142   \n",
       "25    Berufe in der Metallbearbeitung (o.S.)  18.449343  2420  24202   \n",
       "26  Berufe im Objekt-,Werte-, Personenschutz  31.087103  5311  53112   \n",
       "27       Berufe im Gastronomieservice (o.S.)  65.264831  6330  63302   \n",
       "28  Berufe i.d. Lebensmittelherstellung (oS)  38.666751  2920  29202   \n",
       "29            Berufe in der Abfallwirtschaft   8.069793  3433  34332   \n",
       "30  Berufe Veranstaltungs- und Bühnentechnik  12.590514  9451  94512   \n",
       "31            Aufsicht und Führung - Verkauf  51.144516  6219  62193   \n",
       "32   Berufe Arbeitssicherh. Sicherheitstech.  13.171087  5312  53123   \n",
       "33       Berufe für Post- und Zustelldienste  47.894039  5132  51322   \n",
       "34                Berufe im Bestattungswesen  26.259416  8240  82402   \n",
       "35          Berufe im Holz- und Bautenschutz   1.222494  3324  33242   \n",
       "36       Berufe in der Landwirtschaft (o.S.)  21.576590  1110  11102   \n",
       "37        Berufe im Güter- und Warenumschlag  14.357637  5133  51332   \n",
       "38            Berufe in der Lederherstellung  34.473198  2831  28312   \n",
       "39             Berufe in der Lagerwirtschaft  24.976831  5131  51312   \n",
       "40   Berufe Wasserversorgung,Abwassertechnik   3.556357  3431  34312   \n",
       "41   Berufe i.d. Kinderbetreuung, -erziehung  91.017849  8311  83111   \n",
       "42   Berufe in der Chemie- und Pharmatechnik  26.783835  4131  41312   \n",
       "43                 Berufe im Dialogmarketing  60.041787  9212  92122   \n",
       "44                 Berufe in der Bauelektrik   1.461264  2621  26212   \n",
       "45  Berufe Bauplanung Verkehrswege, -anlagen  22.241135  3113  31132   \n",
       "46             Bus-, Straßenbahnfahrer/innen  11.630906  5213  52132   \n",
       "47     Berufe Sozialverwaltung, versicherung  76.993323  7321  73214   \n",
       "48  Rechtsberatung,-sprechung,-ordnung (ssT)  57.932782  7318  73183   \n",
       "49   Berufe Wasserversorgung,Abwassertechnik   3.556357  3431  34312   \n",
       "50   Berufe i.d. spanenden Metallbearbeitung   2.737703  2423  24233   \n",
       "51  Berufe Informations,Telekommunikationst.  11.438161  2631  26312   \n",
       "52       Büro- und Sekretariatskräfte (o.S.)  79.444358  7140  71402   \n",
       "53         Berufe in der Süßwarenherstellung  57.693876  2926  29262   \n",
       "54             Kaufleute im Automatenservice  31.104167  6114  61142   \n",
       "\n",
       "       Männer  Overall                                               name  \n",
       "20  74.400127   220505                                   Elektrofachkraft  \n",
       "21  96.443643    27725             Fachkraft für Wasserversorgungstechnik  \n",
       "22  91.503395     5155                                             Jockey  \n",
       "23  96.098540   143049    Fachkraft für Möbel-, Küchen- und Umzugsservice  \n",
       "24  70.240354     3162                     Fachkraft für Wasserwirtschaft  \n",
       "25  81.550657   396735                        Fachkraft für Metalltechnik  \n",
       "26  68.912897   212059                Fachkraft für Schutz und Sicherheit  \n",
       "27  34.735169   391439                           Fachkraft im Gastgewerbe  \n",
       "28  61.333249   126398                  Fachkraft für Lebensmitteltechnik  \n",
       "29  91.930207    11004      Fachkraft für Kreislauf- und Abfallwirtschaft  \n",
       "30  87.409486    17815                Fachkraft für Veranstaltungstechnik  \n",
       "31  48.855484    96460                                     Kassenaufsicht  \n",
       "32  86.828913    35707                    Fachkraft für Arbeitssicherheit  \n",
       "33  52.105961   205963  Fachkraft für Kurier-, Express- und Postdienst...  \n",
       "34  73.740584     8496                               Bestattungsfachkraft  \n",
       "35  98.777506     1636       Fachkraft für Holz- und Bautenschutzarbeiten  \n",
       "36  78.423410   124357                         Fachkraft für Agrarservice  \n",
       "37  85.642363    16486                        Fachkraft für Hafenlogistik  \n",
       "38  65.526802     1082                    Fachkraft für Lederverarbeitung  \n",
       "39  75.023169  1265705                      Fachkraft für Lagerwirtschaft  \n",
       "40  96.443643    27725   Fachkraft für Rohr-, Kanal- und Industrieservice  \n",
       "41   8.982151   732486                                            Au-pair  \n",
       "42  73.216165   179627                        Produktionsfachkraft Chemie  \n",
       "43  39.958213   147414               Servicefachkraft für Dialogmarketing  \n",
       "44  98.538736   224121       Elektrofachkraft für festgelegte Tätigkeiten  \n",
       "45  77.758865     3525         Fachkraft für Straßen- und Verkehrstechnik  \n",
       "46  88.369094   119406                           Fachkraft im Fahrbetrieb  \n",
       "47  23.006677   129106                                    Aufsichtsperson  \n",
       "48  42.067218    26838                                     Rechtsbeistand  \n",
       "49  96.443643    27725                      Fachkraft für Abwassertechnik  \n",
       "50  97.262297   195675                                      CNC-Fachkraft  \n",
       "51  88.561839   191884                             Elektrogerätefachkraft  \n",
       "52  20.555642  1969075                                          Bürokraft  \n",
       "53  42.306124    12263                      Fachkraft für Süßwarentechnik  \n",
       "54  68.895833     4800                     Fachkraft für Automatenservice  "
      ]
     },
     "execution_count": 83,
     "metadata": {},
     "output_type": "execute_result"
    }
   ],
   "source": [
    "print \"Professions that have neutral label at Wikipedia:\"\n",
    "all_together[all_together[\"name\"].isin(n_pages)]"
   ]
  },
  {
   "cell_type": "code",
   "execution_count": 84,
   "metadata": {
    "collapsed": false
   },
   "outputs": [
    {
     "data": {
      "image/png": "[encoded data removed]",
      "text/plain": [
       "<matplotlib.figure.Figure at 0x1377dcb0>"
      ]
     },
     "metadata": {},
     "output_type": "display_data"
    }
   ],
   "source": [
    "f_=all_together[all_together[\"name\"].isin(f_val_m)].Frauen.tolist()\n",
    "f_onlyval=all_together[all_together[\"name\"].isin(f_val_m_onlyval)].Frauen.tolist() #f_val_m_onlyval\n",
    "n_=all_together[all_together[\"name\"].isin(n_pages)].Frauen.tolist()\n",
    "m_=m_df.Frauen.tolist()\n",
    "\n",
    "fig1 = pyplot.figure()\n",
    "pyplot.xlabel('men/women in the labour market,%')\n",
    "pyplot.ylabel('pages that exist on Wikipeia')\n",
    "pyplot.xlim(0,100)\n",
    "pyplot.ylim(0,3.5)\n",
    "min_x,max_x,min_y,max_y = pyplot.axis()\n",
    "p1,=pyplot.plot(f_,[3]*len(f_),\".\",c=\"m\")\n",
    "p2,=pyplot.plot(n_,[2]*len(n_),\".\",c=\"g\")\n",
    "p3,=pyplot.plot(m_,[1]*len(m_),\".\",c=\"b\")\n",
    "p4,=pyplot.plot(f_onlyval,[3]*len(f_onlyval),\".\",c=\"r\")\n",
    "\n",
    "\n",
    "pyplot.yticks([1,2,3],[\"male\",\"neutral\",\"female\"])\n",
    "pyplot.xticks(np.arange(0, 101, 20),[\"100% man\\n0\",\"20\\n80\",\"40\\n60\",\"60\\n40\",\"80\\n20\",\"0\\nwoman 100%\"])\n",
    "\n",
    "line,=pyplot.plot([66.7]*2,[min_y,max_y],\"--\",c=\"g\")\n",
    "line,=pyplot.plot([33.4]*2,[min_y,max_y],\"--\",c=\"g\")\n",
    "line,=pyplot.plot([min_x,max_x],[2.5]*2,\"--\",c=\"g\")\n",
    "line,=pyplot.plot([min_x,max_x],[1.5]*2,\"--\",c=\"g\")"
   ]
  },
  {
   "cell_type": "code",
   "execution_count": 85,
   "metadata": {
    "collapsed": false
   },
   "outputs": [
    {
     "data": {
      "text/plain": [
       "<matplotlib.text.Text at 0x8970610>"
      ]
     },
     "execution_count": 85,
     "metadata": {},
     "output_type": "execute_result"
    },
    {
     "data": {
      "image/png": "[encoded data removed]",
      "text/plain": [
       "<matplotlib.figure.Figure at 0x13f2d370>"
      ]
     },
     "metadata": {},
     "output_type": "display_data"
    }
   ],
   "source": [
    "f_df2=all_together[all_together[\"name\"].isin(f_val_m)].Frauen\n",
    "m_df2=m_df.Frauen\n",
    "n_df2=all_together[all_together[\"name\"].isin(n_pages)].Frauen\n",
    "pyplot.boxplot([f_df2,n_df2,m_df2])\n",
    "pyplot.xticks([1,2,3],[\"female\\n[n={0}]\".format(len(f_df2)),\"neutral\\n[n={0}]\".format(len(n_df2)),\"male\\n[n={0}]\".format(len(m_df2))])\n",
    "pyplot.ylabel(\"women in labour market, %\")\n",
    "pyplot.xlabel(\"Profession labels of Wiki pages\")"
   ]
  },
  {
   "cell_type": "code",
   "execution_count": 86,
   "metadata": {
    "collapsed": false
   },
   "outputs": [
    {
     "ename": "ImportError",
     "evalue": "No module named seaborn",
     "output_type": "error",
     "traceback": [
      "\u001b[1;31m---------------------------------------------------------------------------\u001b[0m",
      "\u001b[1;31mImportError\u001b[0m                               Traceback (most recent call last)",
      "\u001b[1;32m<ipython-input-86-3bb60508f639>\u001b[0m in \u001b[0;36m<module>\u001b[1;34m()\u001b[0m\n\u001b[1;32m----> 1\u001b[1;33m \u001b[1;32mimport\u001b[0m \u001b[0mseaborn\u001b[0m \u001b[1;32mas\u001b[0m \u001b[0msns\u001b[0m\u001b[1;33m\u001b[0m\u001b[0m\n\u001b[0m\u001b[0;32m      2\u001b[0m \u001b[0msns\u001b[0m\u001b[1;33m.\u001b[0m\u001b[0mset\u001b[0m\u001b[1;33m(\u001b[0m\u001b[0mcolor_codes\u001b[0m\u001b[1;33m=\u001b[0m\u001b[0mTrue\u001b[0m\u001b[1;33m)\u001b[0m\u001b[1;33m\u001b[0m\u001b[0m\n",
      "\u001b[1;31mImportError\u001b[0m: No module named seaborn"
     ]
    }
   ],
   "source": [
    "import seaborn as sns\n",
    "sns.set(color_codes=True)"
   ]
  },
  {
   "cell_type": "code",
   "execution_count": 19,
   "metadata": {
    "collapsed": false
   },
   "outputs": [
    {
     "data": {
      "text/plain": [
       "<matplotlib.axes._subplots.AxesSubplot at 0xc91ab38>"
      ]
     },
     "execution_count": 19,
     "metadata": {},
     "output_type": "execute_result"
    },
    {
     "data": {
      "image/png": "[encoded data removed]",
      "text/plain": [
       "<matplotlib.figure.Figure at 0xec182b0>"
      ]
     },
     "metadata": {},
     "output_type": "display_data"
    }
   ],
   "source": [
    "sns.distplot(m_)"
   ]
  },
  {
   "cell_type": "code",
   "execution_count": 20,
   "metadata": {
    "collapsed": false
   },
   "outputs": [
    {
     "data": {
      "text/plain": [
       "<matplotlib.axes._subplots.AxesSubplot at 0xe42c208>"
      ]
     },
     "execution_count": 20,
     "metadata": {},
     "output_type": "execute_result"
    },
    {
     "data": {
      "image/png": "[encoded data removed]",
      "text/plain": [
       "<matplotlib.figure.Figure at 0xcb5be10>"
      ]
     },
     "metadata": {},
     "output_type": "display_data"
    }
   ],
   "source": [
    "sns.distplot(n_)"
   ]
  },
  {
   "cell_type": "code",
   "execution_count": 21,
   "metadata": {
    "collapsed": false
   },
   "outputs": [
    {
     "data": {
      "text/plain": [
       "<matplotlib.axes._subplots.AxesSubplot at 0xcabd3c8>"
      ]
     },
     "execution_count": 21,
     "metadata": {},
     "output_type": "execute_result"
    },
    {
     "data": {
      "image/png": "[encoded data removed]",
      "text/plain": [
       "<matplotlib.figure.Figure at 0xcbd7828>"
      ]
     },
     "metadata": {},
     "output_type": "display_data"
    }
   ],
   "source": [
    "sns.distplot(f_)"
   ]
  },
  {
   "cell_type": "code",
   "execution_count": 22,
   "metadata": {
    "collapsed": false
   },
   "outputs": [
    {
     "data": {
      "text/plain": [
       "<matplotlib.axes._subplots.AxesSubplot at 0xcbbd6a0>"
      ]
     },
     "execution_count": 22,
     "metadata": {},
     "output_type": "execute_result"
    },
    {
     "data": {
      "image/png": "[encoded data removed]",
      "text/plain": [
       "<matplotlib.figure.Figure at 0xc6a2198>"
      ]
     },
     "metadata": {},
     "output_type": "display_data"
    }
   ],
   "source": [
    "sns.distplot(f_+m_+n_)"
   ]
  },
  {
   "cell_type": "markdown",
   "metadata": {},
   "source": [
    "The null hypothesis is that all instances of X and Y are independent and identically distributed (iid).\n",
    "\n",
    "Let us take as the alternate hypothesis that (a) all instances of X are iid according to some underlying distribution F_X and (b) all instances of Y are iid according to some underlying distribution F_Y but (c) F_X differs from F_Y. "
   ]
  },
  {
   "cell_type": "markdown",
   "metadata": {},
   "source": [
    "Mann-Whitney-Wilcoxon (MWW) RankSum test\n",
    "The MWW RankSum test is a useful test to determine if two distributions are significantly different or not."
   ]
  },
  {
   "cell_type": "code",
   "execution_count": 89,
   "metadata": {
    "collapsed": false
   },
   "outputs": [
    {
     "name": "stdout",
     "output_type": "stream",
     "text": [
      "MWW RankSum P for male and female distributions = 0.00110797889391 z_stat= -3.26156791083\n",
      "MWW RankSum P for male and neutral distributions = 0.0472717866762 z_stat= 1.98385697318\n",
      "MWW RankSum P for neutral and female distributions = 0.00018372471647 z_stat= -3.74040399016\n"
     ]
    }
   ],
   "source": [
    "from scipy import stats  \n",
    "  \n",
    "z_stat, p_val = stats.ranksums(m_, f_)  \n",
    "  \n",
    "print \"MWW RankSum P for male and female distributions =\", p_val , \"z_stat=\",z_stat\n",
    "z_stat, p_val = stats.ranksums(m_, n_)  \n",
    "  \n",
    "print \"MWW RankSum P for male and neutral distributions =\", p_val , \"z_stat=\",z_stat\n",
    "z_stat, p_val = stats.ranksums(n_, f_)  \n",
    "  \n",
    "print \"MWW RankSum P for neutral and female distributions =\", p_val , \"z_stat=\",z_stat"
   ]
  },
  {
   "cell_type": "code",
   "execution_count": 88,
   "metadata": {
    "collapsed": false
   },
   "outputs": [
    {
     "name": "stdout",
     "output_type": "stream",
     "text": [
      "MWW RankSum P for all together and female distributions = 0.00116562287403 z_stat= -3.24716135263\n",
      "MWW RankSum P for all together and female distributions = 0.0454805148056 z_stat= 2.00018292601\n",
      "MWW RankSum P for all together and female distributions = 0.953846858304 z_stat= 0.0578766804248\n"
     ]
    }
   ],
   "source": [
    "z_stat, p_val = stats.ranksums(n_+m_+f_, f_)  \n",
    "print \"MWW RankSum P for all together and female distributions =\", p_val , \"z_stat=\",z_stat\n",
    "z_stat, p_val = stats.ranksums(n_+f_+m_, n_)  \n",
    "print \"MWW RankSum P for all together and female distributions =\", p_val , \"z_stat=\",z_stat\n",
    "z_stat, p_val = stats.ranksums(n_+f_+m_, m_)  \n",
    "print \"MWW RankSum P for all together and female distributions =\", p_val , \"z_stat=\",z_stat"
   ]
  },
  {
   "cell_type": "markdown",
   "metadata": {},
   "source": [
    "|pair  | p-val | z |\n",
    "| :-|:-:|:-:|\n",
    "| male & female |    0.001     |    -3.26    | \n",
    "| male & neutral |     0.047     |    1.98    |  \n",
    "| neutral & female |     0.000     |      -3.74    | \n",
    "| all_together & female |     0.001    |     -3.24    | \n",
    "| all_together & neutral |     0.045    |     2.00    | \n",
    "| all_together & male |     0.953    |     0.06    | \n"
   ]
  },
  {
   "cell_type": "markdown",
   "metadata": {
    "collapsed": true
   },
   "source": [
    "# the Kolmogorov-Smirnov test"
   ]
  },
  {
   "cell_type": "code",
   "execution_count": 90,
   "metadata": {
    "collapsed": false
   },
   "outputs": [
    {
     "data": {
      "text/plain": [
       "Ks_2sampResult(statistic=0.22916435056512879, pvalue=0.050068161089428416)"
      ]
     },
     "execution_count": 90,
     "metadata": {},
     "output_type": "execute_result"
    }
   ],
   "source": [
    "from scipy.stats import ks_2samp,ttest_1samp,kstest\n",
    "ks_2samp(m_, n_)"
   ]
  },
  {
   "cell_type": "code",
   "execution_count": 91,
   "metadata": {
    "collapsed": false
   },
   "outputs": [
    {
     "data": {
      "text/plain": [
       "Ks_2sampResult(statistic=0.35401733906751315, pvalue=0.013921935294695698)"
      ]
     },
     "execution_count": 91,
     "metadata": {},
     "output_type": "execute_result"
    }
   ],
   "source": [
    "ks_2samp(m_, f_)"
   ]
  },
  {
   "cell_type": "code",
   "execution_count": 95,
   "metadata": {
    "collapsed": false
   },
   "outputs": [
    {
     "data": {
      "text/plain": [
       "Ks_2sampResult(statistic=0.52781954887218041, pvalue=0.001144114445873092)"
      ]
     },
     "execution_count": 95,
     "metadata": {},
     "output_type": "execute_result"
    }
   ],
   "source": [
    "ks_2samp(f_, n_)"
   ]
  },
  {
   "cell_type": "code",
   "execution_count": 92,
   "metadata": {
    "collapsed": false
   },
   "outputs": [
    {
     "data": {
      "text/plain": [
       "Ks_2sampResult(statistic=0.0048814998231340168, pvalue=0.99999999999999956)"
      ]
     },
     "execution_count": 92,
     "metadata": {},
     "output_type": "execute_result"
    }
   ],
   "source": [
    "ks_2samp(m_+n_+f_, m_)"
   ]
  },
  {
   "cell_type": "code",
   "execution_count": 93,
   "metadata": {
    "collapsed": false
   },
   "outputs": [
    {
     "data": {
      "text/plain": [
       "Ks_2sampResult(statistic=0.35157894736842105, pvalue=0.014794143664941058)"
      ]
     },
     "execution_count": 93,
     "metadata": {},
     "output_type": "execute_result"
    }
   ],
   "source": [
    "ks_2samp(m_+n_+f_, f_)"
   ]
  },
  {
   "cell_type": "code",
   "execution_count": 29,
   "metadata": {
    "collapsed": false
   },
   "outputs": [
    {
     "data": {
      "text/plain": [
       "Ks_2sampResult(statistic=0.22632034632034631, pvalue=0.05429114425089903)"
      ]
     },
     "execution_count": 29,
     "metadata": {},
     "output_type": "execute_result"
    }
   ],
   "source": [
    "ks_2samp(m_+n_+f_, n_)"
   ]
  },
  {
   "cell_type": "markdown",
   "metadata": {},
   "source": [
    "# ANOVA analysis"
   ]
  },
  {
   "cell_type": "code",
   "execution_count": 96,
   "metadata": {
    "collapsed": false
   },
   "outputs": [
    {
     "name": "stdout",
     "output_type": "stream",
     "text": [
      "One-way ANOVA P = 0.000239877674953\n"
     ]
    }
   ],
   "source": [
    "#ANOVA analysis of variance    \n",
    "f_val, p_val = stats.f_oneway(m_, n_, f_)  \n",
    "  \n",
    "print \"One-way ANOVA P =\", p_val   "
   ]
  },
  {
   "cell_type": "code",
   "execution_count": null,
   "metadata": {
    "collapsed": true
   },
   "outputs": [],
   "source": []
  }
 ],
 "metadata": {
  "kernelspec": {
   "display_name": "Python 2",
   "language": "python",
   "name": "python2"
  },
  "language_info": {
   "codemirror_mode": {
    "name": "ipython",
    "version": 2
   },
   "file_extension": ".py",
   "mimetype": "text/x-python",
   "name": "python",
   "nbconvert_exporter": "python",
   "pygments_lexer": "ipython2",
   "version": "2.7.11"
  }
 },
 "nbformat": 4,
 "nbformat_minor": 0
}
