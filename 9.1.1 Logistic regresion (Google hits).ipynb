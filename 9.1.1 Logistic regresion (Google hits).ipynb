{
 "cells": [
  {
   "cell_type": "markdown",
   "metadata": {},
   "source": [
    "# Read data"
   ]
  },
  {
   "cell_type": "code",
   "execution_count": 1,
   "metadata": {},
   "outputs": [
    {
     "name": "stdout",
     "output_type": "stream",
     "text": [
      "Male bias: 812 , Female bias: 6 , No bias: 19\n",
      "All: 837\n"
     ]
    }
   ],
   "source": [
    "%matplotlib inline\n",
    "import json\n",
    "def load_simple_json(filename):\n",
    "    with open(filename, 'r') as f:\n",
    "        return json.load(f)\n",
    "    \n",
    "words=load_simple_json('de/occupation_all.json')#{masculine:[[],[feminine]]}\n",
    "words_revert={words[i][1]:i for i in words}#feminine:masculine\n",
    "googlenumber=load_simple_json('de/googlenumber_new2.json')\n",
    "#googlenumber_neutral=load_simple_json('de/googlenumber_neutral.json')\n",
    "n_bias=load_simple_json('de/wiki/n_bias_male_labels.json')\n",
    "#n_n_bias=load_simple_json('de/wiki/n_bias_n_labels.json')\n",
    "f_bias=load_simple_json('de/wiki/f_bias.json')\n",
    "m_bias=load_simple_json('de/wiki/m_bias.json')\n",
    "\n",
    "google_percent={}\n",
    "for i in googlenumber:\n",
    "    sum_m_f=float(int(googlenumber[i][0])+int(googlenumber[i][1]))\n",
    "    google_percent[i]=(float(googlenumber[i][0])-float(googlenumber[i][1]))/sum_m_f if sum_m_f!=0 else 0\n",
    "\n",
    "google_rank_male={}\n",
    "for i in words:\n",
    "    if i in f_bias:\n",
    "        google_rank_male[i]=[int(googlenumber[i][0]),len(i),google_percent[i],3] #3=female bias\n",
    "    elif i in m_bias:\n",
    "        google_rank_male[i]=[int(googlenumber[i][0]),len(i),google_percent[i],1] #1=male bias\n",
    "    elif i in n_bias:\n",
    "        google_rank_male[i]=[int(googlenumber[i][0]),len(i),google_percent[i],2] #2=no bias\n",
    "n_male=sum( n == 1 for x,y,z,n in google_rank_male.values())\n",
    "n_female=sum( n == 3 for x,y,z,n in google_rank_male.values())      \n",
    "n_neutral=sum( n == 2 for x,y,z,n in google_rank_male.values())\n",
    "print \"Male bias:\",n_male,\", Female bias:\",n_female,\", No bias:\",n_neutral\n",
    "print \"All:\",len(google_rank_male)  \n",
    "#Male bias: 812 , Female bias: 6 , No bias: 19 All: 837"
   ]
  },
  {
   "cell_type": "code",
   "execution_count": 2,
   "metadata": {},
   "outputs": [
    {
     "name": "stdout",
     "output_type": "stream",
     "text": [
      "       GoogleHitsMale  Name_length  NormalizedGoogleDif        Wiki\n",
      "count    8.370000e+02   837.000000           837.000000  837.000000\n",
      "mean     1.375604e+06    15.433692             0.694513    1.037037\n",
      "std      9.570879e+06     8.112809             0.383918    0.223745\n",
      "min      1.300000e+01     3.000000            -0.993448    1.000000\n",
      "25%      2.560000e+03    10.000000             0.592668    1.000000\n",
      "50%      1.720000e+04    13.000000             0.848124    1.000000\n",
      "75%      1.390000e+05    18.000000             0.947315    1.000000\n",
      "max      1.610000e+08    60.000000             1.000000    3.000000\n",
      "GoogleHitsMale         9570879.397740\n",
      "Name_length                  8.112809\n",
      "NormalizedGoogleDif          0.383918\n",
      "Wiki                         0.223745\n",
      "dtype: float64\n"
     ]
    },
    {
     "data": {
      "image/png": "[encoded data removed]",
      "text/plain": [
       "<matplotlib.figure.Figure at 0x9294e48>"
      ]
     },
     "metadata": {},
     "output_type": "display_data"
    }
   ],
   "source": [
    "import pandas as pd\n",
    "import pylab as pl\n",
    "import numpy as np\n",
    "\n",
    "df = pd.DataFrame.from_dict(google_rank_male,orient='index')\n",
    "df.columns = ['GoogleHitsMale','Name_length', 'NormalizedGoogleDif','Wiki']\n",
    "# summarize the data\n",
    "print df.describe()\n",
    "\n",
    "# take a look at the standard deviation of each column\n",
    "print df.std()\n",
    "#print pd.crosstab(df['Wiki'], df['GooglePercent'])\n",
    "df.hist()\n",
    "pl.show()"
   ]
  },
  {
   "cell_type": "code",
   "execution_count": 3,
   "metadata": {},
   "outputs": [
    {
     "data": {
      "text/html": [
       "<div>\n",
       "<table border=\"1\" class=\"dataframe\">\n",
       "  <thead>\n",
       "    <tr style=\"text-align: right;\">\n",
       "      <th></th>\n",
       "      <th>GoogleHitsMale</th>\n",
       "      <th>Name_length</th>\n",
       "      <th>NormalizedGoogleDif</th>\n",
       "      <th>Wiki</th>\n",
       "    </tr>\n",
       "  </thead>\n",
       "  <tbody>\n",
       "    <tr>\n",
       "      <th>Beschließer</th>\n",
       "      <td>255</td>\n",
       "      <td>11</td>\n",
       "      <td>-0.320905</td>\n",
       "      <td>3</td>\n",
       "    </tr>\n",
       "    <tr>\n",
       "      <th>Pflegediensthelfer</th>\n",
       "      <td>2120</td>\n",
       "      <td>18</td>\n",
       "      <td>-0.252205</td>\n",
       "      <td>3</td>\n",
       "    </tr>\n",
       "    <tr>\n",
       "      <th>Entbindungspfleger</th>\n",
       "      <td>26700</td>\n",
       "      <td>18</td>\n",
       "      <td>-0.908827</td>\n",
       "      <td>3</td>\n",
       "    </tr>\n",
       "    <tr>\n",
       "      <th>Haushälter</th>\n",
       "      <td>8000</td>\n",
       "      <td>10</td>\n",
       "      <td>-0.807229</td>\n",
       "      <td>3</td>\n",
       "    </tr>\n",
       "    <tr>\n",
       "      <th>Gleichstellungsbeauftragter</th>\n",
       "      <td>2490</td>\n",
       "      <td>27</td>\n",
       "      <td>-0.957971</td>\n",
       "      <td>3</td>\n",
       "    </tr>\n",
       "    <tr>\n",
       "      <th>Belegentbindungspfleger</th>\n",
       "      <td>47</td>\n",
       "      <td>23</td>\n",
       "      <td>-0.993448</td>\n",
       "      <td>3</td>\n",
       "    </tr>\n",
       "  </tbody>\n",
       "</table>\n",
       "</div>"
      ],
      "text/plain": [
       "                             GoogleHitsMale  Name_length  NormalizedGoogleDif  \\\n",
       "Beschließer                             255           11            -0.320905   \n",
       "Pflegediensthelfer                     2120           18            -0.252205   \n",
       "Entbindungspfleger                    26700           18            -0.908827   \n",
       "Haushälter                             8000           10            -0.807229   \n",
       "Gleichstellungsbeauftragter            2490           27            -0.957971   \n",
       "Belegentbindungspfleger                  47           23            -0.993448   \n",
       "\n",
       "                             Wiki  \n",
       "Beschließer                     3  \n",
       "Pflegediensthelfer              3  \n",
       "Entbindungspfleger              3  \n",
       "Haushälter                      3  \n",
       "Gleichstellungsbeauftragter     3  \n",
       "Belegentbindungspfleger         3  "
      ]
     },
     "execution_count": 3,
     "metadata": {},
     "output_type": "execute_result"
    }
   ],
   "source": [
    "df[df.Wiki==3]"
   ]
  },
  {
   "cell_type": "code",
   "execution_count": 4,
   "metadata": {},
   "outputs": [
    {
     "data": {
      "image/png": "[encoded data removed]",
      "text/plain": [
       "<matplotlib.figure.Figure at 0x92c3588>"
      ]
     },
     "metadata": {},
     "output_type": "display_data"
    }
   ],
   "source": [
    "data1= df[['NormalizedGoogleDif','Wiki']]\n",
    "bp = data1.boxplot(by='Wiki',showfliers=False)\n",
    "pl.ylim(ymax=1.05)\n",
    "pl.ylabel(\"normalized diff of Google hits\")\n",
    "pl.xlabel(\"Redirection bias\")\n",
    "pl.title(\"\")\n",
    "pl.suptitle(\"\")\n",
    "pl.xticks([1,2,3],[\"male bias \\n (n={0})\".format(n_male),\"balanced \\n (n={0})\".format(n_neutral),\n",
    "                   \"female bias \\n (n={0})\".format(n_female)])\n",
    "pl.show()"
   ]
  },
  {
   "cell_type": "code",
   "execution_count": 5,
   "metadata": {},
   "outputs": [
    {
     "data": {
      "text/html": [
       "<div>\n",
       "<table border=\"1\" class=\"dataframe\">\n",
       "  <thead>\n",
       "    <tr style=\"text-align: right;\">\n",
       "      <th></th>\n",
       "      <th>NormalizedGoogleDif</th>\n",
       "    </tr>\n",
       "    <tr>\n",
       "      <th>Wiki</th>\n",
       "      <th></th>\n",
       "    </tr>\n",
       "  </thead>\n",
       "  <tbody>\n",
       "    <tr>\n",
       "      <th>1</th>\n",
       "      <td>0.854215</td>\n",
       "    </tr>\n",
       "    <tr>\n",
       "      <th>2</th>\n",
       "      <td>0.810562</td>\n",
       "    </tr>\n",
       "    <tr>\n",
       "      <th>3</th>\n",
       "      <td>-0.858028</td>\n",
       "    </tr>\n",
       "  </tbody>\n",
       "</table>\n",
       "</div>"
      ],
      "text/plain": [
       "      NormalizedGoogleDif\n",
       "Wiki                     \n",
       "1                0.854215\n",
       "2                0.810562\n",
       "3               -0.858028"
      ]
     },
     "execution_count": 5,
     "metadata": {},
     "output_type": "execute_result"
    }
   ],
   "source": [
    "data1.groupby(\"Wiki\").median()"
   ]
  },
  {
   "cell_type": "code",
   "execution_count": 6,
   "metadata": {},
   "outputs": [
    {
     "data": {
      "image/png": "[encoded data removed]",
      "text/plain": [
       "<matplotlib.figure.Figure at 0xa14f828>"
      ]
     },
     "metadata": {},
     "output_type": "display_data"
    }
   ],
   "source": [
    "data1= df[['Name_length','Wiki']]\n",
    "bp = data1.boxplot(by='Wiki',showfliers=False)\n",
    "pl.xticks([1,2,3],[\"male bias\",\"balanced\",\"female bias\"])\n",
    "pl.show()"
   ]
  },
  {
   "cell_type": "code",
   "execution_count": 7,
   "metadata": {},
   "outputs": [
    {
     "data": {
      "image/png": "[encoded data removed]",
      "text/plain": [
       "<matplotlib.figure.Figure at 0xa2f42b0>"
      ]
     },
     "metadata": {},
     "output_type": "display_data"
    }
   ],
   "source": [
    "data1= df[['GoogleHitsMale','Wiki']] #google results for male labels\n",
    "bp = data1.boxplot(by='Wiki',showfliers=False)\n",
    "pl.xticks([1,2,3],[\"male bias\",\"balanced\",\"female bias\"])\n",
    "pl.show()"
   ]
  },
  {
   "cell_type": "markdown",
   "metadata": {
    "collapsed": true
   },
   "source": [
    "# Logistic Regression (Male bias) "
   ]
  },
  {
   "cell_type": "code",
   "execution_count": null,
   "metadata": {
    "collapsed": true
   },
   "outputs": [],
   "source": [
    "#DEPENDENT VARIABLES:\n",
    "#male exist AND (no female OR female label redirects to male label) => male bias => 1\n",
    "#female exist AND (no male OR male label redirects to female label)  => female bias => 3\n",
    "\n",
    "#INDEPENDENT VARIABLES:\n",
    "#Google hits for male label\n",
    "#normalized difference between google hits of male and female label"
   ]
  },
  {
   "cell_type": "code",
   "execution_count": 83,
   "metadata": {},
   "outputs": [
    {
     "name": "stdout",
     "output_type": "stream",
     "text": [
      "Optimization terminated successfully.\n",
      "         Current function value: 0.115416\n",
      "         Iterations 8\n",
      "NormalizedGoogleDif    2.046990e+00\n",
      "GoogleHitsMale        -2.135595e-08\n",
      "intercept              2.518450e+00\n",
      "dtype: float64\n",
      "                           Logit Regression Results                           \n",
      "==============================================================================\n",
      "Dep. Variable:                 Wiki_1   No. Observations:                  837\n",
      "Model:                          Logit   Df Residuals:                      834\n",
      "Method:                           MLE   Df Model:                            2\n",
      "Date:                Fri, 23 Sep 2016   Pseudo R-squ.:                  0.1405\n",
      "Time:                        23:52:02   Log-Likelihood:                -96.603\n",
      "converged:                       True   LL-Null:                       -112.40\n",
      "                                        LLR p-value:                 1.383e-07\n",
      "=======================================================================================\n",
      "                          coef    std err          z      P>|z|      [95.0% Conf. Int.]\n",
      "---------------------------------------------------------------------------------------\n",
      "NormalizedGoogleDif     2.0470      0.344      5.952      0.000         1.373     2.721\n",
      "GoogleHitsMale      -2.136e-08   1.14e-08     -1.871      0.061     -4.37e-08  1.01e-09\n",
      "intercept               2.5185      0.228     11.041      0.000         2.071     2.966\n",
      "=======================================================================================\n",
      "[[   0.   25.]\n",
      " [   0.  812.]]\n"
     ]
    }
   ],
   "source": [
    "data = df\n",
    "dummy_wiki = pd.get_dummies(data['Wiki'], prefix='Wiki')\n",
    "y_all=[dummy_wiki[\"Wiki_3\"],dummy_wiki[\"Wiki_1\"]]\n",
    "y=y_all[1]\n",
    "X=data[['NormalizedGoogleDif',\"GoogleHitsMale\"]]#\"Name_length\"\n",
    "X=sm.add_constant(X, prepend=False)\n",
    "X=X.rename(columns = {'const':'intercept'})\n",
    "res1 = sm.Logit(y,X)\n",
    "mlogit_res = res1.fit()\n",
    "print mlogit_res.params\n",
    "print mlogit_res.summary()\n",
    "predict= np.array(mlogit_res.predict() > 0.5, dtype=float)\n",
    "print mlogit_res.pred_table()"
   ]
  },
  {
   "cell_type": "code",
   "execution_count": 84,
   "metadata": {},
   "outputs": [
    {
     "name": "stdout",
     "output_type": "stream",
     "text": [
      "Optimization terminated successfully.\n",
      "         Current function value: 0.102696\n",
      "         Iterations 9\n",
      "                           Logit Regression Results                           \n",
      "==============================================================================\n",
      "Dep. Variable:                 Wiki_1   No. Observations:                  837\n",
      "Model:                          Logit   Df Residuals:                      833\n",
      "Method:                           MLE   Df Model:                            3\n",
      "Date:                Fri, 23 Sep 2016   Pseudo R-squ.:                  0.2352\n",
      "Time:                        23:52:30   Log-Likelihood:                -85.957\n",
      "converged:                       True   LL-Null:                       -112.40\n",
      "                                        LLR p-value:                 1.945e-11\n",
      "=======================================================================================\n",
      "                          coef    std err          z      P>|z|      [95.0% Conf. Int.]\n",
      "---------------------------------------------------------------------------------------\n",
      "NormalizedGoogleDif     3.0303      0.452      6.712      0.000         2.145     3.915\n",
      "Name_length             0.1547      0.042      3.685      0.000         0.072     0.237\n",
      "GoogleHitsMale      -1.496e-08   1.21e-08     -1.237      0.216     -3.87e-08  8.74e-09\n",
      "intercept              -0.1437      0.666     -0.216      0.829        -1.449     1.162\n",
      "=======================================================================================\n",
      "[[   4.   21.]\n",
      " [   0.  812.]]\n"
     ]
    }
   ],
   "source": [
    "X=data[['NormalizedGoogleDif',\"Name_length\",\"GoogleHitsMale\"]]\n",
    "X=sm.add_constant(X, prepend=False)\n",
    "X=X.rename(columns = {'const':'intercept'})\n",
    "res1 = sm.Logit(y,X)\n",
    "mlogit_res = res1.fit()\n",
    "print mlogit_res.summary()\n",
    "predict= np.array(mlogit_res.predict() > 0.5, dtype=float)\n",
    "print mlogit_res.pred_table()"
   ]
  },
  {
   "cell_type": "markdown",
   "metadata": {},
   "source": [
    "# Logistic Regression (Female bias)"
   ]
  },
  {
   "cell_type": "code",
   "execution_count": 33,
   "metadata": {},
   "outputs": [
    {
     "name": "stdout",
     "output_type": "stream",
     "text": [
      "Optimization terminated successfully.\n",
      "         Current function value: 0.018299\n",
      "         Iterations 18\n",
      "                           Logit Regression Results                           \n",
      "==============================================================================\n",
      "Dep. Variable:                 Wiki_3   No. Observations:                  837\n",
      "Model:                          Logit   Df Residuals:                      834\n",
      "Method:                           MLE   Df Model:                            2\n",
      "Date:                Fri, 23 Sep 2016   Pseudo R-squ.:                  0.5699\n",
      "Time:                        23:11:37   Log-Likelihood:                -15.316\n",
      "converged:                       True   LL-Null:                       -35.607\n",
      "                                        LLR p-value:                 1.541e-09\n",
      "=======================================================================================\n",
      "                          coef    std err          z      P>|z|      [95.0% Conf. Int.]\n",
      "---------------------------------------------------------------------------------------\n",
      "NormalizedGoogleDif    -4.9650      1.383     -3.589      0.000        -7.676    -2.254\n",
      "GoogleHitsMale      -2.494e-05   3.56e-05     -0.702      0.483     -9.46e-05  4.47e-05\n",
      "intercept              -4.6995      1.029     -4.569      0.000        -6.715    -2.684\n",
      "=======================================================================================\n",
      "[[ 831.    0.]\n",
      " [   5.    1.]]\n",
      "Accuracy: 0.994026284349\n",
      "Odds:\n",
      "NormalizedGoogleDif    0.006978\n",
      "GoogleHitsMale         0.999975\n",
      "intercept              0.009100\n",
      "dtype: float64\n",
      "p:\n",
      "NormalizedGoogleDif    0.006929\n",
      "GoogleHitsMale         0.499994\n",
      "intercept              0.009018\n",
      "dtype: float64\n",
      "Probability of being in a Female Bias class when Normalized GoogleDif increase by a unit is 0.006\n",
      "Probability of being in a Female Bias class given normalozedGoogleDif==0 is 0.009\n"
     ]
    }
   ],
   "source": [
    "data = df\n",
    "dummy_wiki = pd.get_dummies(data['Wiki'], prefix='Wiki')\n",
    "y_all=[dummy_wiki[\"Wiki_3\"],dummy_wiki[\"Wiki_1\"]]\n",
    "y=y_all[0]\n",
    "X=data[['NormalizedGoogleDif',\"GoogleHitsMale\"]]\n",
    "X=sm.add_constant(X, prepend=False)\n",
    "X=X.rename(columns = {'const':'intercept'})\n",
    "\n",
    "res1 = sm.Logit(y,X)\n",
    "mlogit_res = res1.fit()\n",
    "print mlogit_res.summary()\n",
    "predict= np.array(mlogit_res.predict() > 0.5, dtype=float)\n",
    "print mlogit_res.pred_table()\n",
    "acc=float(sum(mlogit_res.pred_table().diagonal()))/float(len(y))\n",
    "print \"Accuracy:\",acc   \n",
    "\n",
    "print \"Odds:\\n\", np.exp(mlogit_res.params)\n",
    "print \"p:\\n\", np.exp(mlogit_res.params)/(1+np.exp(mlogit_res.params))\n",
    "print \"Probability of being in a Female Bias class when Normalized GoogleDif increase by a unit is 0.006\"\n",
    "print \"Probability of being in a Female Bias class given normalozedGoogleDif==0 is 0.009\""
   ]
  },
  {
   "cell_type": "markdown",
   "metadata": {},
   "source": [
    "# Logistic Regression (Male bias)  without neotral group"
   ]
  },
  {
   "cell_type": "code",
   "execution_count": 35,
   "metadata": {},
   "outputs": [
    {
     "name": "stdout",
     "output_type": "stream",
     "text": [
      "Optimization terminated successfully.\n",
      "         Current function value: 0.018498\n",
      "         Iterations 12\n",
      "                           Logit Regression Results                           \n",
      "==============================================================================\n",
      "Dep. Variable:                 Wiki_1   No. Observations:                  818\n",
      "Model:                          Logit   Df Residuals:                      816\n",
      "Method:                           MLE   Df Model:                            1\n",
      "Date:                Fri, 23 Sep 2016   Pseudo R-squ.:                  0.5734\n",
      "Time:                        23:13:05   Log-Likelihood:                -15.131\n",
      "converged:                       True   LL-Null:                       -35.469\n",
      "                                        LLR p-value:                 1.798e-10\n",
      "=======================================================================================\n",
      "                          coef    std err          z      P>|z|      [95.0% Conf. Int.]\n",
      "---------------------------------------------------------------------------------------\n",
      "NormalizedGoogleDif     5.3080      1.414      3.755      0.000         2.537     8.079\n",
      "intercept               5.0659      1.028      4.928      0.000         3.051     7.081\n",
      "=======================================================================================\n",
      "[[   2.    4.]\n",
      " [   0.  812.]]\n"
     ]
    }
   ],
   "source": [
    "data = df[df.Wiki!=2]\n",
    "dummy_wiki = pd.get_dummies(data['Wiki'], prefix='Wiki')\n",
    "y_all=[dummy_wiki[\"Wiki_3\"],dummy_wiki[\"Wiki_1\"]]\n",
    "y=y_all[1]\n",
    "X=data[['NormalizedGoogleDif']]\n",
    "X=sm.add_constant(X, prepend=False)\n",
    "X=X.rename(columns = {'const':'intercept'})\n",
    "res1 = sm.Logit(y,X)\n",
    "mlogit_res = res1.fit()\n",
    "print mlogit_res.summary()\n",
    "predict= np.array(mlogit_res.predict() > 0.5, dtype=float)\n",
    "print mlogit_res.pred_table()"
   ]
  },
  {
   "cell_type": "markdown",
   "metadata": {},
   "source": [
    "# With stratified k-folds"
   ]
  },
  {
   "cell_type": "markdown",
   "metadata": {},
   "source": [
    "## Male bias"
   ]
  },
  {
   "cell_type": "code",
   "execution_count": 61,
   "metadata": {
    "scrolled": true
   },
   "outputs": [
    {
     "name": "stdout",
     "output_type": "stream",
     "text": [
      "Optimization terminated successfully.\n",
      "         Current function value: 0.115660\n",
      "         Iterations 8\n",
      "Optimization terminated successfully.\n",
      "         Current function value: 0.114301\n",
      "         Iterations 8\n",
      "Optimization terminated successfully.\n",
      "         Current function value: 0.120720\n",
      "         Iterations 8\n",
      "Optimization terminated successfully.\n",
      "         Current function value: 0.103474\n",
      "         Iterations 8\n",
      "Optimization terminated successfully.\n",
      "         Current function value: 0.120680\n",
      "         Iterations 8\n",
      "                           Logit Regression Results                           \n",
      "==============================================================================\n",
      "Dep. Variable:                 Wiki_1   No. Observations:                  670\n",
      "Model:                          Logit   Df Residuals:                      667\n",
      "Method:                           MLE   Df Model:                            2\n",
      "Date:                Fri, 23 Sep 2016   Pseudo R-squ.:                  0.2291\n",
      "Time:                        23:26:53   Log-Likelihood:                -69.328\n",
      "converged:                       True   LL-Null:                       -89.929\n",
      "                                        LLR p-value:                 1.129e-09\n",
      "=======================================================================================\n",
      "                          coef    std err          z      P>|z|      [95.0% Conf. Int.]\n",
      "---------------------------------------------------------------------------------------\n",
      "NormalizedGoogleDif     2.5419      0.396      6.413      0.000         1.765     3.319\n",
      "GoogleHitsMale       -2.45e-08   1.18e-08     -2.073      0.038     -4.77e-08 -1.34e-09\n",
      "intercept               2.4895      0.251      9.919      0.000         1.998     2.981\n",
      "=======================================================================================\n",
      "AIC: 144.655666533\n",
      "BIC: 158.17749967\n",
      "[[   1.   19.]\n",
      " [   0.  650.]]\n",
      "Accuracy: 0.971641791045\n",
      "Odds:\n",
      "NormalizedGoogleDif    12.703744\n",
      "GoogleHitsMale          1.000000\n",
      "intercept              12.055436\n",
      "dtype: float64\n",
      "p:\n",
      "NormalizedGoogleDif    0.927027\n",
      "GoogleHitsMale         0.500000\n",
      "intercept              0.923404\n",
      "dtype: float64\n"
     ]
    },
    {
     "data": {
      "text/plain": [
       "<matplotlib.legend.Legend at 0xe8bb470>"
      ]
     },
     "execution_count": 61,
     "metadata": {},
     "output_type": "execute_result"
    },
    {
     "data": {
      "image/png": "[encoded data removed]",
      "text/plain": [
       "<matplotlib.figure.Figure at 0x12666f60>"
      ]
     },
     "metadata": {},
     "output_type": "display_data"
    }
   ],
   "source": [
    "from sklearn.metrics import roc_curve, auc\n",
    "from scipy import interp\n",
    "import matplotlib.pyplot as plt\n",
    "data = df\n",
    "dummy_wiki = pd.get_dummies(data['Wiki'], prefix='Wiki')\n",
    "y_all=[dummy_wiki[\"Wiki_3\"],dummy_wiki[\"Wiki_1\"]]\n",
    "y=y_all[1]\n",
    "X=data[['NormalizedGoogleDif',\"GoogleHitsMale\" ]]#[train_cols]\n",
    "X=sm.add_constant(X, prepend=False)\n",
    "X=X.rename(columns = {'const':'intercept'})\n",
    "skf = cross_validation.StratifiedKFold(y, n_folds=5,shuffle=True)\n",
    "aic_min=9999\n",
    "mean_tpr = 0.0\n",
    "mean_fpr = np.linspace(0, 1, 100)\n",
    "i=0\n",
    "for train_index, test_index in skf:  \n",
    "    y_train, y_test = y[train_index], y[test_index]\n",
    "    X_train, X_test = X.iloc[train_index,:], X.iloc[test_index,:]\n",
    "\n",
    "    res1 = sm.Logit(y_train, X_train)\n",
    "    mlogit_res = res1.fit()\n",
    "    predict= np.array(mlogit_res.predict() > 0.5, dtype=float)\n",
    "    #print mlogit_res.summary()\n",
    "    #print mlogit_res.pred_table()\n",
    "    # Compute ROC curve and area the curve\n",
    "    fpr, tpr, thresholds = roc_curve(y[train_index], mlogit_res.predict())\n",
    "    mean_tpr += interp(mean_fpr, fpr, tpr)\n",
    "    mean_tpr[0] = 0.0\n",
    "    roc_auc = auc(fpr, tpr)\n",
    "    plt.plot(fpr, tpr, lw=1, label='ROC fold %d (area = %0.2f)' % (i, roc_auc))\n",
    "    \n",
    "    aic=mlogit_res.aic\n",
    "    i+=1\n",
    "    if aic<aic_min:\n",
    "        aic_min=aic\n",
    "        best_res=mlogit_res\n",
    "        y_train_best=y_train\n",
    "        best_index=train_index\n",
    "print best_res.summary()\n",
    "print \"AIC:\",best_res.aic\n",
    "print \"BIC:\",best_res.bic\n",
    "predict= np.array(best_res.predict() > 0.5, dtype=float)\n",
    "print best_res.pred_table()\n",
    "acc=float(sum(best_res.pred_table().diagonal()))/float(len(y_train_best))\n",
    "print \"Accuracy:\",acc\n",
    "print \"Odds:\\n\", np.exp(best_res.params)\n",
    "print \"p:\\n\", np.exp(best_res.params)/(1+np.exp(best_res.params))\n",
    "plt.legend(loc=\"lower right\")"
   ]
  },
  {
   "cell_type": "code",
   "execution_count": 43,
   "metadata": {},
   "outputs": [
    {
     "name": "stdout",
     "output_type": "stream",
     "text": [
      "                          Results: Logit\n",
      "==================================================================\n",
      "Model:                   Logit     Pseudo R-squared:    0.212     \n",
      "Dependent Variable:      Wiki_1    AIC:                 147.7394  \n",
      "No. Observations:        670       BIC:                 161.2613  \n",
      "Df Model:                2         Log-Likelihood:      -70.870   \n",
      "Df Residuals:            667       LL-Null:             -89.929   \n",
      "Converged:               1.0000    LLR p-value:         5.2782e-09\n",
      "No. Iterations:          8.0000    Scale:               1.0000    \n",
      "------------------------------------------------------------------\n",
      "                     Coef.  Std.Err.    t    P>|t|   [0.025 0.975]\n",
      "------------------------------------------------------------------\n",
      "NormalizedGoogleDif  2.4409   0.3884  6.2840 0.0000  1.6796 3.2022\n",
      "GoogleHitsMale      -0.0000   0.0000 -0.0063 0.9949 -0.0000 0.0000\n",
      "intercept            2.4078   0.2496  9.6481 0.0000  1.9187 2.8969\n",
      "==================================================================\n",
      "\n",
      "NormalizedGoogleDif    3.298758e-10\n",
      "GoogleHitsMale         9.949428e-01\n",
      "intercept              5.005866e-22\n",
      "dtype: float64\n"
     ]
    }
   ],
   "source": [
    "print best_res.summary2()\n",
    "print best_res.pvalues"
   ]
  },
  {
   "cell_type": "markdown",
   "metadata": {},
   "source": [
    "                          Results: Logit\n",
    "==================================================================\n",
    "Model:                   Logit     Pseudo R-squared:    0.212     \n",
    "Dependent Variable:      Wiki_1    AIC:                 147.7394  \n",
    "No. Observations:        670       BIC:                 161.2613  \n",
    "Df Model:                2         Log-Likelihood:      -70.870   \n",
    "Df Residuals:            667       LL-Null:             -89.929   \n",
    "Converged:               1.0000    LLR p-value:         5.2782e-09\n",
    "No. Iterations:          8.0000    Scale:               1.0000    \n",
    "------------------------------------------------------------------\n",
    "                     Coef.  Std.Err.    t    P>|t|   [0.025 0.975]\n",
    "------------------------------------------------------------------\n",
    "NormalizedGoogleDif  2.4409   0.3884  6.2840 0.0000  1.6796 3.2022\n",
    "GoogleHitsMale      -0.0000   0.0000 -0.0063 0.9949 -0.0000 0.0000\n",
    "intercept            2.4078   0.2496  9.6481 0.0000  1.9187 2.8969\n",
    "==================================================================\n",
    "\n",
    "NormalizedGoogleDif    3.298758e-10\n",
    "GoogleHitsMale         9.949428e-01\n",
    "intercept              5.005866e-22\n",
    "dtype: float64\n"
   ]
  },
  {
   "cell_type": "markdown",
   "metadata": {},
   "source": [
    " the odds of being in a male bias for females (female = 1)over the odds of getting into an honors class for males (female = 0) is exp(.979948) = 2.66.  In terms of percent change, we can say that the odds for females are 166% higher than the odds for males."
   ]
  },
  {
   "cell_type": "markdown",
   "metadata": {},
   "source": [
    "Model 1:\n",
    "The coefficient for Normalized Google difference says that, we will see 1048% increase in the odds of being in a male bias group for a one-unit increase in Normalized Google difference score since exp(2.44) = 11.48.\n",
    "\n",
    "\n",
    "Model 2:\n",
    "The coefficient for Normalized Google difference says that, we will see 0.02% increase in the odds of being in a female bias group for a one-unit increase in Normalized Google difference score since exp(-5.93) = 0.002654.\n"
   ]
  },
  {
   "cell_type": "markdown",
   "metadata": {},
   "source": [
    "|           | Coef. | p | 95% Conf. int. |\n",
    "|:-:|:-:|:-:|:-:|\n",
    "| Model 1:|| Accuracy: 0.971 | Pseudo R-squared:  0.21|\n",
    "| Normalized Google difference | 2.44  |    0.0000       |  [ 1.68, 3.20 ]     |\n",
    "| Google hits for male name |    0.00    |       0.9949    |    [ 0.00, 0.00 ]   |\n",
    "| (Intercept)  |     2.41    |       0.0000       |     [ 1.92, 2.90]   |\n",
    "| ||||\n",
    "| Model 2:|| Accuracy: 0.995| Pseudo R-squared:  0.62|\n",
    "| Normalized Google difference | -5.93  |    0.006       |  [ -10.13, -1.73 ]     |\n",
    "| Google hits for male name |    -2.075e-05 |     0.558    |    [ -9.02e-05, 4.87e-05 ]   |\n",
    "| (Intercept)  |     -5.5543     |       0.001    |     [ -8.872, -2.236]   |\n",
    "\n",
    "\n",
    "\n"
   ]
  },
  {
   "cell_type": "markdown",
   "metadata": {},
   "source": [
    "## Female bias"
   ]
  },
  {
   "cell_type": "code",
   "execution_count": 298,
   "metadata": {},
   "outputs": [
    {
     "name": "stdout",
     "output_type": "stream",
     "text": [
      "Optimization terminated successfully.\n",
      "         Current function value: 0.017791\n",
      "         Iterations 20\n",
      "Optimization terminated successfully.\n",
      "         Current function value: 0.020187\n",
      "         Iterations 17\n",
      "Optimization terminated successfully.\n",
      "         Current function value: 0.016530\n",
      "         Iterations 18\n",
      "Optimization terminated successfully.\n",
      "         Current function value: 0.018319\n",
      "         Iterations 18\n",
      "Optimization terminated successfully.\n",
      "         Current function value: 0.017397\n",
      "         Iterations 18\n",
      "NormalizedGoogleDif   -5.931675\n",
      "GoogleHitsMale        -0.000021\n",
      "intercept             -5.554297\n",
      "dtype: float64\n",
      "                           Logit Regression Results                           \n",
      "==============================================================================\n",
      "Dep. Variable:                 Wiki_3   No. Observations:                  670\n",
      "Model:                          Logit   Df Residuals:                      667\n",
      "Method:                           MLE   Df Model:                            2\n",
      "Date:                Tue, 09 Feb 2016   Pseudo R-squ.:                  0.6242\n",
      "Time:                        14:33:56   Log-Likelihood:                -11.075\n",
      "converged:                       True   LL-Null:                       -29.470\n",
      "                                        LLR p-value:                 1.025e-08\n",
      "=======================================================================================\n",
      "                          coef    std err          z      P>|z|      [95.0% Conf. Int.]\n",
      "---------------------------------------------------------------------------------------\n",
      "NormalizedGoogleDif    -5.9317      2.143     -2.769      0.006       -10.131    -1.732\n",
      "GoogleHitsMale      -2.075e-05   3.54e-05     -0.586      0.558     -9.02e-05  4.87e-05\n",
      "intercept              -5.5543      1.693     -3.281      0.001        -8.872    -2.236\n",
      "=======================================================================================\n",
      "AIC: 28.1495776575\n",
      "BIC: 41.6714107947\n",
      "[[ 665.    0.]\n",
      " [   3.    2.]]\n",
      "Accuracy: 0.99552238806\n",
      "Odds:\n",
      "NormalizedGoogleDif    0.002654\n",
      "GoogleHitsMale         0.999979\n",
      "intercept              0.003871\n",
      "dtype: float64\n",
      "p:\n",
      "NormalizedGoogleDif    0.002647\n",
      "GoogleHitsMale         0.499995\n",
      "intercept              0.003856\n",
      "dtype: float64\n"
     ]
    },
    {
     "data": {
      "text/plain": [
       "<matplotlib.legend.Legend at 0x172a1fb0>"
      ]
     },
     "execution_count": 298,
     "metadata": {},
     "output_type": "execute_result"
    },
    {
     "data": {
      "image/png": "[encoded data removed]",
      "text/plain": [
       "<matplotlib.figure.Figure at 0x14e0c330>"
      ]
     },
     "metadata": {},
     "output_type": "display_data"
    }
   ],
   "source": [
    "data = df\n",
    "\n",
    "dummy_wiki = pd.get_dummies(data['Wiki'], prefix='Wiki')\n",
    "y_all=[dummy_wiki[\"Wiki_3\"],dummy_wiki[\"Wiki_1\"]]\n",
    "y=y_all[0]\n",
    "X=data[['NormalizedGoogleDif',\"GoogleHitsMale\" ]]#[train_cols]\n",
    "X=sm.add_constant(X, prepend=False)\n",
    "X=X.rename(columns = {'const':'intercept'})\n",
    "skf = cross_validation.StratifiedKFold(y, n_folds=5,shuffle=True)\n",
    "aic_min=9999\n",
    "mean_tpr = 0.0\n",
    "mean_fpr = np.linspace(0, 1, 100)\n",
    "i=0\n",
    "for train_index, test_index in skf:  \n",
    "    y_train, y_test = y[train_index], y[test_index]\n",
    "    X_train, X_test = X.iloc[train_index,:], X.iloc[test_index,:]\n",
    "\n",
    "    res1 = sm.Logit(y_train, X_train)\n",
    "    mlogit_res = res1.fit()\n",
    "    predict= np.array(mlogit_res.predict() > 0.5, dtype=float)\n",
    "    # Compute ROC curve and area the curve\n",
    "    fpr, tpr, thresholds = roc_curve(y[train_index], mlogit_res.predict())\n",
    "    mean_tpr += interp(mean_fpr, fpr, tpr)\n",
    "    mean_tpr[0] = 0.0\n",
    "    roc_auc = auc(fpr, tpr)\n",
    "    plt.plot(fpr, tpr, lw=1, label='ROC fold %d (area = %0.2f)' % (i, roc_auc))\n",
    "    \n",
    "    aic=mlogit_res.aic\n",
    "    i+=1\n",
    "    if aic<aic_min:\n",
    "        aic_min=aic\n",
    "        best_res=mlogit_res\n",
    "        y_train_best=y_train\n",
    "        best_index=train_index\n",
    "print best_res.summary()\n",
    "print \"AIC:\",best_res.aic\n",
    "print \"BIC:\",best_res.bic\n",
    "predict= np.array(best_res.predict() > 0.5, dtype=float)\n",
    "print best_res.pred_table()\n",
    "acc=float(sum(best_res.pred_table().diagonal()))/float(len(y_train_best))\n",
    "print \"Accuracy:\",acc\n",
    "print \"Odds:\\n\", np.exp(best_res.params)\n",
    "print \"p:\\n\", np.exp(best_res.params)/(1+np.exp(best_res.params))\n",
    "\n",
    "\n",
    "plt.legend(loc=\"lower right\")\n",
    "\n"
   ]
  },
  {
   "cell_type": "markdown",
   "metadata": {},
   "source": [
    "# Without neutral case"
   ]
  },
  {
   "cell_type": "markdown",
   "metadata": {},
   "source": [
    "## Logistic Regression (Male bias)  without neotral group"
   ]
  },
  {
   "cell_type": "code",
   "execution_count": 62,
   "metadata": {
    "scrolled": true
   },
   "outputs": [
    {
     "name": "stdout",
     "output_type": "stream",
     "text": [
      "Optimization terminated successfully.\n",
      "         Current function value: 0.013276\n",
      "         Iterations 18\n",
      "Optimization terminated successfully.\n",
      "         Current function value: 0.019461\n",
      "         Iterations 18\n",
      "Optimization terminated successfully.\n",
      "         Current function value: 0.015957\n",
      "         Iterations 17\n",
      "Optimization terminated successfully.\n",
      "         Current function value: 0.020928\n",
      "         Iterations 17\n",
      "Optimization terminated successfully.\n",
      "         Current function value: 0.019936\n",
      "         Iterations 20\n",
      "                           Logit Regression Results                           \n",
      "==============================================================================\n",
      "Dep. Variable:                 Wiki_1   No. Observations:                  653\n",
      "Model:                          Logit   Df Residuals:                      650\n",
      "Method:                           MLE   Df Model:                            2\n",
      "Date:                Fri, 23 Sep 2016   Pseudo R-squ.:                  0.6442\n",
      "Time:                        23:30:58   Log-Likelihood:                -8.6695\n",
      "converged:                       True   LL-Null:                       -24.369\n",
      "                                        LLR p-value:                 1.520e-07\n",
      "=======================================================================================\n",
      "                          coef    std err          z      P>|z|      [95.0% Conf. Int.]\n",
      "---------------------------------------------------------------------------------------\n",
      "NormalizedGoogleDif     6.5378      2.502      2.613      0.009         1.634    11.442\n",
      "GoogleHitsMale       3.126e-06   1.92e-05      0.163      0.871     -3.46e-05  4.08e-05\n",
      "intercept               6.0758      1.976      3.074      0.002         2.203     9.949\n",
      "=======================================================================================\n",
      "AIC: 23.3390973362\n",
      "BIC: 36.783828724\n",
      "[[   2.    2.]\n",
      " [   0.  649.]]\n",
      "Accuracy: 0.996937212864\n",
      "Odds:\n",
      "NormalizedGoogleDif    690.777696\n",
      "GoogleHitsMale           1.000003\n",
      "intercept              435.216304\n",
      "dtype: float64\n",
      "p:\n",
      "NormalizedGoogleDif    0.998554\n",
      "GoogleHitsMale         0.500001\n",
      "intercept              0.997708\n",
      "dtype: float64\n"
     ]
    }
   ],
   "source": [
    "data = df[df.Wiki!=2]\n",
    "dummy_wiki = pd.get_dummies(data['Wiki'], prefix='Wiki')\n",
    "y_all=[dummy_wiki[\"Wiki_3\"],dummy_wiki[\"Wiki_1\"]]\n",
    "y=y_all[1]\n",
    "X=data[['NormalizedGoogleDif',\"GoogleHitsMale\" ]]#,\"Name_length\"]]\n",
    "X=sm.add_constant(X, prepend=False)\n",
    "X=X.rename(columns = {'const':'intercept'})\n",
    "skf = cross_validation.StratifiedKFold(y, n_folds=5,shuffle=True)\n",
    "aic_min=9999\n",
    "for train_index, test_index in skf:  \n",
    "    y_train, y_test = y[train_index], y[test_index]\n",
    "    X_train, X_test = X.iloc[train_index,:], X.iloc[test_index,:]\n",
    "    res1 = sm.Logit(y_train, X_train)\n",
    "    mlogit_res = res1.fit()\n",
    "    aic=mlogit_res.aic\n",
    "    if (aic<aic_min)&(mlogit_res.mle_retvals[\"iterations\"]!=35):\n",
    "        aic_min=aic\n",
    "        best_res=mlogit_res\n",
    "        y_train_best=y_train\n",
    "print best_res.summary()\n",
    "print \"AIC:\",best_res.aic\n",
    "print \"BIC:\",best_res.bic\n",
    "predict= np.array(best_res.predict() > 0.5, dtype=float)\n",
    "print best_res.pred_table()\n",
    "acc=float(sum(best_res.pred_table().diagonal()))/float(len(y_train_best))\n",
    "print \"Accuracy:\",acc\n",
    "print \"Odds:\\n\", np.exp(best_res.params)\n",
    "print \"p:\\n\", np.exp(best_res.params)/(1+np.exp(best_res.params))"
   ]
  },
  {
   "cell_type": "markdown",
   "metadata": {},
   "source": [
    "## Logistic Regression (Female bias)  without neotral group"
   ]
  },
  {
   "cell_type": "code",
   "execution_count": 65,
   "metadata": {},
   "outputs": [
    {
     "name": "stdout",
     "output_type": "stream",
     "text": [
      "Optimization terminated successfully.\n",
      "         Current function value: 0.017972\n",
      "         Iterations 20\n",
      "Optimization terminated successfully.\n",
      "         Current function value: 0.020214\n",
      "         Iterations 18\n",
      "Optimization terminated successfully.\n",
      "         Current function value: 0.014578\n",
      "         Iterations 18\n",
      "Optimization terminated successfully.\n",
      "         Current function value: 0.020610\n",
      "         Iterations 17\n",
      "Optimization terminated successfully.\n",
      "         Current function value: 0.016035\n",
      "         Iterations 17\n",
      "                           Logit Regression Results                           \n",
      "==============================================================================\n",
      "Dep. Variable:                 Wiki_1   No. Observations:                  655\n",
      "Model:                          Logit   Df Residuals:                      652\n",
      "Method:                           MLE   Df Model:                            2\n",
      "Date:                Fri, 23 Sep 2016   Pseudo R-squ.:                  0.6747\n",
      "Time:                        23:32:56   Log-Likelihood:                -9.5483\n",
      "converged:                       True   LL-Null:                       -29.357\n",
      "                                        LLR p-value:                 2.496e-09\n",
      "=======================================================================================\n",
      "                          coef    std err          z      P>|z|      [95.0% Conf. Int.]\n",
      "---------------------------------------------------------------------------------------\n",
      "NormalizedGoogleDif     6.2762      2.066      3.037      0.002         2.226    10.326\n",
      "GoogleHitsMale       1.067e-05   2.56e-05      0.417      0.677     -3.95e-05  6.09e-05\n",
      "intercept               5.3780      1.597      3.367      0.001         2.248     8.508\n",
      "=======================================================================================\n",
      "AIC: 25.0966654334\n",
      "BIC: 38.5505711403\n",
      "[[   3.    2.]\n",
      " [   0.  650.]]\n",
      "Accuracy: 0.996946564885\n",
      "Odds:\n",
      "NormalizedGoogleDif    531.761126\n",
      "GoogleHitsMale           1.000011\n",
      "intercept              216.591783\n",
      "dtype: float64\n",
      "p:\n",
      "NormalizedGoogleDif    0.998123\n",
      "GoogleHitsMale         0.500003\n",
      "intercept              0.995404\n",
      "dtype: float64\n"
     ]
    },
    {
     "data": {
      "text/plain": [
       "<matplotlib.legend.Legend at 0x13000748>"
      ]
     },
     "execution_count": 65,
     "metadata": {},
     "output_type": "execute_result"
    },
    {
     "data": {
      "image/png": "[encoded data removed]",
      "text/plain": [
       "<matplotlib.figure.Figure at 0x12d6a898>"
      ]
     },
     "metadata": {},
     "output_type": "display_data"
    }
   ],
   "source": [
    "data = df[df.Wiki!=2]\n",
    "\n",
    "dummy_wiki = pd.get_dummies(data['Wiki'], prefix='Wiki')\n",
    "y_all=[dummy_wiki[\"Wiki_3\"],dummy_wiki[\"Wiki_1\"]]\n",
    "y=y_all[1]\n",
    "X=data[['NormalizedGoogleDif',\"GoogleHitsMale\" ]]#[\n",
    "X=sm.add_constant(X, prepend=False)\n",
    "X=X.rename(columns = {'const':'intercept'})\n",
    "skf = cross_validation.StratifiedKFold(y, n_folds=5,shuffle=True)\n",
    "aic_min=9999\n",
    "mean_tpr = 0.0\n",
    "mean_fpr = np.linspace(0, 1, 100)\n",
    "i=0\n",
    "for train_index, test_index in skf:  \n",
    "    y_train, y_test = y[train_index], y[test_index]\n",
    "    X_train, X_test = X.iloc[train_index,:], X.iloc[test_index,:]\n",
    "    res1 = sm.Logit(y_train, X_train)\n",
    "    mlogit_res = res1.fit()\n",
    "    \n",
    "    predict= np.array(mlogit_res.predict() > 0.5, dtype=float)\n",
    "    \n",
    "    # Compute ROC curve and area the curve\n",
    "    fpr, tpr, thresholds = roc_curve(y[train_index], mlogit_res.predict())\n",
    "    mean_tpr += interp(mean_fpr, fpr, tpr)\n",
    "    mean_tpr[0] = 0.0\n",
    "    roc_auc = auc(fpr, tpr)\n",
    "    plt.plot(fpr, tpr, lw=1, label='ROC fold %d (area = %0.2f)' % (i, roc_auc))\n",
    "    \n",
    "    aic=mlogit_res.aic\n",
    "    i+=1\n",
    "    if aic<aic_min:\n",
    "        aic_min=aic\n",
    "        best_res=mlogit_res\n",
    "        y_train_best=y_train\n",
    "        best_index=train_index\n",
    "print best_res.summary()\n",
    "print \"AIC:\",best_res.aic\n",
    "print \"BIC:\",best_res.bic\n",
    "predict= np.array(best_res.predict() > 0.5, dtype=float)\n",
    "print best_res.pred_table()\n",
    "acc=float(sum(best_res.pred_table().diagonal()))/float(len(y_train_best))\n",
    "print \"Accuracy:\",acc\n",
    "print \"Odds:\\n\", np.exp(best_res.params)\n",
    "print \"p:\\n\", np.exp(best_res.params)/(1+np.exp(best_res.params))\n",
    "\n",
    "\n",
    "plt.legend(loc=\"lower right\")\n",
    "\n"
   ]
  },
  {
   "cell_type": "code",
   "execution_count": 82,
   "metadata": {},
   "outputs": [
    {
     "data": {
      "text/plain": [
       "<matplotlib.legend.Legend at 0x14dc2630>"
      ]
     },
     "execution_count": 82,
     "metadata": {},
     "output_type": "execute_result"
    },
    {
     "data": {
      "image/png": "[encoded data removed]",
      "text/plain": [
       "<matplotlib.figure.Figure at 0x141f5da0>"
      ]
     },
     "metadata": {},
     "output_type": "display_data"
    }
   ],
   "source": [
    "logit_pars = best_res.params\n",
    "intercept = -logit_pars['intercept'] / logit_pars['GoogleHitsMale']\n",
    "slope = -logit_pars['NormalizedGoogleDif'] / logit_pars['GoogleHitsMale']\n",
    "heights_f=X_train[y_train!=1].NormalizedGoogleDif.values\n",
    "weights_f=X_train[y_train!=1].GoogleHitsMale.values\n",
    "heights_m=X_train[y_train==1].NormalizedGoogleDif.values\n",
    "weights_m=X_train[y_train==1].GoogleHitsMale.values\n",
    "\n",
    "fig = plt.figure(figsize = (10, 8))\n",
    "\n",
    "plt.semilogy()\n",
    "plt.plot(heights_f, weights_f, '.', label = 'Female Bias',c='r')\n",
    "# Men points (blue)\n",
    "plt.plot(heights_m, weights_m, '.', label = 'Male Bias',c=\"b\")#,mfc = 'None', mec='steelblue', alpha = .4)\n",
    "# The separating line\n",
    "y=intercept +slope * np.arange(-1,1.01,0.01) \n",
    "y[y < 0] = 0.0001\n",
    "plt.plot(np.arange(-1,1.01,0.01), y,'-', color = '#461B7E')\n",
    "plt.xlabel('NormalizedGoogleDif ')\n",
    "plt.ylabel('GoogleHitsMale')\n",
    "plt.ylim(10)\n",
    "plt.xlim(-1,1)\n",
    "plt.legend(loc='upper left')"
   ]
  },
  {
   "cell_type": "markdown",
   "metadata": {
    "collapsed": true
   },
   "source": [
    "# plot all data"
   ]
  },
  {
   "cell_type": "code",
   "execution_count": 289,
   "metadata": {},
   "outputs": [
    {
     "data": {
      "text/plain": [
       "<matplotlib.legend.Legend at 0x7d38d90>"
      ]
     },
     "execution_count": 289,
     "metadata": {},
     "output_type": "execute_result"
    },
    {
     "data": {
      "image/png": "[encoded data removed]",
      "text/plain": [
       "<matplotlib.figure.Figure at 0x1656eb10>"
      ]
     },
     "metadata": {},
     "output_type": "display_data"
    }
   ],
   "source": [
    "heights_f=data[data.Wiki==3].NormalizedGoogleDif.values\n",
    "weights_f=data[data.Wiki==3].GoogleHitsMale.values\n",
    "heights_m=data[data.Wiki==1].NormalizedGoogleDif.values\n",
    "weights_m=data[data.Wiki==1].GoogleHitsMale.values\n",
    "fig = plt.figure(figsize = (10, 8))\n",
    "plt.semilogy()\n",
    "plt.plot(heights_f, weights_f, '.', label = 'Female Bias',c='r')\n",
    "plt.plot(heights_m, weights_m, '.', label = 'Male Bias',c=\"b\")\n",
    "plt.xlabel('NormalizedGoogleDif ')\n",
    "plt.ylabel('GoogleHitsMale')\n",
    "plt.legend(loc='upper left')"
   ]
  },
  {
   "cell_type": "code",
   "execution_count": 85,
   "metadata": {},
   "outputs": [
    {
     "name": "stdout",
     "output_type": "stream",
     "text": [
      "                         2.5%         97.5%          OR\n",
      "NormalizedGoogleDif  9.263405  30525.481686  531.761126\n",
      "GoogleHitsMale       0.999960      1.000061    1.000011\n",
      "intercept            9.466186   4955.744621  216.591783\n"
     ]
    }
   ],
   "source": [
    "params = best_res.params\n",
    "conf = best_res.conf_int()\n",
    "conf['OR'] = params\n",
    "conf.columns = ['2.5%', '97.5%', 'OR']\n",
    "print np.exp(conf)"
   ]
  },
  {
   "cell_type": "markdown",
   "metadata": {},
   "source": [
    "# Multinomial logistic regression"
   ]
  },
  {
   "cell_type": "code",
   "execution_count": 13,
   "metadata": {
    "scrolled": true
   },
   "outputs": [
    {
     "name": "stdout",
     "output_type": "stream",
     "text": [
      "Wiki=1, i.e., male bias is the reference group while it is the most frequent one.\n",
      "                         GoogleHitsMale  Name_length  NormalizedGoogleDif  \\\n",
      "Fahrzeuginnenausstatter            3130           23             0.846608   \n",
      "Audiodesigner                      1450           13             0.948925   \n",
      "Jäger                           2350000            5             0.959803   \n",
      "Zusteller                        596000            9             0.985839   \n",
      "Revierjäger                        3930           11             0.867871   \n",
      "\n",
      "                         Wiki  const  \n",
      "Fahrzeuginnenausstatter     1      1  \n",
      "Audiodesigner               2      1  \n",
      "Jäger                       1      1  \n",
      "Zusteller                   1      1  \n",
      "Revierjäger                 1      1  \n",
      "train: 418 test: 419\n",
      "Warning: Maximum number of iterations has been exceeded.\n",
      "         Current function value: 0.089841\n",
      "         Iterations: 35\n",
      "                                0           1\n",
      "GoogleHitsMale       4.326163e-09    0.000005\n",
      "NormalizedGoogleDif -2.107869e+00 -203.868226\n",
      "Name_length         -2.487882e-01   -4.393783\n",
      "const                4.766106e-01  -72.912443\n",
      "                          MNLogit Regression Results                          \n",
      "==============================================================================\n",
      "Dep. Variable:                   Wiki   No. Observations:                  418\n",
      "Model:                        MNLogit   Df Residuals:                      410\n",
      "Method:                           MLE   Df Model:                            6\n",
      "Date:                Fri, 23 Sep 2016   Pseudo R-squ.:                  0.3862\n",
      "Time:                        22:41:56   Log-Likelihood:                -37.553\n",
      "converged:                      False   LL-Null:                       -61.181\n",
      "                                        LLR p-value:                 1.664e-08\n",
      "=======================================================================================\n",
      "             Wiki=2       coef    std err          z      P>|z|      [95.0% Conf. Int.]\n",
      "---------------------------------------------------------------------------------------\n",
      "GoogleHitsMale       4.326e-09   8.74e-08      0.049      0.961     -1.67e-07  1.76e-07\n",
      "NormalizedGoogleDif    -2.1079      0.848     -2.486      0.013        -3.770    -0.446\n",
      "Name_length            -0.2488      0.107     -2.326      0.020        -0.458    -0.039\n",
      "const                   0.4766      1.359      0.351      0.726        -2.187     3.140\n",
      "---------------------------------------------------------------------------------------\n",
      "             Wiki=3       coef    std err          z      P>|z|      [95.0% Conf. Int.]\n",
      "---------------------------------------------------------------------------------------\n",
      "GoogleHitsMale         5.1e-06      0.499   1.02e-05      1.000        -0.978     0.978\n",
      "NormalizedGoogleDif  -203.8682   7.17e+06  -2.84e-05      1.000      -1.4e+07   1.4e+07\n",
      "Name_length            -4.3938   2.17e+05  -2.03e-05      1.000     -4.25e+05  4.25e+05\n",
      "const                 -72.9124   3.57e+06  -2.04e-05      1.000     -6.99e+06  6.99e+06\n",
      "=======================================================================================\n",
      "AIC: 91.1067120737\n",
      "BIC: 123.390563534\n",
      "       MNLogit Marginal Effects      \n",
      "=====================================\n",
      "Dep. Variable:                   Wiki\n",
      "Method:                          dydx\n",
      "At:                           overall\n",
      "=======================================================================================\n",
      "             Wiki=1      dy/dx    std err          z      P>|z|      [95.0% Conf. Int.]\n",
      "---------------------------------------------------------------------------------------\n",
      "GoogleHitsMale      -8.743e-11   1.77e-09     -0.049      0.961     -3.55e-09  3.37e-09\n",
      "NormalizedGoogleDif     0.0426      0.020      2.082      0.037         0.003     0.083\n",
      "Name_length             0.0050      0.003      1.960      0.050      8.81e-07     0.010\n",
      "---------------------------------------------------------------------------------------\n",
      "             Wiki=2      dy/dx    std err          z      P>|z|      [95.0% Conf. Int.]\n",
      "---------------------------------------------------------------------------------------\n",
      "GoogleHitsMale       8.743e-11   1.77e-09      0.049      0.961     -3.37e-09  3.55e-09\n",
      "NormalizedGoogleDif    -0.0426      0.020     -2.082      0.037        -0.083    -0.003\n",
      "Name_length            -0.0050      0.003     -1.960      0.050        -0.010 -8.81e-07\n",
      "---------------------------------------------------------------------------------------\n",
      "             Wiki=3      dy/dx    std err          z      P>|z|      [95.0% Conf. Int.]\n",
      "---------------------------------------------------------------------------------------\n",
      "GoogleHitsMale       1.287e-20   1.21e-14   1.06e-06      1.000     -2.38e-14  2.38e-14\n",
      "NormalizedGoogleDif -5.142e-13   4.83e-07  -1.06e-06      1.000     -9.47e-07  9.47e-07\n",
      "Name_length         -1.104e-14   1.04e-08  -1.06e-06      1.000     -2.04e-08  2.04e-08\n",
      "=======================================================================================\n",
      "[[ 406.    0.    0.]\n",
      " [   9.    0.    0.]\n",
      " [   0.    0.    3.]]\n",
      "Accuracy: 0.978468899522\n",
      "train: 419 test: 418\n",
      "Warning: Maximum number of iterations has been exceeded.\n",
      "         Current function value: nan\n",
      "         Iterations: 35\n",
      "                                0           1\n",
      "GoogleHitsMale       1.346535e-08   -0.024537\n",
      "NormalizedGoogleDif -2.411606e+00 -407.537663\n",
      "Name_length         -1.413806e-01  -26.097029\n",
      "const               -3.987503e-01  437.788699\n",
      "                          MNLogit Regression Results                          \n",
      "==============================================================================\n",
      "Dep. Variable:                   Wiki   No. Observations:                  419\n",
      "Model:                        MNLogit   Df Residuals:                      411\n",
      "Method:                           MLE   Df Model:                            6\n",
      "Date:                Fri, 23 Sep 2016   Pseudo R-squ.:                     nan\n",
      "Time:                        22:41:57   Log-Likelihood:                    nan\n",
      "converged:                      False   LL-Null:                       -64.967\n",
      "                                        LLR p-value:                       nan\n",
      "=======================================================================================\n",
      "             Wiki=2       coef    std err          z      P>|z|      [95.0% Conf. Int.]\n",
      "---------------------------------------------------------------------------------------\n",
      "GoogleHitsMale       1.347e-08   1.29e-08      1.046      0.296     -1.18e-08  3.87e-08\n",
      "NormalizedGoogleDif    -2.4116      0.677     -3.562      0.000        -3.739    -1.085\n",
      "Name_length            -0.1414      0.061     -2.304      0.021        -0.262    -0.021\n",
      "const                  -0.3988      0.979     -0.407      0.684        -2.318     1.521\n",
      "---------------------------------------------------------------------------------------\n",
      "             Wiki=3       coef    std err          z      P>|z|      [95.0% Conf. Int.]\n",
      "---------------------------------------------------------------------------------------\n",
      "GoogleHitsMale         -0.0245      9.984     -0.002      0.998       -19.593    19.544\n",
      "NormalizedGoogleDif  -407.5377   1.77e+05     -0.002      0.998     -3.46e+05  3.46e+05\n",
      "Name_length           -26.0970   1.12e+04     -0.002      0.998     -2.19e+04  2.18e+04\n",
      "const                 437.7887   1.84e+05      0.002      0.998      -3.6e+05  3.61e+05\n",
      "=======================================================================================\n",
      "AIC: nan\n",
      "BIC: nan\n",
      "       MNLogit Marginal Effects      \n",
      "=====================================\n",
      "Dep. Variable:                   Wiki\n",
      "Method:                          dydx\n",
      "At:                           overall\n",
      "=======================================================================================\n",
      "             Wiki=1      dy/dx    std err          z      P>|z|      [95.0% Conf. Int.]\n",
      "---------------------------------------------------------------------------------------\n",
      "GoogleHitsMale       -2.79e-10   6.93e-09     -0.040      0.968     -1.39e-08  1.33e-08\n",
      "NormalizedGoogleDif     0.0501      0.017      2.875      0.004         0.016     0.084\n",
      "Name_length             0.0029      0.001      2.063      0.039         0.000     0.006\n",
      "---------------------------------------------------------------------------------------\n",
      "             Wiki=2      dy/dx    std err          z      P>|z|      [95.0% Conf. Int.]\n",
      "---------------------------------------------------------------------------------------\n",
      "GoogleHitsMale       2.801e-10   7.16e-10      0.391      0.696     -1.12e-09  1.68e-09\n",
      "NormalizedGoogleDif    -0.0501      0.017     -2.875      0.004        -0.084    -0.016\n",
      "Name_length            -0.0029      0.001     -2.063      0.039        -0.006    -0.000\n",
      "---------------------------------------------------------------------------------------\n",
      "             Wiki=3      dy/dx    std err          z      P>|z|      [95.0% Conf. Int.]\n",
      "---------------------------------------------------------------------------------------\n",
      "GoogleHitsMale      -1.091e-12   7.57e-09     -0.000      1.000     -1.48e-08  1.48e-08\n",
      "NormalizedGoogleDif -1.811e-08      0.000     -0.000      1.000        -0.000     0.000\n",
      "Name_length          -1.16e-09   8.05e-06     -0.000      1.000     -1.58e-05  1.58e-05\n",
      "=======================================================================================\n",
      "[[ 406.    0.    0.]\n",
      " [   8.    2.    0.]\n",
      " [   0.    0.    3.]]\n",
      "Accuracy: 0.980906921241\n",
      "                            0              1\n",
      "GoogleHitsMale       1.000000   9.757614e-01\n",
      "NormalizedGoogleDif  0.089671  1.020098e-177\n",
      "Name_length          0.868159   4.636649e-12\n",
      "const                0.671158  1.346531e+190\n"
     ]
    }
   ],
   "source": [
    "from sklearn import cross_validation\n",
    "import statsmodels.api as sm\n",
    "from statsmodels.tools.tools import add_constant\n",
    "\n",
    "data = df[['GoogleHitsMale', 'Name_length', 'NormalizedGoogleDif','Wiki']]\n",
    "data=sm.add_constant(data, prepend=False)\n",
    "print \"Wiki=1, i.e., male bias is the reference group while it is the most frequent one.\"\n",
    "print data.head()\n",
    "\n",
    "data=sm.add_constant(data, prepend=False)\n",
    "cols_to_keep = ['GoogleHitsMale','NormalizedGoogleDif','Name_length','const']\n",
    "\n",
    "\n",
    "y=data['Wiki']\n",
    "X=data[cols_to_keep]\n",
    "\n",
    "skf = cross_validation.StratifiedKFold(y, n_folds=2,shuffle=True)\n",
    "for train_index, test_index in skf:  \n",
    "    y_train, y_test = y[train_index], y[test_index]\n",
    "    X_train, X_test = X.iloc[train_index,:], X.iloc[test_index,:]\n",
    "    print \"train:\",len(y_train), \"test:\",len(y_test)\n",
    "    res1 = sm.MNLogit(y_train, X_train) \n",
    "    mlogit_res = res1.fit()\n",
    "    print mlogit_res.params\n",
    "    print mlogit_res.summary()\n",
    "    print \"AIC:\",mlogit_res.aic\n",
    "    print \"BIC:\",mlogit_res.bic\n",
    "    \n",
    "    mlogit_margeff = mlogit_res.get_margeff()\n",
    "    print mlogit_margeff.summary()\n",
    "\n",
    "    predict= np.array(mlogit_res.predict() > 0.5, dtype=float)\n",
    "    print mlogit_res.pred_table()\n",
    "    acc=float(sum(mlogit_res.pred_table().diagonal()))/float(len(y_train))\n",
    "    print \"Accuracy:\",acc\n",
    "    \n",
    "# odds ratios only\n",
    "print np.exp(mlogit_res.params)\n",
    "#pd.save(df, 'de/values_googlenumber_pred.csv')"
   ]
  },
  {
   "cell_type": "code",
   "execution_count": 15,
   "metadata": {},
   "outputs": [
    {
     "name": "stdout",
     "output_type": "stream",
     "text": [
      "Optimization terminated successfully.\n",
      "         Current function value: 0.018498\n",
      "         Iterations 12\n",
      "                            0\n",
      "NormalizedGoogleDif -5.307972\n",
      "const               -5.065929\n",
      "                          MNLogit Regression Results                          \n",
      "==============================================================================\n",
      "Dep. Variable:                   Wiki   No. Observations:                  818\n",
      "Model:                        MNLogit   Df Residuals:                      816\n",
      "Method:                           MLE   Df Model:                            1\n",
      "Date:                Fri, 23 Sep 2016   Pseudo R-squ.:                  0.5734\n",
      "Time:                        22:43:28   Log-Likelihood:                -15.131\n",
      "converged:                       True   LL-Null:                       -35.469\n",
      "                                        LLR p-value:                 1.798e-10\n",
      "=======================================================================================\n",
      "             Wiki=3       coef    std err          z      P>|z|      [95.0% Conf. Int.]\n",
      "---------------------------------------------------------------------------------------\n",
      "NormalizedGoogleDif    -5.3080      1.414     -3.755      0.000        -8.079    -2.537\n",
      "const                  -5.0659      1.028     -4.928      0.000        -7.081    -3.051\n",
      "=======================================================================================\n",
      "AIC: 34.2624122444\n",
      "BIC: 43.6761369176\n",
      "[[ 812.    0.]\n",
      " [   4.    2.]]\n",
      "Accuracy: 0.99511002445\n"
     ]
    }
   ],
   "source": [
    "###we exclude neutral case\n",
    "data = df[df.Wiki!=2]\n",
    "\n",
    "y=data['Wiki']\n",
    "X=data[['NormalizedGoogleDif']]\n",
    "X=sm.add_constant(X, prepend=False)\n",
    "res1 = sm.MNLogit(y,X)\n",
    "mlogit_res = res1.fit()\n",
    "print mlogit_res.params\n",
    "print mlogit_res.summary()\n",
    "print \"AIC:\",mlogit_res.aic\n",
    "print \"BIC:\",mlogit_res.bic\n",
    "\n",
    "predict= np.array(mlogit_res.predict() > 0.5, dtype=float)\n",
    "print mlogit_res.pred_table()\n",
    "acc=float(sum(mlogit_res.pred_table().diagonal()))/float(len(y))\n",
    "print \"Accuracy:\",acc"
   ]
  }
 ],
 "metadata": {
  "kernelspec": {
   "display_name": "Python 2",
   "language": "python",
   "name": "python2"
  },
  "language_info": {
   "codemirror_mode": {
    "name": "ipython",
    "version": 2
   },
   "file_extension": ".py",
   "mimetype": "text/x-python",
   "name": "python",
   "nbconvert_exporter": "python",
   "pygments_lexer": "ipython2",
   "version": "2.7.13"
  }
 },
 "nbformat": 4,
 "nbformat_minor": 1
}
