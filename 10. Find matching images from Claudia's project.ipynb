{
 "cells": [
  {
   "cell_type": "code",
   "execution_count": 204,
   "metadata": {
    "collapsed": false
   },
   "outputs": [
    {
     "name": "stdout",
     "output_type": "stream",
     "text": [
      "No images for  360 professions\n",
      "We have approx 3.03155339806 pictures per profession with image. We have 412 professions with image.\n"
     ]
    }
   ],
   "source": [
    "import pandas as pd\n",
    "\n",
    "df_images=pd.read_csv(\"profession_images.csv\",sep='\\t', encoding='utf-8',index_col=0)\n",
    "print \"No images for \",len(df_images[df_images.image_link==\"-\"]),\"professions\"\n",
    "df_with_image=df_images[df_images.image_link!=\"-\"]\n",
    "print \"We have approx\",len(df_with_image)/float(len(pd.unique(df_with_image.profession))),\\\n",
    "\"pictures per profession with image. \"+\"We have\",len(pd.unique(df_with_image.profession)),\"professions with image.\""
   ]
  },
  {
   "cell_type": "code",
   "execution_count": 205,
   "metadata": {
    "collapsed": false
   },
   "outputs": [
    {
     "name": "stdout",
     "output_type": "stream",
     "text": [
      "We exclude .svg images abd video.\n",
      "There are  5  videos.\n",
      "Such that, no images for  457 professions\n",
      "Images without .svg and video: 840\n",
      "We have approx 2.66666666667 pictures per profession with image. We have 315 professions with image.\n"
     ]
    }
   ],
   "source": [
    "print \"We exclude .svg images abd video.\"\n",
    "df_with_image_without_svg=df_with_image[~df_with_image.image_link.str.contains(\".svg\")]\n",
    "video=df_with_image[df_with_image.image_link.str.contains(\".ogg|.ogv\")] \n",
    "print \"There are \",len(video),\" videos.\"\n",
    "df=df_with_image_without_svg[~df_with_image_without_svg.image_link.str.contains(\".ogg|.ogv\")]\n",
    "print \"Such that, no images for \",len(pd.unique(df_images.profession))-len(pd.unique(df.profession)),\"professions\"\n",
    "print \"Images without .svg and video:\",len(df)\n",
    "print \"We have approx\",len(df)/float(len(pd.unique(df.profession))),\\\n",
    "\"pictures per profession with image. \"+\"We have\",len(pd.unique(df.profession)),\"professions with image.\""
   ]
  },
  {
   "cell_type": "code",
   "execution_count": 206,
   "metadata": {
    "collapsed": false
   },
   "outputs": [],
   "source": [
    "df_images_another_project=pd.read_csv(\"profession_images (2).txt\",sep='\\t', encoding='utf-8',index_col=0)\n",
    "de_images_another_project=df_images_another_project[df_images_another_project.language_label==\"de\"]\n",
    "de_images_another_project=de_images_another_project[de_images_another_project.image_link!=\"-\"]\n",
    "#print \"Number of images from de wiki\",len(de_images_another_project),\"for\",len(pd.unique(de_images_another_project.profession)),\" professions.\""
   ]
  },
  {
   "cell_type": "code",
   "execution_count": 207,
   "metadata": {
    "collapsed": false
   },
   "outputs": [
    {
     "name": "stdout",
     "output_type": "stream",
     "text": [
      "We have  715 new links for  284  professions.\n",
      "We have  125 same links for  47  unique professions.\n"
     ]
    }
   ],
   "source": [
    "new_links=df[~df.image_link.isin(df_images_another_project.image_link.values)]\n",
    "print \"We have \",len(new_links),\"new links for \",len(pd.unique(new_links.profession)),\" professions.\"\n",
    "same_links=df[df.image_link.isin(df_images_another_project.image_link.values)]\n",
    "print \"We have \",len(same_links), \"same links for \",len(pd.unique(same_links.profession)),\" unique professions.\""
   ]
  },
  {
   "cell_type": "code",
   "execution_count": 208,
   "metadata": {
    "collapsed": false,
    "scrolled": true
   },
   "outputs": [
    {
     "data": {
      "text/html": [
       "<div>\n",
       "<table border=\"1\" class=\"dataframe\">\n",
       "  <thead>\n",
       "    <tr style=\"text-align: right;\">\n",
       "      <th></th>\n",
       "      <th>language_label</th>\n",
       "      <th>profession</th>\n",
       "      <th>wikipedia_link</th>\n",
       "      <th>image_link</th>\n",
       "      <th>image_name</th>\n",
       "    </tr>\n",
       "  </thead>\n",
       "  <tbody>\n",
       "  </tbody>\n",
       "</table>\n",
       "</div>"
      ],
      "text/plain": [
       "Empty DataFrame\n",
       "Columns: [language_label, profession, wikipedia_link, image_link, image_name]\n",
       "Index: []"
      ]
     },
     "execution_count": 208,
     "metadata": {},
     "output_type": "execute_result"
    }
   ],
   "source": [
    "same_links[same_links.image_link.str.contains(\".tif\")]"
   ]
  },
  {
   "cell_type": "code",
   "execution_count": 209,
   "metadata": {
    "collapsed": true
   },
   "outputs": [],
   "source": [
    "#check the result file"
   ]
  },
  {
   "cell_type": "code",
   "execution_count": 210,
   "metadata": {
    "collapsed": false
   },
   "outputs": [],
   "source": [
    "df_results=pd.read_csv(\"crowdflower-results-v3.csv\",sep=';', encoding='utf-8',index_col=0)\n",
    "df_results=df_results[~df_results.image_url.isnull()]\n",
    "df_results=df_results[df_results.no_of_persons!=\"Image is not shown\"]\n",
    "url_of_results=df_results.image_url.values"
   ]
  },
  {
   "cell_type": "code",
   "execution_count": 211,
   "metadata": {
    "collapsed": false,
    "scrolled": true
   },
   "outputs": [
    {
     "name": "stdout",
     "output_type": "stream",
     "text": [
      "125 125\n"
     ]
    }
   ],
   "source": [
    "import urllib2\n",
    "\n",
    "k=0\n",
    "sl=df.image_link.str.rpartition(\"/\")[2].values#.isin(url_of_results)\n",
    "for i in url_of_results:\n",
    "    for j in sl:\n",
    "        if j in i:\n",
    "            k+=1\n",
    "print k,len(same_links)"
   ]
  },
  {
   "cell_type": "code",
   "execution_count": 218,
   "metadata": {
    "collapsed": false
   },
   "outputs": [
    {
     "name": "stdout",
     "output_type": "stream",
     "text": [
      "We have 704 unique links.\n"
     ]
    }
   ],
   "source": [
    "df_unique_links=new_links[~new_links.duplicated('image_link')].image_link.to_frame()\n",
    "print \"We have\",len(df_unique_links=),\"unique links.\"\n",
    "df_unique_links.to_excel(\"Crowdflower_image_links.xls\",header=[\"image_url\"], index=False,encoding='utf-8')"
   ]
  },
  {
   "cell_type": "code",
   "execution_count": 97,
   "metadata": {
    "collapsed": false
   },
   "outputs": [],
   "source": [
    "#pd.options.display.max_colwidth=110# was 50\n",
    "#new_links[new_links.image_link.str.contains(\".svg\")][\"image_link\"]"
   ]
  },
  {
   "cell_type": "code",
   "execution_count": 85,
   "metadata": {
    "collapsed": false,
    "scrolled": true
   },
   "outputs": [
    {
     "name": "stdout",
     "output_type": "stream",
     "text": [
      "60\n"
     ]
    }
   ],
   "source": [
    "#import urllib2\n",
    "#name=[]\n",
    "#for i in de_amages_another_project.wikipedia_link:\n",
    "#    name.append(urllib2.unquote(i.split(\"/\")[4].replace(\"_\",\" \").encode('utf-8')).decode('utf-8'))\n",
    "#print len(set(name))\n",
    "#print len(set(name)-set(df_images.profession))\n",
    "#set(name)-set(df_images.profession)"
   ]
  },
  {
   "cell_type": "code",
   "execution_count": null,
   "metadata": {
    "collapsed": true
   },
   "outputs": [],
   "source": []
  }
 ],
 "metadata": {
  "kernelspec": {
   "display_name": "Python 2",
   "language": "python",
   "name": "python2"
  },
  "language_info": {
   "codemirror_mode": {
    "name": "ipython",
    "version": 2
   },
   "file_extension": ".py",
   "mimetype": "text/x-python",
   "name": "python",
   "nbconvert_exporter": "python",
   "pygments_lexer": "ipython2",
   "version": "2.7.11"
  }
 },
 "nbformat": 4,
 "nbformat_minor": 0
}
