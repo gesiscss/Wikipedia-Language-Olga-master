{
 "cells": [
  {
   "cell_type": "markdown",
   "metadata": {},
   "source": [
    "# Find images for wich we should start CrowdFlower Project"
   ]
  },
  {
   "cell_type": "markdown",
   "metadata": {},
   "source": [
    "## We also exclude video and svg files from image list"
   ]
  },
  {
   "cell_type": "code",
   "execution_count": 191,
   "metadata": {
    "collapsed": true
   },
   "outputs": [],
   "source": [
    "#add manually \"Hannah Aitchison.jpg\" according to 15th of February data\n",
    "#=====\n",
    "import pandas as pd\n",
    "df_images=pd.read_csv(\"profession_images_all.csv\",sep='\\t', encoding='utf-8',index_col=0)\n",
    "df_images_previous=pd.read_csv(\"profession_images.csv\",sep='\\t', encoding='utf-8',index_col=0)\n",
    "if \"Hannah Aitchison.jpg\" not in df_images.image_name.values:\n",
    "    df_images=df_images.append(df_images_previous[df_images_previous.image_name==\"Hannah Aitchison.jpg\"]).reset_index(drop=True)\n",
    "    df_images.to_csv(\"profession_images_all.csv\", sep='\\t', encoding='utf-8')\n",
    "#========\n"
   ]
  },
  {
   "cell_type": "code",
   "execution_count": 192,
   "metadata": {
    "collapsed": false,
    "scrolled": true
   },
   "outputs": [
    {
     "name": "stdout",
     "output_type": "stream",
     "text": [
      "No images for  419 professions\n",
      "We have approx 2.92703862661 pictures per profession with image. We have 466 professions with image.\n",
      "Now we will=====>We exclude .svg images abd video.\n",
      "There are  5  videos.\n",
      "Such that, no images for  540 professions\n",
      "Images without .svg and video: 907\n",
      "We have approx 2.62898550725 pictures per profession with image. We have 345 professions with image.\n",
      "We have  118 same links for  44  unique professions.\n",
      "We have  789 new links for  317  professions.\n",
      "We have  775 new links for \n"
     ]
    }
   ],
   "source": [
    "import pandas as pd\n",
    "import urllib2\n",
    "\n",
    "\n",
    "df_images=pd.read_csv(\"profession_images_all.csv\",sep='\\t', encoding='utf-8',index_col=0)\n",
    "\n",
    "print \"No images for \",len(df_images[df_images.image_link==\"-\"]),\"professions\"\n",
    "df_with_image=df_images[df_images.image_link!=\"-\"]\n",
    "print \"We have approx\",len(df_with_image)/float(len(pd.unique(df_with_image.profession))),\\\n",
    "\"pictures per profession with image. \"+\"We have\",len(pd.unique(df_with_image.profession)),\"professions with image.\"\n",
    "print \"Now we will=====>We exclude .svg images abd video.\"\n",
    "df_with_image_without_svg=df_with_image[~df_with_image.image_link.str.contains(\".svg\")]\n",
    "video=df_with_image[df_with_image.image_link.str.contains(\".ogg|.ogv\")] \n",
    "print \"There are \",len(video),\" videos.\"\n",
    "df=df_with_image_without_svg[~df_with_image_without_svg.image_link.str.contains(\".ogg|.ogv\")]\n",
    "print \"Such that, no images for \",len(pd.unique(df_images.profession))-len(pd.unique(df.profession)),\"professions\"\n",
    "print \"Images without .svg and video:\",len(df)\n",
    "print \"We have approx\",len(df)/float(len(pd.unique(df.profession))),\\\n",
    "\"pictures per profession with image. \"+\"We have\",len(pd.unique(df.profession)),\"professions with image.\"\n",
    "\n",
    "\n",
    "df_results=pd.read_csv(\"crowdflower-results-v3.csv\",sep=';', encoding='utf-8',index_col=0)\n",
    "df_results=df_results[~df_results.image_url.isnull()]\n",
    "df_results=df_results[df_results.no_of_persons!=\"Image is not shown\"]\n",
    "url_of_results=df_results.image_url.values\n",
    "\n",
    "#check whether same_link and url_of_results are the same\n",
    "import urllib2\n",
    "\n",
    "k=0\n",
    "same_links_k=[]\n",
    "sl=set(df.image_name.str.replace(\" \",\"_\"))\n",
    "p=0\n",
    "for i in url_of_results:\n",
    "    for j in sl:\n",
    "        if True:\n",
    "            j_quote=urllib2.quote(j.encode('utf-8'))\n",
    "            if j_quote in i:  \n",
    "                k+=1\n",
    "                same_links_k.append(urllib2.unquote(j.replace(\"_\",\" \").encode('utf-8')).decode('utf-8'))\n",
    "\n",
    "new_links=df[~df.image_name.isin(same_links_k)]\n",
    "same_links=df[df.image_name.isin(same_links_k)]\n",
    "print \"We have \",len(same_links), \"same links for \",len(pd.unique(same_links.profession)),\" unique professions.\"\n",
    "\n",
    "print \"We have \",len(new_links),\"new links for \",len(pd.unique(new_links.profession)),\" professions.\"\n",
    "df_unique_links2=new_links[~new_links.duplicated('image_link')].image_link.to_frame()\n",
    "df_unique_links2.columns=[\"image_url\"]\n",
    "print \"We have \",len(df_unique_links2),\"new links for \""
   ]
  },
  {
   "cell_type": "markdown",
   "metadata": {},
   "source": [
    "# Save all image links"
   ]
  },
  {
   "cell_type": "code",
   "execution_count": 193,
   "metadata": {
    "collapsed": true
   },
   "outputs": [],
   "source": [
    "df_unique_links2.to_excel(\"Crowdflower_image_links_all.xls\",header=[\"image_url\"], index=False,encoding='utf-8')"
   ]
  },
  {
   "cell_type": "markdown",
   "metadata": {},
   "source": [
    "# Add difference between \"profession_images.csv\" and \"profession_images_all.csv\" \n",
    "#Save it to file \"Crowdflower_image_links_more.xls\""
   ]
  },
  {
   "cell_type": "code",
   "execution_count": 165,
   "metadata": {
    "collapsed": false
   },
   "outputs": [],
   "source": [
    "#find difference mit previously created list and new one.\n",
    "\n",
    "\n",
    "df_unique_links_previous=pd.read_excel(\"Crowdflower_image_links.xls\",index_col=None, encoding='utf-8')\n",
    "difference=set(df_unique_links_previous.image_url)-set(df_unique_links2.image_url)\n",
    "print set(df_unique_links_previous.image_url)-set(df_unique_links2.image_url)\n",
    "print len(set(df_unique_links2.image_url)-set(df_unique_links_previous.image_url))\n",
    "\n",
    "\n",
    "#compare \"Crowdflower_image_links.xls\" and new list \n",
    "df_unique_links2=df_unique_links2.reset_index(drop=True)\n",
    "df_unique_links_previous=df_unique_links_previous.reset_index(drop=True)\n",
    "df =pd.concat([df_unique_links2, df_unique_links_previous],ignore_index=True)\n",
    "print len(df_unique_links2)+len(df_unique_links_previous),len(df)\n",
    "\n",
    "df_gpby = df.groupby(list(df.columns))\n",
    "idx = [x[0] for x in df_gpby.groups.values() if len(x) == 1]\n",
    "diff=df.reindex(idx)\n",
    "\n",
    "diff=diff[~diff.image_url.isin(list(difference))]\n",
    "\n",
    "\n",
    "print \"Amount of new images\",len(diff)\n",
    "diff.to_excel(\"Crowdflower_image_links_more.xls\",header=[\"image_url\"], index=False,encoding='utf-8')"
   ]
  },
  {
   "cell_type": "markdown",
   "metadata": {},
   "source": [
    "# print difference"
   ]
  },
  {
   "cell_type": "code",
   "execution_count": 171,
   "metadata": {
    "collapsed": false,
    "scrolled": true
   },
   "outputs": [
    {
     "data": {
      "text/plain": [
       "{u'http://upload.wikimedia.org/wikipedia/commons/0/00/Messebau-zonen.png',\n",
       " u'http://upload.wikimedia.org/wikipedia/commons/0/00/Quarryman_1833.jpg',\n",
       " u'http://upload.wikimedia.org/wikipedia/commons/0/07/Meter_Maid_1970.jpg',\n",
       " u'http://upload.wikimedia.org/wikipedia/commons/0/0d/Wormser_Hauptbahnhof-_auf_Bahnsteig_zu_Gleis_5-_Richtung_Mainz_%28Umbauten%29_24.5.2009.JPG',\n",
       " u'http://upload.wikimedia.org/wikipedia/commons/1/15/Bundesarchiv_Bild_102-02974A%2C_Berlin%2C_SA_als_Hilfspolizei.jpg',\n",
       " u'http://upload.wikimedia.org/wikipedia/commons/1/16/Bundesarchiv_Bild_183-J0716-500-003%2C_Berlin%2C_erste_Kraftdroschke.jpg',\n",
       " u'http://upload.wikimedia.org/wikipedia/commons/1/17/Sex_sells_Tuning_World_%28Foto_Hilarmont%29.JPG',\n",
       " u'http://upload.wikimedia.org/wikipedia/commons/1/19/Giselasteinhauer.jpg',\n",
       " u'http://upload.wikimedia.org/wikipedia/commons/1/1e/Avenue_of_Stars_cameraman_and_director.JPG',\n",
       " u'http://upload.wikimedia.org/wikipedia/commons/2/2a/Power_transmission_belt.gif',\n",
       " u'http://upload.wikimedia.org/wikipedia/commons/3/35/China-taxi.jpg',\n",
       " u'http://upload.wikimedia.org/wikipedia/commons/3/38/Engine_for_cobblestones.jpg',\n",
       " u'http://upload.wikimedia.org/wikipedia/commons/3/3e/Baker_New_Ulm_1974.jpg',\n",
       " u'http://upload.wikimedia.org/wikipedia/commons/4/41/Pise_Campo_Santo_cha%C3%AEnes_port.jpg',\n",
       " u'http://upload.wikimedia.org/wikipedia/commons/4/46/Munich_Tram_M5.jpg',\n",
       " u'http://upload.wikimedia.org/wikipedia/commons/4/47/Alessioassistantdentaire_%281%29.jpg',\n",
       " u'http://upload.wikimedia.org/wikipedia/commons/4/4b/Lauda_Air_Boeing_737_Farewell_5.jpg',\n",
       " u'http://upload.wikimedia.org/wikipedia/commons/4/4d/Black_and_White_Jockeys_%281878%29_-_TIMEA.jpg',\n",
       " u'http://upload.wikimedia.org/wikipedia/commons/5/52/Containerschiff_im_Hamburger_Hafen.jpg',\n",
       " u'http://upload.wikimedia.org/wikipedia/commons/5/52/DBP_1956_243_Hebamme.jpg',\n",
       " u'http://upload.wikimedia.org/wikipedia/commons/5/54/Fotothek_df_roe-neg_0006480_006_Dekorationsmaler_w%C3%A4hrend_des_Bemalens_einer_Wand.jpg',\n",
       " u'http://upload.wikimedia.org/wikipedia/commons/5/5e/2010-12-14_Maroc_Agadir_PetitTaxi.JPG',\n",
       " u'http://upload.wikimedia.org/wikipedia/commons/5/5f/Tabletten.JPG',\n",
       " u'http://upload.wikimedia.org/wikipedia/commons/6/67/Messebau-standarten.png',\n",
       " u'http://upload.wikimedia.org/wikipedia/commons/6/68/Glaz_mszczonowski03.jpg',\n",
       " u'http://upload.wikimedia.org/wikipedia/commons/6/6d/Nonne_im_Kreuzgang%2C_1930.jpg',\n",
       " u'http://upload.wikimedia.org/wikipedia/commons/7/70/Werkstatt_4.0.jpg',\n",
       " u'http://upload.wikimedia.org/wikipedia/commons/7/71/DodgeLady.JPG',\n",
       " u'http://upload.wikimedia.org/wikipedia/commons/7/74/1936-Kamen%C3%ADci.jpg',\n",
       " u'http://upload.wikimedia.org/wikipedia/commons/7/79/Fachkraft_f%C3%BCr_Lederverarbeitung_Pr%C3%BCfungsbereiche.JPG',\n",
       " u'http://upload.wikimedia.org/wikipedia/commons/7/7e/Calcutta_rickshaw.jpg',\n",
       " u'http://upload.wikimedia.org/wikipedia/commons/8/86/Horiyoshi_3.jpg',\n",
       " u'http://upload.wikimedia.org/wikipedia/commons/9/92/Bundesarchiv_Bild_102-14381%2C_Berlin%2C_Polizeipatrouille_am_Wahltag.jpg',\n",
       " u'http://upload.wikimedia.org/wikipedia/commons/9/93/Gustave_Courbet_018.jpg',\n",
       " u'http://upload.wikimedia.org/wikipedia/commons/9/95/Bundesarchiv_B_145_Bild-F063536-0030%2C_Bonn%2C_U-Bahn-Fahrer_im_F%C3%BChrerhaus.jpg',\n",
       " u'http://upload.wikimedia.org/wikipedia/commons/9/98/Messebau-systeme.png',\n",
       " u'http://upload.wikimedia.org/wikipedia/commons/9/9b/Film_editing_table_%285201693172%29.jpg',\n",
       " u'http://upload.wikimedia.org/wikipedia/commons/9/9d/Bush_taxi_station_wagon_type.jpg',\n",
       " u'http://upload.wikimedia.org/wikipedia/commons/9/9d/Frankie_Dettori.jpg',\n",
       " u'http://upload.wikimedia.org/wikipedia/commons/9/9e/Bundesarchiv_Bild_102-13993%2C_Berlin%2C_Potsdamer_Platz%2C_BVG-Streik.jpg',\n",
       " u'http://upload.wikimedia.org/wikipedia/commons/a/a4/Wuppertal_-_Recyclinghof_K%C3%BCllenhahn_02_ies.jpg',\n",
       " u'http://upload.wikimedia.org/wikipedia/commons/a/a7/Bemo%2C_Gianyar_200507.jpg',\n",
       " u'http://upload.wikimedia.org/wikipedia/commons/a/aa/GMAW.welding.af.ncs.jpg',\n",
       " u'http://upload.wikimedia.org/wikipedia/commons/a/ab/Studio_Bearbeitung_01.jpg',\n",
       " u'http://upload.wikimedia.org/wikipedia/commons/a/ae/Gesellenbrief1801.jpg',\n",
       " u'http://upload.wikimedia.org/wikipedia/commons/b/b2/Bundesarchiv_Bild_183-J31192%2C_Schwei%C3%9Ferin.jpg',\n",
       " u'http://upload.wikimedia.org/wikipedia/commons/b/b5/%C3%89cole_des_beaux-arts_%28from_the_live%29.jpg',\n",
       " u'http://upload.wikimedia.org/wikipedia/commons/b/bb/Gisele_Bundchen4.jpg',\n",
       " u'http://upload.wikimedia.org/wikipedia/commons/c/c7/A_woman_working_on_a_call_centre.jpg',\n",
       " u'http://upload.wikimedia.org/wikipedia/commons/c/c7/Ramp_Agent.jpg',\n",
       " u'http://upload.wikimedia.org/wikipedia/commons/c/cb/Bushtaxi2-JD.jpg',\n",
       " u'http://upload.wikimedia.org/wikipedia/commons/c/cc/AlberthafenDD.jpg',\n",
       " u'http://upload.wikimedia.org/wikipedia/commons/c/cc/CodexVindobana_1411.jpg',\n",
       " u'http://upload.wikimedia.org/wikipedia/commons/d/d2/Eucharius_R%C3%B6%C3%9Flin_Rosgarten_Childbirth.jpg',\n",
       " u'http://upload.wikimedia.org/wikipedia/commons/d/d3/Nuns_koeln.JPG',\n",
       " u'http://upload.wikimedia.org/wikipedia/commons/d/de/Bundesarchiv_Bild_102-02940A%2C_Berlin%2C_Polizei-Einsatz_im_Scheunenviertel.jpg',\n",
       " u'http://upload.wikimedia.org/wikipedia/commons/d/de/Dolcegab_Sommer2004.jpg',\n",
       " u'http://upload.wikimedia.org/wikipedia/commons/d/de/Keile.jpg',\n",
       " u'http://upload.wikimedia.org/wikipedia/commons/d/de/Lizzatura.jpg',\n",
       " u'http://upload.wikimedia.org/wikipedia/commons/e/e4/Blonde_pirelli_hostesses.jpg',\n",
       " u'http://upload.wikimedia.org/wikipedia/commons/e/e4/Bundesarchiv_Bild_183-1986-1126-015%2C_Nordhausen%2C_Ausbildung_von_Physiotherapeuten.jpg',\n",
       " u'http://upload.wikimedia.org/wikipedia/commons/e/e4/CH_Beck_Messestand_2007.jpg',\n",
       " u'http://upload.wikimedia.org/wikipedia/commons/e/e5/Agnes_GEREB_checking_the_heart-beat_of_the_fetus_at_a_homebirth-rotated.jpg',\n",
       " u'http://upload.wikimedia.org/wikipedia/commons/e/e5/Edwin_Long_002.jpg',\n",
       " u'http://upload.wikimedia.org/wikipedia/commons/e/e7/Domenico-Fetti_Archimedes_1620.jpg',\n",
       " u'http://upload.wikimedia.org/wikipedia/commons/e/e8/PackstationLB.jpg',\n",
       " u'http://upload.wikimedia.org/wikipedia/commons/e/eb/Graz_Edegger_Tax.jpg',\n",
       " u'http://upload.wikimedia.org/wikipedia/commons/f/ff/Stamp_Anton_Chekhov.jpg',\n",
       " u'http://upload.wikimedia.org/wikipedia/de/2/26/3b01479r.jpg',\n",
       " u'http://upload.wikimedia.org/wikipedia/de/9/98/Magd_Monatsblatt_luyken.png',\n",
       " u'http://upload.wikimedia.org/wikipedia/de/b/bf/Kiefer-Steinbruch.jpg'}"
      ]
     },
     "execution_count": 171,
     "metadata": {},
     "output_type": "execute_result"
    }
   ],
   "source": [
    "set(df_unique_links2.image_url)-set(df_unique_links_previous.image_url)"
   ]
  },
  {
   "cell_type": "markdown",
   "metadata": {},
   "source": [
    "# End is here! Other stuff is old ==> Do not use!"
   ]
  },
  {
   "cell_type": "code",
   "execution_count": 204,
   "metadata": {
    "collapsed": false
   },
   "outputs": [
    {
     "name": "stdout",
     "output_type": "stream",
     "text": [
      "No images for  360 professions\n",
      "We have approx 3.03155339806 pictures per profession with image. We have 412 professions with image.\n"
     ]
    }
   ],
   "source": [
    "import pandas as pd\n",
    "\n",
    "df_images=pd.read_csv(\"profession_images.csv\",sep='\\t', encoding='utf-8',index_col=0)\n",
    "print \"No images for \",len(df_images[df_images.image_link==\"-\"]),\"professions\"\n",
    "df_with_image=df_images[df_images.image_link!=\"-\"]\n",
    "print \"We have approx\",len(df_with_image)/float(len(pd.unique(df_with_image.profession))),\\\n",
    "\"pictures per profession with image. \"+\"We have\",len(pd.unique(df_with_image.profession)),\"professions with image.\""
   ]
  },
  {
   "cell_type": "code",
   "execution_count": 205,
   "metadata": {
    "collapsed": false
   },
   "outputs": [
    {
     "name": "stdout",
     "output_type": "stream",
     "text": [
      "We exclude .svg images abd video.\n",
      "There are  5  videos.\n",
      "Such that, no images for  457 professions\n",
      "Images without .svg and video: 840\n",
      "We have approx 2.66666666667 pictures per profession with image. We have 315 professions with image.\n"
     ]
    }
   ],
   "source": [
    "print \"We exclude .svg images abd video.\"\n",
    "df_with_image_without_svg=df_with_image[~df_with_image.image_link.str.contains(\".svg\")]\n",
    "video=df_with_image[df_with_image.image_link.str.contains(\".ogg|.ogv\")] \n",
    "print \"There are \",len(video),\" videos.\"\n",
    "df=df_with_image_without_svg[~df_with_image_without_svg.image_link.str.contains(\".ogg|.ogv\")]\n",
    "print \"Such that, no images for \",len(pd.unique(df_images.profession))-len(pd.unique(df.profession)),\"professions\"\n",
    "print \"Images without .svg and video:\",len(df)\n",
    "print \"We have approx\",len(df)/float(len(pd.unique(df.profession))),\\\n",
    "\"pictures per profession with image. \"+\"We have\",len(pd.unique(df.profession)),\"professions with image.\""
   ]
  },
  {
   "cell_type": "code",
   "execution_count": 207,
   "metadata": {
    "collapsed": false
   },
   "outputs": [
    {
     "name": "stdout",
     "output_type": "stream",
     "text": [
      "We have  715 new links for  284  professions.\n",
      "We have  125 same links for  47  unique professions.\n"
     ]
    }
   ],
   "source": [
    "df_images_another_project=pd.read_csv(\"profession_images (2).txt\",sep='\\t', encoding='utf-8',index_col=0)\n",
    "de_images_another_project=df_images_another_project[df_images_another_project.language_label==\"de\"]\n",
    "de_images_another_project=de_images_another_project[de_images_another_project.image_link!=\"-\"]\n",
    "#print \"Number of images from de wiki\",len(de_images_another_project),\"for\",len(pd.unique(de_images_another_project.profession)),\" professions.\"\n",
    "new_links=df[~df.image_link.isin(df_images_another_project.image_link.values)]\n",
    "print \"We have \",len(new_links),\"new links for \",len(pd.unique(new_links.profession)),\" professions.\"\n",
    "same_links=df[df.image_link.isin(df_images_another_project.image_link.values)]\n",
    "print \"We have \",len(same_links), \"same links for \",len(pd.unique(same_links.profession)),\" unique professions.\"\n",
    "same_links[same_links.image_link.str.contains(\".tif\")]"
   ]
  },
  {
   "cell_type": "code",
   "execution_count": 211,
   "metadata": {
    "collapsed": false,
    "scrolled": true
   },
   "outputs": [
    {
     "name": "stdout",
     "output_type": "stream",
     "text": [
      "125 125\n"
     ]
    }
   ],
   "source": [
    "#check the result file\n",
    "df_results=pd.read_csv(\"crowdflower-results-v3.csv\",sep=';', encoding='utf-8',index_col=0)\n",
    "df_results=df_results[~df_results.image_url.isnull()]\n",
    "df_results=df_results[df_results.no_of_persons!=\"Image is not shown\"]\n",
    "url_of_results=df_results.image_url.values\n",
    "\n",
    "\n",
    "#check whether same_link and url_of_results are the same\n",
    "import urllib2\n",
    "\n",
    "k=0\n",
    "sl=df.image_link.str.rpartition(\"/\")[2].values#.isin(url_of_results)\n",
    "for i in url_of_results:\n",
    "    for j in sl:\n",
    "        if j in i:\n",
    "            k+=1\n",
    "print k,len(same_links)\n",
    "df_unique_links=new_links[~new_links.duplicated('image_link')].image_link.to_frame()\n",
    "print \"We have\",len(df_unique_links),\"unique links.\"\n",
    "df_unique_links.to_excel(\"Crowdflower_image_links.xls\",header=[\"image_url\"], index=False,encoding='utf-8')"
   ]
  },
  {
   "cell_type": "code",
   "execution_count": 157,
   "metadata": {
    "collapsed": false
   },
   "outputs": [
    {
     "name": "stdout",
     "output_type": "stream",
     "text": [
      "Empty DataFrame\n",
      "Columns: [image_link]\n",
      "Index: []\n",
      "Empty DataFrame\n",
      "Columns: [image_link]\n",
      "Index: []\n"
     ]
    }
   ],
   "source": [
    "#old!!! do not use it \n",
    "\n",
    "\n",
    "d_set=set(same_links.image_name)-set(same_links_k)\n",
    "new_new=same_links[same_links.image_name.isin(d_set)]\n",
    "new_newunique_links=new_new[~new_new.duplicated('image_link')].image_link.to_frame()\n",
    "print new_newunique_links[new_newunique_links.image_link.isin(df_unique_links_previous.image_url.values)]\n",
    "print new_newunique_links[new_newunique_links.image_link.isin(df_unique_links.image_url.values)]\n",
    "new_newunique_links.to_excel(\"Crowdflower_image_links2.xls\",header=[\"image_url\"], index=False,encoding='utf-8')"
   ]
  }
 ],
 "metadata": {
  "kernelspec": {
   "display_name": "Python 2",
   "language": "python",
   "name": "python2"
  },
  "language_info": {
   "codemirror_mode": {
    "name": "ipython",
    "version": 2
   },
   "file_extension": ".py",
   "mimetype": "text/x-python",
   "name": "python",
   "nbconvert_exporter": "python",
   "pygments_lexer": "ipython2",
   "version": "2.7.11"
  }
 },
 "nbformat": 4,
 "nbformat_minor": 0
}
