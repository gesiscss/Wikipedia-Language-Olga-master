{
 "cells": [
  {
   "cell_type": "code",
   "execution_count": 1,
   "metadata": {
    "collapsed": false
   },
   "outputs": [
    {
     "name": "stdout",
     "output_type": "stream",
     "text": [
      "Populating the interactive namespace from numpy and matplotlib\n"
     ]
    }
   ],
   "source": [
    "#f_df2,n_df2,m_df2\n",
    "%pylab inline\n",
    "from sklearn.linear_model import LogisticRegression\n",
    "from sklearn.metrics import r2_score,confusion_matrix,classification_report\n",
    "from sklearn.cross_validation import train_test_split \n",
    "from sklearn.learning_curve import learning_curve\n",
    "from sklearn.metrics import roc_curve, auc\n",
    "from statsmodels.tools import categorical\n",
    "\n",
    "import pandas as pd\n",
    "\n",
    "from sklearn import cross_validation\n",
    "import statsmodels.api as sm\n",
    "from statsmodels.tools.tools import add_constant\n",
    "import numpy as np"
   ]
  },
  {
   "cell_type": "code",
   "execution_count": 2,
   "metadata": {
    "collapsed": true
   },
   "outputs": [],
   "source": [
    "def reject_outliers2(data, m=2):\n",
    "    return data[abs(data - np.mean(data)) < m * np.std(data)]\n",
    "def load_data():\n",
    "    df=pd.read_csv(\"de/all_data_bias_labour_gender_all_persons.csv\",sep=\"\\t\",index_col=0)\n",
    "    df2=df[[\"labor_market_woman\",\"Bias\"]]\n",
    "    df2=df2.dropna()\n",
    "    df2.drop([\"Apothekerin\",\"Botin\",\"Bundeskanzlerin\",\"Diakonin\",\"Direktrice\",\"Politesse\",\"Hostess\",\"Magd\",\n",
    "         \"Mannequin\",\"Nonne\",\"Ordensschwester\",\"Taxifahrerin\"],inplace=True)\n",
    "    print len(df),len(df2)\n",
    "    df2[\"Bias2\"]=df2.Bias.apply(lambda x: 0 if x==\"male\" else 1 if x==\"neutral\" else 2 )\n",
    "\n",
    "\n",
    "    dff_m=reject_outliers2(df2[df2.Bias==\"male\"].labor_market_woman.values)\n",
    "    dff_f=reject_outliers2(df2[df2.Bias==\"female\"].labor_market_woman.values)\n",
    "    dff_n=reject_outliers2(df2[df2.Bias==\"neutral\"].labor_market_woman.values)\n",
    "    df_df = pd.DataFrame({'labor_market_woman':np.append(dff_m,values=np.append(dff_f,dff_n)),\n",
    "                          'Bias':[\"male\"]*len(dff_m)+[\"female\"]*len(dff_f)+[\"neutral\"]*len(dff_n)})\n",
    "    df_df[\"Bias2\"]=df_df.Bias.apply(lambda x: 0 if x==\"male\" else 1 if x==\"neutral\" else 2 )\n",
    "    return df_df"
   ]
  },
  {
   "cell_type": "code",
   "execution_count": 49,
   "metadata": {
    "collapsed": false,
    "scrolled": true
   },
   "outputs": [
    {
     "name": "stdout",
     "output_type": "stream",
     "text": [
      "885 859\n",
      "Coefficients: \n",
      "[[ 0.35929166]]\n",
      "[-35.06498587]\n",
      "0.396168582375\n",
      "             precision    recall  f1-score   support\n",
      "\n",
      "       male       1.00      1.00      1.00       783\n",
      "     female       1.00      0.40      0.57         5\n",
      "\n",
      "avg / total       1.00      1.00      1.00       788\n",
      "\n"
     ]
    },
    {
     "name": "stderr",
     "output_type": "stream",
     "text": [
      "C:\\Anaconda\\lib\\site-packages\\sklearn\\utils\\validation.py:515: DataConversionWarning: A column-vector y was passed when a 1d array was expected. Please change the shape of y to (n_samples, ), for example using ravel().\n",
      "  y = column_or_1d(y, warn=True)\n"
     ]
    },
    {
     "data": {
      "image/png": "[encoded data removed]",
      "text/plain": [
       "<matplotlib.figure.Figure at 0xec6f550>"
      ]
     },
     "metadata": {},
     "output_type": "display_data"
    },
    {
     "name": "stdout",
     "output_type": "stream",
     "text": [
      "             precision    recall  f1-score   support\n",
      "\n",
      "          0       1.00      1.00      1.00       783\n",
      "          2       1.00      0.40      0.57         5\n",
      "\n",
      "avg / total       1.00      1.00      1.00       788\n",
      "\n",
      "[[783   0]\n",
      " [  3   2]]\n",
      "Standard errors:  [ 12.62071766   0.1355715 ]\n",
      "Wald statistics:  [ 7.71932337  7.02356282]\n",
      "p_val coef 0.00804440094715\n",
      "p_val intercep 0.00546328683816\n",
      "1.86826801619\n",
      "1.0980891375\n",
      "t = 2.65020052509\n",
      "p_val: 0.00804440094715\n",
      "CI:\n",
      "0.0935715214828 0.625011807135\n"
     ]
    }
   ],
   "source": [
    "df_df=load_data()\n",
    "df_df=df_df[(df_df[\"Bias2\"]==0)|(df_df[\"Bias2\"]==2)]\n",
    "\n",
    "y=df_df['Bias2'].values.reshape((len(df_df),1))\n",
    "X=df_df[\"labor_market_woman\"].values.reshape((len(df_df),1))\n",
    "\n",
    "X_train=X[:,:]\n",
    "Y_train=y[:,:]\n",
    "\n",
    "\n",
    "logistic = LogisticRegression(C=1e5)#multi_class='multinomial', solver='lbfgs')\n",
    "res=logistic.fit(X_train,Y_train)\n",
    "y_true=Y_train\n",
    "y_pred=res.predict(X_train)\n",
    "# The coefficients\n",
    "print'Coefficients: \\n', res.coef_\n",
    "print res.intercept_\n",
    "print r2_score(y_true, y_pred)\n",
    "\n",
    "\n",
    "\n",
    "#target_names = ['male', 'neutral', 'female']#\n",
    "target_names = ['male',  'female']\n",
    "print(classification_report(y_true, y_pred, target_names=target_names))\n",
    "\n",
    "\n",
    "plt.matshow(confusion_matrix(y_true, y_pred), cmap=plt.cm.binary, interpolation='nearest')\n",
    "plt.title('confusion matrix')\n",
    "plt.colorbar()\n",
    "plt.ylabel('expected label')\n",
    "plt.xlabel('predicted label')\n",
    "plt.show()\n",
    "\n",
    "print classification_report(y_true, y_pred)\n",
    "print confusion_matrix(y_true, y_pred)\n",
    "\n",
    "ci_p_val_z_score_scikit(res,X_train)"
   ]
  },
  {
   "cell_type": "code",
   "execution_count": 4,
   "metadata": {
    "collapsed": false
   },
   "outputs": [
    {
     "name": "stdout",
     "output_type": "stream",
     "text": [
      "885 859\n",
      "Coefficients: \n",
      "[[ 0.9594727]]\n",
      "[-80.97869261]\n",
      "1.0\n",
      "             precision    recall  f1-score   support\n",
      "\n",
      "    neutral       1.00      1.00      1.00        52\n",
      "     female       1.00      1.00      1.00         5\n",
      "\n",
      "avg / total       1.00      1.00      1.00        57\n",
      "\n"
     ]
    },
    {
     "name": "stderr",
     "output_type": "stream",
     "text": [
      "C:\\Anaconda\\lib\\site-packages\\sklearn\\utils\\validation.py:515: DataConversionWarning: A column-vector y was passed when a 1d array was expected. Please change the shape of y to (n_samples, ), for example using ravel().\n",
      "  y = column_or_1d(y, warn=True)\n"
     ]
    },
    {
     "data": {
      "image/png": "[encoded data removed]",
      "text/plain": [
       "<matplotlib.figure.Figure at 0xdc14b00>"
      ]
     },
     "metadata": {},
     "output_type": "display_data"
    },
    {
     "name": "stdout",
     "output_type": "stream",
     "text": [
      "             precision    recall  f1-score   support\n",
      "\n",
      "          1       1.00      1.00      1.00        52\n",
      "          2       1.00      1.00      1.00         5\n",
      "\n",
      "avg / total       1.00      1.00      1.00        57\n",
      "\n",
      "[[52  0]\n",
      " [ 0  5]]\n"
     ]
    }
   ],
   "source": [
    "df_df=load_data()\n",
    "\n",
    "df_df=df_df[(df_df[\"Bias2\"]==1)|(df_df[\"Bias2\"]==2)]\n",
    "y=df_df['Bias2'].values.reshape((len(df_df),1))\n",
    "X=df_df[\"labor_market_woman\"].values.reshape((len(df_df),1))\n",
    "\n",
    "X_train=X[:,:]\n",
    "Y_train=y[:,:]\n",
    "\n",
    "\n",
    "logistic = LogisticRegression(C=1e5)#multi_class='multinomial', solver='lbfgs')\n",
    "res=logistic.fit(X_train,Y_train)\n",
    "y_true=Y_train\n",
    "y_pred=res.predict(X_train)\n",
    "# The coefficients\n",
    "print'Coefficients: \\n', res.coef_\n",
    "print res.intercept_\n",
    "print r2_score(y_true, y_pred)\n",
    "\n",
    "\n",
    "\n",
    "#target_names = ['male', 'neutral', 'female']#\n",
    "target_names = ['neutral',  'female']\n",
    "print(classification_report(y_true, y_pred, target_names=target_names))\n",
    "\n",
    "\n",
    "plt.matshow(confusion_matrix(y_true, y_pred), cmap=plt.cm.binary, interpolation='nearest')\n",
    "plt.title('confusion matrix')\n",
    "plt.colorbar()\n",
    "plt.ylabel('expected label')\n",
    "plt.xlabel('predicted label')\n",
    "plt.show()\n",
    "\n",
    "print classification_report(y_true, y_pred)\n",
    "print confusion_matrix(y_true, y_pred)"
   ]
  },
  {
   "cell_type": "code",
   "execution_count": 190,
   "metadata": {
    "collapsed": false
   },
   "outputs": [
    {
     "name": "stdout",
     "output_type": "stream",
     "text": [
      "2 [0, 1]\n"
     ]
    },
    {
     "data": {
      "image/png": "[encoded data removed]",
      "text/plain": [
       "<matplotlib.figure.Figure at 0xda52f98>"
      ]
     },
     "metadata": {},
     "output_type": "display_data"
    },
    {
     "data": {
      "image/png": "[encoded data removed]",
      "text/plain": [
       "<matplotlib.figure.Figure at 0xdde2e10>"
      ]
     },
     "metadata": {},
     "output_type": "display_data"
    }
   ],
   "source": [
    "y_score=res.predict_proba(X_train)\n",
    "y_true2,dict_labels=categorical(y_true[:,0],dictnames=True, drop=True)\n",
    "\n",
    "# Compute ROC curve and ROC area for each class\n",
    "n_classes = y_true2.shape[1]\n",
    "print n_classes,range(n_classes)\n",
    "fpr = dict()\n",
    "tpr = dict()\n",
    "roc_auc = dict()\n",
    "for i in range(n_classes):\n",
    "    fpr[i], tpr[i], thresholds = roc_curve(y_true2[:,i], y_score[:,i])#1-> 0 #male\n",
    "    roc_auc[i] = auc(fpr[i], tpr[i])\n",
    "\n",
    "# Compute micro-average ROC curve and ROC area\n",
    "fpr[\"micro\"], tpr[\"micro\"], _ = roc_curve(y_true2.ravel(), y_score.ravel())\n",
    "roc_auc[\"micro\"] = auc(fpr[\"micro\"], tpr[\"micro\"])\n",
    "\n",
    "\n",
    "plt.figure()\n",
    "plt.plot(fpr[1], tpr[1], label='ROC curve (area = %0.2f)' % roc_auc[1])\n",
    "plt.plot([0, 1], [0, 1], 'k--')\n",
    "plt.xlim([0.0, 1.0])\n",
    "plt.ylim([0.0, 1.05])\n",
    "plt.xlabel('False Positive Rate')\n",
    "plt.ylabel('True Positive Rate')\n",
    "plt.title('Receiver operating characteristic example')\n",
    "plt.legend(loc=\"lower right\")\n",
    "plt.show()\n",
    "\n",
    "\n",
    "all_fpr = np.unique(np.concatenate([fpr[i] for i in range(n_classes)]))\n",
    "\n",
    "# Then interpolate all ROC curves at this points\n",
    "mean_tpr = np.zeros_like(all_fpr)\n",
    "for i in range(n_classes):\n",
    "    mean_tpr += interp(all_fpr, fpr[i], tpr[i])\n",
    "\n",
    "# Finally average it and compute AUC\n",
    "mean_tpr /= n_classes\n",
    "\n",
    "fpr[\"macro\"] = all_fpr\n",
    "tpr[\"macro\"] = mean_tpr\n",
    "roc_auc[\"macro\"] = auc(fpr[\"macro\"], tpr[\"macro\"])\n",
    "\n",
    "# Plot all ROC curves\n",
    "plt.figure()\n",
    "plt.plot(fpr[\"micro\"], tpr[\"micro\"],\n",
    "         label='micro-average ROC curve (area = {0:0.2f})'\n",
    "               ''.format(roc_auc[\"micro\"]),\n",
    "         linewidth=2)\n",
    "\n",
    "plt.plot(fpr[\"macro\"], tpr[\"macro\"],\n",
    "         label='macro-average ROC curve (area = {0:0.2f})'\n",
    "               ''.format(roc_auc[\"macro\"]),\n",
    "         linewidth=2)\n",
    "\n",
    "for i in range(n_classes):\n",
    "    plt.plot(fpr[i], tpr[i], label='ROC curve of class {0} (area = {1:0.2f})'\n",
    "                                   ''.format(i, roc_auc[i]))\n",
    "\n",
    "plt.plot([0, 1], [0, 1], 'k--')\n",
    "plt.xlim([0.0, 1.0])\n",
    "plt.ylim([0.0, 1.05])\n",
    "plt.xlabel('False Positive Rate')\n",
    "plt.ylabel('True Positive Rate')\n",
    "plt.title('Some extension of Receiver operating characteristic to multi-class')\n",
    "plt.legend(loc=\"lower right\")\n",
    "plt.show()"
   ]
  },
  {
   "cell_type": "code",
   "execution_count": 3,
   "metadata": {
    "collapsed": false
   },
   "outputs": [],
   "source": [
    "\n",
    "\n",
    "def predict_model(predict_case,remove=False,train_split=True):\n",
    "    \n",
    "    df_df=load_data()\n",
    "    if remove==\"neutral\":\n",
    "        df_df=df_df[(df_df[\"Bias2\"]==0)|(df_df[\"Bias2\"]==2)]\n",
    "    elif remove==\"male\":\n",
    "        df_df=df_df[(df_df[\"Bias2\"]==1)|(df_df[\"Bias2\"]==2)]\n",
    "    df_df[\"Bias2\"]=df_df.Bias.apply(lambda x: 1 if x==predict_case else 0 )\n",
    "    \n",
    "    data = df_df[[\"labor_market_woman\",\"Bias2\"]]\n",
    "    data=sm.add_constant(data, prepend=False)\n",
    "    train_cols = data.columns[0]\n",
    "    y=data['Bias2']\n",
    "    X=data[train_cols]\n",
    "    X=sm.add_constant(X, prepend=False)\n",
    "    X=X.rename(columns = {'const':'intercept'})\n",
    "\n",
    "    #res1 = sm.MNLogit(y, X) \n",
    "    if train_split==True:\n",
    "        X_train, X_test, Y_train, Y_test = train_test_split(X, y, test_size=0.2)\n",
    "        print len(X_train), len(X_test), len(X_train) + len(X_test)\n",
    "    else:\n",
    "        X_train,Y_train=X,y\n",
    "    res1=sm.Logit(Y_train, X_train) \n",
    "    mlogit_res = res1.fit()\n",
    "    print mlogit_res.params\n",
    "    print mlogit_res.summary()\n",
    "    print mlogit_res.pred_table()\n",
    "    acc=float(sum(mlogit_res.pred_table().diagonal()))/float(len(Y_train))\n",
    "    print \"Accuracy:\",acc\n",
    "    print \"Odds:\\n\", np.exp(mlogit_res.params)\n",
    "    print \"p:\\n\", np.exp(mlogit_res.params)/(1+np.exp(mlogit_res.params))\n",
    "\n",
    "    return mlogit_res\n"
   ]
  },
  {
   "cell_type": "markdown",
   "metadata": {},
   "source": [
    "# male and female without neutral case\n",
    "#predict female"
   ]
  },
  {
   "cell_type": "code",
   "execution_count": 200,
   "metadata": {
    "collapsed": false,
    "scrolled": true
   },
   "outputs": [
    {
     "name": "stdout",
     "output_type": "stream",
     "text": [
      "885 859\n",
      "630 158 788\n",
      "Optimization terminated successfully.\n",
      "         Current function value: 0.018701\n",
      "         Iterations 14\n",
      "labor_market_woman     0.354521\n",
      "intercept            -34.553061\n",
      "dtype: float64\n",
      "                           Logit Regression Results                           \n",
      "==============================================================================\n",
      "Dep. Variable:                  Bias2   No. Observations:                  630\n",
      "Model:                          Logit   Df Residuals:                      628\n",
      "Method:                           MLE   Df Model:                            1\n",
      "Date:                Tue, 30 Aug 2016   Pseudo R-squ.:                  0.5960\n",
      "Time:                        01:20:17   Log-Likelihood:                -11.781\n",
      "converged:                       True   LL-Null:                       -29.162\n",
      "                                        LLR p-value:                 3.730e-09\n",
      "======================================================================================\n",
      "                         coef    std err          z      P>|z|      [95.0% Conf. Int.]\n",
      "--------------------------------------------------------------------------------------\n",
      "labor_market_woman     0.3545      0.138      2.575      0.010         0.085     0.624\n",
      "intercept            -34.5531     12.818     -2.696      0.007       -59.675    -9.431\n",
      "======================================================================================\n",
      "[[ 625.    0.]\n",
      " [   3.    2.]]\n",
      "Accuracy: 0.995238095238\n",
      "Odds:\n",
      "labor_market_woman    1.425498e+00\n",
      "intercept             9.858169e-16\n",
      "dtype: float64\n",
      "p:\n",
      "labor_market_woman    5.877135e-01\n",
      "intercept             9.858169e-16\n",
      "dtype: float64\n"
     ]
    }
   ],
   "source": [
    "fem_male_pred=predict_model(predict_case=\"female\",remove=\"neutral\")"
   ]
  },
  {
   "cell_type": "code",
   "execution_count": 201,
   "metadata": {
    "collapsed": false
   },
   "outputs": [
    {
     "name": "stdout",
     "output_type": "stream",
     "text": [
      "probability of being in female bias group given 2% of woman in labor market:\n",
      "2.00322350835e-15\n",
      "probability of being in female bias group given 20% of woman in labor market:\n",
      "1.1833896054e-12\n",
      "probability of being in female bias group given 90% of woman in labor market:\n",
      "0.0662261740043\n",
      "probability of being in female bias group given 92% of woman in labor market:\n",
      "0.125965013076\n",
      "probability of being in female bias group given 95% of woman in labor market:\n",
      "0.294515577808\n"
     ]
    }
   ],
   "source": [
    "print \"probability of being in female bias group given 2% of woman in labor market:\"\n",
    "print 1.0/(1+np.exp(-(fem_male_pred.params[1]+fem_male_pred.params[0]*2)))\n",
    "\n",
    "print \"probability of being in female bias group given 20% of woman in labor market:\"\n",
    "print 1.0/(1+np.exp(-(fem_male_pred.params[1]+fem_male_pred.params[0]*20)))\n",
    "\n",
    "print \"probability of being in female bias group given 90% of woman in labor market:\"\n",
    "print 1.0/(1+np.exp(-(fem_male_pred.params[1]+fem_male_pred.params[0]*90)))\n",
    "\n",
    "print \"probability of being in female bias group given 92% of woman in labor market:\"\n",
    "print 1.0/(1+np.exp(-(fem_male_pred.params[1]+fem_male_pred.params[0]*92)))\n",
    "\n",
    "print \"probability of being in female bias group given 95% of woman in labor market:\"\n",
    "print 1.0/(1+np.exp(-(fem_male_pred.params[1]+fem_male_pred.params[0]*95)))"
   ]
  },
  {
   "cell_type": "code",
   "execution_count": 104,
   "metadata": {
    "collapsed": false
   },
   "outputs": [
    {
     "name": "stdout",
     "output_type": "stream",
     "text": [
      "Accuracy (test data): 1.0\n"
     ]
    }
   ],
   "source": [
    "#predictions=mlogit_res.predict(X_test)\n",
    "#predicted_choice = (predictions > 0.5).astype(int)\n",
    "#print predicted_choice\n",
    "#print Y_test\n",
    "#print \"Accuracy (test data):\",np.mean(predicted_choice == Y_test)"
   ]
  },
  {
   "cell_type": "code",
   "execution_count": 202,
   "metadata": {
    "collapsed": false
   },
   "outputs": [
    {
     "name": "stdout",
     "output_type": "stream",
     "text": [
      "885 859\n",
      "Optimization terminated successfully.\n",
      "         Current function value: 0.015275\n",
      "         Iterations 14\n",
      "labor_market_woman     0.362323\n",
      "intercept            -35.347476\n",
      "dtype: float64\n",
      "                           Logit Regression Results                           \n",
      "==============================================================================\n",
      "Dep. Variable:                  Bias2   No. Observations:                  788\n",
      "Model:                          Logit   Df Residuals:                      786\n",
      "Method:                           MLE   Df Model:                            1\n",
      "Date:                Tue, 30 Aug 2016   Pseudo R-squ.:                  0.6025\n",
      "Time:                        01:20:49   Log-Likelihood:                -12.037\n",
      "converged:                       True   LL-Null:                       -30.284\n",
      "                                        LLR p-value:                 1.530e-09\n",
      "======================================================================================\n",
      "                         coef    std err          z      P>|z|      [95.0% Conf. Int.]\n",
      "--------------------------------------------------------------------------------------\n",
      "labor_market_woman     0.3623      0.137      2.644      0.008         0.094     0.631\n",
      "intercept            -35.3475     12.759     -2.770      0.006       -60.355   -10.340\n",
      "======================================================================================\n",
      "[[ 783.    0.]\n",
      " [   3.    2.]]\n",
      "Accuracy: 0.996192893401\n",
      "Odds:\n",
      "labor_market_woman    1.436663e+00\n",
      "intercept             4.454371e-16\n",
      "dtype: float64\n",
      "p:\n",
      "labor_market_woman    5.896027e-01\n",
      "intercept             4.454371e-16\n",
      "dtype: float64\n"
     ]
    }
   ],
   "source": [
    "fem_full_pred=predict_model(predict_case=\"female\",remove=\"neutral\",train_split=False)"
   ]
  },
  {
   "cell_type": "markdown",
   "metadata": {},
   "source": [
    "# predict female"
   ]
  },
  {
   "cell_type": "code",
   "execution_count": 88,
   "metadata": {
    "collapsed": false
   },
   "outputs": [
    {
     "name": "stdout",
     "output_type": "stream",
     "text": [
      "885 859\n"
     ]
    },
    {
     "data": {
      "image/png": "[encoded data removed]",
      "text/plain": [
       "<matplotlib.figure.Figure at 0x10c02e48>"
      ]
     },
     "metadata": {},
     "output_type": "display_data"
    },
    {
     "data": {
      "text/plain": [
       "<matplotlib.axes._subplots.AxesSubplot at 0x10bebb38>"
      ]
     },
     "execution_count": 88,
     "metadata": {},
     "output_type": "execute_result"
    },
    {
     "data": {
      "image/png": "[encoded data removed]",
      "text/plain": [
       "<matplotlib.figure.Figure at 0xe156d30>"
      ]
     },
     "metadata": {},
     "output_type": "display_data"
    }
   ],
   "source": [
    "df_df=load_data()\n",
    "df_google=pd.DataFrame.from_csv(\"de/predict_GoogleDif_labor_market.csv\")\n",
    "df_google[[\"l_m_without_outliers\",\"Bias\"]].boxplot(by=\"Bias\")\n",
    "plt.show()\n",
    "df_google[[\"NormalizedGoogleDif2\",\"Bias\"]].boxplot(by=\"Bias\")"
   ]
  },
  {
   "cell_type": "code",
   "execution_count": 85,
   "metadata": {
    "collapsed": false
   },
   "outputs": [
    {
     "data": {
      "text/plain": [
       "<matplotlib.axes._subplots.AxesSubplot at 0xe873780>"
      ]
     },
     "execution_count": 85,
     "metadata": {},
     "output_type": "execute_result"
    },
    {
     "data": {
      "image/png": "[encoded data removed]",
      "text/plain": [
       "<matplotlib.figure.Figure at 0xf3e3f28>"
      ]
     },
     "metadata": {},
     "output_type": "display_data"
    }
   ],
   "source": [
    "df_df[[\"labor_market_woman\",\"Bias\"]].boxplot(by=\"Bias\")\n",
    "plt.show()"
   ]
  },
  {
   "cell_type": "code",
   "execution_count": 69,
   "metadata": {
    "collapsed": false
   },
   "outputs": [
    {
     "name": "stdout",
     "output_type": "stream",
     "text": [
      "885 859\n",
      "Optimization terminated successfully.\n",
      "         Current function value: 0.014341\n",
      "         Iterations 14\n",
      "labor_market_woman     0.364305\n",
      "intercept            -35.534682\n",
      "dtype: float64\n",
      "                           Logit Regression Results                           \n",
      "==============================================================================\n",
      "Dep. Variable:                  Bias2   No. Observations:                  840\n",
      "Model:                          Logit   Df Residuals:                      838\n",
      "Method:                           MLE   Df Model:                            1\n",
      "Date:                Tue, 30 Aug 2016   Pseudo R-squ.:                  0.6064\n",
      "Time:                        20:10:22   Log-Likelihood:                -12.047\n",
      "converged:                       True   LL-Null:                       -30.605\n",
      "                                        LLR p-value:                 1.113e-09\n",
      "======================================================================================\n",
      "                         coef    std err          z      P>|z|      [95.0% Conf. Int.]\n",
      "--------------------------------------------------------------------------------------\n",
      "labor_market_woman     0.3643      0.137      2.669      0.008         0.097     0.632\n",
      "intercept            -35.5347     12.709     -2.796      0.005       -60.443   -10.626\n",
      "======================================================================================\n",
      "[[ 835.    0.]\n",
      " [   3.    2.]]\n",
      "Accuracy: 0.996428571429\n",
      "Odds:\n",
      "labor_market_woman    1.439513e+00\n",
      "intercept             3.693888e-16\n",
      "dtype: float64\n",
      "p:\n",
      "labor_market_woman    5.900822e-01\n",
      "intercept             3.693888e-16\n",
      "dtype: float64\n"
     ]
    }
   ],
   "source": [
    "female_pred_full=predict_model(predict_case=\"female\",train_split=False)"
   ]
  },
  {
   "cell_type": "code",
   "execution_count": 94,
   "metadata": {
    "collapsed": false
   },
   "outputs": [
    {
     "name": "stdout",
     "output_type": "stream",
     "text": [
      "probability of being in female bias group given 2% of woman in labor market:\n",
      "7.65447166167e-16\n",
      "probability of being in female bias group given 20% of woman in labor market:\n",
      "5.3925996984e-13\n",
      "probability of being in female bias group given 80% of woman in labor market:\n",
      "0.00167499434126\n",
      "probability of being in female bias group given 90% of woman in labor market:\n",
      "0.0602439875119\n",
      "probability of being in female bias group given 95% of woman in labor market:\n",
      "0.283799589728\n",
      "probability of being in female bias group given 98% of woman in labor market:\n",
      "0.54170879189\n",
      "probability of being in female bias group given 99% of woman in labor market:\n",
      "0.629839638539\n"
     ]
    }
   ],
   "source": [
    "print \"probability of being in female bias group given 2% of woman in labor market:\"\n",
    "print 1.0/(1+np.exp(-(female_pred_full.params[1]+female_pred_full.params[0]*2)))\n",
    "\n",
    "print \"probability of being in female bias group given 20% of woman in labor market:\"\n",
    "print 1.0/(1+np.exp(-(female_pred_full.params[1]+female_pred_full.params[0]*20)))\n",
    "\n",
    "print \"probability of being in female bias group given 80% of woman in labor market:\"\n",
    "print 1.0/(1+np.exp(-(female_pred_full.params[1]+female_pred_full.params[0]*80)))\n",
    "\n",
    "print \"probability of being in female bias group given 90% of woman in labor market:\"\n",
    "print 1.0/(1+np.exp(-(female_pred_full.params[1]+female_pred_full.params[0]*90)))\n",
    "\n",
    "print \"probability of being in female bias group given 95% of woman in labor market:\"\n",
    "print 1.0/(1+np.exp(-(female_pred_full.params[1]+female_pred_full.params[0]*95)))\n",
    "\n",
    "print \"probability of being in female bias group given 98% of woman in labor market:\"\n",
    "print 1.0/(1+np.exp(-(female_pred_full.params[1]+female_pred_full.params[0]*98)))\n",
    "\n",
    "print \"probability of being in female bias group given 99% of woman in labor market:\"\n",
    "print 1.0/(1+np.exp(-(female_pred_full.params[1]+female_pred_full.params[0]*99)))"
   ]
  },
  {
   "cell_type": "code",
   "execution_count": 207,
   "metadata": {
    "collapsed": false
   },
   "outputs": [
    {
     "name": "stdout",
     "output_type": "stream",
     "text": [
      "885 859\n",
      "672 168 840\n",
      "Optimization terminated successfully.\n",
      "         Current function value: 0.017014\n",
      "         Iterations 14\n",
      "labor_market_woman     0.344288\n",
      "intercept            -33.503123\n",
      "dtype: float64\n",
      "                           Logit Regression Results                           \n",
      "==============================================================================\n",
      "Dep. Variable:                  Bias2   No. Observations:                  672\n",
      "Model:                          Logit   Df Residuals:                      670\n",
      "Method:                           MLE   Df Model:                            1\n",
      "Date:                Tue, 30 Aug 2016   Pseudo R-squ.:                  0.6122\n",
      "Time:                        01:21:33   Log-Likelihood:                -11.433\n",
      "converged:                       True   LL-Null:                       -29.485\n",
      "                                        LLR p-value:                 1.871e-09\n",
      "======================================================================================\n",
      "                         coef    std err          z      P>|z|      [95.0% Conf. Int.]\n",
      "--------------------------------------------------------------------------------------\n",
      "labor_market_woman     0.3443      0.128      2.683      0.007         0.093     0.596\n",
      "intercept            -33.5031     11.941     -2.806      0.005       -56.908   -10.098\n",
      "======================================================================================\n",
      "[[ 667.    0.]\n",
      " [   3.    2.]]\n",
      "Accuracy: 0.995535714286\n",
      "Odds:\n",
      "labor_market_woman    1.410984e+00\n",
      "intercept             2.816945e-15\n",
      "dtype: float64\n",
      "p:\n",
      "labor_market_woman    5.852317e-01\n",
      "intercept             2.816945e-15\n",
      "dtype: float64\n"
     ]
    }
   ],
   "source": [
    "fem_pred=predict_model(predict_case=\"female\")"
   ]
  },
  {
   "cell_type": "markdown",
   "metadata": {},
   "source": [
    "# predict male"
   ]
  },
  {
   "cell_type": "code",
   "execution_count": 210,
   "metadata": {
    "collapsed": false
   },
   "outputs": [
    {
     "name": "stdout",
     "output_type": "stream",
     "text": [
      "885 859\n",
      "672 168 840\n",
      "Optimization terminated successfully.\n",
      "         Current function value: 0.249603\n",
      "         Iterations 7\n",
      "labor_market_woman   -0.000763\n",
      "intercept             2.639509\n",
      "dtype: float64\n",
      "                           Logit Regression Results                           \n",
      "==============================================================================\n",
      "Dep. Variable:                  Bias2   No. Observations:                  672\n",
      "Model:                          Logit   Df Residuals:                      670\n",
      "Method:                           MLE   Df Model:                            1\n",
      "Date:                Tue, 30 Aug 2016   Pseudo R-squ.:               5.549e-05\n",
      "Time:                        01:22:02   Log-Likelihood:                -167.73\n",
      "converged:                       True   LL-Null:                       -167.74\n",
      "                                        LLR p-value:                    0.8915\n",
      "======================================================================================\n",
      "                         coef    std err          z      P>|z|      [95.0% Conf. Int.]\n",
      "--------------------------------------------------------------------------------------\n",
      "labor_market_woman    -0.0008      0.006     -0.137      0.891        -0.012     0.010\n",
      "intercept              2.6395      0.262     10.093      0.000         2.127     3.152\n",
      "======================================================================================\n",
      "[[   0.   46.]\n",
      " [   0.  626.]]\n",
      "Accuracy: 0.931547619048\n",
      "Odds:\n",
      "labor_market_woman     0.999237\n",
      "intercept             14.006319\n",
      "dtype: float64\n",
      "p:\n",
      "labor_market_woman    0.499809\n",
      "intercept             0.933361\n",
      "dtype: float64\n"
     ]
    }
   ],
   "source": [
    "male_pred=predict_model(predict_case=\"male\")"
   ]
  },
  {
   "cell_type": "code",
   "execution_count": 211,
   "metadata": {
    "collapsed": false
   },
   "outputs": [
    {
     "name": "stdout",
     "output_type": "stream",
     "text": [
      "885 859\n",
      "Optimization terminated successfully.\n",
      "         Current function value: 0.248035\n",
      "         Iterations 7\n",
      "labor_market_woman   -0.001047\n",
      "intercept             2.659668\n",
      "dtype: float64\n",
      "                           Logit Regression Results                           \n",
      "==============================================================================\n",
      "Dep. Variable:                  Bias2   No. Observations:                  840\n",
      "Model:                          Logit   Df Residuals:                      838\n",
      "Method:                           MLE   Df Model:                            1\n",
      "Date:                Tue, 30 Aug 2016   Pseudo R-squ.:               0.0001025\n",
      "Time:                        01:22:09   Log-Likelihood:                -208.35\n",
      "converged:                       True   LL-Null:                       -208.37\n",
      "                                        LLR p-value:                    0.8363\n",
      "======================================================================================\n",
      "                         coef    std err          z      P>|z|      [95.0% Conf. Int.]\n",
      "--------------------------------------------------------------------------------------\n",
      "labor_market_woman    -0.0010      0.005     -0.207      0.836        -0.011     0.009\n",
      "intercept              2.6597      0.237     11.232      0.000         2.196     3.124\n",
      "======================================================================================\n",
      "[[   0.   57.]\n",
      " [   0.  783.]]\n",
      "Accuracy: 0.932142857143\n",
      "Odds:\n",
      "labor_market_woman     0.998954\n",
      "intercept             14.291542\n",
      "dtype: float64\n",
      "p:\n",
      "labor_market_woman    0.499738\n",
      "intercept             0.934604\n",
      "dtype: float64\n"
     ]
    }
   ],
   "source": [
    "male_pred_full=predict_model(predict_case=\"male\",train_split=False)"
   ]
  },
  {
   "cell_type": "markdown",
   "metadata": {},
   "source": [
    "# neutral and female without male case (predict female bias)"
   ]
  },
  {
   "cell_type": "code",
   "execution_count": 4,
   "metadata": {
    "collapsed": false
   },
   "outputs": [
    {
     "name": "stdout",
     "output_type": "stream",
     "text": [
      "885 859\n",
      "Warning: Maximum number of iterations has been exceeded.\n",
      "         Current function value: 0.000000\n",
      "         Iterations: 35\n",
      "labor_market_woman      45.844612\n",
      "intercept            -3868.533418\n",
      "dtype: float64\n",
      "                           Logit Regression Results                           \n",
      "==============================================================================\n",
      "Dep. Variable:                  Bias2   No. Observations:                   57\n",
      "Model:                          Logit   Df Residuals:                       55\n",
      "Method:                           MLE   Df Model:                            1\n",
      "Date:                Tue, 30 Aug 2016   Pseudo R-squ.:                   1.000\n",
      "Time:                        01:58:58   Log-Likelihood:            -7.2260e-12\n",
      "converged:                      False   LL-Null:                       -16.942\n",
      "                                        LLR p-value:                 5.849e-09\n",
      "======================================================================================\n",
      "                         coef    std err          z      P>|z|      [95.0% Conf. Int.]\n",
      "--------------------------------------------------------------------------------------\n",
      "labor_market_woman    45.8446   6.48e+05   7.07e-05      1.000     -1.27e+06  1.27e+06\n",
      "intercept          -3868.5334   5.47e+07  -7.07e-05      1.000     -1.07e+08  1.07e+08\n",
      "======================================================================================\n",
      "\n",
      "Complete Separation: The results show that there iscomplete separation.\n",
      "In this case the Maximum Likelihood Estimator does not exist and the parameters\n",
      "are not identified.\n",
      "[[ 52.   0.]\n",
      " [  0.   5.]]\n",
      "Accuracy: 1.0\n",
      "Odds:\n",
      "labor_market_woman    8.129465e+19\n",
      "intercept             0.000000e+00\n",
      "dtype: float64\n",
      "p:\n",
      "labor_market_woman    1\n",
      "intercept             0\n",
      "dtype: float64\n"
     ]
    }
   ],
   "source": [
    "fem_neutral_pred_full=predict_model(predict_case=\"female\",remove=\"male\",train_split=False)"
   ]
  },
  {
   "cell_type": "code",
   "execution_count": 5,
   "metadata": {
    "collapsed": false
   },
   "outputs": [
    {
     "name": "stdout",
     "output_type": "stream",
     "text": [
      "885 859\n",
      "45 12 57\n",
      "Warning: Maximum number of iterations has been exceeded.\n",
      "         Current function value: 0.000000\n",
      "         Iterations: 35\n",
      "labor_market_woman      6.030030\n",
      "intercept            -534.716167\n",
      "dtype: float64\n",
      "                           Logit Regression Results                           \n",
      "==============================================================================\n",
      "Dep. Variable:                  Bias2   No. Observations:                   45\n",
      "Model:                          Logit   Df Residuals:                       43\n",
      "Method:                           MLE   Df Model:                            1\n",
      "Date:                Tue, 30 Aug 2016   Pseudo R-squ.:                   1.000\n",
      "Time:                        01:59:06   Log-Likelihood:            -3.2752e-13\n",
      "converged:                      False   LL-Null:                       -13.498\n",
      "                                        LLR p-value:                 2.038e-07\n",
      "======================================================================================\n",
      "                         coef    std err          z      P>|z|      [95.0% Conf. Int.]\n",
      "--------------------------------------------------------------------------------------\n",
      "labor_market_woman     6.0300   3.56e+05    1.7e-05      1.000     -6.97e+05  6.97e+05\n",
      "intercept           -534.7162   3.14e+07   -1.7e-05      1.000     -6.16e+07  6.16e+07\n",
      "======================================================================================\n",
      "\n",
      "Complete Separation: The results show that there iscomplete separation.\n",
      "In this case the Maximum Likelihood Estimator does not exist and the parameters\n",
      "are not identified.\n",
      "[[ 41.   0.]\n",
      " [  0.   4.]]\n",
      "Accuracy: 1.0\n",
      "Odds:\n",
      "labor_market_woman     4.157274e+02\n",
      "intercept             5.966493e-233\n",
      "dtype: float64\n",
      "p:\n",
      "labor_market_woman     9.976003e-01\n",
      "intercept             5.966493e-233\n",
      "dtype: float64\n"
     ]
    }
   ],
   "source": [
    "fem_neutral_pred=predict_model(predict_case=\"female\",remove=\"male\")"
   ]
  },
  {
   "cell_type": "code",
   "execution_count": 6,
   "metadata": {
    "collapsed": false
   },
   "outputs": [
    {
     "name": "stdout",
     "output_type": "stream",
     "text": [
      "885 859\n"
     ]
    },
    {
     "name": "stderr",
     "output_type": "stream",
     "text": [
      "C:\\Anaconda\\lib\\site-packages\\ipykernel\\__main__.py:5: SettingWithCopyWarning: \n",
      "A value is trying to be set on a copy of a slice from a DataFrame.\n",
      "Try using .loc[row_indexer,col_indexer] = value instead\n",
      "\n",
      "See the caveats in the documentation: http://pandas.pydata.org/pandas-docs/stable/indexing.html#indexing-view-versus-copy\n"
     ]
    }
   ],
   "source": [
    "df_df=load_data()\n",
    "\n",
    "\n",
    "data = df_df[(df_df[\"Bias2\"]==1)|(df_df[\"Bias2\"]==2)]\n",
    "data[\"Bias2\"]=data.Bias.apply(lambda x: 1 if x==\"female\" else 0 )\n",
    "\n",
    "#dummy_wiki = pd.get_dummies(data['Bias2'], prefix='Bias')\n",
    "#y_all=[dummy_wiki[\"Bias_2\"],dummy_wiki[\"Bias_1\"]]\n",
    "y=data['Bias2']\n",
    "X=data[[\"labor_market_woman\" ]]\n",
    "X=sm.add_constant(X, prepend=False)\n",
    "X=X.rename(columns = {'const':'intercept'})\n",
    "\n",
    "#res1 = sm.MNLogit(y, X) \n",
    "\n",
    "for i in range(1,100):\n",
    "    X_train, X_test, Y_train, Y_test = train_test_split(X, y, test_size=0.2)\n",
    "    #print len(X_train), len(X_test), len(X_train) + len(X_test)\n",
    "    #print X_train, Y_train\n",
    "    res1=sm.Logit(Y_train, X_train)#,method='bfgs') #method='newton')\n",
    "    try:\n",
    "        mlogit_res = res1.fit(disp=0)\n",
    "        if mlogit_res.pvalues[0]<=0.07:\n",
    "\n",
    "            print mlogit_res.params\n",
    "            print mlogit_res.summary()\n",
    "            print mlogit_res.pred_table()\n",
    "            acc=float(sum(mlogit_res.pred_table().diagonal()))/float(len(Y_train))\n",
    "            print \"Accuracy:\",acc\n",
    "            print \"Odds:\\n\", np.exp(mlogit_res.params)\n",
    "            print \"p:\\n\", np.exp(mlogit_res.params)/(1+np.exp(mlogit_res.params))\n",
    "    except:\n",
    "        pass"
   ]
  },
  {
   "cell_type": "code",
   "execution_count": 4,
   "metadata": {
    "collapsed": false
   },
   "outputs": [
    {
     "name": "stdout",
     "output_type": "stream",
     "text": [
      "labor_market_woman    -0.346991\n",
      "intercept             31.140306\n",
      "dtype: float64\n",
      "                           Logit Regression Results                           \n",
      "==============================================================================\n",
      "Dep. Variable:                 Bias_1   No. Observations:                   56\n",
      "Model:                          Logit   Df Residuals:                       54\n",
      "Method:                           MLE   Df Model:                            1\n",
      "Date:                Mon, 29 Aug 2016   Pseudo R-squ.:                  0.7585\n",
      "Time:                        20:17:35   Log-Likelihood:                -3.4802\n",
      "converged:                       True   LL-Null:                       -14.410\n",
      "                                        LLR p-value:                 2.934e-06\n",
      "======================================================================================\n",
      "                         coef    std err          z      P>|z|      [95.0% Conf. Int.]\n",
      "--------------------------------------------------------------------------------------\n",
      "labor_market_woman    -0.3470      0.211     -1.643      0.100        -0.761     0.067\n",
      "intercept             31.1403     18.671      1.668      0.095        -5.454    67.735\n",
      "======================================================================================\n",
      "[[  3.   1.]\n",
      " [  0.  52.]]\n",
      "Accuracy: 0.982142857143\n",
      "Odds:\n",
      "labor_market_woman    7.068116e-01\n",
      "intercept             3.342434e+13\n",
      "dtype: float64\n",
      "p:\n",
      "labor_market_woman    0.414112\n",
      "intercept             1.000000\n",
      "dtype: float64\n"
     ]
    }
   ],
   "source": [
    "            print mlogit_res.params\n",
    "            print mlogit_res.summary()\n",
    "            print mlogit_res.pred_table()\n",
    "            acc=float(sum(mlogit_res.pred_table().diagonal()))/float(len(Y_train))\n",
    "            print \"Accuracy:\",acc\n",
    "            print \"Odds:\\n\", np.exp(mlogit_res.params)\n",
    "            print \"p:\\n\", np.exp(mlogit_res.params)/(1+np.exp(mlogit_res.params))"
   ]
  },
  {
   "cell_type": "code",
   "execution_count": 7,
   "metadata": {
    "collapsed": true
   },
   "outputs": [],
   "source": [
    "from sklearn import cross_validation\n",
    "import statsmodels.api as sm\n",
    "from statsmodels.tools.tools import add_constant\n",
    "from sklearn.metrics import roc_curve, auc\n",
    "from scipy import interp\n",
    "import matplotlib.pyplot as plt"
   ]
  },
  {
   "cell_type": "markdown",
   "metadata": {},
   "source": [
    "# predct male!!!! all data"
   ]
  },
  {
   "cell_type": "code",
   "execution_count": 170,
   "metadata": {
    "collapsed": false,
    "scrolled": true
   },
   "outputs": [
    {
     "name": "stdout",
     "output_type": "stream",
     "text": [
      "885 871\n",
      "Optimization terminated successfully.\n",
      "         Current function value: 0.283244\n",
      "         Iterations 6\n",
      "                           Logit Regression Results                           \n",
      "==============================================================================\n",
      "Dep. Variable:                  Bias2   No. Observations:                  767\n",
      "Model:                          Logit   Df Residuals:                      765\n",
      "Method:                           MLE   Df Model:                            1\n",
      "Date:                Tue, 30 Aug 2016   Pseudo R-squ.:                0.002524\n",
      "Time:                        00:38:41   Log-Likelihood:                -217.25\n",
      "converged:                       True   LL-Null:                       -217.80\n",
      "                                        LLR p-value:                    0.2944\n",
      "======================================================================================\n",
      "                         coef    std err          z      P>|z|      [95.0% Conf. Int.]\n",
      "--------------------------------------------------------------------------------------\n",
      "labor_market_woman    -0.0050      0.005     -1.052      0.293        -0.014     0.004\n",
      "intercept              2.6110      0.235     11.095      0.000         2.150     3.072\n",
      "======================================================================================\n",
      "[[   0.   63.]\n",
      " [   0.  704.]]\n",
      "Optimization terminated successfully.\n",
      "         Current function value: 0.283528\n",
      "         Iterations 6\n",
      "                           Logit Regression Results                           \n",
      "==============================================================================\n",
      "Dep. Variable:                  Bias2   No. Observations:                  767\n",
      "Model:                          Logit   Df Residuals:                      765\n",
      "Method:                           MLE   Df Model:                            1\n",
      "Date:                Tue, 30 Aug 2016   Pseudo R-squ.:                0.001525\n",
      "Time:                        00:38:41   Log-Likelihood:                -217.47\n",
      "converged:                       True   LL-Null:                       -217.80\n",
      "                                        LLR p-value:                    0.4150\n",
      "======================================================================================\n",
      "                         coef    std err          z      P>|z|      [95.0% Conf. Int.]\n",
      "--------------------------------------------------------------------------------------\n",
      "labor_market_woman    -0.0039      0.005     -0.817      0.414        -0.013     0.005\n",
      "intercept              2.5644      0.231     11.085      0.000         2.111     3.018\n",
      "======================================================================================\n",
      "[[   0.   63.]\n",
      " [   0.  704.]]\n",
      "Optimization terminated successfully.\n",
      "         Current function value: 0.283466\n",
      "         Iterations 6\n",
      "                           Logit Regression Results                           \n",
      "==============================================================================\n",
      "Dep. Variable:                  Bias2   No. Observations:                  767\n",
      "Model:                          Logit   Df Residuals:                      765\n",
      "Method:                           MLE   Df Model:                            1\n",
      "Date:                Tue, 30 Aug 2016   Pseudo R-squ.:                0.001741\n",
      "Time:                        00:38:42   Log-Likelihood:                -217.42\n",
      "converged:                       True   LL-Null:                       -217.80\n",
      "                                        LLR p-value:                    0.3838\n",
      "======================================================================================\n",
      "                         coef    std err          z      P>|z|      [95.0% Conf. Int.]\n",
      "--------------------------------------------------------------------------------------\n",
      "labor_market_woman    -0.0042      0.005     -0.874      0.382        -0.014     0.005\n",
      "intercept              2.5796      0.236     10.921      0.000         2.117     3.043\n",
      "======================================================================================\n",
      "[[   0.   63.]\n",
      " [   0.  704.]]\n",
      "Optimization terminated successfully.\n",
      "         Current function value: 0.283244\n",
      "         Iterations 6\n",
      "                           Logit Regression Results                           \n",
      "==============================================================================\n",
      "Dep. Variable:                  Bias2   No. Observations:                  768\n",
      "Model:                          Logit   Df Residuals:                      766\n",
      "Method:                           MLE   Df Model:                            1\n",
      "Date:                Tue, 30 Aug 2016   Pseudo R-squ.:                0.001617\n",
      "Time:                        00:38:42   Log-Likelihood:                -217.53\n",
      "converged:                       True   LL-Null:                       -217.88\n",
      "                                        LLR p-value:                    0.4012\n",
      "======================================================================================\n",
      "                         coef    std err          z      P>|z|      [95.0% Conf. Int.]\n",
      "--------------------------------------------------------------------------------------\n",
      "labor_market_woman    -0.0040      0.005     -0.842      0.400        -0.013     0.005\n",
      "intercept              2.5732      0.234     10.986      0.000         2.114     3.032\n",
      "======================================================================================\n",
      "[[   0.   63.]\n",
      " [   0.  705.]]\n",
      "Optimization terminated successfully.\n",
      "         Current function value: 0.282785\n",
      "         Iterations 7\n",
      "                           Logit Regression Results                           \n",
      "==============================================================================\n",
      "Dep. Variable:                  Bias2   No. Observations:                  768\n",
      "Model:                          Logit   Df Residuals:                      766\n",
      "Method:                           MLE   Df Model:                            1\n",
      "Date:                Tue, 30 Aug 2016   Pseudo R-squ.:                0.003234\n",
      "Time:                        00:38:42   Log-Likelihood:                -217.18\n",
      "converged:                       True   LL-Null:                       -217.88\n",
      "                                        LLR p-value:                    0.2352\n",
      "======================================================================================\n",
      "                         coef    std err          z      P>|z|      [95.0% Conf. Int.]\n",
      "--------------------------------------------------------------------------------------\n",
      "labor_market_woman    -0.0057      0.005     -1.191      0.233        -0.015     0.004\n",
      "intercept              2.6393      0.237     11.150      0.000         2.175     3.103\n",
      "======================================================================================\n",
      "[[   0.   63.]\n",
      " [   0.  705.]]\n",
      "Optimization terminated successfully.\n",
      "         Current function value: 0.282188\n",
      "         Iterations 7\n",
      "                           Logit Regression Results                           \n",
      "==============================================================================\n",
      "Dep. Variable:                  Bias2   No. Observations:                  768\n",
      "Model:                          Logit   Df Residuals:                      766\n",
      "Method:                           MLE   Df Model:                            1\n",
      "Date:                Tue, 30 Aug 2016   Pseudo R-squ.:                0.005339\n",
      "Time:                        00:38:42   Log-Likelihood:                -216.72\n",
      "converged:                       True   LL-Null:                       -217.88\n",
      "                                        LLR p-value:                    0.1272\n",
      "======================================================================================\n",
      "                         coef    std err          z      P>|z|      [95.0% Conf. Int.]\n",
      "--------------------------------------------------------------------------------------\n",
      "labor_market_woman    -0.0073      0.005     -1.529      0.126        -0.017     0.002\n",
      "intercept              2.7093      0.242     11.180      0.000         2.234     3.184\n",
      "======================================================================================\n",
      "[[   0.   63.]\n",
      " [   0.  705.]]\n",
      "Optimization terminated successfully.\n",
      "         Current function value: 0.283138\n",
      "         Iterations 6\n",
      "                           Logit Regression Results                           \n",
      "==============================================================================\n",
      "Dep. Variable:                  Bias2   No. Observations:                  768\n",
      "Model:                          Logit   Df Residuals:                      766\n",
      "Method:                           MLE   Df Model:                            1\n",
      "Date:                Tue, 30 Aug 2016   Pseudo R-squ.:                0.001989\n",
      "Time:                        00:38:42   Log-Likelihood:                -217.45\n",
      "converged:                       True   LL-Null:                       -217.88\n",
      "                                        LLR p-value:                    0.3519\n",
      "======================================================================================\n",
      "                         coef    std err          z      P>|z|      [95.0% Conf. Int.]\n",
      "--------------------------------------------------------------------------------------\n",
      "labor_market_woman    -0.0045      0.005     -0.934      0.350        -0.014     0.005\n",
      "intercept              2.5920      0.236     10.974      0.000         2.129     3.055\n",
      "======================================================================================\n",
      "[[   0.   63.]\n",
      " [   0.  705.]]\n",
      "Optimization terminated successfully.\n",
      "         Current function value: 0.282896\n",
      "         Iterations 7\n",
      "                           Logit Regression Results                           \n",
      "==============================================================================\n",
      "Dep. Variable:                  Bias2   No. Observations:                  768\n",
      "Model:                          Logit   Df Residuals:                      766\n",
      "Method:                           MLE   Df Model:                            1\n",
      "Date:                Tue, 30 Aug 2016   Pseudo R-squ.:                0.002845\n",
      "Time:                        00:38:42   Log-Likelihood:                -217.26\n",
      "converged:                       True   LL-Null:                       -217.88\n",
      "                                        LLR p-value:                    0.2655\n",
      "======================================================================================\n",
      "                         coef    std err          z      P>|z|      [95.0% Conf. Int.]\n",
      "--------------------------------------------------------------------------------------\n",
      "labor_market_woman    -0.0054      0.005     -1.117      0.264        -0.015     0.004\n",
      "intercept              2.6253      0.236     11.114      0.000         2.162     3.088\n",
      "======================================================================================\n",
      "[[   0.   63.]\n",
      " [   0.  705.]]\n",
      "Optimization terminated successfully.\n",
      "         Current function value: 0.283443\n",
      "         Iterations 6\n",
      "                           Logit Regression Results                           \n",
      "==============================================================================\n",
      "Dep. Variable:                  Bias2   No. Observations:                  768\n",
      "Model:                          Logit   Df Residuals:                      766\n",
      "Method:                           MLE   Df Model:                            1\n",
      "Date:                Tue, 30 Aug 2016   Pseudo R-squ.:               0.0009134\n",
      "Time:                        00:38:42   Log-Likelihood:                -217.68\n",
      "converged:                       True   LL-Null:                       -217.88\n",
      "                                        LLR p-value:                    0.5281\n",
      "======================================================================================\n",
      "                         coef    std err          z      P>|z|      [95.0% Conf. Int.]\n",
      "--------------------------------------------------------------------------------------\n",
      "labor_market_woman    -0.0031      0.005     -0.633      0.527        -0.013     0.006\n",
      "intercept              2.5318      0.230     10.996      0.000         2.080     2.983\n",
      "======================================================================================\n",
      "[[   0.   63.]\n",
      " [   0.  705.]]\n",
      "Optimization terminated successfully.\n",
      "         Current function value: 0.282193\n",
      "         Iterations 7\n",
      "                           Logit Regression Results                           \n",
      "==============================================================================\n",
      "Dep. Variable:                  Bias2   No. Observations:                  768\n",
      "Model:                          Logit   Df Residuals:                      766\n",
      "Method:                           MLE   Df Model:                            1\n",
      "Date:                Tue, 30 Aug 2016   Pseudo R-squ.:                0.005320\n",
      "Time:                        00:38:42   Log-Likelihood:                -216.72\n",
      "converged:                       True   LL-Null:                       -217.88\n",
      "                                        LLR p-value:                    0.1279\n",
      "======================================================================================\n",
      "                         coef    std err          z      P>|z|      [95.0% Conf. Int.]\n",
      "--------------------------------------------------------------------------------------\n",
      "labor_market_woman    -0.0073      0.005     -1.526      0.127        -0.017     0.002\n",
      "intercept              2.7127      0.244     11.096      0.000         2.234     3.192\n",
      "======================================================================================\n",
      "[[   0.   63.]\n",
      " [   0.  705.]]\n",
      "labor_market_woman   -0.007275\n",
      "intercept             2.709304\n",
      "dtype: float64\n",
      "                           Logit Regression Results                           \n",
      "==============================================================================\n",
      "Dep. Variable:                  Bias2   No. Observations:                  768\n",
      "Model:                          Logit   Df Residuals:                      766\n",
      "Method:                           MLE   Df Model:                            1\n",
      "Date:                Tue, 30 Aug 2016   Pseudo R-squ.:                0.005339\n",
      "Time:                        00:38:42   Log-Likelihood:                -216.72\n",
      "converged:                       True   LL-Null:                       -217.88\n",
      "                                        LLR p-value:                    0.1272\n",
      "======================================================================================\n",
      "                         coef    std err          z      P>|z|      [95.0% Conf. Int.]\n",
      "--------------------------------------------------------------------------------------\n",
      "labor_market_woman    -0.0073      0.005     -1.529      0.126        -0.017     0.002\n",
      "intercept              2.7093      0.242     11.180      0.000         2.234     3.184\n",
      "======================================================================================\n",
      "AIC: 437.440618357\n",
      "BIC: 446.728197823\n",
      "[[   0.   63.]\n",
      " [   0.  705.]]\n",
      "Accuracy: 0.91796875\n",
      "Odds:\n",
      "labor_market_woman     0.992751\n",
      "intercept             15.018818\n",
      "dtype: float64\n",
      "p:\n",
      "labor_market_woman    0.498181\n",
      "intercept             0.937573\n",
      "dtype: float64\n"
     ]
    },
    {
     "data": {
      "text/plain": [
       "<matplotlib.legend.Legend at 0xecfe668>"
      ]
     },
     "execution_count": 170,
     "metadata": {},
     "output_type": "execute_result"
    },
    {
     "data": {
      "image/png": "[encoded data removed]",
      "text/plain": [
       "<matplotlib.figure.Figure at 0xb7c3828>"
      ]
     },
     "metadata": {},
     "output_type": "display_data"
    }
   ],
   "source": [
    "\n",
    "\n",
    "\n",
    "df_df=load_data()\n",
    "df_df[\"Bias2\"]=df_df.Bias.apply(lambda x: 1 if x==\"male\" else 0 )\n",
    "\n",
    "#dummy_wiki = pd.get_dummies(df_df['Bias2'], prefix='Bias')\n",
    "#y_all=[dummy_wiki[\"Bias_2\"],dummy_wiki[\"Bias_0\"]]\n",
    "\n",
    "y=df_df[\"Bias2\"]\n",
    "X=df_df[[\"labor_market_woman\" ]]\n",
    "\n",
    "\n",
    "X=sm.add_constant(X, prepend=False)\n",
    "X=X.rename(columns = {'const':'intercept'})\n",
    "skf = cross_validation.StratifiedKFold(y, n_folds=10,shuffle=True)\n",
    "aic_min=9999\n",
    "mean_tpr = 0.0\n",
    "mean_fpr = np.linspace(0, 1, 100)\n",
    "i=0\n",
    "for train_index, test_index in skf:  \n",
    "    y_train, y_test = y[train_index], y[test_index]\n",
    "    X_train, X_test = X.iloc[train_index,:], X.iloc[test_index,:]\n",
    "\n",
    "    res1 = sm.Logit(y_train, X_train)#(y,X)#(y_train, X_train) \n",
    "    mlogit_res = res1.fit()\n",
    "    predict= np.array(mlogit_res.predict() > 0.5, dtype=float)\n",
    "    print mlogit_res.summary()\n",
    "    print mlogit_res.pred_table()\n",
    "    # Compute ROC curve and area the curve\n",
    "    fpr, tpr, thresholds = roc_curve(y[train_index], mlogit_res.predict())\n",
    "    mean_tpr += interp(mean_fpr, fpr, tpr)\n",
    "    mean_tpr[0] = 0.0\n",
    "    roc_auc = auc(fpr, tpr)\n",
    "    plt.plot(fpr, tpr, lw=1, label='ROC fold %d (area = %0.2f)' % (i, roc_auc))\n",
    "    \n",
    "    aic=mlogit_res.aic\n",
    "    i+=1\n",
    "    if aic<aic_min:\n",
    "        aic_min=aic\n",
    "        best_res=mlogit_res\n",
    "        y_train_best=y_train\n",
    "        best_index=train_index\n",
    "print best_res.params\n",
    "print best_res.summary()\n",
    "print \"AIC:\",best_res.aic\n",
    "print \"BIC:\",best_res.bic\n",
    "predict= np.array(best_res.predict() > 0.5, dtype=float)\n",
    "print best_res.pred_table()\n",
    "acc=float(sum(best_res.pred_table().diagonal()))/float(len(y_train_best))\n",
    "print \"Accuracy:\",acc\n",
    "print \"Odds:\\n\", np.exp(best_res.params)\n",
    "print \"p:\\n\", np.exp(best_res.params)/(1+np.exp(best_res.params))\n",
    "\n",
    "\n",
    "plt.legend(loc=\"lower right\")\n",
    "\n"
   ]
  },
  {
   "cell_type": "markdown",
   "metadata": {},
   "source": [
    "# predict female"
   ]
  },
  {
   "cell_type": "code",
   "execution_count": 171,
   "metadata": {
    "collapsed": false,
    "scrolled": true
   },
   "outputs": [
    {
     "name": "stdout",
     "output_type": "stream",
     "text": [
      "885 871\n",
      "Optimization terminated successfully.\n",
      "         Current function value: 0.014222\n",
      "         Iterations 14\n",
      "                           Logit Regression Results                           \n",
      "==============================================================================\n",
      "Dep. Variable:                  Bias2   No. Observations:                  853\n",
      "Model:                          Logit   Df Residuals:                      851\n",
      "Method:                           MLE   Df Model:                            1\n",
      "Date:                Tue, 30 Aug 2016   Pseudo R-squ.:                  0.6046\n",
      "Time:                        00:41:34   Log-Likelihood:                -12.131\n",
      "converged:                       True   LL-Null:                       -30.682\n",
      "                                        LLR p-value:                 1.121e-09\n",
      "======================================================================================\n",
      "                         coef    std err          z      P>|z|      [95.0% Conf. Int.]\n",
      "--------------------------------------------------------------------------------------\n",
      "labor_market_woman     0.3715      0.138      2.688      0.007         0.101     0.643\n",
      "intercept            -36.2324     12.867     -2.816      0.005       -61.451   -11.014\n",
      "======================================================================================\n",
      "[[ 848.    0.]\n",
      " [   3.    2.]]\n",
      "Optimization terminated successfully.\n",
      "         Current function value: 0.015675\n",
      "         Iterations 14\n",
      "                           Logit Regression Results                           \n",
      "==============================================================================\n",
      "Dep. Variable:                  Bias2   No. Observations:                  768\n",
      "Model:                          Logit   Df Residuals:                      766\n",
      "Method:                           MLE   Df Model:                            1\n",
      "Date:                Tue, 30 Aug 2016   Pseudo R-squ.:                  0.6008\n",
      "Time:                        00:41:35   Log-Likelihood:                -12.038\n",
      "converged:                       True   LL-Null:                       -30.155\n",
      "                                        LLR p-value:                 1.749e-09\n",
      "======================================================================================\n",
      "                         coef    std err          z      P>|z|      [95.0% Conf. Int.]\n",
      "--------------------------------------------------------------------------------------\n",
      "labor_market_woman     0.3570      0.140      2.559      0.011         0.084     0.631\n",
      "intercept            -34.8566     12.999     -2.682      0.007       -60.334    -9.379\n",
      "======================================================================================\n",
      "[[ 763.    0.]\n",
      " [   3.    2.]]\n",
      "Optimization terminated successfully.\n",
      "         Current function value: 0.014981\n",
      "         Iterations 14\n",
      "                           Logit Regression Results                           \n",
      "==============================================================================\n",
      "Dep. Variable:                  Bias2   No. Observations:                  767\n",
      "Model:                          Logit   Df Residuals:                      765\n",
      "Method:                           MLE   Df Model:                            1\n",
      "Date:                Tue, 30 Aug 2016   Pseudo R-squ.:                  0.5407\n",
      "Time:                        00:41:36   Log-Likelihood:                -11.490\n",
      "converged:                       True   LL-Null:                       -25.014\n",
      "                                        LLR p-value:                 1.984e-07\n",
      "======================================================================================\n",
      "                         coef    std err          z      P>|z|      [95.0% Conf. Int.]\n",
      "--------------------------------------------------------------------------------------\n",
      "labor_market_woman     0.3228      0.135      2.396      0.017         0.059     0.587\n",
      "intercept            -31.7562     12.431     -2.555      0.011       -56.120    -7.392\n",
      "======================================================================================\n",
      "[[ 763.    0.]\n",
      " [   3.    1.]]\n",
      "Optimization terminated successfully.\n",
      "         Current function value: 0.014777\n",
      "         Iterations 14\n",
      "                           Logit Regression Results                           \n",
      "==============================================================================\n",
      "Dep. Variable:                  Bias2   No. Observations:                  767\n",
      "Model:                          Logit   Df Residuals:                      765\n",
      "Method:                           MLE   Df Model:                            1\n",
      "Date:                Tue, 30 Aug 2016   Pseudo R-squ.:                  0.5469\n",
      "Time:                        00:41:36   Log-Likelihood:                -11.334\n",
      "converged:                       True   LL-Null:                       -25.014\n",
      "                                        LLR p-value:                 1.688e-07\n",
      "======================================================================================\n",
      "                         coef    std err          z      P>|z|      [95.0% Conf. Int.]\n",
      "--------------------------------------------------------------------------------------\n",
      "labor_market_woman     0.3207      0.130      2.457      0.014         0.065     0.576\n",
      "intercept            -31.5098     12.037     -2.618      0.009       -55.101    -7.919\n",
      "======================================================================================\n",
      "[[ 763.    0.]\n",
      " [   3.    1.]]\n",
      "Optimization terminated successfully.\n",
      "         Current function value: 0.014633\n",
      "         Iterations 14\n",
      "                           Logit Regression Results                           \n",
      "==============================================================================\n",
      "Dep. Variable:                  Bias2   No. Observations:                  768\n",
      "Model:                          Logit   Df Residuals:                      766\n",
      "Method:                           MLE   Df Model:                            1\n",
      "Date:                Tue, 30 Aug 2016   Pseudo R-squ.:                  0.6273\n",
      "Time:                        00:41:37   Log-Likelihood:                -11.238\n",
      "converged:                       True   LL-Null:                       -30.155\n",
      "                                        LLR p-value:                 7.698e-10\n",
      "======================================================================================\n",
      "                         coef    std err          z      P>|z|      [95.0% Conf. Int.]\n",
      "--------------------------------------------------------------------------------------\n",
      "labor_market_woman     0.3754      0.138      2.730      0.006         0.106     0.645\n",
      "intercept            -36.3470     12.757     -2.849      0.004       -61.351   -11.343\n",
      "======================================================================================\n",
      "[[ 763.    0.]\n",
      " [   3.    2.]]\n",
      "Optimization terminated successfully.\n",
      "         Current function value: 0.015014\n",
      "         Iterations 14\n",
      "                           Logit Regression Results                           \n",
      "==============================================================================\n",
      "Dep. Variable:                  Bias2   No. Observations:                  768\n",
      "Model:                          Logit   Df Residuals:                      766\n",
      "Method:                           MLE   Df Model:                            1\n",
      "Date:                Tue, 30 Aug 2016   Pseudo R-squ.:                  0.6176\n",
      "Time:                        00:41:37   Log-Likelihood:                -11.531\n",
      "converged:                       True   LL-Null:                       -30.155\n",
      "                                        LLR p-value:                 1.040e-09\n",
      "======================================================================================\n",
      "                         coef    std err          z      P>|z|      [95.0% Conf. Int.]\n",
      "--------------------------------------------------------------------------------------\n",
      "labor_market_woman     0.3726      0.139      2.679      0.007         0.100     0.645\n",
      "intercept            -36.1709     12.919     -2.800      0.005       -61.491   -10.851\n",
      "======================================================================================\n",
      "[[ 763.    0.]\n",
      " [   3.    2.]]\n",
      "Optimization terminated successfully.\n",
      "         Current function value: 0.013446\n",
      "         Iterations 14\n",
      "                           Logit Regression Results                           \n",
      "==============================================================================\n",
      "Dep. Variable:                  Bias2   No. Observations:                  767\n",
      "Model:                          Logit   Df Residuals:                      765\n",
      "Method:                           MLE   Df Model:                            1\n",
      "Date:                Tue, 30 Aug 2016   Pseudo R-squ.:                  0.5877\n",
      "Time:                        00:41:37   Log-Likelihood:                -10.313\n",
      "converged:                       True   LL-Null:                       -25.014\n",
      "                                        LLR p-value:                 5.882e-08\n",
      "======================================================================================\n",
      "                         coef    std err          z      P>|z|      [95.0% Conf. Int.]\n",
      "--------------------------------------------------------------------------------------\n",
      "labor_market_woman     0.3560      0.142      2.509      0.012         0.078     0.634\n",
      "intercept            -35.0178     13.245     -2.644      0.008       -60.977    -9.058\n",
      "======================================================================================\n",
      "[[ 763.    0.]\n",
      " [   2.    2.]]\n",
      "Optimization terminated successfully.\n",
      "         Current function value: 0.007147\n",
      "         Iterations 17\n",
      "                           Logit Regression Results                           \n",
      "==============================================================================\n",
      "Dep. Variable:                  Bias2   No. Observations:                  767\n",
      "Model:                          Logit   Df Residuals:                      765\n",
      "Method:                           MLE   Df Model:                            1\n",
      "Date:                Tue, 30 Aug 2016   Pseudo R-squ.:                  0.7808\n",
      "Time:                        00:41:38   Log-Likelihood:                -5.4820\n",
      "converged:                       True   LL-Null:                       -25.014\n",
      "                                        LLR p-value:                 4.100e-10\n",
      "======================================================================================\n",
      "                         coef    std err          z      P>|z|      [95.0% Conf. Int.]\n",
      "--------------------------------------------------------------------------------------\n",
      "labor_market_woman     1.0624      0.793      1.339      0.181        -0.493     2.618\n",
      "intercept           -101.1470     74.373     -1.360      0.174      -246.915    44.621\n",
      "======================================================================================\n",
      "[[ 763.    0.]\n",
      " [   2.    2.]]\n",
      "Optimization terminated successfully.\n",
      "         Current function value: 0.015437\n",
      "         Iterations 14\n",
      "                           Logit Regression Results                           \n",
      "==============================================================================\n",
      "Dep. Variable:                  Bias2   No. Observations:                  768\n",
      "Model:                          Logit   Df Residuals:                      766\n",
      "Method:                           MLE   Df Model:                            1\n",
      "Date:                Tue, 30 Aug 2016   Pseudo R-squ.:                  0.6068\n",
      "Time:                        00:41:38   Log-Likelihood:                -11.856\n",
      "converged:                       True   LL-Null:                       -30.155\n",
      "                                        LLR p-value:                 1.451e-09\n",
      "======================================================================================\n",
      "                         coef    std err          z      P>|z|      [95.0% Conf. Int.]\n",
      "--------------------------------------------------------------------------------------\n",
      "labor_market_woman     0.3662      0.139      2.641      0.008         0.094     0.638\n",
      "intercept            -35.6629     12.902     -2.764      0.006       -60.949   -10.376\n",
      "======================================================================================\n",
      "[[ 763.    0.]\n",
      " [   3.    2.]]\n",
      "Optimization terminated successfully.\n",
      "         Current function value: 0.013365\n",
      "         Iterations 14\n",
      "                           Logit Regression Results                           \n",
      "==============================================================================\n",
      "Dep. Variable:                  Bias2   No. Observations:                  768\n",
      "Model:                          Logit   Df Residuals:                      766\n",
      "Method:                           MLE   Df Model:                            1\n",
      "Date:                Tue, 30 Aug 2016   Pseudo R-squ.:                  0.5898\n",
      "Time:                        00:41:38   Log-Likelihood:                -10.264\n",
      "converged:                       True   LL-Null:                       -25.020\n",
      "                                        LLR p-value:                 5.560e-08\n",
      "======================================================================================\n",
      "                         coef    std err          z      P>|z|      [95.0% Conf. Int.]\n",
      "--------------------------------------------------------------------------------------\n",
      "labor_market_woman     0.3527      0.140      2.512      0.012         0.078     0.628\n",
      "intercept            -34.6968     13.110     -2.647      0.008       -60.391    -9.002\n",
      "======================================================================================\n",
      "[[ 764.    0.]\n",
      " [   2.    2.]]\n",
      "Optimization terminated successfully.\n",
      "         Current function value: 0.015174\n",
      "         Iterations 14\n",
      "                           Logit Regression Results                           \n",
      "==============================================================================\n",
      "Dep. Variable:                  Bias2   No. Observations:                  769\n",
      "Model:                          Logit   Df Residuals:                      767\n",
      "Method:                           MLE   Df Model:                            1\n",
      "Date:                Tue, 30 Aug 2016   Pseudo R-squ.:                  0.6131\n",
      "Time:                        00:41:39   Log-Likelihood:                -11.669\n",
      "converged:                       True   LL-Null:                       -30.162\n",
      "                                        LLR p-value:                 1.190e-09\n",
      "======================================================================================\n",
      "                         coef    std err          z      P>|z|      [95.0% Conf. Int.]\n",
      "--------------------------------------------------------------------------------------\n",
      "labor_market_woman     0.3607      0.134      2.686      0.007         0.097     0.624\n",
      "intercept            -35.1017     12.492     -2.810      0.005       -59.586   -10.618\n",
      "======================================================================================\n",
      "[[ 764.    0.]\n",
      " [   3.    2.]]\n",
      "labor_market_woman      1.062384\n",
      "intercept            -101.146974\n",
      "dtype: float64\n",
      "                           Logit Regression Results                           \n",
      "==============================================================================\n",
      "Dep. Variable:                  Bias2   No. Observations:                  767\n",
      "Model:                          Logit   Df Residuals:                      765\n",
      "Method:                           MLE   Df Model:                            1\n",
      "Date:                Tue, 30 Aug 2016   Pseudo R-squ.:                  0.7808\n",
      "Time:                        00:41:39   Log-Likelihood:                -5.4820\n",
      "converged:                       True   LL-Null:                       -25.014\n",
      "                                        LLR p-value:                 4.100e-10\n",
      "======================================================================================\n",
      "                         coef    std err          z      P>|z|      [95.0% Conf. Int.]\n",
      "--------------------------------------------------------------------------------------\n",
      "labor_market_woman     1.0624      0.793      1.339      0.181        -0.493     2.618\n",
      "intercept           -101.1470     74.373     -1.360      0.174      -246.915    44.621\n",
      "======================================================================================\n",
      "AIC: 14.9640955259\n",
      "BIC: 24.2490691287\n",
      "[[ 763.    0.]\n",
      " [   2.    2.]]\n",
      "Accuracy: 0.99739243807\n",
      "Odds:\n",
      "labor_market_woman    2.893260e+00\n",
      "intercept             1.181483e-44\n",
      "dtype: float64\n",
      "p:\n",
      "labor_market_woman    7.431458e-01\n",
      "intercept             1.181483e-44\n",
      "dtype: float64\n"
     ]
    },
    {
     "name": "stderr",
     "output_type": "stream",
     "text": [
      "C:\\Anaconda\\lib\\site-packages\\sklearn\\cross_validation.py:516: Warning: The least populated class in y has only 5 members, which is too few. The minimum number of labels for any class cannot be less than n_folds=10.\n",
      "  % (min_labels, self.n_folds)), Warning)\n"
     ]
    },
    {
     "data": {
      "text/plain": [
       "<matplotlib.legend.Legend at 0xe5286d8>"
      ]
     },
     "execution_count": 171,
     "metadata": {},
     "output_type": "execute_result"
    },
    {
     "data": {
      "image/png": "[encoded data removed]",
      "text/plain": [
       "<matplotlib.figure.Figure at 0xed961d0>"
      ]
     },
     "metadata": {},
     "output_type": "display_data"
    }
   ],
   "source": [
    "from sklearn import cross_validation\n",
    "import statsmodels.api as sm\n",
    "from statsmodels.tools.tools import add_constant\n",
    "from sklearn.metrics import roc_curve, auc\n",
    "from scipy import interp\n",
    "import matplotlib.pyplot as plt\n",
    "\n",
    "\n",
    "\n",
    "df_df=load_data()\n",
    "df_df[\"Bias2\"]=df_df.Bias.apply(lambda x: 1 if x==\"female\" else 0 )\n",
    "\n",
    "#dummy_wiki = pd.get_dummies(df_df['Bias2'], prefix='Bias')\n",
    "#y_all=[dummy_wiki[\"Bias_2\"],dummy_wiki[\"Bias_0\"]]\n",
    "\n",
    "y=df_df[\"Bias2\"]\n",
    "X=df_df[[\"labor_market_woman\" ]]\n",
    "\n",
    "\n",
    "\n",
    "\n",
    "X=sm.add_constant(X, prepend=False)\n",
    "X=X.rename(columns = {'const':'intercept'})\n",
    "skf = cross_validation.StratifiedKFold(y, n_folds=10,shuffle=True)\n",
    "aic_min=9999\n",
    "mean_tpr = 0.0\n",
    "mean_fpr = np.linspace(0, 1, 100)\n",
    "i=0\n",
    "\n",
    "\n",
    "res1 = sm.Logit(y, X)#(y,X)#(y_train, X_train) \n",
    "mlogit_res = res1.fit()\n",
    "predict= np.array(mlogit_res.predict() > 0.5, dtype=float)\n",
    "print mlogit_res.summary()\n",
    "print mlogit_res.pred_table()\n",
    "\n",
    "\n",
    "\n",
    "for train_index, test_index in skf:  \n",
    "    y_train, y_test = y[train_index], y[test_index]\n",
    "    X_train, X_test = X.iloc[train_index,:], X.iloc[test_index,:]#X.iloc[0,:] <- for all train_cols\n",
    "    #print \"train:\",len(y_train), \"test:\",len(y_test)\n",
    "    res1 = sm.Logit(y_train, X_train)#(y,X)#(y_train, X_train) \n",
    "    mlogit_res = res1.fit()\n",
    "    predict= np.array(mlogit_res.predict() > 0.5, dtype=float)\n",
    "    print mlogit_res.summary()\n",
    "    print mlogit_res.pred_table()\n",
    "    # Compute ROC curve and area the curve\n",
    "    fpr, tpr, thresholds = roc_curve(y[train_index], mlogit_res.predict())\n",
    "    mean_tpr += interp(mean_fpr, fpr, tpr)\n",
    "    mean_tpr[0] = 0.0\n",
    "    roc_auc = auc(fpr, tpr)\n",
    "    plt.plot(fpr, tpr, lw=1, label='ROC fold %d (area = %0.2f)' % (i, roc_auc))\n",
    "    \n",
    "    aic=mlogit_res.aic\n",
    "    i+=1\n",
    "    if aic<aic_min:\n",
    "        aic_min=aic\n",
    "        best_res=mlogit_res\n",
    "        y_train_best=y_train\n",
    "        best_index=train_index\n",
    "print best_res.params\n",
    "print best_res.summary()\n",
    "print \"AIC:\",best_res.aic\n",
    "print \"BIC:\",best_res.bic\n",
    "predict= np.array(best_res.predict() > 0.5, dtype=float)\n",
    "print best_res.pred_table()\n",
    "acc=float(sum(best_res.pred_table().diagonal()))/float(len(y_train_best))\n",
    "print \"Accuracy:\",acc\n",
    "print \"Odds:\\n\", np.exp(best_res.params)\n",
    "print \"p:\\n\", np.exp(best_res.params)/(1+np.exp(best_res.params))\n",
    "\n",
    "\n",
    "plt.legend(loc=\"lower right\")\n",
    "\n"
   ]
  },
  {
   "cell_type": "markdown",
   "metadata": {
    "collapsed": true
   },
   "source": [
    "# femal and neutral (predict neutral)"
   ]
  },
  {
   "cell_type": "code",
   "execution_count": 8,
   "metadata": {
    "collapsed": false,
    "scrolled": true
   },
   "outputs": [
    {
     "name": "stdout",
     "output_type": "stream",
     "text": [
      "885 859\n",
      "Warning: Maximum number of iterations has been exceeded.\n",
      "         Current function value: 0.000000\n",
      "         Iterations: 35\n",
      "                           Logit Regression Results                           \n",
      "==============================================================================\n",
      "Dep. Variable:                  Bias2   No. Observations:                   57\n",
      "Model:                          Logit   Df Residuals:                       55\n",
      "Method:                           MLE   Df Model:                            1\n",
      "Date:                Tue, 30 Aug 2016   Pseudo R-squ.:                   1.000\n",
      "Time:                        02:00:33   Log-Likelihood:            -7.2260e-12\n",
      "converged:                      False   LL-Null:                       -16.942\n",
      "                                        LLR p-value:                 5.849e-09\n",
      "======================================================================================\n",
      "                         coef    std err          z      P>|z|      [95.0% Conf. Int.]\n",
      "--------------------------------------------------------------------------------------\n",
      "labor_market_woman   -45.8446   6.48e+05  -7.07e-05      1.000     -1.27e+06  1.27e+06\n",
      "intercept           3868.5334   5.47e+07   7.07e-05      1.000     -1.07e+08  1.07e+08\n",
      "======================================================================================\n",
      "\n",
      "Complete Separation: The results show that there iscomplete separation.\n",
      "In this case the Maximum Likelihood Estimator does not exist and the parameters\n",
      "are not identified.\n",
      "[[  5.   0.]\n",
      " [  0.  52.]]\n",
      "Warning: Maximum number of iterations has been exceeded.\n",
      "         Current function value: 0.000000\n",
      "         Iterations: 35\n",
      "Warning: Maximum number of iterations has been exceeded.\n",
      "         Current function value: 0.000000\n",
      "         Iterations: 35\n",
      "Warning: Maximum number of iterations has been exceeded.\n",
      "         Current function value: 0.000000\n",
      "         Iterations: 35\n",
      "Warning: Maximum number of iterations has been exceeded.\n",
      "         Current function value: 0.000000\n",
      "         Iterations: 35\n",
      "Warning: Maximum number of iterations has been exceeded.\n",
      "         Current function value: 0.000000\n",
      "         Iterations: 35\n",
      "Warning: Maximum number of iterations has been exceeded.\n",
      "         Current function value: 0.000000\n",
      "         Iterations: 35\n",
      "Warning: Maximum number of iterations has been exceeded.\n",
      "         Current function value: 0.000000\n",
      "         Iterations: 35\n",
      "Warning: Maximum number of iterations has been exceeded.\n",
      "         Current function value: 0.000000\n",
      "         Iterations: 35\n",
      "Warning: Maximum number of iterations has been exceeded.\n",
      "         Current function value: 0.000000\n",
      "         Iterations: 35\n",
      "Warning: Maximum number of iterations has been exceeded.\n",
      "         Current function value: 0.000000\n",
      "         Iterations: 35\n"
     ]
    },
    {
     "name": "stderr",
     "output_type": "stream",
     "text": [
      "C:\\Anaconda\\lib\\site-packages\\sklearn\\cross_validation.py:516: Warning: The least populated class in y has only 5 members, which is too few. The minimum number of labels for any class cannot be less than n_folds=10.\n",
      "  % (min_labels, self.n_folds)), Warning)\n"
     ]
    },
    {
     "ename": "NameError",
     "evalue": "name 'best_res' is not defined",
     "output_type": "error",
     "traceback": [
      "\u001b[1;31m---------------------------------------------------------------------------\u001b[0m",
      "\u001b[1;31mNameError\u001b[0m                                 Traceback (most recent call last)",
      "\u001b[1;32m<ipython-input-8-fa588ffbb311>\u001b[0m in \u001b[0;36m<module>\u001b[1;34m()\u001b[0m\n\u001b[0;32m     53\u001b[0m         \u001b[1;32mpass\u001b[0m\u001b[1;33m\u001b[0m\u001b[0m\n\u001b[0;32m     54\u001b[0m \u001b[1;33m\u001b[0m\u001b[0m\n\u001b[1;32m---> 55\u001b[1;33m \u001b[1;32mprint\u001b[0m \u001b[0mbest_res\u001b[0m\u001b[1;33m.\u001b[0m\u001b[0mparams\u001b[0m\u001b[1;33m\u001b[0m\u001b[0m\n\u001b[0m\u001b[0;32m     56\u001b[0m \u001b[1;32mprint\u001b[0m \u001b[0mbest_res\u001b[0m\u001b[1;33m.\u001b[0m\u001b[0msummary\u001b[0m\u001b[1;33m(\u001b[0m\u001b[1;33m)\u001b[0m\u001b[1;33m\u001b[0m\u001b[0m\n\u001b[0;32m     57\u001b[0m \u001b[1;32mprint\u001b[0m \u001b[1;34m\"AIC:\"\u001b[0m\u001b[1;33m,\u001b[0m\u001b[0mbest_res\u001b[0m\u001b[1;33m.\u001b[0m\u001b[0maic\u001b[0m\u001b[1;33m\u001b[0m\u001b[0m\n",
      "\u001b[1;31mNameError\u001b[0m: name 'best_res' is not defined"
     ]
    }
   ],
   "source": [
    "df_df=load_data()\n",
    "df_df = df_df[(df_df[\"Bias2\"]==1)|(df_df[\"Bias2\"]==2)]\n",
    "df_df[\"Bias2\"]=df_df.Bias.apply(lambda x: 1 if x==\"neutral\" else 0 )\n",
    "\n",
    "#dummy_wiki = pd.get_dummies(df_df['Bias2'], prefix='Bias')\n",
    "#y_all=[dummy_wiki[\"Bias_2\"],dummy_wiki[\"Bias_0\"]]\n",
    "\n",
    "y=df_df[\"Bias2\"]\n",
    "X=df_df[[\"labor_market_woman\" ]]\n",
    "\n",
    "\n",
    "X=sm.add_constant(X, prepend=False)\n",
    "X=X.rename(columns = {'const':'intercept'})\n",
    "skf = cross_validation.StratifiedKFold(y, n_folds=10,shuffle=True)\n",
    "aic_min=9999\n",
    "mean_tpr = 0.0\n",
    "mean_fpr = np.linspace(0, 1, 100)\n",
    "i=0\n",
    "\n",
    "\n",
    "res1 = sm.Logit(y, X,raise_on_perfect_prediction=False)#(y,X)#(y_train, X_train) \n",
    "mlogit_res_ = res1.fit()\n",
    "predict_= np.array(mlogit_res_.predict() > 0.5, dtype=float)\n",
    "print mlogit_res_.summary()\n",
    "print mlogit_res_.pred_table()\n",
    "\n",
    "\n",
    "\n",
    "for train_index, test_index in skf:  \n",
    "    y_train, y_test = y.iloc[train_index], y.iloc[train_index]\n",
    "    X_train, X_test = X.iloc[train_index,:], X.iloc[test_index,:]#X.iloc[0,:] <- for all train_cols\n",
    "    #print \"train:\",len(y_train), \"test:\",len(y_test)\n",
    "    try:\n",
    "        res1 = sm.Logit(y_train, X_train,method=\"newton\") \n",
    "        mlogit_res = res1.fit()\n",
    "\n",
    "        if mlogit_res.pvalues[0]<=0.07:\n",
    "            predict= np.array(mlogit_res.predict() > 0.5, dtype=float)\n",
    "            print mlogit_res.summary()\n",
    "            print mlogit_res.pred_table()\n",
    "            # Compute ROC curve and area the curve\n",
    "            fpr, tpr, thresholds = roc_curve(y[train_index], mlogit_res.predict())\n",
    "            mean_tpr += interp(mean_fpr, fpr, tpr)\n",
    "            mean_tpr[0] = 0.0\n",
    "            roc_auc = auc(fpr, tpr)\n",
    "            plt.plot(fpr, tpr, lw=1, label='ROC fold %d (area = %0.2f)' % (i, roc_auc))\n",
    "        \n",
    "            aic_min=aic\n",
    "            best_res=mlogit_res\n",
    "            y_train_best=y_train\n",
    "            best_index=train_index\n",
    "    except:\n",
    "        pass\n",
    "    \n",
    "print best_res.params\n",
    "print best_res.summary()\n",
    "print \"AIC:\",best_res.aic\n",
    "print \"BIC:\",best_res.bic\n",
    "predict= np.array(best_res.predict() > 0.5, dtype=float)\n",
    "print best_res.pred_table()\n",
    "acc=float(sum(best_res.pred_table().diagonal()))/float(len(y_train_best))\n",
    "print \"Accuracy:\",acc\n",
    "print \"Odds:\\n\", np.exp(best_res.params)\n",
    "print \"p:\\n\", np.exp(best_res.params)/(1+np.exp(best_res.params))\n",
    "\n",
    "plt.legend(loc=\"lower right\")\n"
   ]
  },
  {
   "cell_type": "code",
   "execution_count": 10,
   "metadata": {
    "collapsed": false
   },
   "outputs": [
    {
     "data": {
      "text/plain": [
       "3868.533417855142"
      ]
     },
     "execution_count": 10,
     "metadata": {},
     "output_type": "execute_result"
    }
   ],
   "source": [
    "mlogit_res_.params[1]"
   ]
  },
  {
   "cell_type": "code",
   "execution_count": 9,
   "metadata": {
    "collapsed": false
   },
   "outputs": [
    {
     "data": {
      "text/plain": [
       "<matplotlib.collections.PathCollection at 0xde43dd8>"
      ]
     },
     "execution_count": 9,
     "metadata": {},
     "output_type": "execute_result"
    },
    {
     "data": {
      "image/png": "[encoded data removed]",
      "text/plain": [
       "<matplotlib.figure.Figure at 0xd8d2ef0>"
      ]
     },
     "metadata": {},
     "output_type": "display_data"
    }
   ],
   "source": [
    "plt.figure(1, figsize=(4, 3))\n",
    "plt.clf()\n",
    "plt.scatter(X.labor_market_woman.values, y.values, color='black', zorder=20)"
   ]
  },
  {
   "cell_type": "code",
   "execution_count": 174,
   "metadata": {
    "collapsed": false
   },
   "outputs": [
    {
     "data": {
      "text/plain": [
       "[<matplotlib.lines.Line2D at 0xdea5748>]"
      ]
     },
     "execution_count": 174,
     "metadata": {},
     "output_type": "execute_result"
    },
    {
     "data": {
      "image/png": "[encoded data removed]",
      "text/plain": [
       "<matplotlib.figure.Figure at 0xe051e48>"
      ]
     },
     "metadata": {},
     "output_type": "display_data"
    }
   ],
   "source": [
    "#and plot the result\n",
    "plt.figure(1, figsize=(4, 3))\n",
    "plt.clf()\n",
    "plt.scatter(X.labor_market_woman.values, y.values, color='black', zorder=20)\n",
    "X_t = X.labor_market_woman.values\n",
    "X_test = np.linspace(0, 100, 300)\n",
    "\n",
    "def model(x):\n",
    "    return 1 / (1 + np.exp(-x))\n",
    "loss = model(X_test * mlogit_res_.params[0] + mlogit_res_.params[1]).ravel()\n",
    "plt.plot(X_test, loss, color='r', linewidth=3)\n",
    "loss = model(X_test * mlogit_res_.params[0] + 30).ravel()\n",
    "plt.plot(X_test, loss, color='blue', linewidth=3)"
   ]
  },
  {
   "cell_type": "code",
   "execution_count": 12,
   "metadata": {
    "collapsed": false
   },
   "outputs": [
    {
     "name": "stderr",
     "output_type": "stream",
     "text": [
      "C:\\Anaconda\\lib\\site-packages\\sklearn\\utils\\validation.py:515: DataConversionWarning: A column-vector y was passed when a 1d array was expected. Please change the shape of y to (n_samples, ), for example using ravel().\n",
      "  y = column_or_1d(y, warn=True)\n",
      "C:\\Anaconda\\lib\\site-packages\\sklearn\\utils\\validation.py:515: DataConversionWarning: A column-vector y was passed when a 1d array was expected. Please change the shape of y to (n_samples, ), for example using ravel().\n",
      "  y = column_or_1d(y, warn=True)\n",
      "C:\\Anaconda\\lib\\site-packages\\sklearn\\utils\\validation.py:515: DataConversionWarning: A column-vector y was passed when a 1d array was expected. Please change the shape of y to (n_samples, ), for example using ravel().\n",
      "  y = column_or_1d(y, warn=True)\n",
      "C:\\Anaconda\\lib\\site-packages\\sklearn\\utils\\validation.py:515: DataConversionWarning: A column-vector y was passed when a 1d array was expected. Please change the shape of y to (n_samples, ), for example using ravel().\n",
      "  y = column_or_1d(y, warn=True)\n",
      "C:\\Anaconda\\lib\\site-packages\\sklearn\\utils\\validation.py:515: DataConversionWarning: A column-vector y was passed when a 1d array was expected. Please change the shape of y to (n_samples, ), for example using ravel().\n",
      "  y = column_or_1d(y, warn=True)\n"
     ]
    },
    {
     "name": "stdout",
     "output_type": "stream",
     "text": [
      "57 57\n"
     ]
    },
    {
     "name": "stderr",
     "output_type": "stream",
     "text": [
      "C:\\Anaconda\\lib\\site-packages\\sklearn\\utils\\validation.py:515: DataConversionWarning: A column-vector y was passed when a 1d array was expected. Please change the shape of y to (n_samples, ), for example using ravel().\n",
      "  y = column_or_1d(y, warn=True)\n",
      "C:\\Anaconda\\lib\\site-packages\\sklearn\\utils\\validation.py:515: DataConversionWarning: A column-vector y was passed when a 1d array was expected. Please change the shape of y to (n_samples, ), for example using ravel().\n",
      "  y = column_or_1d(y, warn=True)\n"
     ]
    }
   ],
   "source": [
    "import numpy as np\n",
    "\n",
    "#conda install -c glemaitre imbalanced-learn\n",
    "from imblearn.over_sampling import RandomOverSampler\n",
    "from imblearn.over_sampling import SMOTE\n",
    "from imblearn.combine import SMOTETomek\n",
    "from imblearn.combine import SMOTEENN\n",
    "\n",
    "from imblearn.ensemble import EasyEnsemble\n",
    "X_t = X.labor_market_woman.values.reshape((len(X),1))\n",
    "y_t=y.values.reshape((len(y),1))\n",
    "ratio = 'auto'\n",
    "# 'Random over-sampling'\n",
    "OS = RandomOverSampler(ratio=ratio)\n",
    "osx, osy = OS.fit_sample(X_t, y_t)\n",
    "# 'SMOTE'\n",
    "smote = SMOTE(ratio=ratio, kind='regular',k=4)\n",
    "smox, smoy = smote.fit_sample(X_t, y_t)\n",
    "\n",
    "print len(X), len(y)\n",
    "# 'SMOTE Tomek links'\n",
    "STK = SMOTETomek(ratio=ratio,k=4)\n",
    "stkx, stky = STK.fit_sample(X_t, y_t)\n"
   ]
  },
  {
   "cell_type": "code",
   "execution_count": 11,
   "metadata": {
    "collapsed": false,
    "scrolled": true
   },
   "outputs": [
    {
     "data": {
      "text/plain": [
       "(array([ 99.84313725,  93.69190951,  93.69190951,  99.84313725,\n",
       "         84.95967218,  83.81020887,  83.81020887,  35.50863724,\n",
       "         76.99332332,  26.2594162 ,  47.89403922,  47.89403922,\n",
       "         18.1568088 ,  18.1568088 ,  79.44435839,   2.73770282,\n",
       "         70.9736681 ,  58.61399592,  58.61399592,  62.997543  ,\n",
       "         62.997543  ,  25.59987302,   1.46126423,  11.43816056,\n",
       "          3.55635708,  21.57658998,  13.1710869 ,  31.10416667,\n",
       "         14.35763678,   1.22249389,   8.0697928 ,  47.89403922,\n",
       "         24.97683109,  38.66675106,  34.47319778,  18.44934276,\n",
       "          3.90146034,   3.55635708,  31.08710312,  22.24113475,\n",
       "         57.69387589,  12.59051361,   3.55635708,  29.75964579,\n",
       "         11.63090632,  65.26483054,  40.1872883 ,  37.70050477,\n",
       "         58.3260838 ,  58.3260838 ,   8.49660524,  51.14451586,\n",
       "         21.57658998,  21.57658998,  88.7755102 ,  11.43816056,\n",
       "          2.72014753,  88.7755102 ,  62.57110353,  62.57110353,\n",
       "         62.57110353,  62.57110353,  78.35664811,  37.70050477,\n",
       "         26.78383539,  11.43816056,  57.93278188,  60.04178708,\n",
       "         13.96292391,  13.96292391]),\n",
       " array([ 0.,  0.,  0.,  0.,  0.,  1.,  1.,  1.,  1.,  1.,  1.,  1.,  1.,\n",
       "         1.,  1.,  1.,  1.,  1.,  1.,  1.,  1.,  1.,  1.,  1.,  1.,  1.,\n",
       "         1.,  1.,  1.,  1.,  1.,  1.,  1.,  1.,  1.,  1.,  1.,  1.,  1.,\n",
       "         1.,  1.,  1.,  1.,  1.,  1.,  1.,  1.,  1.,  1.,  1.,  1.,  1.,\n",
       "         1.,  1.,  1.,  1.,  1.,  1.,  1.,  1.,  1.,  1.,  1.,  1.,  1.,\n",
       "         1.,  1.,  1.,  1.,  1.]))"
      ]
     },
     "execution_count": 11,
     "metadata": {},
     "output_type": "execute_result"
    }
   ],
   "source": [
    "# 'SMOTE ENN'\n",
    "SENN = SMOTEENN(ratio=ratio,k=4)\n",
    "ennx, enny = SENN.fit_sample(X_t.ravel(), y_t.ravel())"
   ]
  },
  {
   "cell_type": "markdown",
   "metadata": {},
   "source": [
    "# McFadden's pseudo-R-squared\n"
   ]
  },
  {
   "cell_type": "code",
   "execution_count": 63,
   "metadata": {
    "collapsed": false
   },
   "outputs": [],
   "source": [
    "import scipy\n",
    "from scipy.stats import chisqprob\n",
    "\n",
    "\n",
    "\n",
    "def perform_fitting_new_dataset(osx,osy):\n",
    "    new_df=pd.DataFrame(data=osx,columns=[\"labor_market_woman\"])\n",
    "    new_df[\"Bias_1\"]=osy\n",
    "\n",
    "    y_=new_df[\"Bias_1\"]\n",
    "    X_=new_df[[\"labor_market_woman\" ]]\n",
    "    X_=sm.add_constant(X_, prepend=False)\n",
    "    X_=X_.rename(columns = {'const':'intercept'})\n",
    "    res1 = sm.Logit(y_, X_)\n",
    "    mlogit_res_ = res1.fit()\n",
    "    predict_= np.array(mlogit_res.predict() > 0.5, dtype=float)\n",
    "    print mlogit_res_.summary()\n",
    "    print mlogit_res_.pred_table()\n",
    "    acc_=float(sum(mlogit_res_.pred_table().diagonal()))/float(len(y_))\n",
    "    print \"Accuracy:\",acc_\n",
    "    print \"Odds:\\n\", np.exp(mlogit_res_.params)\n",
    "    print \"p:\\n\", np.exp(mlogit_res_.params)/(1+np.exp(mlogit_res_.params))\n",
    "    \n",
    "    return mlogit_res_\n",
    "\n",
    "def model(x):\n",
    "        return 1 / (1 + np.exp(-x))\n",
    "    \n",
    "def plot_results(X,y,mlogit_res_):\n",
    "    #and plot the result\n",
    "    plt.figure(1, figsize=(4, 3))\n",
    "    plt.clf()\n",
    "    plt.scatter(X.labor_market_woman.values, y.values, color='black', zorder=20)\n",
    "    X_test = np.linspace(0, 100, 300)\n",
    "    loss = model(X_test * mlogit_res_.params[0] + mlogit_res_.params[1]).ravel()\n",
    "    plt.plot(X_test, loss, color='r', linewidth=3)\n",
    "    plt.show()\n",
    "\n",
    "def logit(mX, vBeta):\n",
    "    return((1/(1.0 + np.exp(-np.dot(mX, vBeta).astype(\"float\")))))\n",
    "\n",
    "def logLikelihoodLogit(vBeta, mX, vY):\n",
    "    a=1.-logit(mX, vBeta)\n",
    "    a[a == 0] = 1e-25\n",
    "    return(-(np.sum(vY*np.log(logit(mX, vBeta)) + (1-vY)*(np.log(a)))))\n",
    "\n",
    "def caclulate_trueR2(X,y,mlogit_res_):\n",
    "    vY=y.values\n",
    "    mX = X.values[:,0:1]\n",
    "    intercept = np.ones(mX.shape[0]).reshape(mX.shape[0], 1)\n",
    "    mX = np.concatenate((intercept, mX), axis = 1)\n",
    "    vBeta = np.array([mlogit_res_.params[1], mlogit_res_.params[0]])\n",
    "\n",
    "    #print logLikelihoodLogit(vBeta, mX, vY)\n",
    "\n",
    "    #null-model\n",
    "    res1_h= sm.Logit(y, X[\"labor_market_woman\"]).fit(disp=False)\n",
    "    #print res1_h.llf\n",
    "    #print logLikelihoodLogit(np.array([0.0, res1_h.params[0]]), mX, vY)\n",
    "    #print logLikelihoodLogit(np.array([res1_h.params[0]]), df_df.values[:, 1:2], vY)\n",
    "\n",
    "    #McFadden's pseudo-R-squared. `1 - (llf / llnull)`\n",
    "    r2_pseudo=1- logLikelihoodLogit(vBeta, mX, vY)/logLikelihoodLogit(np.array([0.0, res1_h.params[0]]), mX, vY)\n",
    "    print \"McFadden's pseudo-R-squared\",r2_pseudo\n",
    "    return r2_pseudo\n",
    "\n",
    "\n",
    "def ci_p_val_z_score(mlogit_res_,osx,osy):\n",
    "    # Calculate matrix of predicted class probabilities. \n",
    "    predProbs = np.matrix(np.array(zip(np.array(1-mlogit_res_.predict(X)).astype(\"float\"),\n",
    "                           np.array(mlogit_res_.predict(X)).astype(\"float\"))))\n",
    "    # Design matrix -- add column of 1's at the beginning of your X_train matrix\n",
    "    X_design = np.concatenate((np.ones( X.shape[0]).reshape(X.shape[0], 1),\n",
    "                    X.values[:,0].reshape(X.shape[0], 1)),axis=1)\n",
    "    # Initiate matrix of 0's, fill diagonal with each predicted observation's variance\n",
    "    V = np.matrix(np.zeros(shape = (X_design.shape[0], X_design.shape[0])))\n",
    "    #np.fill_diagonal(V, np.multiply(predProbs[:,0], predProbs[:,1]).A1)\n",
    "    np.fill_diagonal(V, np.multiply(predProbs[:,0], predProbs[:,1]).A1)\n",
    "    # Covariance matrix\n",
    "    covLogit = np.linalg.inv(X_design.T * V * X_design)\n",
    "    #print \"Covariance matrix: \", covLogit\n",
    "    # Standard errors\n",
    "    sdd=np.sqrt(np.diag(covLogit))\n",
    "    print \"Standard errors: \", sdd\n",
    "\n",
    "    # Wald statistic (coefficient / s.e.) ^ 2\n",
    "    #logitParams = np.insert(mlogit_res_.params[0], 0, mlogit_res_.params[1])\n",
    "    logitParams = mlogit_res_.params[0]\n",
    "    logitParams_intercept = mlogit_res_.params[1]\n",
    "    print \"Wald statistics: \", ((logitParams / np.sqrt(np.diag(covLogit))) ** 2)[1]\n",
    "    print \"Wald statistics intercept: \", ((logitParams_intercept / np.sqrt(np.diag(covLogit))) ** 2)[0]\n",
    "    wald_score=((logitParams / np.sqrt(np.diag(covLogit))) ** 2 )[1]\n",
    "    wald_score_intercept=((logitParams_intercept / np.sqrt(np.diag(covLogit))) ** 2)[0]\n",
    "    print \"p_val coef\",chisqprob(wald_score,1)\n",
    "    print \"p_val intercept\",chisqprob(wald_score_intercept,1)\n",
    "\n",
    "\n",
    "    # upper CI for beta\n",
    "    #print np.exp(mlogit_res_.params[0]+1.96*sdd[1])\n",
    "    # lower CI for beta\n",
    "    #print np.exp(mlogit_res_.params[0]-1.96*sdd[1])\n",
    "    #print np.exp(mlogit_res_.params[0])\n",
    "    # critical value of the t-statistic\n",
    "\n",
    "\n",
    "\n",
    "    i=0\n",
    "    # the estimated coefficient, and its variance\n",
    "    beta = mlogit_res_.params[i]\n",
    "    se = sdd[1]\n",
    "    t = beta / se\n",
    "    print 't =', t\n",
    "\n",
    "    print \"p_val:\",2* (1 - scipy.stats.norm.cdf(abs(t)))\n",
    "    print \"CI:\"\n",
    "    # the confidence interval\n",
    "    print beta - 1.96 * se, beta + 1.96 * se\n",
    "    \n",
    "\n",
    "    predict_model_scikit(osx,osy)\n"
   ]
  },
  {
   "cell_type": "code",
   "execution_count": 66,
   "metadata": {
    "collapsed": false,
    "scrolled": true
   },
   "outputs": [
    {
     "name": "stdout",
     "output_type": "stream",
     "text": [
      "885 859\n",
      "==========Randomly generated dataset:\n",
      "Warning: Maximum number of iterations has been exceeded.\n",
      "         Current function value: 0.000000\n",
      "         Iterations: 35\n",
      "                           Logit Regression Results                           \n",
      "==============================================================================\n",
      "Dep. Variable:                 Bias_1   No. Observations:                  104\n",
      "Model:                          Logit   Df Residuals:                      102\n",
      "Method:                           MLE   Df Model:                            1\n",
      "Date:                Tue, 30 Aug 2016   Pseudo R-squ.:                   1.000\n",
      "Time:                        02:55:39   Log-Likelihood:            -9.4280e-12\n",
      "converged:                      False   LL-Null:                       -72.087\n",
      "                                        LLR p-value:                 3.254e-33\n",
      "======================================================================================\n",
      "                         coef    std err          z      P>|z|      [95.0% Conf. Int.]\n",
      "--------------------------------------------------------------------------------------\n",
      "labor_market_woman   -47.2118   5.75e+05  -8.22e-05      1.000     -1.13e+06  1.13e+06\n",
      "intercept           3983.0928   4.85e+07   8.21e-05      1.000     -9.51e+07  9.51e+07\n",
      "======================================================================================\n",
      "\n",
      "Complete Separation: The results show that there iscomplete separation.\n",
      "In this case the Maximum Likelihood Estimator does not exist and the parameters\n",
      "are not identified.\n",
      "[[ 52.   0.]\n",
      " [  0.  52.]]\n",
      "Accuracy: 1.0\n",
      "Odds:\n",
      "labor_market_woman    3.134536e-21\n",
      "intercept                      inf\n",
      "dtype: float64\n",
      "p:\n",
      "labor_market_woman    3.134536e-21\n",
      "intercept                      NaN\n",
      "dtype: float64\n"
     ]
    },
    {
     "data": {
      "image/png": "[encoded data removed]",
      "text/plain": [
       "<matplotlib.figure.Figure at 0xecc7198>"
      ]
     },
     "metadata": {},
     "output_type": "display_data"
    },
    {
     "name": "stdout",
     "output_type": "stream",
     "text": [
      "McFadden's pseudo-R-squared nan\n",
      "Standard errors:  [ 95549561.75089808   1137737.85043725]\n",
      "Wald statistics:  1.72193522467e-09\n",
      "Wald statistics intercept:  1.73773457362e-09\n",
      "p_val coef 0.999966890817\n",
      "p_val intercept 0.99996673927\n",
      "t = -4.14962073528e-05\n",
      "p_val: 0.999966890817\n",
      "CI:\n",
      "-2230013.39866 2229918.97505\n",
      "===== new fold\n",
      "Coef: -0.71482527989  intercept: 58.9526720325\n",
      "0.95652173913\n"
     ]
    },
    {
     "data": {
      "image/png": "[encoded data removed]",
      "text/plain": [
       "<matplotlib.figure.Figure at 0xdef4b70>"
      ]
     },
     "metadata": {},
     "output_type": "display_data"
    },
    {
     "name": "stdout",
     "output_type": "stream",
     "text": [
      "[[46  0]\n",
      " [ 1 45]]\n",
      "Standard errors:  [ 35.21407536   0.41949242]\n",
      "Wald statistics:  [ 2.80268578  2.90369888]\n",
      "p_val coef 0.088376543954\n",
      "p_val intercep 0.0941065480655\n",
      "1.11335709056\n",
      "0.215018670154\n",
      "t = -1.70402431931\n",
      "p_val: 0.088376543954\n",
      "CI:\n",
      "-1.5370304167 0.107379856919\n",
      "===== new fold\n",
      "Coef: -1.15572353964  intercept: 96.0087792767\n",
      "0.95652173913\n"
     ]
    },
    {
     "data": {
      "image/png": "[encoded data removed]",
      "text/plain": [
       "<matplotlib.figure.Figure at 0xe41c438>"
      ]
     },
     "metadata": {},
     "output_type": "display_data"
    },
    {
     "name": "stdout",
     "output_type": "stream",
     "text": [
      "[[46  0]\n",
      " [ 1 45]]\n",
      "Standard errors:  [ 93.1438836    1.10158147]\n",
      "Wald statistics:  [ 1.06246153  1.10071446]\n",
      "p_val coef 0.294109363748\n",
      "p_val intercep 0.302654438737\n",
      "2.72747465932\n",
      "0.0363404720181\n",
      "t = -1.04914939815\n",
      "p_val: 0.294109363748\n",
      "CI:\n",
      "-3.31482322716 1.00337614787\n",
      "===== new fold\n",
      "Coef: -0.536011103554  intercept: 43.8542961589\n",
      "0.957446808511\n"
     ]
    },
    {
     "data": {
      "image/png": "[encoded data removed]",
      "text/plain": [
       "<matplotlib.figure.Figure at 0xe8ee2b0>"
      ]
     },
     "metadata": {},
     "output_type": "display_data"
    },
    {
     "name": "stdout",
     "output_type": "stream",
     "text": [
      "[[47  0]\n",
      " [ 1 46]]\n",
      "Standard errors:  [ 21.74634152   0.26028383]\n",
      "Wald statistics:  [ 4.06679126  4.24085281]\n",
      "p_val coef 0.0394623397841\n",
      "p_val intercep 0.0437342769823\n",
      "0.974476573963\n",
      "0.351281491179\n",
      "t = -2.05933309913\n",
      "p_val: 0.0394623397841\n",
      "CI:\n",
      "-1.04616740775 -0.0258547993555\n",
      "===== new fold\n",
      "Coef: -0.544775573365  intercept: 44.584808741\n",
      "0.957446808511\n"
     ]
    },
    {
     "data": {
      "image/png": "[encoded data removed]",
      "text/plain": [
       "<matplotlib.figure.Figure at 0xd8d2080>"
      ]
     },
     "metadata": {},
     "output_type": "display_data"
    },
    {
     "name": "stdout",
     "output_type": "stream",
     "text": [
      "[[47  0]\n",
      " [ 1 46]]\n",
      "Standard errors:  [ 22.01620434   0.26342895]\n",
      "Wald statistics:  [ 4.10099199  4.2766947 ]\n",
      "p_val coef 0.0386384158426\n",
      "p_val intercep 0.0428580606407\n",
      "0.971946196539\n",
      "0.346076192953\n",
      "t = -2.06801709266\n",
      "p_val: 0.0386384158426\n",
      "CI:\n",
      "-1.06109631732 -0.0284548294084\n",
      "===== new fold\n",
      "Coef: -0.533807051032  intercept: 43.2569298686\n",
      "0.957446808511\n"
     ]
    },
    {
     "data": {
      "image/png": "[encoded data removed]",
      "text/plain": [
       "<matplotlib.figure.Figure at 0xe905828>"
      ]
     },
     "metadata": {},
     "output_type": "display_data"
    },
    {
     "name": "stdout",
     "output_type": "stream",
     "text": [
      "[[47  0]\n",
      " [ 1 46]]\n",
      "Standard errors:  [ 28.93023827   0.34332501]\n",
      "Wald statistics:  [ 2.23566827  2.41745123]\n",
      "p_val coef 0.119990016895\n",
      "p_val intercep 0.134858307115\n",
      "1.14925048096\n",
      "0.299175752803\n",
      "t = -1.55481549848\n",
      "p_val: 0.119990016895\n",
      "CI:\n",
      "-1.20672407626 0.139109974199\n",
      "===== new fold\n",
      "Coef: -0.788003615941  intercept: 64.9676737938\n",
      "0.957446808511\n"
     ]
    },
    {
     "data": {
      "image/png": "[encoded data removed]",
      "text/plain": [
       "<matplotlib.figure.Figure at 0xe433ef0>"
      ]
     },
     "metadata": {},
     "output_type": "display_data"
    },
    {
     "name": "stdout",
     "output_type": "stream",
     "text": [
      "[[47  0]\n",
      " [ 1 46]]\n",
      "Standard errors:  [ 43.41170868   0.51586621]\n",
      "Wald statistics:  [ 2.23965371  2.33336269]\n",
      "p_val coef 0.126628070456\n",
      "p_val intercep 0.134511101228\n",
      "1.2499382682\n",
      "0.165447493134\n",
      "t = -1.52753484073\n",
      "p_val: 0.126628070456\n",
      "CI:\n",
      "-1.79910139653 0.223094164653\n",
      "===== new fold\n",
      "Coef: -0.547099788408  intercept: 44.0602997241\n",
      "1.0\n"
     ]
    },
    {
     "data": {
      "image/png": "[encoded data removed]",
      "text/plain": [
       "<matplotlib.figure.Figure at 0xee1bac8>"
      ]
     },
     "metadata": {},
     "output_type": "display_data"
    },
    {
     "name": "stdout",
     "output_type": "stream",
     "text": [
      "[[47  0]\n",
      " [ 0 47]]\n",
      "Standard errors:  [ 21.57970004   0.26272018]\n",
      "Wald statistics:  [ 4.16873307  4.33656854]\n",
      "p_val coef 0.0373020309409\n",
      "p_val intercep 0.0411765792491\n",
      "0.968343665723\n",
      "0.345752752098\n",
      "t = -2.08244292644\n",
      "p_val: 0.0373020309409\n",
      "CI:\n",
      "-1.06203134868 -0.0321682281394\n",
      "===== new fold\n",
      "Coef: -0.728918159635  intercept: 60.0141566429\n",
      "0.957446808511\n"
     ]
    },
    {
     "data": {
      "image/png": "[encoded data removed]",
      "text/plain": [
       "<matplotlib.figure.Figure at 0xec7fc88>"
      ]
     },
     "metadata": {},
     "output_type": "display_data"
    },
    {
     "name": "stdout",
     "output_type": "stream",
     "text": [
      "[[47  0]\n",
      " [ 1 46]]\n",
      "Standard errors:  [ 35.05891532   0.41766207]\n",
      "Wald statistics:  [ 2.93028906  3.0458427 ]\n",
      "p_val coef 0.0809440959489\n",
      "p_val intercep 0.0869319262138\n",
      "1.09384552673\n",
      "0.21277163749\n",
      "t = -1.74523428275\n",
      "p_val: 0.0809440959489\n",
      "CI:\n",
      "-1.54753581287 0.0896994935965\n",
      "===== new fold\n",
      "Coef: -0.546818971397  intercept: 44.6573031008\n",
      "0.957446808511\n"
     ]
    },
    {
     "data": {
      "image/png": "[encoded data removed]",
      "text/plain": [
       "<matplotlib.figure.Figure at 0xea96208>"
      ]
     },
     "metadata": {},
     "output_type": "display_data"
    },
    {
     "name": "stdout",
     "output_type": "stream",
     "text": [
      "[[47  0]\n",
      " [ 1 46]]\n",
      "Standard errors:  [ 21.88551738   0.26202695]\n",
      "Wald statistics:  [ 4.16362252  4.35507098]\n",
      "p_val coef 0.0368989215869\n",
      "p_val intercep 0.0413009834178\n",
      "0.967300422072\n",
      "0.346320100608\n",
      "t = -2.08688068145\n",
      "p_val: 0.0368989215869\n",
      "CI:\n",
      "-1.06039178534 -0.0332461574534\n",
      "===== new fold\n",
      "Coef: -0.54012148634  intercept: 44.1979277634\n",
      "0.957446808511\n"
     ]
    },
    {
     "data": {
      "image/png": "[encoded data removed]",
      "text/plain": [
       "<matplotlib.figure.Figure at 0xe65c048>"
      ]
     },
     "metadata": {},
     "output_type": "display_data"
    },
    {
     "name": "stdout",
     "output_type": "stream",
     "text": [
      "[[47  0]\n",
      " [ 1 46]]\n",
      "Standard errors:  [ 21.96096846   0.26284219]\n",
      "Wald statistics:  [ 4.05042728  4.22272464]\n",
      "p_val coef 0.0398860641014\n",
      "p_val intercep 0.0441601663207\n",
      "0.975357899737\n",
      "0.348090709395\n",
      "t = -2.05492691762\n",
      "p_val: 0.0398860641014\n",
      "CI:\n",
      "-1.05529217399 -0.0249507986872\n"
     ]
    }
   ],
   "source": [
    "df_df=load_data()\n",
    "df_df = df_df[(df_df[\"Bias2\"]==1)|(df_df[\"Bias2\"]==2)]\n",
    "df_df[\"Bias2\"]=df_df.Bias.apply(lambda x: 1 if x==\"neutral\" else 0 )\n",
    "y=df_df[\"Bias2\"]\n",
    "X=df_df[[\"labor_market_woman\" ]]\n",
    "X=sm.add_constant(X, prepend=False)\n",
    "X=X.rename(columns = {'const':'intercept'})\n",
    "\n",
    "\n",
    "\n",
    "\n",
    "print \"==========Randomly generated dataset:\"\n",
    "mlogit_res_=perform_fitting_new_dataset(osx,osy)\n",
    "plot_results(X,y,mlogit_res_)\n",
    "r2_1=caclulate_trueR2(X,y,mlogit_res_)\n",
    "ci_p_val_z_score(mlogit_res_,osx,osy)"
   ]
  },
  {
   "cell_type": "code",
   "execution_count": 67,
   "metadata": {
    "collapsed": false,
    "scrolled": true
   },
   "outputs": [
    {
     "name": "stdout",
     "output_type": "stream",
     "text": [
      "==========SMOTE:\n",
      "Warning: Maximum number of iterations has been exceeded.\n",
      "         Current function value: 0.000000\n",
      "         Iterations: 35\n",
      "                           Logit Regression Results                           \n",
      "==============================================================================\n",
      "Dep. Variable:                 Bias_1   No. Observations:                  104\n",
      "Model:                          Logit   Df Residuals:                      102\n",
      "Method:                           MLE   Df Model:                            1\n",
      "Date:                Tue, 30 Aug 2016   Pseudo R-squ.:                   1.000\n",
      "Time:                        02:59:24   Log-Likelihood:            -1.0370e-11\n",
      "converged:                      False   LL-Null:                       -72.087\n",
      "                                        LLR p-value:                 3.254e-33\n",
      "======================================================================================\n",
      "                         coef    std err          z      P>|z|      [95.0% Conf. Int.]\n",
      "--------------------------------------------------------------------------------------\n",
      "labor_market_woman   -45.2259   5.44e+05  -8.31e-05      1.000     -1.07e+06  1.07e+06\n",
      "intercept           3816.5096    4.6e+07    8.3e-05      1.000     -9.01e+07  9.01e+07\n",
      "======================================================================================\n",
      "\n",
      "Complete Separation: The results show that there iscomplete separation.\n",
      "In this case the Maximum Likelihood Estimator does not exist and the parameters\n",
      "are not identified.\n",
      "[[ 52.   0.]\n",
      " [  0.  52.]]\n",
      "Accuracy: 1.0\n",
      "Odds:\n",
      "labor_market_woman    2.283653e-20\n",
      "intercept                      inf\n",
      "dtype: float64\n",
      "p:\n",
      "labor_market_woman    2.283653e-20\n",
      "intercept                      NaN\n",
      "dtype: float64\n"
     ]
    },
    {
     "data": {
      "image/png": "[encoded data removed]",
      "text/plain": [
       "<matplotlib.figure.Figure at 0xf1819b0>"
      ]
     },
     "metadata": {},
     "output_type": "display_data"
    },
    {
     "name": "stdout",
     "output_type": "stream",
     "text": [
      "McFadden's pseudo-R-squared 1.0\n",
      "Standard errors:  [ 45976968.53139129    544383.45815879]\n",
      "Wald statistics:  6.90184317076e-09\n",
      "Wald statistics intercept:  6.89052085304e-09\n",
      "p_val coef 0.999933713879\n",
      "p_val intercept 0.999933768272\n",
      "t = -8.30773324726e-05\n",
      "p_val: 0.999933713879\n",
      "CI:\n",
      "-1067036.80392 1066946.35207\n",
      "===== new fold\n",
      "Coef: -0.565779145341  intercept: 47.0626646367\n",
      "0.95652173913\n"
     ]
    },
    {
     "data": {
      "image/png": "[encoded data removed]",
      "text/plain": [
       "<matplotlib.figure.Figure at 0xeb83710>"
      ]
     },
     "metadata": {},
     "output_type": "display_data"
    },
    {
     "name": "stdout",
     "output_type": "stream",
     "text": [
      "[[46  0]\n",
      " [ 1 45]]\n",
      "Standard errors:  [ 22.89756124   0.26702035]\n",
      "Wald statistics:  [ 4.22449273  4.489574  ]\n",
      "p_val coef 0.0341021746061\n",
      "p_val intercep 0.0398445277251\n",
      "0.958467858255\n",
      "0.336506087224\n",
      "t = -2.11886148646\n",
      "p_val: 0.0341021746061\n",
      "CI:\n",
      "-1.08913904024 -0.0424192504386\n",
      "===== new fold\n",
      "Coef: -0.739913441897  intercept: 60.6945352627\n",
      "1.0\n"
     ]
    },
    {
     "data": {
      "image/png": "[encoded data removed]",
      "text/plain": [
       "<matplotlib.figure.Figure at 0xe2edcc0>"
      ]
     },
     "metadata": {},
     "output_type": "display_data"
    },
    {
     "name": "stdout",
     "output_type": "stream",
     "text": [
      "[[46  0]\n",
      " [ 0 46]]\n",
      "Standard errors:  [ 32.33014176   0.39091007]\n",
      "Wald statistics:  [ 3.52439002  3.58268073]\n",
      "p_val coef 0.0583848620983\n",
      "p_val intercep 0.060472072964\n",
      "1.02661841054\n",
      "0.221773832643\n",
      "t = -1.8927970646\n",
      "p_val: 0.0583848620983\n",
      "CI:\n",
      "-1.50609718829 0.0262703044965\n",
      "===== new fold\n",
      "Coef: -0.574629763322  intercept: 47.8300350734\n",
      "0.957446808511\n"
     ]
    },
    {
     "data": {
      "image/png": "[encoded data removed]",
      "text/plain": [
       "<matplotlib.figure.Figure at 0xef2a400>"
      ]
     },
     "metadata": {},
     "output_type": "display_data"
    },
    {
     "name": "stdout",
     "output_type": "stream",
     "text": [
      "[[47  0]\n",
      " [ 1 46]]\n",
      "Standard errors:  [ 21.56396429   0.25270372]\n",
      "Wald statistics:  [ 4.9197631   5.17074331]\n",
      "p_val coef 0.0229703852099\n",
      "p_val intercep 0.0265511576302\n",
      "0.923734597546\n",
      "0.343032856125\n",
      "t = -2.27392684708\n",
      "p_val: 0.0229703852099\n",
      "CI:\n",
      "-1.06992904595 -0.0793304806921\n",
      "===== new fold\n",
      "Coef: -0.589874674528  intercept: 49.1139168867\n",
      "0.957446808511\n"
     ]
    },
    {
     "data": {
      "image/png": "[encoded data removed]",
      "text/plain": [
       "<matplotlib.figure.Figure at 0xe940668>"
      ]
     },
     "metadata": {},
     "output_type": "display_data"
    },
    {
     "name": "stdout",
     "output_type": "stream",
     "text": [
      "[[47  0]\n",
      " [ 1 46]]\n",
      "Standard errors:  [ 22.45333162   0.26303637]\n",
      "Wald statistics:  [ 4.78462121  5.02907247]\n",
      "p_val coef 0.0249252436021\n",
      "p_val intercep 0.0287149626815\n",
      "0.928371421288\n",
      "0.331069829286\n",
      "t = -2.24255935707\n",
      "p_val: 0.0249252436021\n",
      "CI:\n",
      "-1.10542596124 -0.0743233878126\n",
      "===== new fold\n",
      "Coef: -0.557295206753  intercept: 46.4079870458\n",
      "0.957446808511\n"
     ]
    },
    {
     "data": {
      "image/png": "[encoded data removed]",
      "text/plain": [
       "<matplotlib.figure.Figure at 0xec6fc50>"
      ]
     },
     "metadata": {},
     "output_type": "display_data"
    },
    {
     "name": "stdout",
     "output_type": "stream",
     "text": [
      "[[47  0]\n",
      " [ 1 46]]\n",
      "Standard errors:  [ 20.62554962   0.24169135]\n",
      "Wald statistics:  [ 5.06260917  5.3167764 ]\n",
      "p_val coef 0.0211210495092\n",
      "p_val intercep 0.0244474052999\n",
      "0.919817352737\n",
      "0.356646474545\n",
      "t = -2.30581360833\n",
      "p_val: 0.0211210495092\n",
      "CI:\n",
      "-1.03101025522 -0.0835801582825\n",
      "===== new fold\n",
      "Coef: -0.588974541291  intercept: 49.0051756401\n",
      "0.957446808511\n"
     ]
    },
    {
     "data": {
      "image/png": "[encoded data removed]",
      "text/plain": [
       "<matplotlib.figure.Figure at 0xe666470>"
      ]
     },
     "metadata": {},
     "output_type": "display_data"
    },
    {
     "name": "stdout",
     "output_type": "stream",
     "text": [
      "[[47  0]\n",
      " [ 1 46]]\n",
      "Standard errors:  [ 22.10735607   0.25893835]\n",
      "Wald statistics:  [ 4.91371867  5.17368851]\n",
      "p_val coef 0.0229314758068\n",
      "p_val intercep 0.0266442191542\n",
      "0.921773850901\n",
      "0.334040272792\n",
      "t = -2.27457435766\n",
      "p_val: 0.0229314758068\n",
      "CI:\n",
      "-1.09649371605 -0.0814553665298\n",
      "===== new fold\n",
      "Coef: -0.573253405786  intercept: 47.6649165983\n",
      "0.957446808511\n"
     ]
    },
    {
     "data": {
      "image/png": "[encoded data removed]",
      "text/plain": [
       "<matplotlib.figure.Figure at 0xe8f7358>"
      ]
     },
     "metadata": {},
     "output_type": "display_data"
    },
    {
     "name": "stdout",
     "output_type": "stream",
     "text": [
      "[[47  0]\n",
      " [ 1 46]]\n",
      "Standard errors:  [ 21.1967546   0.2482929]\n",
      "Wald statistics:  [ 5.05660385  5.33045999]\n",
      "p_val coef 0.0209558536726\n",
      "p_val intercep 0.0245322663924\n",
      "0.917044460341\n",
      "0.346487863053\n",
      "t = -2.30877889629\n",
      "p_val: 0.0209558536726\n",
      "CI:\n",
      "-1.05990748823 -0.0865993233419\n",
      "===== new fold\n",
      "Coef: -0.548826469437  intercept: 45.4836921475\n",
      "0.957446808511\n"
     ]
    },
    {
     "data": {
      "image/png": "[encoded data removed]",
      "text/plain": [
       "<matplotlib.figure.Figure at 0xf27c470>"
      ]
     },
     "metadata": {},
     "output_type": "display_data"
    },
    {
     "name": "stdout",
     "output_type": "stream",
     "text": [
      "[[47  0]\n",
      " [ 1 46]]\n",
      "Standard errors:  [ 22.53165093   0.26280951]\n",
      "Wald statistics:  [ 4.07497918  4.36101882]\n",
      "p_val coef 0.0367703082152\n",
      "p_val intercep 0.0435228024615\n",
      "0.966842338033\n",
      "0.345095841291\n",
      "t = -2.08830524968\n",
      "p_val: 0.0367703082152\n",
      "CI:\n",
      "-1.06393309969 -0.0337198391868\n",
      "===== new fold\n",
      "Coef: -0.714826646347  intercept: 60.1706619674\n",
      "1.0\n"
     ]
    },
    {
     "data": {
      "image/png": "[encoded data removed]",
      "text/plain": [
       "<matplotlib.figure.Figure at 0xe54bcf8>"
      ]
     },
     "metadata": {},
     "output_type": "display_data"
    },
    {
     "name": "stdout",
     "output_type": "stream",
     "text": [
      "[[47  0]\n",
      " [ 0 47]]\n",
      "Standard errors:  [ 32.95892064   0.38228689]\n",
      "Wald statistics:  [ 3.33291024  3.49641241]\n",
      "p_val coef 0.0615019250116\n",
      "p_val intercep 0.0679066188654\n",
      "1.03505613451\n",
      "0.231283984316\n",
      "t = -1.86986962349\n",
      "p_val: 0.0615019250116\n",
      "CI:\n",
      "-1.46410895418 0.0344556614881\n",
      "===== new fold\n",
      "Coef: -0.572827510349  intercept: 47.7080542615\n",
      "0.957446808511\n"
     ]
    },
    {
     "data": {
      "image/png": "[encoded data removed]",
      "text/plain": [
       "<matplotlib.figure.Figure at 0xb8fb4a8>"
      ]
     },
     "metadata": {},
     "output_type": "display_data"
    },
    {
     "name": "stdout",
     "output_type": "stream",
     "text": [
      "[[47  0]\n",
      " [ 1 46]]\n",
      "Standard errors:  [ 21.12456519   0.24719225]\n",
      "Wald statistics:  [ 5.10044245  5.37004651]\n",
      "p_val coef 0.020485431362\n",
      "p_val intercep 0.0239197413198\n",
      "0.915458077226\n",
      "0.347384059086\n",
      "t = -2.31733607971\n",
      "p_val: 0.020485431362\n",
      "CI:\n",
      "-1.05732431257 -0.0883307081319\n"
     ]
    }
   ],
   "source": [
    "print \"==========SMOTE:\"\n",
    "mlogit_res_=perform_fitting_new_dataset(smox, smoy)\n",
    "plot_results(X,y,mlogit_res_)\n",
    "r2_1=caclulate_trueR2(X,y,mlogit_res_)\n",
    "ci_p_val_z_score(mlogit_res_,smox, smoy)"
   ]
  },
  {
   "cell_type": "code",
   "execution_count": 68,
   "metadata": {
    "collapsed": false,
    "scrolled": true
   },
   "outputs": [
    {
     "name": "stdout",
     "output_type": "stream",
     "text": [
      "========== SMOTE Tomek links\n",
      "Warning: Maximum number of iterations has been exceeded.\n",
      "         Current function value: 0.000000\n",
      "         Iterations: 35\n",
      "                           Logit Regression Results                           \n",
      "==============================================================================\n",
      "Dep. Variable:                 Bias_1   No. Observations:                  104\n",
      "Model:                          Logit   Df Residuals:                      102\n",
      "Method:                           MLE   Df Model:                            1\n",
      "Date:                Tue, 30 Aug 2016   Pseudo R-squ.:                   1.000\n",
      "Time:                        03:01:50   Log-Likelihood:            -1.0793e-11\n",
      "converged:                      False   LL-Null:                       -72.087\n",
      "                                        LLR p-value:                 3.254e-33\n",
      "======================================================================================\n",
      "                         coef    std err          z      P>|z|      [95.0% Conf. Int.]\n",
      "--------------------------------------------------------------------------------------\n",
      "labor_market_woman   -45.1842   5.42e+05  -8.33e-05      1.000     -1.06e+06  1.06e+06\n",
      "intercept           3813.0799   4.58e+07   8.32e-05      1.000     -8.98e+07  8.98e+07\n",
      "======================================================================================\n",
      "\n",
      "Complete Separation: The results show that there iscomplete separation.\n",
      "In this case the Maximum Likelihood Estimator does not exist and the parameters\n",
      "are not identified.\n",
      "[[ 52.   0.]\n",
      " [  0.  52.]]\n",
      "Accuracy: 1.0\n",
      "Odds:\n",
      "labor_market_woman    2.381062e-20\n",
      "intercept                      inf\n",
      "dtype: float64\n",
      "p:\n",
      "labor_market_woman    2.381062e-20\n",
      "intercept                      NaN\n",
      "dtype: float64\n"
     ]
    },
    {
     "data": {
      "image/png": "[encoded data removed]",
      "text/plain": [
       "<matplotlib.figure.Figure at 0xdb666d8>"
      ]
     },
     "metadata": {},
     "output_type": "display_data"
    },
    {
     "name": "stdout",
     "output_type": "stream",
     "text": [
      "McFadden's pseudo-R-squared 1.0\n",
      "Standard errors:  [ 45821883.71881928    542207.06458075]\n",
      "Wald statistics:  6.94451617672e-09\n",
      "Wald statistics intercept:  6.92477919351e-09\n",
      "p_val coef 0.999933509277\n",
      "p_val intercept 0.99993360383\n",
      "t = -8.33337637259e-05\n",
      "p_val: 0.999933509277\n",
      "CI:\n",
      "-1062771.03073 1062680.66242\n",
      "===== new fold\n",
      "Coef: -0.565398191426  intercept: 46.6196352939\n",
      "0.95652173913\n"
     ]
    },
    {
     "data": {
      "image/png": "[encoded data removed]",
      "text/plain": [
       "<matplotlib.figure.Figure at 0xe77d550>"
      ]
     },
     "metadata": {},
     "output_type": "display_data"
    },
    {
     "name": "stdout",
     "output_type": "stream",
     "text": [
      "[[46  0]\n",
      " [ 1 45]]\n",
      "Standard errors:  [ 20.41929997   0.24072523]\n",
      "Wald statistics:  [ 5.21261975  5.51652541]\n",
      "p_val coef 0.0188376386183\n",
      "p_val intercep 0.0224235223956\n",
      "0.910668122868\n",
      "0.354438782451\n",
      "t = -2.34872846588\n",
      "p_val: 0.0188376386183\n",
      "CI:\n",
      "-1.03721963494 -0.0935767479108\n",
      "===== new fold\n",
      "Coef: -0.799310647001  intercept: 66.5451607554\n",
      "0.95652173913\n"
     ]
    },
    {
     "data": {
      "image/png": "[encoded data removed]",
      "text/plain": [
       "<matplotlib.figure.Figure at 0xf53f2b0>"
      ]
     },
     "metadata": {},
     "output_type": "display_data"
    },
    {
     "name": "stdout",
     "output_type": "stream",
     "text": [
      "[[46  0]\n",
      " [ 1 45]]\n",
      "Standard errors:  [ 43.59812696   0.51038956]\n",
      "Wald statistics:  [ 2.32968548  2.45260514]\n",
      "p_val coef 0.117329995937\n",
      "p_val intercep 0.126927520338\n",
      "1.22268943381\n",
      "0.165352754606\n",
      "t = -1.56607954583\n",
      "p_val: 0.117329995937\n",
      "CI:\n",
      "-1.79967418045 0.201052886445\n",
      "===== new fold\n",
      "Coef: -0.595066697099  intercept: 49.1029203827\n",
      "0.957446808511\n"
     ]
    },
    {
     "data": {
      "image/png": "[encoded data removed]",
      "text/plain": [
       "<matplotlib.figure.Figure at 0xeb62908>"
      ]
     },
     "metadata": {},
     "output_type": "display_data"
    },
    {
     "name": "stdout",
     "output_type": "stream",
     "text": [
      "[[47  0]\n",
      " [ 1 46]]\n",
      "Standard errors:  [ 22.19554939   0.26171723]\n",
      "Wald statistics:  [ 4.89421278  5.1697157 ]\n",
      "p_val coef 0.0229839771116\n",
      "p_val intercep 0.0269468562676\n",
      "0.921178983137\n",
      "0.330208017107\n",
      "t = -2.27370088205\n",
      "p_val: 0.0229839771116\n",
      "CI:\n",
      "-1.10803246824 -0.0821009259543\n",
      "===== new fold\n",
      "Coef: -0.588695877528  intercept: 48.7505921224\n",
      "0.957446808511\n"
     ]
    },
    {
     "data": {
      "image/png": "[encoded data removed]",
      "text/plain": [
       "<matplotlib.figure.Figure at 0xe63c940>"
      ]
     },
     "metadata": {},
     "output_type": "display_data"
    },
    {
     "name": "stdout",
     "output_type": "stream",
     "text": [
      "[[47  0]\n",
      " [ 1 46]]\n",
      "Standard errors:  [ 21.8804626    0.25687989]\n",
      "Wald statistics:  [ 4.96417166  5.25196452]\n",
      "p_val coef 0.0219220076229\n",
      "p_val intercep 0.0258777068382\n",
      "0.918318225566\n",
      "0.335484186581\n",
      "t = -2.29171650076\n",
      "p_val: 0.0219220076229\n",
      "CI:\n",
      "-1.09218045757 -0.0852112974883\n",
      "===== new fold\n",
      "Coef: -0.604329108665  intercept: 49.9130495835\n",
      "0.957446808511\n"
     ]
    },
    {
     "data": {
      "image/png": "[encoded data removed]",
      "text/plain": [
       "<matplotlib.figure.Figure at 0xf175470>"
      ]
     },
     "metadata": {},
     "output_type": "display_data"
    },
    {
     "name": "stdout",
     "output_type": "stream",
     "text": [
      "[[47  0]\n",
      " [ 1 46]]\n",
      "Standard errors:  [ 22.57188961   0.26598913]\n",
      "Wald statistics:  [ 4.8898144   5.16201483]\n",
      "p_val coef 0.0230861004921\n",
      "p_val intercep 0.0270155902721\n",
      "0.920359970203\n",
      "0.324435735575\n",
      "t = -2.27200678558\n",
      "p_val: 0.0230861004921\n",
      "CI:\n",
      "-1.12566780382 -0.0829904135066\n",
      "===== new fold\n",
      "Coef: -0.662746738002  intercept: 54.8756360711\n",
      "0.957446808511\n"
     ]
    },
    {
     "data": {
      "image/png": "[encoded data removed]",
      "text/plain": [
       "<matplotlib.figure.Figure at 0xe339f28>"
      ]
     },
     "metadata": {},
     "output_type": "display_data"
    },
    {
     "name": "stdout",
     "output_type": "stream",
     "text": [
      "[[47  0]\n",
      " [ 1 46]]\n",
      "Standard errors:  [ 27.23851098   0.32105365]\n",
      "Wald statistics:  [ 4.058751    4.26127914]\n",
      "p_val coef 0.0389905514427\n",
      "p_val intercep 0.0439429901701\n",
      "0.967072713998\n",
      "0.274717526635\n",
      "t = -2.06428659283\n",
      "p_val: 0.0389905514427\n",
      "CI:\n",
      "-1.2920118851 -0.0334815909078\n",
      "===== new fold\n",
      "Coef: -0.547189454649  intercept: 44.9583299764\n",
      "0.957446808511\n"
     ]
    },
    {
     "data": {
      "image/png": "[encoded data removed]",
      "text/plain": [
       "<matplotlib.figure.Figure at 0xe5e3c18>"
      ]
     },
     "metadata": {},
     "output_type": "display_data"
    },
    {
     "name": "stdout",
     "output_type": "stream",
     "text": [
      "[[47  0]\n",
      " [ 1 46]]\n",
      "Standard errors:  [ 21.83878099   0.25666008]\n",
      "Wald statistics:  [ 4.2380254   4.54526047]\n",
      "p_val coef 0.0330099994474\n",
      "p_val intercep 0.0395281151151\n",
      "0.956824116086\n",
      "0.349852648254\n",
      "t = -2.13196164895\n",
      "p_val: 0.0330099994474\n",
      "CI:\n",
      "-1.05024321813 -0.0441356911642\n",
      "===== new fold\n",
      "Coef: -0.595866232925  intercept: 49.1567680071\n",
      "0.957446808511\n"
     ]
    },
    {
     "data": {
      "image/png": "[encoded data removed]",
      "text/plain": [
       "<matplotlib.figure.Figure at 0xe56b6a0>"
      ]
     },
     "metadata": {},
     "output_type": "display_data"
    },
    {
     "name": "stdout",
     "output_type": "stream",
     "text": [
      "[[47  0]\n",
      " [ 1 46]]\n",
      "Standard errors:  [ 22.08674772   0.26037138]\n",
      "Wald statistics:  [ 4.95339659  5.2373435 ]\n",
      "p_val coef 0.0221070063273\n",
      "p_val intercep 0.0260394615896\n",
      "0.918017957509\n",
      "0.330815606513\n",
      "t = -2.28852430558\n",
      "p_val: 0.0221070063273\n",
      "CI:\n",
      "-1.10619413885 -0.0855383269968\n",
      "===== new fold\n",
      "Coef: -0.680708183117  intercept: 56.5982806574\n",
      "0.957446808511\n"
     ]
    },
    {
     "data": {
      "image/png": "[encoded data removed]",
      "text/plain": [
       "<matplotlib.figure.Figure at 0xe470588>"
      ]
     },
     "metadata": {},
     "output_type": "display_data"
    },
    {
     "name": "stdout",
     "output_type": "stream",
     "text": [
      "[[47  0]\n",
      " [ 1 46]]\n",
      "Standard errors:  [ 29.86882685   0.35060436]\n",
      "Wald statistics:  [ 3.59062579  3.76953105]\n",
      "p_val coef 0.0521942642949\n",
      "p_val intercep 0.0581063580993\n",
      "1.00649737408\n",
      "0.254642997802\n",
      "t = -1.94152801869\n",
      "p_val: 0.0521942642949\n",
      "CI:\n",
      "-1.36789272337 0.0064763571347\n",
      "===== new fold\n",
      "Coef: -0.832299646699  intercept: 67.9662569316\n",
      "1.0\n"
     ]
    },
    {
     "data": {
      "image/png": "[encoded data removed]",
      "text/plain": [
       "<matplotlib.figure.Figure at 0xe934898>"
      ]
     },
     "metadata": {},
     "output_type": "display_data"
    },
    {
     "name": "stdout",
     "output_type": "stream",
     "text": [
      "[[47  0]\n",
      " [ 0 47]]\n",
      "Standard errors:  [ 35.35938224   0.42838112]\n",
      "Wald statistics:  [ 3.69468458  3.77484199]\n",
      "p_val coef 0.0520288147835\n",
      "p_val intercep 0.0545861022429\n",
      "1.00735425843\n",
      "0.187884730257\n",
      "t = -1.94289525986\n",
      "p_val: 0.0520288147835\n",
      "CI:\n",
      "-1.67192664113 0.00732734773182\n"
     ]
    }
   ],
   "source": [
    "print \"========== SMOTE Tomek links\"\n",
    "mlogit_res_=perform_fitting_new_dataset(stkx, stky)\n",
    "plot_results(X,y,mlogit_res_)\n",
    "r2_1=caclulate_trueR2(X,y,mlogit_res_)\n",
    "\n",
    "ci_p_val_z_score(mlogit_res_,stkx, stky)"
   ]
  },
  {
   "cell_type": "code",
   "execution_count": 52,
   "metadata": {
    "collapsed": false,
    "scrolled": true
   },
   "outputs": [
    {
     "name": "stdout",
     "output_type": "stream",
     "text": [
      "885 859\n",
      "[[  -2.88965676   37.93018982]\n",
      " [  -0.46911217  239.8321109 ]]\n",
      "intercept: [  37.93018982  239.8321109 ]\n",
      "coef: [-2.88965676 -0.46911217]\n"
     ]
    },
    {
     "name": "stderr",
     "output_type": "stream",
     "text": [
      "C:\\Anaconda\\lib\\site-packages\\ipykernel\\__main__.py:10: SettingWithCopyWarning: \n",
      "A value is trying to be set on a copy of a slice from a DataFrame.\n",
      "Try using .loc[row_indexer,col_indexer] = value instead\n",
      "\n",
      "See the caveats in the documentation: http://pandas.pydata.org/pandas-docs/stable/indexing.html#indexing-view-versus-copy\n"
     ]
    }
   ],
   "source": [
    "import scikits.bootstrap as boot\n",
    "from sklearn.linear_model import LogisticRegression\n",
    "\n",
    "\n",
    "#====== predict neutral!!!!!    \n",
    "df_df=load_data()\n",
    "\n",
    "\n",
    "data = df_df[(df_df[\"Bias2\"]==1)|(df_df[\"Bias2\"]==2)]\n",
    "data[\"Bias2\"]=data.Bias.apply(lambda x: 1 if x==\"neutral\" else 0 )\n",
    "\n",
    "\n",
    "\n",
    "y=data['Bias2'].values.reshape((len(data),1))\n",
    "X=data[\"labor_market_woman\"].values.reshape((len(data),1))\n",
    "\n",
    "X_train=X[:,:]\n",
    "Y_train=y[:,:]\n",
    "\n",
    "def my_function2(train_index):\n",
    "    while len(unique(Y_train.ravel()[train_index]))!=2:\n",
    "        train_index=boot.bootstrap_indexes(np.arange(len(Y_train)), n_samples=1)[0]\n",
    "    model = LogisticRegression(C=1e5)\n",
    "    model = model.fit(X_train[train_index],Y_train.ravel()[train_index])\n",
    "    return model.coef_[0][0],model.intercept_[0]\n",
    "\n",
    "conf_par_intercept=boot.ci(np.arange(len(X_train)), statfunction=my_function2, alpha=0.05, n_samples=10000, method='bca')\n",
    "print conf_par_intercept\n",
    "print \"intercept:\",conf_par_intercept[:,1]\n",
    "print \"coef:\",conf_par_intercept[:,0]"
   ]
  },
  {
   "cell_type": "code",
   "execution_count": 65,
   "metadata": {
    "collapsed": false,
    "scrolled": true
   },
   "outputs": [],
   "source": [
    "\n",
    "def ci_p_val_z_score_scikit(model,X_train):\n",
    "    # Calculate matrix of predicted class probabilities. \n",
    "    predProbs = np.matrix(model.predict_proba(X_train))\n",
    "    # Design matrix -- add column of 1's at the beginning of your X_train matrix\n",
    "    X_design = np.concatenate((np.ones( X_train.shape[0]).reshape(X_train.shape[0], 1),\n",
    "                    X_train[:,0].reshape(X_train.shape[0], 1)),axis=1)\n",
    "    # Initiate matrix of 0's, fill diagonal with each predicted observation's variance\n",
    "    V = np.matrix(np.zeros(shape = (X_design.shape[0], X_design.shape[0])))\n",
    "    #np.fill_diagonal(V, np.multiply(predProbs[:,0], predProbs[:,1]).A1)\n",
    "    np.fill_diagonal(V, np.multiply(predProbs[:,0], predProbs[:,1]).A1)\n",
    "    # Covariance matrix\n",
    "    covLogit = np.linalg.inv(X_design.T * V * X_design)\n",
    "    #print \"Covariance matrix: \", covLogit\n",
    "    # Standard errors\n",
    "    sdd=np.sqrt(np.diag(covLogit))\n",
    "    print \"Standard errors: \", sdd\n",
    "    # Wald statistic (coefficient / s.e.) ^ 2\n",
    "    logitParams = np.insert(model.coef_[0], 0, model.intercept_[0])\n",
    "    print \"Wald statistics: \", ((logitParams / sdd) ** 2)\n",
    "    #print \"Wald statistics intercept: \", ((logitParams_intercept / sdd** 2)[0]\n",
    "    wald_score=((logitParams / sdd) ** 2 )\n",
    "    #wald_score_intercept=((logitParams_intercept / np.sqrt(np.diag(covLogit))) ** 2)[0]\n",
    "    print \"p_val coef\",chisqprob(wald_score[1],1)\n",
    "    print \"p_val intercep\",chisqprob(wald_score[0],1)\n",
    "    #print \"p_val intercept\",chisqprob(wald_score_intercept,1)\n",
    "\n",
    "    # upper CI for beta\n",
    "    print np.exp(model.coef_[0][0]+1.96*sdd[1])\n",
    "    # lower CI for beta\n",
    "    print np.exp(model.coef_[0][0]-1.96*sdd[1])\n",
    "    #print np.exp(mlogit_res_.params[0])\n",
    "    # critical value of the t-statistic\n",
    "\n",
    "\n",
    "\n",
    "\n",
    "\n",
    "    i=0\n",
    "    # the estimated coefficient, and its variance\n",
    "    beta = model.coef_[0][0]\n",
    "    se = sdd[1]\n",
    "    t = beta / se\n",
    "    print 't =', t\n",
    "\n",
    "    print \"p_val:\",2* (1 - scipy.stats.norm.cdf(abs(t)))\n",
    "    print \"CI:\"\n",
    "    # the confidence interval\n",
    "    print beta - 1.96 * se, beta + 1.96 * se \n",
    "    \n",
    "def predict_model_scikit(X,y):\n",
    "    X_train=X\n",
    "    Y_train=y\n",
    "    model = LogisticRegression(C=1e5)\n",
    "\n",
    "\n",
    "\n",
    "    skf = cross_validation.StratifiedKFold(Y_train.ravel(), n_folds=10,shuffle=True)\n",
    "    for train_index,test_index in skf:\n",
    "        print \"===== new fold\"\n",
    "        model = model.fit(X_train[train_index,:],Y_train.ravel()[train_index])\n",
    "        print \"Coef:\", model.coef_[0][0],\" intercept:\",model.intercept_[0]\n",
    "        y_true=Y_train.ravel()[train_index]\n",
    "        y_pred=model.predict(X_train[train_index,:])\n",
    "\n",
    "\n",
    "        target_names = ['female',  'neutral']\n",
    "        #print(classification_report(y_true, y_pred, target_names=target_names))\n",
    "        print r2_score(y_true, y_pred)\n",
    "\n",
    "        plt.matshow(confusion_matrix(y_true, y_pred), cmap=plt.cm.binary, interpolation='nearest')\n",
    "        plt.title('confusion matrix')\n",
    "        plt.colorbar()\n",
    "        plt.ylabel('expected label')\n",
    "        plt.xlabel('predicted label')\n",
    "        plt.show()\n",
    "\n",
    "        #print classification_report(y_true, y_pred)\n",
    "        print confusion_matrix(y_true, y_pred)   \n",
    "        ci_p_val_z_score_scikit(model,X_train[train_index,:])\n",
    "        \n",
    "        "
   ]
  },
  {
   "cell_type": "code",
   "execution_count": 56,
   "metadata": {
    "collapsed": false,
    "scrolled": false
   },
   "outputs": [
    {
     "name": "stdout",
     "output_type": "stream",
     "text": [
      "===== new fold\n",
      "Coef: -1.52104001008  intercept: 128.344502067\n",
      "1.0\n"
     ]
    },
    {
     "data": {
      "image/png": "[encoded data removed]",
      "text/plain": [
       "<matplotlib.figure.Figure at 0xde7d4a8>"
      ]
     },
     "metadata": {},
     "output_type": "display_data"
    },
    {
     "name": "stdout",
     "output_type": "stream",
     "text": [
      "[[ 4  0]\n",
      " [ 0 46]]\n",
      "Standard errors:  [ 216.87090579    2.57021878]\n",
      "Wald statistics:  [ 0.35022888  0.35022012]\n",
      "p_val coef 0.553988552739\n",
      "p_val intercep 0.553983596722\n",
      "33.6693793777\n",
      "0.0014177717632\n",
      "t = -0.591793983212\n",
      "p_val: 0.553988552739\n",
      "CI:\n",
      "-6.55866882067 3.5165888005\n",
      "===== new fold\n",
      "Coef: -1.11439015449  intercept: 91.7336178242\n",
      "1.0\n"
     ]
    },
    {
     "data": {
      "image/png": "[encoded data removed]",
      "text/plain": [
       "<matplotlib.figure.Figure at 0xe394908>"
      ]
     },
     "metadata": {},
     "output_type": "display_data"
    },
    {
     "name": "stdout",
     "output_type": "stream",
     "text": [
      "[[ 4  0]\n",
      " [ 0 46]]\n",
      "Standard errors:  [ 87.15010656   1.06362319]\n",
      "Wald statistics:  [ 1.10795264  1.09773861]\n",
      "p_val coef 0.294762922062\n",
      "p_val intercep 0.292527431474\n",
      "2.63876577389\n",
      "0.0407992489053\n",
      "t = -1.04773021587\n",
      "p_val: 0.294762922062\n",
      "CI:\n",
      "-3.19909160693 0.970311297952\n",
      "===== new fold\n",
      "Coef: -1.32186510172  intercept: 111.539546483\n",
      "1.0\n"
     ]
    },
    {
     "data": {
      "image/png": "[encoded data removed]",
      "text/plain": [
       "<matplotlib.figure.Figure at 0xe5f0b70>"
      ]
     },
     "metadata": {},
     "output_type": "display_data"
    },
    {
     "name": "stdout",
     "output_type": "stream",
     "text": [
      "[[ 5  0]\n",
      " [ 0 47]]\n",
      "Standard errors:  [ 190.81767017    2.26183217]\n",
      "Wald statistics:  [ 0.3416808  0.3415494]\n",
      "p_val coef 0.558936243952\n",
      "p_val intercep 0.558860637374\n",
      "22.4507932896\n",
      "0.00316672878522\n",
      "t = -0.584422274948\n",
      "p_val: 0.558936243952\n",
      "CI:\n",
      "-5.75505615285 3.1113259494\n",
      "===== new fold\n",
      "Coef: -1.02683648295  intercept: 86.6564035855\n",
      "1.0\n"
     ]
    },
    {
     "data": {
      "image/png": "[encoded data removed]",
      "text/plain": [
       "<matplotlib.figure.Figure at 0xe2ee4e0>"
      ]
     },
     "metadata": {},
     "output_type": "display_data"
    },
    {
     "name": "stdout",
     "output_type": "stream",
     "text": [
      "[[ 4  0]\n",
      " [ 0 47]]\n",
      "Standard errors:  [ 131.49844256    1.55997697]\n",
      "Wald statistics:  [ 0.43427027  0.43327757]\n",
      "p_val coef 0.510385061256\n",
      "p_val intercep 0.509900994133\n",
      "7.61955811183\n",
      "0.0168333819485\n",
      "t = -0.658238232338\n",
      "p_val: 0.510385061256\n",
      "CI:\n",
      "-4.08439134334 2.03071837744\n",
      "===== new fold\n",
      "Coef: -0.944257430524  intercept: 83.4065947521\n",
      "1.0\n"
     ]
    },
    {
     "data": {
      "image/png": "[encoded data removed]",
      "text/plain": [
       "<matplotlib.figure.Figure at 0xe8eedd8>"
      ]
     },
     "metadata": {},
     "output_type": "display_data"
    },
    {
     "name": "stdout",
     "output_type": "stream",
     "text": [
      "[[ 4  0]\n",
      " [ 0 47]]\n",
      "Standard errors:  [ 108.36270743    1.22322167]\n",
      "Wald statistics:  [ 0.59243552  0.59589603]\n",
      "p_val coef 0.440148175265\n",
      "p_val intercep 0.441478861979\n",
      "4.27702228412\n",
      "0.0353742225551\n",
      "t = -0.77194302141\n",
      "p_val: 0.440148175265\n",
      "CI:\n",
      "-3.3417719005 1.45325703945\n",
      "===== new fold\n",
      "Coef: -1.31734358765  intercept: 111.158081699\n",
      "1.0\n"
     ]
    },
    {
     "data": {
      "image/png": "[encoded data removed]",
      "text/plain": [
       "<matplotlib.figure.Figure at 0xdb664e0>"
      ]
     },
     "metadata": {},
     "output_type": "display_data"
    },
    {
     "name": "stdout",
     "output_type": "stream",
     "text": [
      "[[ 5  0]\n",
      " [ 0 47]]\n",
      "Standard errors:  [ 190.13011487    2.25369482]\n",
      "Wald statistics:  [ 0.34180646  0.34167084]\n",
      "p_val coef 0.558866367029\n",
      "p_val intercep 0.558788350754\n",
      "22.1956927985\n",
      "0.00323222208176\n",
      "t = -0.584526164865\n",
      "p_val: 0.558866367029\n",
      "CI:\n",
      "-5.73458542727 3.09989825197\n",
      "===== new fold\n",
      "Coef: -1.54143034738  intercept: 130.065265901\n",
      "1.0\n"
     ]
    },
    {
     "data": {
      "image/png": "[encoded data removed]",
      "text/plain": [
       "<matplotlib.figure.Figure at 0xe639cc0>"
      ]
     },
     "metadata": {},
     "output_type": "display_data"
    },
    {
     "name": "stdout",
     "output_type": "stream",
     "text": [
      "[[ 4  0]\n",
      " [ 0 47]]\n",
      "Standard errors:  [ 215.9362813     2.55916313]\n",
      "Wald statistics:  [ 0.36280347  0.36278713]\n",
      "p_val coef 0.546962395651\n",
      "p_val intercep 0.546953368437\n",
      "32.2826322969\n",
      "0.00141958588442\n",
      "t = -0.602318128845\n",
      "p_val: 0.546962395651\n",
      "CI:\n",
      "-6.55739008059 3.47452938583\n",
      "===== new fold\n",
      "Coef: -1.16440817397  intercept: 98.2570252278\n",
      "1.0\n"
     ]
    },
    {
     "data": {
      "image/png": "[encoded data removed]",
      "text/plain": [
       "<matplotlib.figure.Figure at 0xe7519b0>"
      ]
     },
     "metadata": {},
     "output_type": "display_data"
    },
    {
     "name": "stdout",
     "output_type": "stream",
     "text": [
      "[[ 5  0]\n",
      " [ 0 47]]\n",
      "Standard errors:  [ 162.33982463    1.92483528]\n",
      "Wald statistics:  [ 0.36633387  0.36595135]\n",
      "p_val coef 0.545219443766\n",
      "p_val intercep 0.545009434531\n",
      "13.5755308658\n",
      "0.00717548216337\n",
      "t = -0.604939127618\n",
      "p_val: 0.545219443766\n",
      "CI:\n",
      "-4.93708531912 2.60826897119\n",
      "===== new fold\n",
      "Coef: -1.28555717604  intercept: 108.47643107\n",
      "1.0\n"
     ]
    },
    {
     "data": {
      "image/png": "[encoded data removed]",
      "text/plain": [
       "<matplotlib.figure.Figure at 0xeb0e4e0>"
      ]
     },
     "metadata": {},
     "output_type": "display_data"
    },
    {
     "name": "stdout",
     "output_type": "stream",
     "text": [
      "[[ 5  0]\n",
      " [ 0 47]]\n",
      "Standard errors:  [ 185.07541642    2.19387314]\n",
      "Wald statistics:  [ 0.34353683  0.34336796]\n",
      "p_val coef 0.557891590628\n",
      "p_val intercep 0.557794775423\n",
      "20.3775574597\n",
      "0.00375169131697\n",
      "t = -0.58597607805\n",
      "p_val: 0.557891590628\n",
      "CI:\n",
      "-5.58554852282 3.01443417074\n",
      "===== new fold\n",
      "Coef: -1.19930386282  intercept: 101.194705635\n",
      "1.0\n"
     ]
    },
    {
     "data": {
      "image/png": "[encoded data removed]",
      "text/plain": [
       "<matplotlib.figure.Figure at 0xe8e09b0>"
      ]
     },
     "metadata": {},
     "output_type": "display_data"
    },
    {
     "name": "stdout",
     "output_type": "stream",
     "text": [
      "[[ 5  0]\n",
      " [ 0 47]]\n",
      "Standard errors:  [ 196.86794033    2.33327381]\n",
      "Wald statistics:  [ 0.26421994  0.2641965 ]\n",
      "p_val coef 0.607251653342\n",
      "p_val intercep 0.607235710207\n",
      "29.1925284036\n",
      "0.00311190398718\n",
      "t = -0.514000482478\n",
      "p_val: 0.607251653342\n",
      "CI:\n",
      "-5.77252052559 3.37391279994\n"
     ]
    }
   ],
   "source": [
    "\n",
    "\n",
    "predict_model_scikit(X,y)"
   ]
  },
  {
   "cell_type": "code",
   "execution_count": null,
   "metadata": {
    "collapsed": true
   },
   "outputs": [],
   "source": []
  },
  {
   "cell_type": "code",
   "execution_count": 47,
   "metadata": {
    "collapsed": false
   },
   "outputs": [
    {
     "name": "stdout",
     "output_type": "stream",
     "text": [
      "-0.959472701748 80.9786926055\n",
      "             precision    recall  f1-score   support\n",
      "\n",
      "     female       1.00      1.00      1.00         5\n",
      "    neutral       1.00      1.00      1.00        52\n",
      "\n",
      "avg / total       1.00      1.00      1.00        57\n",
      "\n",
      "1.0\n"
     ]
    },
    {
     "data": {
      "image/png": "[encoded data removed]",
      "text/plain": [
       "<matplotlib.figure.Figure at 0xeac4a20>"
      ]
     },
     "metadata": {},
     "output_type": "display_data"
    },
    {
     "name": "stdout",
     "output_type": "stream",
     "text": [
      "             precision    recall  f1-score   support\n",
      "\n",
      "          0       1.00      1.00      1.00         5\n",
      "          1       1.00      1.00      1.00        52\n",
      "\n",
      "avg / total       1.00      1.00      1.00        57\n",
      "\n",
      "[[ 5  0]\n",
      " [ 0 52]]\n"
     ]
    }
   ],
   "source": [
    "\n",
    "X_train=X[:,:]\n",
    "Y_train=y[:,:]\n",
    "model = LogisticRegression(C=1e5)\n",
    "model = model.fit(X_train,Y_train.ravel())\n",
    "print model.coef_[0][0],model.intercept_[0]\n",
    "y_true=Y_train\n",
    "y_pred=model.predict(X_train)\n",
    "\n",
    "\n",
    "target_names = ['female',  'neutral']\n",
    "print(classification_report(y_true, y_pred, target_names=target_names))\n",
    "print r2_score(y_true, y_pred)\n",
    "\n",
    "plt.matshow(confusion_matrix(y_true, y_pred), cmap=plt.cm.binary, interpolation='nearest')\n",
    "plt.title('confusion matrix')\n",
    "plt.colorbar()\n",
    "plt.ylabel('expected label')\n",
    "plt.xlabel('predicted label')\n",
    "plt.show()\n",
    "\n",
    "print classification_report(y_true, y_pred)\n",
    "print confusion_matrix(y_true, y_pred)   \n",
    "\n",
    "    "
   ]
  },
  {
   "cell_type": "code",
   "execution_count": 48,
   "metadata": {
    "collapsed": false
   },
   "outputs": [
    {
     "name": "stdout",
     "output_type": "stream",
     "text": [
      "Standard errors:  [ 115.74201129    1.3736283 ]\n",
      "Wald statistics:  [ 0.48950764  0.48789547]\n",
      "p_val coef 0.484867591976\n",
      "p_val intercep 0.484147018578\n",
      "5.6566891689\n",
      "0.0259447974766\n",
      "t = -0.698495146701\n",
      "p_val: 0.484867591976\n",
      "CI:\n",
      "-3.65178417207 1.73283876857\n"
     ]
    }
   ],
   "source": [
    "# Calculate matrix of predicted class probabilities. \n",
    "predProbs = np.matrix(model.predict_proba(X_train))\n",
    "# Design matrix -- add column of 1's at the beginning of your X_train matrix\n",
    "X_design = np.concatenate((np.ones( X_train.shape[0]).reshape(X_train.shape[0], 1),\n",
    "                X_train[:,0].reshape(X_train.shape[0], 1)),axis=1)\n",
    "# Initiate matrix of 0's, fill diagonal with each predicted observation's variance\n",
    "V = np.matrix(np.zeros(shape = (X_design.shape[0], X_design.shape[0])))\n",
    "#np.fill_diagonal(V, np.multiply(predProbs[:,0], predProbs[:,1]).A1)\n",
    "np.fill_diagonal(V, np.multiply(predProbs[:,0], predProbs[:,1]).A1)\n",
    "# Covariance matrix\n",
    "covLogit = np.linalg.inv(X_design.T * V * X_design)\n",
    "#print \"Covariance matrix: \", covLogit\n",
    "# Standard errors\n",
    "sdd=np.sqrt(np.diag(covLogit))\n",
    "print \"Standard errors: \", sdd\n",
    "# Wald statistic (coefficient / s.e.) ^ 2\n",
    "logitParams = np.insert(model.coef_[0], 0, model.intercept_[0])\n",
    "print \"Wald statistics: \", ((logitParams / sdd) ** 2)\n",
    "#print \"Wald statistics intercept: \", ((logitParams_intercept / sdd** 2)[0]\n",
    "wald_score=((logitParams / sdd) ** 2 )\n",
    "#wald_score_intercept=((logitParams_intercept / np.sqrt(np.diag(covLogit))) ** 2)[0]\n",
    "print \"p_val coef\",chisqprob(wald_score[1],1)\n",
    "print \"p_val intercep\",chisqprob(wald_score[0],1)\n",
    "#print \"p_val intercept\",chisqprob(wald_score_intercept,1)\n",
    "\n",
    "# upper CI for beta\n",
    "print np.exp(model.coef_[0][0]+1.96*sdd[1])\n",
    "# lower CI for beta\n",
    "print np.exp(model.coef_[0][0]-1.96*sdd[1])\n",
    "#print np.exp(mlogit_res_.params[0])\n",
    "# critical value of the t-statistic\n",
    "\n",
    "\n",
    "\n",
    "\n",
    "\n",
    "i=0\n",
    "# the estimated coefficient, and its variance\n",
    "beta = model.coef_[0][0]\n",
    "se = sdd[1]\n",
    "t = beta / se\n",
    "print 't =', t\n",
    "\n",
    "print \"p_val:\",2* (1 - scipy.stats.norm.cdf(abs(t)))\n",
    "print \"CI:\"\n",
    "# the confidence interval\n",
    "print beta - 1.96 * se, beta + 1.96 * se"
   ]
  },
  {
   "cell_type": "code",
   "execution_count": null,
   "metadata": {
    "collapsed": true
   },
   "outputs": [],
   "source": []
  }
 ],
 "metadata": {
  "kernelspec": {
   "display_name": "Python 2",
   "language": "python",
   "name": "python2"
  },
  "language_info": {
   "codemirror_mode": {
    "name": "ipython",
    "version": 2
   },
   "file_extension": ".py",
   "mimetype": "text/x-python",
   "name": "python",
   "nbconvert_exporter": "python",
   "pygments_lexer": "ipython2",
   "version": "2.7.11"
  }
 },
 "nbformat": 4,
 "nbformat_minor": 0
}
