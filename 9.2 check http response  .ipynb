{
 "cells": [
  {
   "cell_type": "code",
   "execution_count": null,
   "metadata": {
    "collapsed": true
   },
   "outputs": [],
   "source": []
  },
  {
   "cell_type": "code",
   "execution_count": null,
   "metadata": {
    "collapsed": true
   },
   "outputs": [],
   "source": []
  },
  {
   "cell_type": "code",
   "execution_count": 1,
   "metadata": {
    "collapsed": false
   },
   "outputs": [],
   "source": [
    "from wikitools import wiki, api\n",
    "import requests\n",
    "\n",
    "page_title=\"Abt\"\n",
    "prof=page_title\n",
    "all_links=[]\n",
    "params = {'action':'query',\n",
    "                'format':'json',\n",
    "                'titles':page_title,\n",
    "                'prop':'langlinks',\n",
    "                'lllimit':'100',\n",
    "                'llprop':'url',\n",
    "                'lwurl':'',\n",
    "                'continue':''\n",
    "            }\n",
    "r=requests.get('https://de.wikipedia.org/w/api.php',allow_redirects=False)\n",
    "if r.status_code!=301:\n",
    "    site = wiki.Wiki('https://de.wikipedia.org/w/api.php')\n",
    "    req = api.APIRequest(site, params)\n",
    "    res = req.query()\n",
    "    all_links.append(['de',page_title,prof,'http://de.wikipedia.org/wiki/'+page_title])\n",
    "    res1 = res['query']['pages'].values()[0]\n",
    "    if res1.get(\"langlinks\"):\n",
    "        lang_list=res1['langlinks']  \n",
    "        for lang in lang_list:\n",
    "            lang_id = lang['lang']\n",
    "            lang_url = lang['url']\n",
    "            wiki_name = lang['*']\n",
    "\n",
    "            all_links.append([lang_id,wiki_name,prof,lang_url])    \n",
    "else:\n",
    "    print r"
   ]
  },
  {
   "cell_type": "code",
   "execution_count": 2,
   "metadata": {
    "collapsed": false,
    "scrolled": true
   },
   "outputs": [],
   "source": [
    "for data in all_links:\n",
    "    lang_id = data[0]\n",
    "    try :\n",
    "        params2 = {'action':'query',\n",
    "                            'format':'json',\n",
    "                            'titles':data[1],\n",
    "                            'generator':'images',\n",
    "                            'gimlimit':10,\n",
    "                            'prop':'imageinfo',\n",
    "                            'iiprop':'url|size',\n",
    "                            'continue':''\n",
    "                        }\n",
    "        wiki_api='https://%s.wikipedia.org/w/api.php'%lang_id\n",
    "        r=requests.get(wiki_api,allow_redirects=False)\n",
    "        if r.status_code==301:\n",
    "            r = requests.head('https://%s.wikipedia.org/w/api.php' %lang_id, allow_redirects=True)\n",
    "            wiki_api=r.url\n",
    "        site2 = wiki.Wiki(wiki_api)\n",
    "        req = api.APIRequest(site2, params2)\n",
    "        res = req.query()\n",
    "    except:\n",
    "        print \"====\""
   ]
  }
 ],
 "metadata": {
  "kernelspec": {
   "display_name": "Python 2",
   "language": "python",
   "name": "python2"
  },
  "language_info": {
   "codemirror_mode": {
    "name": "ipython",
    "version": 2
   },
   "file_extension": ".py",
   "mimetype": "text/x-python",
   "name": "python",
   "nbconvert_exporter": "python",
   "pygments_lexer": "ipython2",
   "version": "2.7.11"
  }
 },
 "nbformat": 4,
 "nbformat_minor": 0
}
