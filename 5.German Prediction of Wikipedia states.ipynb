{
 "cells": [
  {
   "cell_type": "markdown",
   "metadata": {},
   "source": [
    "# Read data"
   ]
  },
  {
   "cell_type": "code",
   "execution_count": 1,
   "metadata": {
    "collapsed": false
   },
   "outputs": [],
   "source": [
    "%matplotlib inline\n",
    "\n",
    "import json\n",
    "def load_simple_json(filename):\n",
    "    with open(filename, 'r') as f:\n",
    "        return json.load(f)\n",
    "    \n",
    "words=load_simple_json('de/occupation_all.json')#{masculine:[[],[feminine]]}\n",
    "words_revert={words[i][1]:i for i in words}#feminine:masculine\n",
    "#neutral=load_simple_json('de/neutral_new.json')\n",
    "\n",
    "no_page_m=load_simple_json('de/wiki/m_no_page.json')\n",
    "no_page_f=load_simple_json('de/wiki/f_no_page.json')\n",
    "#no_page_n=load_simple_json('de/wiki/n_no_page.json')\n",
    "page_m=load_simple_json('de/wiki/m_page.json')\n",
    "page_f=load_simple_json('de/wiki/f_page.json')\n",
    "#page_n=load_simple_json('de/wiki/n_page.json')\n",
    "m_page_levenshtein=load_simple_json('de/wiki/m_page_levenshtein.json')\n",
    "#n_page_levenshtein=load_simple_json('de/wiki/n_page_levenshtein.json')\n",
    "\n",
    "\n",
    "page_f_validated=load_simple_json('de/wiki/f_page_validated.json')\n",
    "page_f_ambigious=load_simple_json('de/wiki/f_page_ambigious.json')\n",
    "page_f_other=load_simple_json('de/wiki/f_page_other.json')  \n",
    "    \n",
    "page_m_validated=load_simple_json('de/wiki/m_page_validated.json') \n",
    "page_m_ambigious=load_simple_json('de/wiki/m_page_ambigious.json')\n",
    "page_m_other=load_simple_json('de/wiki/m_page_other.json')\n",
    "\n",
    "#page_n_validated=load_simple_json('de/wiki/n_page_validated.json')\n",
    "#page_n_ambigious=load_simple_json('de/wiki/n_page_ambigious.json')\n",
    "#page_n_other=load_simple_json('de/wiki/n_page_other.json') \n",
    "\n",
    "#n_page_levenshtein=load_simple_json('de/wiki/n_page_levenshtein.json')  \n",
    "\n",
    "\n",
    "m_links_to_feminine=load_simple_json('de/wiki/m_links_to_feminine.json')\n",
    "m_links_to_smth=load_simple_json('de/wiki/m_links_to_smth.json')\n",
    "f_redirection=load_simple_json('de/wiki/f_redirection.json')\n",
    "f_links_to_mascuilne=load_simple_json('de/wiki/f_links_to_mascuilne.json')\n",
    "f_links_to_smth=load_simple_json('de/wiki/f_links_to_smth.json')\n",
    "f_links_to_mascuilne_with_link=load_simple_json('de/wiki/f_links_to_mascuilne_with_link.json')\n",
    "#redirection_n=load_simple_json('de/wiki/n_redirects.json')\n",
    "f_links_to_mascuilne_lev=load_simple_json('de/wiki/f_links_to_mascuilne_lev.json')\n",
    "\n",
    "\n",
    "googlenumber=load_simple_json('de/googlenumber_new2.json')\n",
    "googlenumber_neutral=load_simple_json('de/googlenumber_neutral.json')\n",
    "\n",
    "\n",
    "n_bias=load_simple_json('de/wiki/n_bias_male_labels.json')\n",
    "#n_n_bias=load_simple_json('de/wiki/n_bias_n_labels.json')\n",
    "f_bias=load_simple_json('de/wiki/f_bias.json')\n",
    "m_bias=load_simple_json('de/wiki/m_bias.json')"
   ]
  },
  {
   "cell_type": "code",
   "execution_count": 2,
   "metadata": {
    "collapsed": false,
    "scrolled": true
   },
   "outputs": [
    {
     "name": "stdout",
     "output_type": "stream",
     "text": [
      "Male bias: 812 , Female bias: 6 , No bias: 19\n",
      "All: 837\n"
     ]
    }
   ],
   "source": [
    "#DEPENDENT VARIABLES:\n",
    "#masculine exist AND (no feminine OR feminine label redirects to masculine label) => male bias => 1\n",
    "#feminine exist AND (no masculine OR masculine label redirects to feminine label)  => female bias => 3\n",
    "#masculine exist AND feminine exist => balanced  => 2\n",
    "\n",
    "\n",
    "\n",
    "\n",
    "#INDEPENDENT VARIABLES:\n",
    "#GooglePercent = ((#hits for male label) - (#hits for female label))/(#hits for male label) + (#hits for female label))\n",
    "                  #normalized difference between google hits of male and female label\n",
    "\n",
    "\n",
    "    \n",
    "google_dif={}\n",
    "for i in googlenumber:\n",
    "    google_dif[i]=int(googlenumber[i][0])-int(googlenumber[i][1])\n",
    "    \n",
    "\n",
    "google_percent={}\n",
    "for i in googlenumber:\n",
    "    sum_m_f=float(int(googlenumber[i][0])+int(googlenumber[i][1]))\n",
    "    google_percent[i]=(float(googlenumber[i][0])-float(googlenumber[i][1]))/sum_m_f if sum_m_f!=0 else 0\n",
    "\n",
    "google_rank_male={}\n",
    "for i in words:\n",
    "    if i in f_bias:\n",
    "        google_rank_male[i]=[int(googlenumber[i][0]),len(i),google_percent[i],3] #3=female bias\n",
    "    elif i in m_bias:\n",
    "        google_rank_male[i]=[int(googlenumber[i][0]),len(i),google_percent[i],1] #1=male bias\n",
    "    elif i in n_bias:\n",
    "        google_rank_male[i]=[int(googlenumber[i][0]),len(i),google_percent[i],2] #2=no bias\n",
    "n_male=sum( n == 1 for x,y,z,n in google_rank_male.values())\n",
    "n_female=sum( n == 3 for x,y,z,n in google_rank_male.values())      \n",
    "n_neutral=sum( n == 2 for x,y,z,n in google_rank_male.values())\n",
    "print \"Male bias:\",n_male,\", Female bias:\",n_female,\", No bias:\",n_neutral\n",
    "print \"All:\",len(google_rank_male)  "
   ]
  },
  {
   "cell_type": "code",
   "execution_count": 3,
   "metadata": {
    "collapsed": true
   },
   "outputs": [],
   "source": [
    "#Entertainer is ambigious Entertainerin links to Unterhaltungskünstler\n",
    "#Producerin links to Produzent which is also ambigious page\n",
    "#Schreinerin links ro Tischler, Schreiner is ambigious\n",
    "#Metzgerin links to Fleischer , Metzger is ambigious\n"
   ]
  },
  {
   "cell_type": "markdown",
   "metadata": {},
   "source": [
    "# Logistic regression"
   ]
  },
  {
   "cell_type": "code",
   "execution_count": 4,
   "metadata": {
    "collapsed": false
   },
   "outputs": [
    {
     "name": "stdout",
     "output_type": "stream",
     "text": [
      "       GoogleHitsMale  Name_length  NormalizedGoogleDif        Wiki\n",
      "count    8.370000e+02   837.000000           837.000000  837.000000\n",
      "mean     1.375604e+06    15.433692             0.694513    1.037037\n",
      "std      9.570879e+06     8.112809             0.383918    0.223745\n",
      "min      1.300000e+01     3.000000            -0.993448    1.000000\n",
      "25%      2.560000e+03    10.000000             0.592668    1.000000\n",
      "50%      1.720000e+04    13.000000             0.848124    1.000000\n",
      "75%      1.390000e+05    18.000000             0.947315    1.000000\n",
      "max      1.610000e+08    60.000000             1.000000    3.000000\n",
      "GoogleHitsMale         9570879.397740\n",
      "Name_length                  8.112809\n",
      "NormalizedGoogleDif          0.383918\n",
      "Wiki                         0.223745\n",
      "dtype: float64\n"
     ]
    },
    {
     "data": {
      "image/png": "[encoded data removed]",
      "text/plain": [
       "<matplotlib.figure.Figure at 0xc26fcf8>"
      ]
     },
     "metadata": {},
     "output_type": "display_data"
    }
   ],
   "source": [
    "import pandas as pd\n",
    "import pylab as pl\n",
    "import numpy as np\n",
    "\n",
    "\n",
    "df = pd.DataFrame.from_dict(google_rank_male,orient='index')\n",
    "df.columns = ['GoogleHitsMale','Name_length', 'NormalizedGoogleDif','Wiki']\n",
    "\n",
    "# summarize the data\n",
    "print df.describe()\n",
    "\n",
    "# take a look at the standard deviation of each column\n",
    "print df.std()\n",
    "\n",
    "\n",
    "#print pd.crosstab(df['Wiki'], df['GooglePercent'])\n",
    "\n",
    "df.hist()\n",
    "pl.show()\n"
   ]
  },
  {
   "cell_type": "code",
   "execution_count": 5,
   "metadata": {
    "collapsed": false
   },
   "outputs": [
    {
     "data": {
      "image/png": "[encoded data removed]",
      "text/plain": [
       "<matplotlib.figure.Figure at 0x473abe0>"
      ]
     },
     "metadata": {},
     "output_type": "display_data"
    }
   ],
   "source": [
    "df.plot(x='Wiki', y='NormalizedGoogleDif', kind='scatter')\n",
    "pl.xticks([1,2,3],[\"male bias\",\"balanced\",\"female bias\"])\n",
    "#pl.ylim(0, 1.0)\n",
    "pl.show()"
   ]
  },
  {
   "cell_type": "code",
   "execution_count": 6,
   "metadata": {
    "collapsed": false
   },
   "outputs": [
    {
     "data": {
      "image/png": "[encoded data removed]",
      "text/plain": [
       "<matplotlib.figure.Figure at 0x473a780>"
      ]
     },
     "metadata": {},
     "output_type": "display_data"
    }
   ],
   "source": [
    "data1= df[['NormalizedGoogleDif','Wiki']]\n",
    "#data1.plot( kind='box') \n",
    "#pl.figure();\n",
    "bp = data1.boxplot(by='Wiki')\n",
    "pl.ylim(ymax=1.05)\n",
    "pl.ylabel(\"normalized diff of Google hits\")\n",
    "pl.xlabel(\"Gender balance states\")\n",
    "pl.title(\"\")\n",
    "pl.suptitle(\"\")\n",
    "pl.xticks([1,2,3],[\"male bias \\n (n={0})\".format(n_male),\"balanced \\n (n={0})\".format(n_neutral),\n",
    "                   \"female bias \\n (n={0})\".format(n_female)])\n",
    "pl.show()"
   ]
  },
  {
   "cell_type": "code",
   "execution_count": 7,
   "metadata": {
    "collapsed": false
   },
   "outputs": [
    {
     "data": {
      "image/png": "[encoded data removed]",
      "text/plain": [
       "<matplotlib.figure.Figure at 0xd1e1550>"
      ]
     },
     "metadata": {},
     "output_type": "display_data"
    }
   ],
   "source": [
    "data1= df[['Name_length','Wiki']]\n",
    "#data1.plot( kind='box') \n",
    "#pl.figure();\n",
    "bp = data1.boxplot(by='Wiki')\n",
    "pl.xticks([1,2,3],[\"male bias\",\"balanced\",\"female bias\"])\n",
    "pl.show()"
   ]
  },
  {
   "cell_type": "code",
   "execution_count": 230,
   "metadata": {
    "collapsed": false
   },
   "outputs": [
    {
     "data": {
      "image/png": "[encoded data removed]",
      "text/plain": [
       "<matplotlib.figure.Figure at 0x15a5bbb0>"
      ]
     },
     "metadata": {},
     "output_type": "display_data"
    }
   ],
   "source": [
    "data1= df[['GoogleHitsMale','Wiki']] #google results for male labels\n",
    "#data1.plot( kind='box') \n",
    "#pl.figure();\n",
    "bp = data1.boxplot(by='Wiki')\n",
    "pl.xticks([1,2,3],[\"male bias\",\"balanced\",\"female bias\"])\n",
    "pl.show()"
   ]
  },
  {
   "cell_type": "code",
   "execution_count": 231,
   "metadata": {
    "collapsed": false
   },
   "outputs": [
    {
     "data": {
      "text/plain": [
       "<matplotlib.axes._subplots.AxesSubplot at 0x160e6510>"
      ]
     },
     "execution_count": 231,
     "metadata": {},
     "output_type": "execute_result"
    },
    {
     "data": {
      "image/png": "[encoded data removed]",
      "text/plain": [
       "<matplotlib.figure.Figure at 0x16006190>"
      ]
     },
     "metadata": {},
     "output_type": "display_data"
    }
   ],
   "source": [
    "data2=data1[data1.Wiki==1]\n",
    "data2.hist(cumulative=True,normed=1, bins=10000,histtype='step', by=\"Wiki\")"
   ]
  },
  {
   "cell_type": "code",
   "execution_count": 232,
   "metadata": {
    "collapsed": false,
    "scrolled": true
   },
   "outputs": [
    {
     "name": "stdout",
     "output_type": "stream",
     "text": [
      "Wiki=1, i.e., male bias is the reference group while it is the most frequent one.\n",
      "                         GoogleHitsMale  Name_length  NormalizedGoogleDif  \\\n",
      "Fahrzeuginnenausstatter            3130           23             0.846608   \n",
      "Audiodesigner                      1450           13             0.948925   \n",
      "Jäger                           2350000            5             0.959803   \n",
      "Zusteller                        596000            9             0.985839   \n",
      "Revierjäger                        3930           11             0.867871   \n",
      "\n",
      "                         const  \n",
      "Fahrzeuginnenausstatter      1  \n",
      "Audiodesigner                1  \n",
      "Jäger                        1  \n",
      "Zusteller                    1  \n",
      "Revierjäger                  1  \n",
      "Index([u'GoogleHitsMale', u'Name_length', u'NormalizedGoogleDif', u'const'], dtype='object')\n",
      "train: 418 test: 419\n",
      "Warning: Maximum number of iterations has been exceeded.\n",
      "         Current function value: nan\n",
      "         Iterations: 35\n",
      "                                0           1\n",
      "GoogleHitsMale      -2.757085e-08   -0.006251\n",
      "Name_length         -1.137460e-01   -8.594425\n",
      "NormalizedGoogleDif -1.717917e+00 -257.297896\n",
      "const               -1.157906e+00  120.951294\n",
      "                          MNLogit Regression Results                          \n",
      "==============================================================================\n",
      "Dep. Variable:                   Wiki   No. Observations:                  418\n",
      "Model:                        MNLogit   Df Residuals:                      410\n",
      "Method:                           MLE   Df Model:                            6\n",
      "Date:                Tue, 09 Feb 2016   Pseudo R-squ.:                     nan\n",
      "Time:                        13:50:45   Log-Likelihood:                    nan\n",
      "converged:                      False   LL-Null:                       -61.181\n",
      "                                        LLR p-value:                       nan\n",
      "=======================================================================================\n",
      "             Wiki=2       coef    std err          z      P>|z|      [95.0% Conf. Int.]\n",
      "---------------------------------------------------------------------------------------\n",
      "GoogleHitsMale      -2.757e-08   9.06e-08     -0.304      0.761     -2.05e-07   1.5e-07\n",
      "Name_length            -0.1137      0.064     -1.767      0.077        -0.240     0.012\n",
      "NormalizedGoogleDif    -1.7179      0.707     -2.430      0.015        -3.104    -0.332\n",
      "const                  -1.1579      1.019     -1.137      0.256        -3.155     0.839\n",
      "---------------------------------------------------------------------------------------\n",
      "             Wiki=3       coef    std err          z      P>|z|      [95.0% Conf. Int.]\n",
      "---------------------------------------------------------------------------------------\n",
      "GoogleHitsMale         -0.0063      1.583     -0.004      0.997        -3.109     3.096\n",
      "Name_length            -8.5944   2103.028     -0.004      0.997     -4130.454  4113.265\n",
      "NormalizedGoogleDif  -257.2979   6.34e+04     -0.004      0.997     -1.25e+05  1.24e+05\n",
      "const                 120.9513   3.26e+04      0.004      0.997     -6.37e+04   6.4e+04\n",
      "=======================================================================================\n",
      "AIC: nan\n",
      "BIC: nan\n",
      "       MNLogit Marginal Effects      \n",
      "=====================================\n",
      "Dep. Variable:                   Wiki\n",
      "Method:                          dydx\n",
      "At:                           overall\n",
      "=======================================================================================\n",
      "             Wiki=1      dy/dx    std err          z      P>|z|      [95.0% Conf. Int.]\n",
      "---------------------------------------------------------------------------------------\n",
      "GoogleHitsMale       8.523e-10   9.48e-08      0.009      0.993     -1.85e-07  1.87e-07\n",
      "Name_length             0.0023      0.001      1.584      0.113        -0.001     0.005\n",
      "NormalizedGoogleDif     0.0350      0.017      2.009      0.045         0.001     0.069\n",
      "---------------------------------------------------------------------------------------\n",
      "             Wiki=2      dy/dx    std err          z      P>|z|      [95.0% Conf. Int.]\n",
      "---------------------------------------------------------------------------------------\n",
      "GoogleHitsMale      -5.447e-10   6.63e-09     -0.082      0.935     -1.35e-08  1.25e-08\n",
      "Name_length            -0.0023      0.001     -1.589      0.112        -0.005     0.001\n",
      "NormalizedGoogleDif    -0.0350      0.017     -2.059      0.039        -0.068    -0.002\n",
      "---------------------------------------------------------------------------------------\n",
      "             Wiki=3      dy/dx    std err          z      P>|z|      [95.0% Conf. Int.]\n",
      "---------------------------------------------------------------------------------------\n",
      "GoogleHitsMale      -3.076e-10      1e-07     -0.003      0.998     -1.97e-07  1.96e-07\n",
      "Name_length         -4.226e-07      0.000     -0.003      0.998        -0.000     0.000\n",
      "NormalizedGoogleDif -1.266e-05      0.004     -0.003      0.998        -0.008     0.008\n",
      "=======================================================================================\n",
      "[[ 406.    0.    0.]\n",
      " [   9.    0.    0.]\n",
      " [   0.    0.    3.]]\n",
      "Accuracy: 0.978468899522\n",
      "train: 419 test: 418\n",
      "Optimization terminated successfully.\n",
      "         Current function value: nan\n",
      "         Iterations 20\n",
      "                                0          1\n",
      "GoogleHitsMale       1.676299e-08  -0.000182\n",
      "Name_length         -2.736743e-01  -0.678854\n",
      "NormalizedGoogleDif -2.945742e+00 -20.572935\n",
      "const                1.322956e+00   0.665234\n",
      "                          MNLogit Regression Results                          \n",
      "==============================================================================\n",
      "Dep. Variable:                   Wiki   No. Observations:                  419\n",
      "Model:                        MNLogit   Df Residuals:                      411\n",
      "Method:                           MLE   Df Model:                            6\n",
      "Date:                Tue, 09 Feb 2016   Pseudo R-squ.:                     nan\n",
      "Time:                        13:50:45   Log-Likelihood:                    nan\n",
      "converged:                       True   LL-Null:                       -64.967\n",
      "                                        LLR p-value:                       nan\n",
      "=======================================================================================\n",
      "             Wiki=2       coef    std err          z      P>|z|      [95.0% Conf. Int.]\n",
      "---------------------------------------------------------------------------------------\n",
      "GoogleHitsMale       1.676e-08   1.31e-08      1.279      0.201     -8.93e-09  4.25e-08\n",
      "Name_length            -0.2737      0.097     -2.824      0.005        -0.464    -0.084\n",
      "NormalizedGoogleDif    -2.9457      0.834     -3.531      0.000        -4.581    -1.311\n",
      "const                   1.3230      1.276      1.036      0.300        -1.179     3.825\n",
      "---------------------------------------------------------------------------------------\n",
      "             Wiki=3       coef    std err          z      P>|z|      [95.0% Conf. Int.]\n",
      "---------------------------------------------------------------------------------------\n",
      "GoogleHitsMale         -0.0002      0.000     -0.799      0.424        -0.001     0.000\n",
      "Name_length            -0.6789      0.422     -1.609      0.108        -1.506     0.148\n",
      "NormalizedGoogleDif   -20.5729     13.197     -1.559      0.119       -46.438     5.292\n",
      "const                   0.6652      2.761      0.241      0.810        -4.746     6.077\n",
      "=======================================================================================\n",
      "AIC: nan\n",
      "BIC: nan\n",
      "       MNLogit Marginal Effects      \n",
      "=====================================\n",
      "Dep. Variable:                   Wiki\n",
      "Method:                          dydx\n",
      "At:                           overall\n",
      "=======================================================================================\n",
      "             Wiki=1      dy/dx    std err          z      P>|z|      [95.0% Conf. Int.]\n",
      "---------------------------------------------------------------------------------------\n",
      "GoogleHitsMale       2.979e-07   3.39e-07      0.878      0.380     -3.67e-07  9.63e-07\n",
      "Name_length             0.0065      0.002      2.845      0.004         0.002     0.011\n",
      "NormalizedGoogleDif     0.0917      0.019      4.713      0.000         0.054     0.130\n",
      "---------------------------------------------------------------------------------------\n",
      "             Wiki=2      dy/dx    std err          z      P>|z|      [95.0% Conf. Int.]\n",
      "---------------------------------------------------------------------------------------\n",
      "GoogleHitsMale       8.629e-08   1.27e-07      0.677      0.498     -1.64e-07  3.36e-07\n",
      "Name_length            -0.0052      0.002     -2.261      0.024        -0.010    -0.001\n",
      "NormalizedGoogleDif    -0.0496      0.017     -2.889      0.004        -0.083    -0.016\n",
      "---------------------------------------------------------------------------------------\n",
      "             Wiki=3      dy/dx    std err          z      P>|z|      [95.0% Conf. Int.]\n",
      "---------------------------------------------------------------------------------------\n",
      "GoogleHitsMale      -3.842e-07    4.5e-07     -0.855      0.393     -1.27e-06  4.97e-07\n",
      "Name_length            -0.0013      0.001     -2.534      0.011        -0.002    -0.000\n",
      "NormalizedGoogleDif    -0.0421      0.016     -2.692      0.007        -0.073    -0.011\n",
      "=======================================================================================\n",
      "[[ 406.    0.    0.]\n",
      " [   8.    1.    1.]\n",
      " [   1.    0.    2.]]\n",
      "Accuracy: 0.976133651551\n"
     ]
    },
    {
     "name": "stderr",
     "output_type": "stream",
     "text": [
      "C:\\Anaconda\\lib\\site-packages\\statsmodels\\base\\model.py:466: ConvergenceWarning: Maximum Likelihood optimization failed to converge. Check mle_retvals\n",
      "  \"Check mle_retvals\", ConvergenceWarning)\n"
     ]
    }
   ],
   "source": [
    "from sklearn import cross_validation\n",
    "import statsmodels.api as sm\n",
    "from statsmodels.tools.tools import add_constant\n",
    "\n",
    "data = df[['GoogleHitsMale', 'Name_length', 'NormalizedGoogleDif']]\n",
    "\n",
    "\n",
    "data=sm.add_constant(data, prepend=False)\n",
    "print \"Wiki=1, i.e., male bias is the reference group while it is the most frequent one.\"\n",
    "print data.head()\n",
    "train_cols = data.columns[0:4]\n",
    "print train_cols\n",
    "#res1 = sm.MNLogit( Y,X)\n",
    "#res1 = sm.MNLogit( df['Wiki'], data[train_cols])\n",
    "\n",
    "y=df['Wiki']\n",
    "X=data[train_cols]\n",
    "\n",
    "\n",
    "skf = cross_validation.StratifiedKFold(y, n_folds=2,shuffle=True)\n",
    "for train_index, test_index in skf:  \n",
    "    y_train, y_test = y[train_index], y[test_index]\n",
    "    #X_train, X_test = X.GooglePercent[train_index], X.GooglePercent[test_index] \n",
    "    X_train, X_test = X.iloc[train_index,:], X.iloc[test_index,:]#X.iloc[0,:] <- for all train_cols\n",
    "    #print \"train:\",X_train,\"==test\", X_test\n",
    "    #print \"train:\",(y_train), \"test:\",(y_test)\n",
    "    print \"train:\",len(y_train), \"test:\",len(y_test)\n",
    "    res1 = sm.MNLogit(y_train, X_train) \n",
    "    mlogit_res = res1.fit()\n",
    "    print mlogit_res.params\n",
    "    print mlogit_res.summary()\n",
    "    #inter, slope=mlogit_res.params\n",
    "    #print inter+ages.mean()*slope\n",
    "\n",
    "    ### aic and bic ###\n",
    "    print \"AIC:\",mlogit_res.aic\n",
    "    print \"BIC:\",mlogit_res.bic\n",
    "    \n",
    "    mlogit_margeff = mlogit_res.get_margeff()\n",
    "    print mlogit_margeff.summary()\n",
    "\n",
    "    predict= np.array(mlogit_res.predict() > 0.5, dtype=float)\n",
    "    #print predict\n",
    "    \n",
    "    #pred_table[i,j] refers to the number of times \"i\" was observed and\n",
    "    #the model predicted \"j\". Correct predictions are along the diagonal.\n",
    "    print mlogit_res.pred_table()\n",
    "    acc=float(sum(mlogit_res.pred_table().diagonal()))/float(len(y_train))\n",
    "    print \"Accuracy:\",acc\n",
    "    \n",
    "\n",
    "#mlogit_res = res1.fit()\n",
    "#print mlogit_res.params\n",
    "#mlogit_margeff = mlogit_res.get_margeff()\n",
    "#print mlogit_margeff.summary()\n",
    "\n",
    "\n",
    "#columns =['GoogleResults', 'GoogleDif', 'GooglePercent',\"const\"]#['GoogleResults', 'GoogleDif', 'GooglePercent']\n",
    "#new = pd.DataFrame([[10000, 1000, -0.8, 1]], columns=columns)\n",
    "#new_y = (mlogit_res.predict(new)>=0.5)\n",
    "#print new_y*[1,2,3]  \n",
    "\n",
    "#columns =['GooglePercent'] \n",
    "#new = pd.DataFrame([[ 0.8]], columns=columns)\n",
    "\n",
    "#new_y =  np.array(mlogit_res.predict(new)>=0.5, dtype=float)\n",
    "#print new_y\n",
    "#prediction=mlogit_res.predict(new)\n"
   ]
  },
  {
   "cell_type": "code",
   "execution_count": 90,
   "metadata": {
    "collapsed": false
   },
   "outputs": [
    {
     "data": {
      "text/html": [
       "<div>\n",
       "<table border=\"1\" class=\"dataframe\">\n",
       "  <thead>\n",
       "    <tr style=\"text-align: right;\">\n",
       "      <th></th>\n",
       "      <th>0</th>\n",
       "      <th>1</th>\n",
       "    </tr>\n",
       "  </thead>\n",
       "  <tbody>\n",
       "    <tr>\n",
       "      <th>GoogleHitsMale</th>\n",
       "      <td>2.909569e-08</td>\n",
       "      <td>-0.000027</td>\n",
       "    </tr>\n",
       "    <tr>\n",
       "      <th>Name_length</th>\n",
       "      <td>-1.846212e-01</td>\n",
       "      <td>-0.280680</td>\n",
       "    </tr>\n",
       "    <tr>\n",
       "      <th>NormalizedGoogleDif</th>\n",
       "      <td>-2.148792e+00</td>\n",
       "      <td>-7.019213</td>\n",
       "    </tr>\n",
       "    <tr>\n",
       "      <th>const</th>\n",
       "      <td>-8.121618e-02</td>\n",
       "      <td>0.299873</td>\n",
       "    </tr>\n",
       "  </tbody>\n",
       "</table>\n",
       "</div>"
      ],
      "text/plain": [
       "                                0         1\n",
       "GoogleHitsMale       2.909569e-08 -0.000027\n",
       "Name_length         -1.846212e-01 -0.280680\n",
       "NormalizedGoogleDif -2.148792e+00 -7.019213\n",
       "const               -8.121618e-02  0.299873"
      ]
     },
     "execution_count": 90,
     "metadata": {},
     "output_type": "execute_result"
    }
   ],
   "source": [
    "mlogit_res.params"
   ]
  },
  {
   "cell_type": "code",
   "execution_count": 91,
   "metadata": {
    "collapsed": false
   },
   "outputs": [
    {
     "name": "stdout",
     "output_type": "stream",
     "text": [
      "                            0         1\n",
      "GoogleHitsMale       1.000000  0.999973\n",
      "Name_length          0.831419  0.755270\n",
      "NormalizedGoogleDif  0.116625  0.000895\n",
      "const                0.921994  1.349688\n"
     ]
    }
   ],
   "source": [
    "# odds ratios only\n",
    "print np.exp(mlogit_res.params)"
   ]
  },
  {
   "cell_type": "code",
   "execution_count": 92,
   "metadata": {
    "collapsed": false
   },
   "outputs": [
    {
     "data": {
      "image/png": "[encoded data removed]",
      "text/plain": [
       "<matplotlib.figure.Figure at 0x7d13e90>"
      ]
     },
     "execution_count": 92,
     "metadata": {},
     "output_type": "execute_result"
    },
    {
     "data": {
      "image/png": "[encoded data removed]",
      "text/plain": [
       "<matplotlib.figure.Figure at 0x7d13e90>"
      ]
     },
     "metadata": {},
     "output_type": "display_data"
    }
   ],
   "source": [
    "sm.graphics.plot_partregress('Wiki', 'NormalizedGoogleDif', ['Name_length', 'GoogleHitsMale'], data=df, obs_labels=False)"
   ]
  },
  {
   "cell_type": "code",
   "execution_count": 93,
   "metadata": {
    "collapsed": false
   },
   "outputs": [
    {
     "data": {
      "image/png": "[encoded data removed]",
      "text/plain": [
       "<matplotlib.figure.Figure at 0x14d222d0>"
      ]
     },
     "execution_count": 93,
     "metadata": {},
     "output_type": "execute_result"
    },
    {
     "data": {
      "image/png": "[encoded data removed]",
      "text/plain": [
       "<matplotlib.figure.Figure at 0x14d222d0>"
      ]
     },
     "metadata": {},
     "output_type": "display_data"
    }
   ],
   "source": [
    "sm.graphics.plot_partregress('Wiki', 'Name_length', ['NormalizedGoogleDif', 'GoogleHitsMale'], data=df, obs_labels=False)"
   ]
  },
  {
   "cell_type": "code",
   "execution_count": 94,
   "metadata": {
    "collapsed": false
   },
   "outputs": [],
   "source": [
    "#pd.save(df, 'de/values_googlenumber_pred.csv')"
   ]
  },
  {
   "cell_type": "code",
   "execution_count": 95,
   "metadata": {
    "collapsed": false,
    "scrolled": true
   },
   "outputs": [
    {
     "name": "stdout",
     "output_type": "stream",
     "text": [
      "train: 668 test: 169\n",
      "Optimization terminated successfully.\n",
      "         Current function value: 0.104384\n",
      "         Iterations 14\n",
      "                            0          1\n",
      "NormalizedGoogleDif -1.727373 -15.639375\n",
      "Name_length         -0.172304  -0.112655\n",
      "const               -0.464301 -11.573915\n",
      "                          MNLogit Regression Results                          \n",
      "==============================================================================\n",
      "Dep. Variable:                   Wiki   No. Observations:                  668\n",
      "Model:                        MNLogit   Df Residuals:                      662\n",
      "Method:                           MLE   Df Model:                            4\n",
      "Date:                Tue, 09 Feb 2016   Pseudo R-squ.:                  0.2747\n",
      "Time:                        13:08:04   Log-Likelihood:                -69.729\n",
      "converged:                       True   LL-Null:                       -96.143\n",
      "                                        LLR p-value:                 9.258e-11\n",
      "=======================================================================================\n",
      "             Wiki=2       coef    std err          z      P>|z|      [95.0% Conf. Int.]\n",
      "---------------------------------------------------------------------------------------\n",
      "NormalizedGoogleDif    -1.7274      0.593     -2.914      0.004        -2.889    -0.565\n",
      "Name_length            -0.1723      0.061     -2.832      0.005        -0.292    -0.053\n",
      "const                  -0.4643      0.864     -0.537      0.591        -2.158     1.229\n",
      "---------------------------------------------------------------------------------------\n",
      "             Wiki=3       coef    std err          z      P>|z|      [95.0% Conf. Int.]\n",
      "---------------------------------------------------------------------------------------\n",
      "NormalizedGoogleDif   -15.6394      8.524     -1.835      0.067       -32.345     1.066\n",
      "Name_length            -0.1127      0.085     -1.325      0.185        -0.279     0.054\n",
      "const                 -11.5739      7.503     -1.543      0.123       -26.280     3.132\n",
      "=======================================================================================\n",
      "AIC: 151.457364618\n",
      "BIC: 178.483093659\n",
      "[[ 649.    0.    0.]\n",
      " [  14.    0.    1.]\n",
      " [   1.    0.    3.]]\n",
      "Accuracy: 0.976047904192\n",
      "train: 669 test: 168\n",
      "Optimization terminated successfully.\n",
      "         Current function value: 0.102932\n",
      "         Iterations 11\n",
      "                            0         1\n",
      "NormalizedGoogleDif -2.655918 -5.871285\n",
      "Name_length         -0.283474 -0.114198\n",
      "const                1.194706 -2.724967\n",
      "                          MNLogit Regression Results                          \n",
      "==============================================================================\n",
      "Dep. Variable:                   Wiki   No. Observations:                  669\n",
      "Model:                        MNLogit   Df Residuals:                      663\n",
      "Method:                           MLE   Df Model:                            4\n",
      "Date:                Tue, 09 Feb 2016   Pseudo R-squ.:                  0.3192\n",
      "Time:                        13:08:04   Log-Likelihood:                -68.861\n",
      "converged:                       True   LL-Null:                       -101.15\n",
      "                                        LLR p-value:                 3.172e-13\n",
      "=======================================================================================\n",
      "             Wiki=2       coef    std err          z      P>|z|      [95.0% Conf. Int.]\n",
      "---------------------------------------------------------------------------------------\n",
      "NormalizedGoogleDif    -2.6559      0.600     -4.428      0.000        -3.831    -1.480\n",
      "Name_length            -0.2835      0.079     -3.595      0.000        -0.438    -0.129\n",
      "const                   1.1947      0.962      1.243      0.214        -0.690     3.079\n",
      "---------------------------------------------------------------------------------------\n",
      "             Wiki=3       coef    std err          z      P>|z|      [95.0% Conf. Int.]\n",
      "---------------------------------------------------------------------------------------\n",
      "NormalizedGoogleDif    -5.8713      1.508     -3.892      0.000        -8.828    -2.915\n",
      "Name_length            -0.1142      0.064     -1.774      0.076        -0.240     0.012\n",
      "const                  -2.7250      1.365     -1.997      0.046        -5.399    -0.050\n",
      "=======================================================================================\n",
      "AIC: 149.722666542\n",
      "BIC: 176.757370903\n",
      "[[ 649.    0.    0.]\n",
      " [  13.    1.    1.]\n",
      " [   3.    0.    2.]]\n",
      "Accuracy: 0.974588938714\n",
      "train: 670 test: 167\n",
      "Optimization terminated successfully.\n",
      "         Current function value: 0.107112\n",
      "         Iterations 11\n",
      "                            0         1\n",
      "NormalizedGoogleDif -2.654823 -6.014312\n",
      "Name_length         -0.181950 -0.150066\n",
      "const                0.104772 -2.199653\n",
      "                          MNLogit Regression Results                          \n",
      "==============================================================================\n",
      "Dep. Variable:                   Wiki   No. Observations:                  670\n",
      "Model:                        MNLogit   Df Residuals:                      664\n",
      "Method:                           MLE   Df Model:                            4\n",
      "Date:                Tue, 09 Feb 2016   Pseudo R-squ.:                  0.2907\n",
      "Time:                        13:08:04   Log-Likelihood:                -71.765\n",
      "converged:                       True   LL-Null:                       -101.18\n",
      "                                        LLR p-value:                 5.130e-12\n",
      "=======================================================================================\n",
      "             Wiki=2       coef    std err          z      P>|z|      [95.0% Conf. Int.]\n",
      "---------------------------------------------------------------------------------------\n",
      "NormalizedGoogleDif    -2.6548      0.570     -4.658      0.000        -3.772    -1.538\n",
      "Name_length            -0.1820      0.058     -3.126      0.002        -0.296    -0.068\n",
      "const                   0.1048      0.846      0.124      0.901        -1.553     1.762\n",
      "---------------------------------------------------------------------------------------\n",
      "             Wiki=3       coef    std err          z      P>|z|      [95.0% Conf. Int.]\n",
      "---------------------------------------------------------------------------------------\n",
      "NormalizedGoogleDif    -6.0143      1.509     -3.984      0.000        -8.973    -3.056\n",
      "Name_length            -0.1501      0.068     -2.218      0.027        -0.283    -0.017\n",
      "const                  -2.1997      1.317     -1.670      0.095        -4.782     0.382\n",
      "=======================================================================================\n",
      "AIC: 155.530618781\n",
      "BIC: 182.574285055\n",
      "[[ 650.    0.    0.]\n",
      " [  13.    1.    1.]\n",
      " [   2.    0.    3.]]\n",
      "Accuracy: 0.976119402985\n",
      "train: 670 test: 167\n",
      "Optimization terminated successfully.\n",
      "         Current function value: 0.113045\n",
      "         Iterations 11\n",
      "                            0         1\n",
      "NormalizedGoogleDif -1.787375 -7.600935\n",
      "Name_length         -0.155533 -0.218044\n",
      "const               -0.551957 -1.500550\n",
      "                          MNLogit Regression Results                          \n",
      "==============================================================================\n",
      "Dep. Variable:                   Wiki   No. Observations:                  670\n",
      "Model:                        MNLogit   Df Residuals:                      664\n",
      "Method:                           MLE   Df Model:                            4\n",
      "Date:                Tue, 09 Feb 2016   Pseudo R-squ.:                  0.2514\n",
      "Time:                        13:08:04   Log-Likelihood:                -75.740\n",
      "converged:                       True   LL-Null:                       -101.18\n",
      "                                        LLR p-value:                 2.375e-10\n",
      "=======================================================================================\n",
      "             Wiki=2       coef    std err          z      P>|z|      [95.0% Conf. Int.]\n",
      "---------------------------------------------------------------------------------------\n",
      "NormalizedGoogleDif    -1.7874      0.662     -2.700      0.007        -3.085    -0.490\n",
      "Name_length            -0.1555      0.060     -2.591      0.010        -0.273    -0.038\n",
      "const                  -0.5520      0.949     -0.582      0.561        -2.411     1.307\n",
      "---------------------------------------------------------------------------------------\n",
      "             Wiki=3       coef    std err          z      P>|z|      [95.0% Conf. Int.]\n",
      "---------------------------------------------------------------------------------------\n",
      "NormalizedGoogleDif    -7.6009      2.356     -3.226      0.001       -12.218    -2.984\n",
      "Name_length            -0.2180      0.096     -2.265      0.024        -0.407    -0.029\n",
      "const                  -1.5005      1.493     -1.005      0.315        -4.427     1.426\n",
      "=======================================================================================\n",
      "AIC: 163.480933761\n",
      "BIC: 190.524600036\n",
      "[[ 649.    0.    1.]\n",
      " [  15.    0.    0.]\n",
      " [   3.    0.    2.]]\n",
      "Accuracy: 0.971641791045\n",
      "train: 671 test: 166\n",
      "Optimization terminated successfully.\n",
      "         Current function value: 0.111932\n",
      "         Iterations 11\n",
      "                            0         1\n",
      "NormalizedGoogleDif -2.619489 -5.824822\n",
      "Name_length         -0.188238 -0.115598\n",
      "const                0.255608 -2.582190\n",
      "                          MNLogit Regression Results                          \n",
      "==============================================================================\n",
      "Dep. Variable:                   Wiki   No. Observations:                  671\n",
      "Model:                        MNLogit   Df Residuals:                      665\n",
      "Method:                           MLE   Df Model:                            4\n",
      "Date:                Tue, 09 Feb 2016   Pseudo R-squ.:                  0.2843\n",
      "Time:                        13:08:05   Log-Likelihood:                -75.106\n",
      "converged:                       True   LL-Null:                       -104.94\n",
      "                                        LLR p-value:                 3.395e-12\n",
      "=======================================================================================\n",
      "             Wiki=2       coef    std err          z      P>|z|      [95.0% Conf. Int.]\n",
      "---------------------------------------------------------------------------------------\n",
      "NormalizedGoogleDif    -2.6195      0.559     -4.687      0.000        -3.715    -1.524\n",
      "Name_length            -0.1882      0.060     -3.136      0.002        -0.306    -0.071\n",
      "const                   0.2556      0.848      0.301      0.763        -1.407     1.918\n",
      "---------------------------------------------------------------------------------------\n",
      "             Wiki=3       coef    std err          z      P>|z|      [95.0% Conf. Int.]\n",
      "---------------------------------------------------------------------------------------\n",
      "NormalizedGoogleDif    -5.8248      1.456     -3.999      0.000        -8.679    -2.970\n",
      "Name_length            -0.1156      0.062     -1.853      0.064        -0.238     0.007\n",
      "const                  -2.5822      1.304     -1.981      0.048        -5.137    -0.027\n",
      "=======================================================================================\n",
      "AIC: 162.212185658\n",
      "BIC: 189.26480048\n",
      "[[ 650.    0.    0.]\n",
      " [  14.    1.    1.]\n",
      " [   3.    0.    2.]]\n",
      "Accuracy: 0.973174366617\n"
     ]
    }
   ],
   "source": [
    "from sklearn import cross_validation\n",
    "import statsmodels.api as sm\n",
    "from statsmodels.tools.tools import add_constant\n",
    "\n",
    "data = df#[['NormalizedGoogleDif']]\n",
    "\n",
    "\n",
    "data=sm.add_constant(data, prepend=False)\n",
    "#print \"Wiki=1, i.e., male bias is the reference group while it is the most frequent one.\"\n",
    "\n",
    "cols_to_keep = ['NormalizedGoogleDif','Name_length','const']\n",
    "\n",
    "y=data['Wiki']\n",
    "X=data[cols_to_keep]\n",
    "#print X\n",
    "scores = []\n",
    "skf = cross_validation.StratifiedKFold(y, n_folds=5,shuffle=True)\n",
    "k=0\n",
    "for train_index, test_index in skf:  \n",
    "    y_train, y_test = y[train_index], y[test_index]\n",
    "    #X_train, X_test = X.GooglePercent[train_index], X.GooglePercent[test_index] \n",
    "    X_train, X_test = X.iloc[train_index,:], X.iloc[test_index,:]#X.iloc[0,:] <- for all train_cols\n",
    "    #print \"train:\",X_train,\"==test\", X_test\n",
    "    #print \"train:\",(y_train), \"test:\",(y_test)\n",
    "    print \"train:\",len(y_train), \"test:\",len(y_test)\n",
    "    res1 = sm.MNLogit(y_train, X_train) \n",
    "    mlogit_res = res1.fit()\n",
    "    print mlogit_res.params\n",
    "    print mlogit_res.summary()\n",
    "    #inter, slope=mlogit_res.params\n",
    "    #print inter+ages.mean()*slope\n",
    "\n",
    "    ### aic and bic ###\n",
    "    print \"AIC:\",mlogit_res.aic\n",
    "    print \"BIC:\",mlogit_res.bic\n",
    "    \n",
    "    mlogit_margeff = mlogit_res.get_margeff()\n",
    "    #print mlogit_margeff.summary()\n",
    "\n",
    "    predict= np.array(mlogit_res.predict() > 0.5, dtype=float)\n",
    "    #print predict\n",
    "    scores.append(predict)\n",
    "    \n",
    "    #pred_table[i,j] refers to the number of times \"i\" was observed and\n",
    "    #the model predicted \"j\". Correct predictions are along the diagonal.\n",
    "    print mlogit_res.pred_table()\n",
    "    acc=float(sum(mlogit_res.pred_table().diagonal()))/float(len(y_train))\n",
    "    print \"Accuracy:\",acc\n",
    "    k+=1"
   ]
  },
  {
   "cell_type": "code",
   "execution_count": null,
   "metadata": {
    "collapsed": true
   },
   "outputs": [],
   "source": [
    "###we exclude neutral case"
   ]
  },
  {
   "cell_type": "code",
   "execution_count": 235,
   "metadata": {
    "collapsed": false
   },
   "outputs": [
    {
     "name": "stdout",
     "output_type": "stream",
     "text": [
      "Wiki=1, i.e., male bias is the reference group while it is the most frequent one.\n",
      "Optimization terminated successfully.\n",
      "         Current function value: 0.018498\n",
      "         Iterations 12\n",
      "                            0\n",
      "NormalizedGoogleDif -5.307972\n",
      "const               -5.065929\n",
      "                          MNLogit Regression Results                          \n",
      "==============================================================================\n",
      "Dep. Variable:                   Wiki   No. Observations:                  818\n",
      "Model:                        MNLogit   Df Residuals:                      816\n",
      "Method:                           MLE   Df Model:                            1\n",
      "Date:                Tue, 09 Feb 2016   Pseudo R-squ.:                  0.5734\n",
      "Time:                        13:51:18   Log-Likelihood:                -15.131\n",
      "converged:                       True   LL-Null:                       -35.469\n",
      "                                        LLR p-value:                 1.798e-10\n",
      "=======================================================================================\n",
      "             Wiki=3       coef    std err          z      P>|z|      [95.0% Conf. Int.]\n",
      "---------------------------------------------------------------------------------------\n",
      "NormalizedGoogleDif    -5.3080      1.414     -3.755      0.000        -8.079    -2.537\n",
      "const                  -5.0659      1.028     -4.928      0.000        -7.081    -3.051\n",
      "=======================================================================================\n",
      "AIC: 34.2624122444\n",
      "BIC: 43.6761369176\n",
      "[[ 812.    0.]\n",
      " [   4.    2.]]\n",
      "Accuracy: 0.99511002445\n"
     ]
    }
   ],
   "source": [
    "from sklearn import cross_validation\n",
    "import statsmodels.api as sm\n",
    "from statsmodels.tools.tools import add_constant\n",
    "\n",
    "data = df[df.Wiki!=2]\n",
    "\n",
    "\n",
    "\n",
    "print \"Wiki=1, i.e., male bias is the reference group while it is the most frequent one.\"\n",
    "\n",
    "y=data['Wiki']\n",
    "X=data[['NormalizedGoogleDif']]#,\"Name_length\"]]\n",
    "X=sm.add_constant(X, prepend=False)\n",
    "#skf = cross_validation.StratifiedKFold(y, n_folds=2,shuffle=True)\n",
    "#for train_index, test_index in skf:  \n",
    "if True:\n",
    "    #y_train, y_test = y[train_index], y[test_index]\n",
    "    #X_train, X_test = X.iloc[train_index,:], X.iloc[test_index,:]#X.iloc[0,:] <- for all train_cols\n",
    "    #print \"train:\",len(y_train), \"test:\",len(y_test)\n",
    "    res1 = sm.MNLogit(y,X)#(y_train, X_train) \n",
    "    mlogit_res = res1.fit()\n",
    "    print mlogit_res.params\n",
    "    print mlogit_res.summary()\n",
    "    #inter, slope=mlogit_res.params\n",
    "    #print inter+ages.mean()*slope\n",
    "\n",
    "    ### aic and bic ###\n",
    "    print \"AIC:\",mlogit_res.aic\n",
    "    print \"BIC:\",mlogit_res.bic\n",
    "    \n",
    "    #mlogit_margeff = mlogit_res.get_margeff()\n",
    "    #print mlogit_margeff.summary()\n",
    "\n",
    "    predict= np.array(mlogit_res.predict() > 0.5, dtype=float)\n",
    "    \n",
    "    #pred_table[i,j] refers to the number of times \"i\" was observed and\n",
    "    #the model predicted \"j\". Correct predictions are along the diagonal.\n",
    "    print mlogit_res.pred_table()\n",
    "    acc=float(sum(mlogit_res.pred_table().diagonal()))/float(len(y))\n",
    "    print \"Accuracy:\",acc\n",
    "    \n",
    "\n"
   ]
  },
  {
   "cell_type": "markdown",
   "metadata": {
    "collapsed": true
   },
   "source": [
    "# Logistic Regression (Male bias) for all data"
   ]
  },
  {
   "cell_type": "code",
   "execution_count": 8,
   "metadata": {
    "collapsed": false
   },
   "outputs": [
    {
     "name": "stdout",
     "output_type": "stream",
     "text": [
      "                         Wiki_1  Wiki_2  Wiki_3\n",
      "Fahrzeuginnenausstatter       1       0       0\n",
      "Audiodesigner                 0       1       0\n",
      "Jäger                         1       0       0\n",
      "Zusteller                     1       0       0\n",
      "Revierjäger                   1       0       0\n",
      "Optimization terminated successfully.\n",
      "         Current function value: 0.103312\n",
      "         Iterations 9\n",
      "NormalizedGoogleDif    2.986831\n",
      "Name_length            0.158374\n",
      "intercept             -0.211111\n",
      "dtype: float64\n",
      "                           Logit Regression Results                           \n",
      "==============================================================================\n",
      "Dep. Variable:                 Wiki_1   No. Observations:                  837\n",
      "Model:                          Logit   Df Residuals:                      834\n",
      "Method:                           MLE   Df Model:                            2\n",
      "Date:                Mon, 15 Feb 2016   Pseudo R-squ.:                  0.2306\n",
      "Time:                        23:33:40   Log-Likelihood:                -86.473\n",
      "converged:                       True   LL-Null:                       -112.40\n",
      "                                        LLR p-value:                 5.512e-12\n",
      "=======================================================================================\n",
      "                          coef    std err          z      P>|z|      [95.0% Conf. Int.]\n",
      "---------------------------------------------------------------------------------------\n",
      "NormalizedGoogleDif     2.9868      0.447      6.689      0.000         2.112     3.862\n",
      "Name_length             0.1584      0.042      3.751      0.000         0.076     0.241\n",
      "intercept              -0.2111      0.664     -0.318      0.751        -1.513     1.091\n",
      "=======================================================================================\n",
      "AIC: 178.945089956\n",
      "BIC: 193.134562168\n",
      "[[   4.   21.]\n",
      " [   0.  812.]]\n",
      "Accuracy: 0.974910394265\n",
      "Odds:\n",
      "NormalizedGoogleDif    19.822768\n",
      "Name_length             1.171604\n",
      "intercept               0.809684\n",
      "dtype: float64\n",
      "p:\n",
      "NormalizedGoogleDif    0.951976\n",
      "Name_length            0.539511\n",
      "intercept              0.447417\n",
      "dtype: float64\n"
     ]
    }
   ],
   "source": [
    "from sklearn import cross_validation\n",
    "import statsmodels.api as sm\n",
    "from statsmodels.tools.tools import add_constant\n",
    "data = df\n",
    "#data=df\n",
    "\n",
    "\n",
    "#print \"Wiki=1, i.e., male bias is the reference group while it is the most frequent one.\"\n",
    "\n",
    "#y=data['Wiki']\n",
    "dummy_wiki = pd.get_dummies(data['Wiki'], prefix='Wiki')\n",
    "print dummy_wiki.head()\n",
    "y_all=[dummy_wiki[\"Wiki_3\"],dummy_wiki[\"Wiki_1\"]]\n",
    "y=y_all[1]\n",
    "X=data[['NormalizedGoogleDif',\"Name_length\"]]\n",
    "X=sm.add_constant(X, prepend=False)\n",
    "X=X.rename(columns = {'const':'intercept'})\n",
    "if True:\n",
    "\n",
    "    res1 = sm.Logit(y,X)#(y_train, X_train) \n",
    "    mlogit_res = res1.fit()\n",
    "    print mlogit_res.params\n",
    "    print mlogit_res.summary()\n",
    "    #inter, slope=mlogit_res.params\n",
    "    #print inter+ages.mean()*slope\n",
    "\n",
    "    ### aic and bic ###\n",
    "    print \"AIC:\",mlogit_res.aic\n",
    "    print \"BIC:\",mlogit_res.bic\n",
    "    predict= np.array(mlogit_res.predict() > 0.5, dtype=float)\n",
    "    print mlogit_res.pred_table()\n",
    "    acc=float(sum(mlogit_res.pred_table().diagonal()))/float(len(y))\n",
    "    print \"Accuracy:\",acc\n",
    "    \n",
    "\n",
    "print \"Odds:\\n\", np.exp(mlogit_res.params)\n",
    "print \"p:\\n\", np.exp(mlogit_res.params)/(1+np.exp(mlogit_res.params))"
   ]
  },
  {
   "cell_type": "markdown",
   "metadata": {},
   "source": [
    "# Logistic Regression (Female bias) for all data"
   ]
  },
  {
   "cell_type": "code",
   "execution_count": 269,
   "metadata": {
    "collapsed": false
   },
   "outputs": [
    {
     "name": "stdout",
     "output_type": "stream",
     "text": [
      "                         Wiki_1  Wiki_2  Wiki_3\n",
      "Fahrzeuginnenausstatter       1       0       0\n",
      "Audiodesigner                 0       1       0\n",
      "Jäger                         1       0       0\n",
      "Zusteller                     1       0       0\n",
      "Revierjäger                   1       0       0\n",
      "Optimization terminated successfully.\n",
      "         Current function value: 0.016756\n",
      "         Iterations 12\n",
      "NormalizedGoogleDif   -5.788581\n",
      "Name_length           -0.100523\n",
      "intercept             -3.296040\n",
      "dtype: float64\n",
      "                           Logit Regression Results                           \n",
      "==============================================================================\n",
      "Dep. Variable:                 Wiki_3   No. Observations:                  837\n",
      "Model:                          Logit   Df Residuals:                      834\n",
      "Method:                           MLE   Df Model:                            2\n",
      "Date:                Tue, 09 Feb 2016   Pseudo R-squ.:                  0.6061\n",
      "Time:                        14:05:26   Log-Likelihood:                -14.025\n",
      "converged:                       True   LL-Null:                       -35.607\n",
      "                                        LLR p-value:                 4.236e-10\n",
      "=======================================================================================\n",
      "                          coef    std err          z      P>|z|      [95.0% Conf. Int.]\n",
      "---------------------------------------------------------------------------------------\n",
      "NormalizedGoogleDif    -5.7886      1.493     -3.878      0.000        -8.714    -2.863\n",
      "Name_length            -0.1005      0.056     -1.799      0.072        -0.210     0.009\n",
      "intercept              -3.2960      1.272     -2.590      0.010        -5.790    -0.802\n",
      "=======================================================================================\n",
      "AIC: 34.0490311904\n",
      "BIC: 48.2385034019\n",
      "[[ 830.    1.]\n",
      " [   3.    3.]]\n",
      "Accuracy: 0.995221027479\n",
      "Odds:\n",
      "NormalizedGoogleDif    0.003062\n",
      "Name_length            0.904364\n",
      "intercept              0.037030\n",
      "dtype: float64\n",
      "p:\n",
      "NormalizedGoogleDif    0.003053\n",
      "Name_length            0.474890\n",
      "intercept              0.035707\n",
      "dtype: float64\n"
     ]
    }
   ],
   "source": [
    "from sklearn import cross_validation\n",
    "import statsmodels.api as sm\n",
    "from statsmodels.tools.tools import add_constant\n",
    "data = df\n",
    "#data=df\n",
    "\n",
    "\n",
    "#print \"Wiki=1, i.e., male bias is the reference group while it is the most frequent one.\"\n",
    "\n",
    "#y=data['Wiki']\n",
    "dummy_wiki = pd.get_dummies(data['Wiki'], prefix='Wiki')\n",
    "print dummy_wiki.head()\n",
    "y_all=[dummy_wiki[\"Wiki_3\"],dummy_wiki[\"Wiki_1\"]]\n",
    "y=y_all[0]\n",
    "X=data[['NormalizedGoogleDif',\"Name_length\"]]\n",
    "X=sm.add_constant(X, prepend=False)\n",
    "X=X.rename(columns = {'const':'intercept'})\n",
    "#skf = cross_validation.StratifiedKFold(y, n_folds=5,shuffle=True)\n",
    "#for train_index, test_index in skf:  \n",
    "if True:\n",
    "    #y_train, y_test = y[train_index], y[test_index]\n",
    "    #X_train, X_test = X.iloc[train_index,:], X.iloc[test_index,:]#X.iloc[0,:] <- for all train_cols\n",
    "    #print \"train:\",len(y_train), \"test:\",len(y_test)\n",
    "    res1 = sm.Logit(y,X)#(y_train, X_train) \n",
    "    mlogit_res = res1.fit()\n",
    "    print mlogit_res.params\n",
    "    print mlogit_res.summary()\n",
    "    #inter, slope=mlogit_res.params\n",
    "    #print inter+ages.mean()*slope\n",
    "\n",
    "    ### aic and bic ###\n",
    "    print \"AIC:\",mlogit_res.aic\n",
    "    print \"BIC:\",mlogit_res.bic\n",
    "    \n",
    "    #mlogit_margeff = mlogit_res.get_margeff()\n",
    "    #print mlogit_margeff.summary()\n",
    "\n",
    "    predict= np.array(mlogit_res.predict() > 0.5, dtype=float)\n",
    "    \n",
    "    #pred_table[i,j] refers to the number of times \"i\" was observed and\n",
    "    #the model predicted \"j\". Correct predictions are along the diagonal.\n",
    "    print mlogit_res.pred_table()\n",
    "    acc=float(sum(mlogit_res.pred_table().diagonal()))/float(len(y))\n",
    "    print \"Accuracy:\",acc\n",
    "    \n",
    "\n",
    "print \"Odds:\\n\", np.exp(mlogit_res.params)\n",
    "print \"p:\\n\", np.exp(mlogit_res.params)/(1+np.exp(mlogit_res.params))"
   ]
  },
  {
   "cell_type": "code",
   "execution_count": 44,
   "metadata": {
    "collapsed": false
   },
   "outputs": [
    {
     "name": "stdout",
     "output_type": "stream",
     "text": [
      "                         Wiki_1  Wiki_2  Wiki_3\n",
      "Fahrzeuginnenausstatter       1       0       0\n",
      "Audiodesigner                 0       1       0\n",
      "Jäger                         1       0       0\n",
      "Zusteller                     1       0       0\n",
      "Revierjäger                   1       0       0\n",
      "Optimization terminated successfully.\n",
      "         Current function value: 0.016756\n",
      "         Iterations 12\n",
      "NormalizedGoogleDif   -5.788581\n",
      "Name_length           -0.100523\n",
      "intercept             -3.296040\n",
      "dtype: float64\n",
      "                           Logit Regression Results                           \n",
      "==============================================================================\n",
      "Dep. Variable:                 Wiki_3   No. Observations:                  837\n",
      "Model:                          Logit   Df Residuals:                      834\n",
      "Method:                           MLE   Df Model:                            2\n",
      "Date:                Tue, 16 Feb 2016   Pseudo R-squ.:                  0.6061\n",
      "Time:                        00:05:58   Log-Likelihood:                -14.025\n",
      "converged:                       True   LL-Null:                       -35.607\n",
      "                                        LLR p-value:                 4.236e-10\n",
      "=======================================================================================\n",
      "                          coef    std err          z      P>|z|      [95.0% Conf. Int.]\n",
      "---------------------------------------------------------------------------------------\n",
      "NormalizedGoogleDif    -5.7886      1.493     -3.878      0.000        -8.714    -2.863\n",
      "Name_length            -0.1005      0.056     -1.799      0.072        -0.210     0.009\n",
      "intercept              -3.2960      1.272     -2.590      0.010        -5.790    -0.802\n",
      "=======================================================================================\n",
      "AIC: 34.0490311904\n",
      "BIC: 48.2385034019\n",
      "[[ 830.    1.]\n",
      " [   3.    3.]]\n",
      "Accuracy: 0.995221027479\n",
      "Odds:\n",
      "NormalizedGoogleDif    0.003062\n",
      "Name_length            0.904364\n",
      "intercept              0.037030\n",
      "dtype: float64\n",
      "p:\n",
      "NormalizedGoogleDif    0.003053\n",
      "Name_length            0.474890\n",
      "intercept              0.035707\n",
      "dtype: float64\n",
      "NormalizedGoogleDif    0.000105\n",
      "Name_length            0.071946\n",
      "intercept              0.009586\n",
      "dtype: float64\n"
     ]
    }
   ],
   "source": [
    "from sklearn import cross_validation\n",
    "import statsmodels.api as sm\n",
    "from statsmodels.tools.tools import add_constant\n",
    "data = df\n",
    "#data=df\n",
    "\n",
    "\n",
    "#print \"Wiki=1, i.e., male bias is the reference group while it is the most frequent one.\"\n",
    "\n",
    "#y=data['Wiki']\n",
    "dummy_wiki = pd.get_dummies(data['Wiki'], prefix='Wiki')\n",
    "print dummy_wiki.head()\n",
    "y_all=[dummy_wiki[\"Wiki_3\"],dummy_wiki[\"Wiki_1\"]]\n",
    "y=y_all[0]\n",
    "X=data[['NormalizedGoogleDif',\"Name_length\"]]\n",
    "X=sm.add_constant(X, prepend=False)\n",
    "X=X.rename(columns = {'const':'intercept'})\n",
    "#skf = cross_validation.StratifiedKFold(y, n_folds=5,shuffle=True)\n",
    "#for train_index, test_index in skf:  \n",
    "if True:\n",
    "    #y_train, y_test = y[train_index], y[test_index]\n",
    "    #X_train, X_test = X.iloc[train_index,:], X.iloc[test_index,:]#X.iloc[0,:] <- for all train_cols\n",
    "    #print \"train:\",len(y_train), \"test:\",len(y_test)\n",
    "    res1 = sm.Logit(y,X)#(y_train, X_train) \n",
    "    mlogit_res = res1.fit()\n",
    "    print mlogit_res.params\n",
    "    print mlogit_res.summary()\n",
    "    #inter, slope=mlogit_res.params\n",
    "    #print inter+ages.mean()*slope\n",
    "\n",
    "    ### aic and bic ###\n",
    "    print \"AIC:\",mlogit_res.aic\n",
    "    print \"BIC:\",mlogit_res.bic\n",
    "    \n",
    "    #mlogit_margeff = mlogit_res.get_margeff()\n",
    "    #print mlogit_margeff.summary()\n",
    "\n",
    "    predict= np.array(mlogit_res.predict() > 0.5, dtype=float)\n",
    "    \n",
    "    #pred_table[i,j] refers to the number of times \"i\" was observed and\n",
    "    #the model predicted \"j\". Correct predictions are along the diagonal.\n",
    "    print mlogit_res.pred_table()\n",
    "    acc=float(sum(mlogit_res.pred_table().diagonal()))/float(len(y))\n",
    "    print \"Accuracy:\",acc\n",
    "    \n",
    "\n",
    "print \"Odds:\\n\", np.exp(mlogit_res.params)\n",
    "print \"p:\\n\", np.exp(mlogit_res.params)/(1+np.exp(mlogit_res.params))\n",
    "print mlogit_res.pvalues"
   ]
  },
  {
   "cell_type": "code",
   "execution_count": 270,
   "metadata": {
    "collapsed": false
   },
   "outputs": [
    {
     "name": "stdout",
     "output_type": "stream",
     "text": [
      "Probability of being in a Female Bias class when Normalized GoogleDif increase by a unit is 0.003\n",
      "Probability of being in a Female Bias class when length of the name increase by a unit is 0.47\n",
      "Probability of being in a Female Bias class in general is 0.035\n"
     ]
    }
   ],
   "source": [
    "print \"Probability of being in a Female Bias class when Normalized GoogleDif increase by a unit is 0.003\"\n",
    "print \"Probability of being in a Female Bias class when length of the name increase by a unit is 0.47\"\n",
    "print \"Probability of being in a Female Bias class in general is 0.035\""
   ]
  },
  {
   "cell_type": "code",
   "execution_count": 271,
   "metadata": {
    "collapsed": false
   },
   "outputs": [
    {
     "name": "stdout",
     "output_type": "stream",
     "text": [
      "                         Wiki_1  Wiki_2  Wiki_3\n",
      "Fahrzeuginnenausstatter       1       0       0\n",
      "Audiodesigner                 0       1       0\n",
      "Jäger                         1       0       0\n",
      "Zusteller                     1       0       0\n",
      "Revierjäger                   1       0       0\n",
      "Optimization terminated successfully.\n",
      "         Current function value: 0.102696\n",
      "         Iterations 9\n",
      "NormalizedGoogleDif    3.030334e+00\n",
      "Name_length            1.547244e-01\n",
      "GoogleHitsMale        -1.496188e-08\n",
      "intercept             -1.437398e-01\n",
      "dtype: float64\n",
      "                           Logit Regression Results                           \n",
      "==============================================================================\n",
      "Dep. Variable:                 Wiki_1   No. Observations:                  837\n",
      "Model:                          Logit   Df Residuals:                      833\n",
      "Method:                           MLE   Df Model:                            3\n",
      "Date:                Tue, 09 Feb 2016   Pseudo R-squ.:                  0.2352\n",
      "Time:                        14:11:37   Log-Likelihood:                -85.957\n",
      "converged:                       True   LL-Null:                       -112.40\n",
      "                                        LLR p-value:                 1.945e-11\n",
      "=======================================================================================\n",
      "                          coef    std err          z      P>|z|      [95.0% Conf. Int.]\n",
      "---------------------------------------------------------------------------------------\n",
      "NormalizedGoogleDif     3.0303      0.452      6.712      0.000         2.145     3.915\n",
      "Name_length             0.1547      0.042      3.685      0.000         0.072     0.237\n",
      "GoogleHitsMale      -1.496e-08   1.21e-08     -1.237      0.216     -3.87e-08  8.74e-09\n",
      "intercept              -0.1437      0.666     -0.216      0.829        -1.449     1.162\n",
      "=======================================================================================\n",
      "AIC: 179.913476392\n",
      "BIC: 198.832772674\n",
      "[[   4.   21.]\n",
      " [   0.  812.]]\n",
      "Accuracy: 0.974910394265\n"
     ]
    }
   ],
   "source": [
    "from sklearn import cross_validation\n",
    "import statsmodels.api as sm\n",
    "from statsmodels.tools.tools import add_constant\n",
    "data = df\n",
    "#data=df\n",
    "\n",
    "\n",
    "#print \"Wiki=1, i.e., male bias is the reference group while it is the most frequent one.\"\n",
    "\n",
    "#y=data['Wiki']\n",
    "dummy_wiki = pd.get_dummies(data['Wiki'], prefix='Wiki')\n",
    "print dummy_wiki.head()\n",
    "y_all=[dummy_wiki[\"Wiki_3\"],dummy_wiki[\"Wiki_1\"]]\n",
    "y=y_all[1]\n",
    "X=data[['NormalizedGoogleDif',\"Name_length\",\"GoogleHitsMale\"]]\n",
    "X=sm.add_constant(X, prepend=False)\n",
    "X=X.rename(columns = {'const':'intercept'})\n",
    "#skf = cross_validation.StratifiedKFold(y, n_folds=5,shuffle=True)\n",
    "#for train_index, test_index in skf:  \n",
    "if True:\n",
    "    #y_train, y_test = y[train_index], y[test_index]\n",
    "    #X_train, X_test = X.iloc[train_index,:], X.iloc[test_index,:]#X.iloc[0,:] <- for all train_cols\n",
    "    #print \"train:\",len(y_train), \"test:\",len(y_test)\n",
    "    res1 = sm.Logit(y,X)#(y_train, X_train) \n",
    "    mlogit_res = res1.fit()\n",
    "    print mlogit_res.params\n",
    "    print mlogit_res.summary()\n",
    "    #inter, slope=mlogit_res.params\n",
    "    #print inter+ages.mean()*slope\n",
    "\n",
    "    ### aic and bic ###\n",
    "    print \"AIC:\",mlogit_res.aic\n",
    "    print \"BIC:\",mlogit_res.bic\n",
    "    \n",
    "    #mlogit_margeff = mlogit_res.get_margeff()\n",
    "    #print mlogit_margeff.summary()\n",
    "\n",
    "    predict= np.array(mlogit_res.predict() > 0.5, dtype=float)\n",
    "    \n",
    "    #pred_table[i,j] refers to the number of times \"i\" was observed and\n",
    "    #the model predicted \"j\". Correct predictions are along the diagonal.\n",
    "    print mlogit_res.pred_table()\n",
    "    acc=float(sum(mlogit_res.pred_table().diagonal()))/float(len(y))\n",
    "    print \"Accuracy:\",acc\n",
    "    \n",
    "\n"
   ]
  },
  {
   "cell_type": "markdown",
   "metadata": {},
   "source": [
    "# Logistic Regression (Male bias)  without neotral group"
   ]
  },
  {
   "cell_type": "code",
   "execution_count": 272,
   "metadata": {
    "collapsed": false
   },
   "outputs": [
    {
     "name": "stdout",
     "output_type": "stream",
     "text": [
      "                         Wiki_1  Wiki_3\n",
      "Fahrzeuginnenausstatter       1       0\n",
      "Jäger                         1       0\n",
      "Zusteller                     1       0\n",
      "Revierjäger                   1       0\n",
      "Justiziar                     1       0\n",
      "Optimization terminated successfully.\n",
      "         Current function value: 0.018498\n",
      "         Iterations 12\n",
      "NormalizedGoogleDif    5.307972\n",
      "intercept              5.065929\n",
      "dtype: float64\n",
      "                           Logit Regression Results                           \n",
      "==============================================================================\n",
      "Dep. Variable:                 Wiki_1   No. Observations:                  818\n",
      "Model:                          Logit   Df Residuals:                      816\n",
      "Method:                           MLE   Df Model:                            1\n",
      "Date:                Tue, 09 Feb 2016   Pseudo R-squ.:                  0.5734\n",
      "Time:                        14:11:59   Log-Likelihood:                -15.131\n",
      "converged:                       True   LL-Null:                       -35.469\n",
      "                                        LLR p-value:                 1.798e-10\n",
      "=======================================================================================\n",
      "                          coef    std err          z      P>|z|      [95.0% Conf. Int.]\n",
      "---------------------------------------------------------------------------------------\n",
      "NormalizedGoogleDif     5.3080      1.414      3.755      0.000         2.537     8.079\n",
      "intercept               5.0659      1.028      4.928      0.000         3.051     7.081\n",
      "=======================================================================================\n",
      "AIC: 34.2624122444\n",
      "BIC: 43.6761369176\n",
      "[[   2.    4.]\n",
      " [   0.  812.]]\n",
      "Accuracy: 0.99511002445\n"
     ]
    }
   ],
   "source": [
    "from sklearn import cross_validation\n",
    "import statsmodels.api as sm\n",
    "from statsmodels.tools.tools import add_constant\n",
    "\n",
    "data = df[df.Wiki!=2]\n",
    "#data=df\n",
    "\n",
    "\n",
    "#print \"Wiki=1, i.e., male bias is the reference group while it is the most frequent one.\"\n",
    "\n",
    "#y=data['Wiki']\n",
    "dummy_wiki = pd.get_dummies(data['Wiki'], prefix='Wiki')\n",
    "print dummy_wiki.head()\n",
    "y_all=[dummy_wiki[\"Wiki_3\"],dummy_wiki[\"Wiki_1\"]]\n",
    "y=y_all[1]\n",
    "X=data[['NormalizedGoogleDif']]\n",
    "X=sm.add_constant(X, prepend=False)\n",
    "X=X.rename(columns = {'const':'intercept'})\n",
    "#skf = cross_validation.StratifiedKFold(y, n_folds=5,shuffle=True)\n",
    "#for train_index, test_index in skf:  \n",
    "if True:\n",
    "    #y_train, y_test = y[train_index], y[test_index]\n",
    "    #X_train, X_test = X.iloc[train_index,:], X.iloc[test_index,:]#X.iloc[0,:] <- for all train_cols\n",
    "    #print \"train:\",len(y_train), \"test:\",len(y_test)\n",
    "    res1 = sm.Logit(y,X)#(y_train, X_train) \n",
    "    mlogit_res = res1.fit()\n",
    "    print mlogit_res.params\n",
    "    print mlogit_res.summary()\n",
    "    #inter, slope=mlogit_res.params\n",
    "    #print inter+ages.mean()*slope\n",
    "\n",
    "    ### aic and bic ###\n",
    "    print \"AIC:\",mlogit_res.aic\n",
    "    print \"BIC:\",mlogit_res.bic\n",
    "    \n",
    "    #mlogit_margeff = mlogit_res.get_margeff()\n",
    "    #print mlogit_margeff.summary()\n",
    "\n",
    "    predict= np.array(mlogit_res.predict() > 0.5, dtype=float)\n",
    "    \n",
    "    #pred_table[i,j] refers to the number of times \"i\" was observed and\n",
    "    #the model predicted \"j\". Correct predictions are along the diagonal.\n",
    "    print mlogit_res.pred_table()\n",
    "    acc=float(sum(mlogit_res.pred_table().diagonal()))/float(len(y))\n",
    "    print \"Accuracy:\",acc\n",
    "    \n",
    "\n"
   ]
  },
  {
   "cell_type": "markdown",
   "metadata": {},
   "source": [
    "# Logistic Regression (Male bias)  without neotral group. With cross fold validation"
   ]
  },
  {
   "cell_type": "code",
   "execution_count": 273,
   "metadata": {
    "collapsed": false
   },
   "outputs": [
    {
     "name": "stdout",
     "output_type": "stream",
     "text": [
      "Optimization terminated successfully.\n",
      "         Current function value: 0.007064\n",
      "         Iterations 13\n",
      "                           Logit Regression Results                           \n",
      "==============================================================================\n",
      "Dep. Variable:                 Wiki_1   No. Observations:                  653\n",
      "Model:                          Logit   Df Residuals:                      650\n",
      "Method:                           MLE   Df Model:                            2\n",
      "Date:                Tue, 09 Feb 2016   Pseudo R-squ.:                  0.8107\n",
      "Time:                        14:12:21   Log-Likelihood:                -4.6129\n",
      "converged:                       True   LL-Null:                       -24.369\n",
      "                                        LLR p-value:                 2.631e-09\n",
      "=======================================================================================\n",
      "                          coef    std err          z      P>|z|      [95.0% Conf. Int.]\n",
      "---------------------------------------------------------------------------------------\n",
      "NormalizedGoogleDif    11.4974      4.560      2.521      0.012         2.560    20.435\n",
      "Name_length             0.3542      0.188      1.883      0.060        -0.015     0.723\n",
      "intercept               1.1738      2.454      0.478      0.632        -3.636     5.984\n",
      "=======================================================================================\n",
      "Optimization terminated successfully.\n",
      "         Current function value: 0.011361\n",
      "         Iterations 13\n",
      "                           Logit Regression Results                           \n",
      "==============================================================================\n",
      "Dep. Variable:                 Wiki_1   No. Observations:                  654\n",
      "Model:                          Logit   Df Residuals:                      651\n",
      "Method:                           MLE   Df Model:                            2\n",
      "Date:                Tue, 09 Feb 2016   Pseudo R-squ.:                  0.7468\n",
      "Time:                        14:12:21   Log-Likelihood:                -7.4302\n",
      "converged:                       True   LL-Null:                       -29.349\n",
      "                                        LLR p-value:                 3.025e-10\n",
      "=======================================================================================\n",
      "                          coef    std err          z      P>|z|      [95.0% Conf. Int.]\n",
      "---------------------------------------------------------------------------------------\n",
      "NormalizedGoogleDif    10.2538      3.899      2.630      0.009         2.611    17.896\n",
      "Name_length             0.3579      0.159      2.254      0.024         0.047     0.669\n",
      "intercept              -0.2891      1.856     -0.156      0.876        -3.926     3.348\n",
      "=======================================================================================\n",
      "Optimization terminated successfully.\n",
      "         Current function value: 0.013648\n",
      "         Iterations 12\n",
      "                           Logit Regression Results                           \n",
      "==============================================================================\n",
      "Dep. Variable:                 Wiki_1   No. Observations:                  655\n",
      "Model:                          Logit   Df Residuals:                      652\n",
      "Method:                           MLE   Df Model:                            2\n",
      "Date:                Tue, 09 Feb 2016   Pseudo R-squ.:                  0.6955\n",
      "Time:                        14:12:21   Log-Likelihood:                -8.9393\n",
      "converged:                       True   LL-Null:                       -29.357\n",
      "                                        LLR p-value:                 1.358e-09\n",
      "=======================================================================================\n",
      "                          coef    std err          z      P>|z|      [95.0% Conf. Int.]\n",
      "---------------------------------------------------------------------------------------\n",
      "NormalizedGoogleDif     8.0372      2.572      3.125      0.002         2.997    13.077\n",
      "Name_length             0.2134      0.110      1.934      0.053        -0.003     0.430\n",
      "intercept               1.6299      1.620      1.006      0.314        -1.545     4.805\n",
      "=======================================================================================\n",
      "Optimization terminated successfully.\n",
      "         Current function value: 0.011631\n",
      "         Iterations 13\n",
      "                           Logit Regression Results                           \n",
      "==============================================================================\n",
      "Dep. Variable:                 Wiki_1   No. Observations:                  655\n",
      "Model:                          Logit   Df Residuals:                      652\n",
      "Method:                           MLE   Df Model:                            2\n",
      "Date:                Tue, 09 Feb 2016   Pseudo R-squ.:                  0.7405\n",
      "Time:                        14:12:21   Log-Likelihood:                -7.6182\n",
      "converged:                       True   LL-Null:                       -29.357\n",
      "                                        LLR p-value:                 3.623e-10\n",
      "=======================================================================================\n",
      "                          coef    std err          z      P>|z|      [95.0% Conf. Int.]\n",
      "---------------------------------------------------------------------------------------\n",
      "NormalizedGoogleDif     8.6204      2.873      3.001      0.003         2.990    14.251\n",
      "Name_length             0.2163      0.104      2.082      0.037         0.013     0.420\n",
      "intercept               2.3644      2.047      1.155      0.248        -1.649     6.377\n",
      "=======================================================================================\n",
      "Optimization terminated successfully.\n",
      "         Current function value: 0.012988\n",
      "         Iterations 12\n",
      "                           Logit Regression Results                           \n",
      "==============================================================================\n",
      "Dep. Variable:                 Wiki_1   No. Observations:                  655\n",
      "Model:                          Logit   Df Residuals:                      652\n",
      "Method:                           MLE   Df Model:                            2\n",
      "Date:                Tue, 09 Feb 2016   Pseudo R-squ.:                  0.7102\n",
      "Time:                        14:12:21   Log-Likelihood:                -8.5071\n",
      "converged:                       True   LL-Null:                       -29.357\n",
      "                                        LLR p-value:                 8.812e-10\n",
      "=======================================================================================\n",
      "                          coef    std err          z      P>|z|      [95.0% Conf. Int.]\n",
      "---------------------------------------------------------------------------------------\n",
      "NormalizedGoogleDif     7.8833      2.374      3.321      0.001         3.231    12.536\n",
      "Name_length             0.2628      0.120      2.197      0.028         0.028     0.497\n",
      "intercept               0.8683      1.664      0.522      0.602        -2.393     4.130\n",
      "=======================================================================================\n",
      "NormalizedGoogleDif    11.497387\n",
      "Name_length             0.354231\n",
      "intercept               1.173835\n",
      "dtype: float64\n",
      "                           Logit Regression Results                           \n",
      "==============================================================================\n",
      "Dep. Variable:                 Wiki_1   No. Observations:                  653\n",
      "Model:                          Logit   Df Residuals:                      650\n",
      "Method:                           MLE   Df Model:                            2\n",
      "Date:                Tue, 09 Feb 2016   Pseudo R-squ.:                  0.8107\n",
      "Time:                        14:12:21   Log-Likelihood:                -4.6129\n",
      "converged:                       True   LL-Null:                       -24.369\n",
      "                                        LLR p-value:                 2.631e-09\n",
      "=======================================================================================\n",
      "                          coef    std err          z      P>|z|      [95.0% Conf. Int.]\n",
      "---------------------------------------------------------------------------------------\n",
      "NormalizedGoogleDif    11.4974      4.560      2.521      0.012         2.560    20.435\n",
      "Name_length             0.3542      0.188      1.883      0.060        -0.015     0.723\n",
      "intercept               1.1738      2.454      0.478      0.632        -3.636     5.984\n",
      "=======================================================================================\n",
      "AIC: 15.22582555\n",
      "BIC: 28.6705569378\n",
      "[[   3.    1.]\n",
      " [   1.  648.]]\n",
      "Accuracy: 0.996937212864\n",
      "Odds:\n",
      "NormalizedGoogleDif    98458.165989\n",
      "Name_length                1.425084\n",
      "intercept                  3.234371\n",
      "dtype: float64\n",
      "p:\n",
      "NormalizedGoogleDif    0.999990\n",
      "Name_length            0.587643\n",
      "intercept              0.763837\n",
      "dtype: float64\n"
     ]
    }
   ],
   "source": [
    "from sklearn import cross_validation\n",
    "import statsmodels.api as sm\n",
    "from statsmodels.tools.tools import add_constant\n",
    "\n",
    "data = df[df.Wiki!=2]\n",
    "#data=df\n",
    "\n",
    "\n",
    "#print \"Wiki=1, i.e., male bias is the reference group while it is the most frequent one.\"\n",
    "\n",
    "#y=data['Wiki']\n",
    "dummy_wiki = pd.get_dummies(data['Wiki'], prefix='Wiki')\n",
    "y_all=[dummy_wiki[\"Wiki_3\"],dummy_wiki[\"Wiki_1\"]]\n",
    "y=y_all[1]\n",
    "X=data[['NormalizedGoogleDif',\"Name_length\"]]\n",
    "X=sm.add_constant(X, prepend=False)\n",
    "X=X.rename(columns = {'const':'intercept'})\n",
    "skf = cross_validation.StratifiedKFold(y, n_folds=5,shuffle=True)\n",
    "aic_min=9999\n",
    "for train_index, test_index in skf:  \n",
    "    y_train, y_test = y[train_index], y[test_index]\n",
    "    X_train, X_test = X.iloc[train_index,:], X.iloc[test_index,:]#X.iloc[0,:] <- for all train_cols\n",
    "    #print \"train:\",len(y_train), \"test:\",len(y_test)\n",
    "    res1 = sm.Logit(y_train, X_train)#(y,X)#(y_train, X_train) \n",
    "    mlogit_res = res1.fit()\n",
    "    aic=mlogit_res.aic\n",
    "    print mlogit_res.summary()\n",
    "    if aic<aic_min:\n",
    "        aic_min=aic\n",
    "        best_res=mlogit_res\n",
    "        y_train_best=y_train\n",
    "print best_res.params\n",
    "print best_res.summary()\n",
    "print \"AIC:\",best_res.aic\n",
    "print \"BIC:\",best_res.bic\n",
    "predict= np.array(best_res.predict() > 0.5, dtype=float)\n",
    "#pred_table[i,j] refers to the number of times \"i\" was observed and\n",
    "#the model predicted \"j\". Correct predictions are along the diagonal.\n",
    "print best_res.pred_table()\n",
    "acc=float(sum(best_res.pred_table().diagonal()))/float(len(y_train_best))\n",
    "print \"Accuracy:\",acc\n",
    "print \"Odds:\\n\", np.exp(best_res.params)\n",
    "print \"p:\\n\", np.exp(best_res.params)/(1+np.exp(best_res.params))"
   ]
  },
  {
   "cell_type": "code",
   "execution_count": 253,
   "metadata": {
    "collapsed": false
   },
   "outputs": [
    {
     "name": "stdout",
     "output_type": "stream",
     "text": [
      "Probability of being in a Male Bias class when Normalized GoogleDif increase by a unit is 0.998\n"
     ]
    }
   ],
   "source": [
    "print \"Probability of being in a Male Bias class when Normalized GoogleDif increase by a unit is 0.998\"\n"
   ]
  },
  {
   "cell_type": "code",
   "execution_count": 283,
   "metadata": {
    "collapsed": false,
    "scrolled": false
   },
   "outputs": [
    {
     "name": "stdout",
     "output_type": "stream",
     "text": [
      "Optimization terminated successfully.\n",
      "         Current function value: 0.007859\n",
      "         Iterations 20\n",
      "Optimization terminated successfully.\n",
      "         Current function value: 0.007161\n",
      "         Iterations 21\n",
      "Optimization terminated successfully.\n",
      "         Current function value: 0.007445\n",
      "         Iterations 20\n",
      "Optimization terminated successfully.\n",
      "         Current function value: 0.008360\n",
      "         Iterations 19\n",
      "Warning: Maximum number of iterations has been exceeded.\n",
      "         Current function value: 0.000000\n",
      "         Iterations: 35\n",
      "NormalizedGoogleDif    10.609304\n",
      "GoogleHitsMale          0.000178\n",
      "Name_length             0.433126\n",
      "intercept              -3.110624\n",
      "dtype: float64\n",
      "                           Logit Regression Results                           \n",
      "==============================================================================\n",
      "Dep. Variable:                 Wiki_1   No. Observations:                  654\n",
      "Model:                          Logit   Df Residuals:                      650\n",
      "Method:                           MLE   Df Model:                            3\n",
      "Date:                Tue, 09 Feb 2016   Pseudo R-squ.:                  0.8404\n",
      "Time:                        14:13:19   Log-Likelihood:                -4.6832\n",
      "converged:                       True   LL-Null:                       -29.349\n",
      "                                        LLR p-value:                 1.109e-10\n",
      "=======================================================================================\n",
      "                          coef    std err          z      P>|z|      [95.0% Conf. Int.]\n",
      "---------------------------------------------------------------------------------------\n",
      "NormalizedGoogleDif    10.6093      4.658      2.278      0.023         1.480    19.739\n",
      "GoogleHitsMale          0.0002      0.000      0.673      0.501        -0.000     0.001\n",
      "Name_length             0.4331      0.209      2.074      0.038         0.024     0.842\n",
      "intercept              -3.1106      2.729     -1.140      0.254        -8.459     2.238\n",
      "=======================================================================================\n",
      "AIC: 17.3664098171\n",
      "BIC: 35.298839223\n",
      "[[   4.    1.]\n",
      " [   1.  648.]]\n",
      "Accuracy: 0.996941896024\n",
      "Odds:\n",
      "NormalizedGoogleDif    40509.994073\n",
      "GoogleHitsMale             1.000178\n",
      "Name_length                1.542070\n",
      "intercept                  0.044573\n",
      "dtype: float64\n",
      "p:\n",
      "NormalizedGoogleDif    0.999975\n",
      "GoogleHitsMale         0.500044\n",
      "Name_length            0.606620\n",
      "intercept              0.042671\n",
      "dtype: float64\n"
     ]
    },
    {
     "name": "stderr",
     "output_type": "stream",
     "text": [
      "C:\\Anaconda\\lib\\site-packages\\statsmodels\\base\\model.py:466: ConvergenceWarning: Maximum Likelihood optimization failed to converge. Check mle_retvals\n",
      "  \"Check mle_retvals\", ConvergenceWarning)\n"
     ]
    }
   ],
   "source": [
    "from sklearn import cross_validation\n",
    "import statsmodels.api as sm\n",
    "from statsmodels.tools.tools import add_constant\n",
    "\n",
    "data = df[df.Wiki!=2]\n",
    "#data=df\n",
    "\n",
    "\n",
    "#print \"Wiki=1, i.e., male bias is the reference group while it is the most frequent one.\"\n",
    "\n",
    "#y=data['Wiki']\n",
    "dummy_wiki = pd.get_dummies(data['Wiki'], prefix='Wiki')\n",
    "y_all=[dummy_wiki[\"Wiki_3\"],dummy_wiki[\"Wiki_1\"]]\n",
    "y=y_all[1]\n",
    "X=data[['NormalizedGoogleDif',\"GoogleHitsMale\" ,\"Name_length\"]]\n",
    "X=sm.add_constant(X, prepend=False)\n",
    "X=X.rename(columns = {'const':'intercept'})\n",
    "skf = cross_validation.StratifiedKFold(y, n_folds=5,shuffle=True)\n",
    "aic_min=9999\n",
    "for train_index, test_index in skf:  \n",
    "    y_train, y_test = y[train_index], y[test_index]\n",
    "    X_train, X_test = X.iloc[train_index,:], X.iloc[test_index,:]#X.iloc[0,:] <- for all train_cols\n",
    "    #print \"train:\",len(y_train), \"test:\",len(y_test)\n",
    "    res1 = sm.Logit(y_train, X_train)#(y,X)#(y_train, X_train) \n",
    "    mlogit_res = res1.fit()\n",
    "    aic=mlogit_res.aic\n",
    "    if (aic<aic_min)&(mlogit_res.mle_retvals[\"iterations\"]!=35):\n",
    "        aic_min=aic\n",
    "        best_res=mlogit_res\n",
    "        y_train_best=y_train\n",
    "print best_res.params\n",
    "print best_res.summary()\n",
    "print \"AIC:\",best_res.aic\n",
    "print \"BIC:\",best_res.bic\n",
    "predict= np.array(best_res.predict() > 0.5, dtype=float)\n",
    "#pred_table[i,j] refers to the number of times \"i\" was observed and\n",
    "#the model predicted \"j\". Correct predictions are along the diagonal.\n",
    "print best_res.pred_table()\n",
    "acc=float(sum(best_res.pred_table().diagonal()))/float(len(y_train_best))\n",
    "print \"Accuracy:\",acc\n",
    "print \"Odds:\\n\", np.exp(best_res.params)\n",
    "print \"p:\\n\", np.exp(best_res.params)/(1+np.exp(best_res.params))"
   ]
  },
  {
   "cell_type": "code",
   "execution_count": 171,
   "metadata": {
    "collapsed": false
   },
   "outputs": [
    {
     "name": "stdout",
     "output_type": "stream",
     "text": [
      "Probability of being in a Male Bias class when Normalized GoogleDif increase by a unit is 0.996\n",
      "Each estimated coefficient is the expected change in the log odds of being in a Male Bias class for a unit increase in the corresponding predictor variable holding the other predictor variables constant at certain value. \n"
     ]
    }
   ],
   "source": [
    "print \"Probability of being in a Male Bias class when Normalized GoogleDif increase by a unit is 0.996\"\n",
    "print \"Each estimated coefficient is the expected change in the log odds of being in a Male Bias class for a unit increase in\"+\\\n",
    "\" the corresponding predictor variable holding the other predictor variables constant at certain value. \""
   ]
  },
  {
   "cell_type": "markdown",
   "metadata": {},
   "source": [
    "# All data"
   ]
  },
  {
   "cell_type": "markdown",
   "metadata": {},
   "source": [
    "## Male bias"
   ]
  },
  {
   "cell_type": "code",
   "execution_count": 38,
   "metadata": {
    "collapsed": false
   },
   "outputs": [
    {
     "name": "stdout",
     "output_type": "stream",
     "text": [
      "Optimization terminated successfully.\n",
      "         Current function value: 0.118440\n",
      "         Iterations 8\n",
      "                           Logit Regression Results                           \n",
      "==============================================================================\n",
      "Dep. Variable:                 Wiki_1   No. Observations:                  669\n",
      "Model:                          Logit   Df Residuals:                      666\n",
      "Method:                           MLE   Df Model:                            2\n",
      "Date:                Mon, 15 Feb 2016   Pseudo R-squ.:                  0.1186\n",
      "Time:                        23:58:26   Log-Likelihood:                -79.236\n",
      "converged:                       True   LL-Null:                       -89.899\n",
      "                                        LLR p-value:                 2.340e-05\n",
      "=======================================================================================\n",
      "                          coef    std err          z      P>|z|      [95.0% Conf. Int.]\n",
      "---------------------------------------------------------------------------------------\n",
      "NormalizedGoogleDif     1.9095      0.389      4.904      0.000         1.146     2.673\n",
      "GoogleHitsMale      -2.024e-08   1.17e-08     -1.735      0.083     -4.31e-08  2.62e-09\n",
      "intercept               2.5468      0.260      9.803      0.000         2.038     3.056\n",
      "=======================================================================================\n",
      "[[   0.   20.]\n",
      " [   0.  649.]]\n",
      "Optimization terminated successfully.\n",
      "         Current function value: 0.117498\n",
      "         Iterations 8\n",
      "                           Logit Regression Results                           \n",
      "==============================================================================\n",
      "Dep. Variable:                 Wiki_1   No. Observations:                  669\n",
      "Model:                          Logit   Df Residuals:                      666\n",
      "Method:                           MLE   Df Model:                            2\n",
      "Date:                Mon, 15 Feb 2016   Pseudo R-squ.:                  0.1256\n",
      "Time:                        23:58:28   Log-Likelihood:                -78.606\n",
      "converged:                       True   LL-Null:                       -89.899\n",
      "                                        LLR p-value:                 1.246e-05\n",
      "=======================================================================================\n",
      "                          coef    std err          z      P>|z|      [95.0% Conf. Int.]\n",
      "---------------------------------------------------------------------------------------\n",
      "NormalizedGoogleDif     1.9308      0.386      4.999      0.000         1.174     2.688\n",
      "GoogleHitsMale      -3.048e-08   1.34e-08     -2.274      0.023     -5.67e-08  -4.2e-09\n",
      "intercept               2.5470      0.262      9.718      0.000         2.033     3.061\n",
      "=======================================================================================\n",
      "[[   0.   20.]\n",
      " [   0.  649.]]\n",
      "Optimization terminated successfully.\n",
      "         Current function value: 0.114172\n",
      "         Iterations 8\n",
      "                           Logit Regression Results                           \n",
      "==============================================================================\n",
      "Dep. Variable:                 Wiki_1   No. Observations:                  670\n",
      "Model:                          Logit   Df Residuals:                      667\n",
      "Method:                           MLE   Df Model:                            2\n",
      "Date:                Mon, 15 Feb 2016   Pseudo R-squ.:                  0.1494\n",
      "Time:                        23:58:28   Log-Likelihood:                -76.495\n",
      "converged:                       True   LL-Null:                       -89.929\n",
      "                                        LLR p-value:                 1.464e-06\n",
      "=======================================================================================\n",
      "                          coef    std err          z      P>|z|      [95.0% Conf. Int.]\n",
      "---------------------------------------------------------------------------------------\n",
      "NormalizedGoogleDif     2.0683      0.381      5.433      0.000         1.322     2.814\n",
      "GoogleHitsMale      -2.354e-08   1.16e-08     -2.029      0.042     -4.63e-08 -8.04e-10\n",
      "intercept               2.5379      0.253     10.015      0.000         2.041     3.035\n",
      "=======================================================================================\n",
      "[[   0.   20.]\n",
      " [   0.  650.]]\n",
      "Optimization terminated successfully.\n",
      "         Current function value: 0.105776\n",
      "         Iterations 8\n",
      "                           Logit Regression Results                           \n",
      "==============================================================================\n",
      "Dep. Variable:                 Wiki_1   No. Observations:                  670\n",
      "Model:                          Logit   Df Residuals:                      667\n",
      "Method:                           MLE   Df Model:                            2\n",
      "Date:                Mon, 15 Feb 2016   Pseudo R-squ.:                  0.2119\n",
      "Time:                        23:58:28   Log-Likelihood:                -70.870\n",
      "converged:                       True   LL-Null:                       -89.929\n",
      "                                        LLR p-value:                 5.278e-09\n",
      "=======================================================================================\n",
      "                          coef    std err          z      P>|z|      [95.0% Conf. Int.]\n",
      "---------------------------------------------------------------------------------------\n",
      "NormalizedGoogleDif     2.4409      0.388      6.284      0.000         1.680     3.202\n",
      "GoogleHitsMale      -2.654e-10   4.19e-08     -0.006      0.995     -8.23e-08  8.18e-08\n",
      "intercept               2.4078      0.250      9.648      0.000         1.919     2.897\n",
      "=======================================================================================\n",
      "[[   1.   19.]\n",
      " [   0.  650.]]\n",
      "Optimization terminated successfully.\n",
      "         Current function value: 0.118881\n",
      "         Iterations 8\n",
      "                           Logit Regression Results                           \n",
      "==============================================================================\n",
      "Dep. Variable:                 Wiki_1   No. Observations:                  670\n",
      "Model:                          Logit   Df Residuals:                      667\n",
      "Method:                           MLE   Df Model:                            2\n",
      "Date:                Mon, 15 Feb 2016   Pseudo R-squ.:                  0.1143\n",
      "Time:                        23:58:29   Log-Likelihood:                -79.650\n",
      "converged:                       True   LL-Null:                       -89.929\n",
      "                                        LLR p-value:                 3.435e-05\n",
      "=======================================================================================\n",
      "                          coef    std err          z      P>|z|      [95.0% Conf. Int.]\n",
      "---------------------------------------------------------------------------------------\n",
      "NormalizedGoogleDif     1.8741      0.392      4.785      0.000         1.106     2.642\n",
      "GoogleHitsMale      -2.225e-08   1.18e-08     -1.893      0.058     -4.53e-08  7.91e-10\n",
      "intercept               2.5870      0.259      9.980      0.000         2.079     3.095\n",
      "=======================================================================================\n",
      "[[   0.   20.]\n",
      " [   0.  650.]]\n",
      "NormalizedGoogleDif    2.440865e+00\n",
      "GoogleHitsMale        -2.654092e-10\n",
      "intercept              2.407777e+00\n",
      "dtype: float64\n",
      "                           Logit Regression Results                           \n",
      "==============================================================================\n",
      "Dep. Variable:                 Wiki_1   No. Observations:                  670\n",
      "Model:                          Logit   Df Residuals:                      667\n",
      "Method:                           MLE   Df Model:                            2\n",
      "Date:                Mon, 15 Feb 2016   Pseudo R-squ.:                  0.2119\n",
      "Time:                        23:58:29   Log-Likelihood:                -70.870\n",
      "converged:                       True   LL-Null:                       -89.929\n",
      "                                        LLR p-value:                 5.278e-09\n",
      "=======================================================================================\n",
      "                          coef    std err          z      P>|z|      [95.0% Conf. Int.]\n",
      "---------------------------------------------------------------------------------------\n",
      "NormalizedGoogleDif     2.4409      0.388      6.284      0.000         1.680     3.202\n",
      "GoogleHitsMale      -2.654e-10   4.19e-08     -0.006      0.995     -8.23e-08  8.18e-08\n",
      "intercept               2.4078      0.250      9.648      0.000         1.919     2.897\n",
      "=======================================================================================\n",
      "AIC: 147.739417855\n",
      "BIC: 161.261250992\n",
      "[[   1.   19.]\n",
      " [   0.  650.]]\n",
      "Accuracy: 0.971641791045\n",
      "Odds:\n",
      "NormalizedGoogleDif    11.482964\n",
      "GoogleHitsMale          1.000000\n",
      "intercept              11.109235\n",
      "dtype: float64\n",
      "p:\n",
      "NormalizedGoogleDif    0.919891\n",
      "GoogleHitsMale         0.500000\n",
      "intercept              0.917418\n",
      "dtype: float64\n"
     ]
    },
    {
     "data": {
      "text/plain": [
       "<matplotlib.legend.Legend at 0x216d1fd0>"
      ]
     },
     "execution_count": 38,
     "metadata": {},
     "output_type": "execute_result"
    },
    {
     "data": {
      "image/png": "[encoded data removed]",
      "text/plain": [
       "<matplotlib.figure.Figure at 0xea466a0>"
      ]
     },
     "metadata": {},
     "output_type": "display_data"
    }
   ],
   "source": [
    "from sklearn import cross_validation\n",
    "import statsmodels.api as sm\n",
    "from statsmodels.tools.tools import add_constant\n",
    "from sklearn.metrics import roc_curve, auc\n",
    "from scipy import interp\n",
    "import matplotlib.pyplot as plt\n",
    "data = df\n",
    "dummy_wiki = pd.get_dummies(data['Wiki'], prefix='Wiki')\n",
    "y_all=[dummy_wiki[\"Wiki_3\"],dummy_wiki[\"Wiki_1\"]]\n",
    "y=y_all[1]\n",
    "X=data[['NormalizedGoogleDif',\"GoogleHitsMale\" ]]#[train_cols]\n",
    "X=sm.add_constant(X, prepend=False)\n",
    "X=X.rename(columns = {'const':'intercept'})\n",
    "skf = cross_validation.StratifiedKFold(y, n_folds=5,shuffle=True)\n",
    "aic_min=9999\n",
    "mean_tpr = 0.0\n",
    "mean_fpr = np.linspace(0, 1, 100)\n",
    "i=0\n",
    "for train_index, test_index in skf:  \n",
    "    y_train, y_test = y[train_index], y[test_index]\n",
    "    X_train, X_test = X.iloc[train_index,:], X.iloc[test_index,:]#X.iloc[0,:] <- for all train_cols\n",
    "    #print \"train:\",len(y_train), \"test:\",len(y_test)\n",
    "    res1 = sm.Logit(y_train, X_train)#(y,X)#(y_train, X_train) \n",
    "    mlogit_res = res1.fit()\n",
    "    predict= np.array(mlogit_res.predict() > 0.5, dtype=float)\n",
    "    print mlogit_res.summary()\n",
    "    print mlogit_res.pred_table()\n",
    "    # Compute ROC curve and area the curve\n",
    "    fpr, tpr, thresholds = roc_curve(y[train_index], mlogit_res.predict())\n",
    "    mean_tpr += interp(mean_fpr, fpr, tpr)\n",
    "    mean_tpr[0] = 0.0\n",
    "    roc_auc = auc(fpr, tpr)\n",
    "    plt.plot(fpr, tpr, lw=1, label='ROC fold %d (area = %0.2f)' % (i, roc_auc))\n",
    "    \n",
    "    aic=mlogit_res.aic\n",
    "    i+=1\n",
    "    if aic<aic_min:\n",
    "        aic_min=aic\n",
    "        best_res=mlogit_res\n",
    "        y_train_best=y_train\n",
    "        best_index=train_index\n",
    "print best_res.params\n",
    "print best_res.summary()\n",
    "print \"AIC:\",best_res.aic\n",
    "print \"BIC:\",best_res.bic\n",
    "predict= np.array(best_res.predict() > 0.5, dtype=float)\n",
    "print best_res.pred_table()\n",
    "acc=float(sum(best_res.pred_table().diagonal()))/float(len(y_train_best))\n",
    "print \"Accuracy:\",acc\n",
    "print \"Odds:\\n\", np.exp(best_res.params)\n",
    "print \"p:\\n\", np.exp(best_res.params)/(1+np.exp(best_res.params))\n",
    "\n",
    "\n",
    "plt.legend(loc=\"lower right\")\n",
    "\n"
   ]
  },
  {
   "cell_type": "code",
   "execution_count": 43,
   "metadata": {
    "collapsed": false
   },
   "outputs": [
    {
     "name": "stdout",
     "output_type": "stream",
     "text": [
      "                          Results: Logit\n",
      "==================================================================\n",
      "Model:                   Logit     Pseudo R-squared:    0.212     \n",
      "Dependent Variable:      Wiki_1    AIC:                 147.7394  \n",
      "No. Observations:        670       BIC:                 161.2613  \n",
      "Df Model:                2         Log-Likelihood:      -70.870   \n",
      "Df Residuals:            667       LL-Null:             -89.929   \n",
      "Converged:               1.0000    LLR p-value:         5.2782e-09\n",
      "No. Iterations:          8.0000    Scale:               1.0000    \n",
      "------------------------------------------------------------------\n",
      "                     Coef.  Std.Err.    t    P>|t|   [0.025 0.975]\n",
      "------------------------------------------------------------------\n",
      "NormalizedGoogleDif  2.4409   0.3884  6.2840 0.0000  1.6796 3.2022\n",
      "GoogleHitsMale      -0.0000   0.0000 -0.0063 0.9949 -0.0000 0.0000\n",
      "intercept            2.4078   0.2496  9.6481 0.0000  1.9187 2.8969\n",
      "==================================================================\n",
      "\n",
      "NormalizedGoogleDif    3.298758e-10\n",
      "GoogleHitsMale         9.949428e-01\n",
      "intercept              5.005866e-22\n",
      "dtype: float64\n"
     ]
    }
   ],
   "source": [
    "print best_res.summary2()\n",
    "print best_res.pvalues"
   ]
  },
  {
   "cell_type": "markdown",
   "metadata": {},
   "source": [
    "## Female bias"
   ]
  },
  {
   "cell_type": "code",
   "execution_count": 298,
   "metadata": {
    "collapsed": false
   },
   "outputs": [
    {
     "name": "stdout",
     "output_type": "stream",
     "text": [
      "Optimization terminated successfully.\n",
      "         Current function value: 0.017791\n",
      "         Iterations 20\n",
      "Optimization terminated successfully.\n",
      "         Current function value: 0.020187\n",
      "         Iterations 17\n",
      "Optimization terminated successfully.\n",
      "         Current function value: 0.016530\n",
      "         Iterations 18\n",
      "Optimization terminated successfully.\n",
      "         Current function value: 0.018319\n",
      "         Iterations 18\n",
      "Optimization terminated successfully.\n",
      "         Current function value: 0.017397\n",
      "         Iterations 18\n",
      "NormalizedGoogleDif   -5.931675\n",
      "GoogleHitsMale        -0.000021\n",
      "intercept             -5.554297\n",
      "dtype: float64\n",
      "                           Logit Regression Results                           \n",
      "==============================================================================\n",
      "Dep. Variable:                 Wiki_3   No. Observations:                  670\n",
      "Model:                          Logit   Df Residuals:                      667\n",
      "Method:                           MLE   Df Model:                            2\n",
      "Date:                Tue, 09 Feb 2016   Pseudo R-squ.:                  0.6242\n",
      "Time:                        14:33:56   Log-Likelihood:                -11.075\n",
      "converged:                       True   LL-Null:                       -29.470\n",
      "                                        LLR p-value:                 1.025e-08\n",
      "=======================================================================================\n",
      "                          coef    std err          z      P>|z|      [95.0% Conf. Int.]\n",
      "---------------------------------------------------------------------------------------\n",
      "NormalizedGoogleDif    -5.9317      2.143     -2.769      0.006       -10.131    -1.732\n",
      "GoogleHitsMale      -2.075e-05   3.54e-05     -0.586      0.558     -9.02e-05  4.87e-05\n",
      "intercept              -5.5543      1.693     -3.281      0.001        -8.872    -2.236\n",
      "=======================================================================================\n",
      "AIC: 28.1495776575\n",
      "BIC: 41.6714107947\n",
      "[[ 665.    0.]\n",
      " [   3.    2.]]\n",
      "Accuracy: 0.99552238806\n",
      "Odds:\n",
      "NormalizedGoogleDif    0.002654\n",
      "GoogleHitsMale         0.999979\n",
      "intercept              0.003871\n",
      "dtype: float64\n",
      "p:\n",
      "NormalizedGoogleDif    0.002647\n",
      "GoogleHitsMale         0.499995\n",
      "intercept              0.003856\n",
      "dtype: float64\n"
     ]
    },
    {
     "data": {
      "text/plain": [
       "<matplotlib.legend.Legend at 0x172a1fb0>"
      ]
     },
     "execution_count": 298,
     "metadata": {},
     "output_type": "execute_result"
    },
    {
     "data": {
      "image/png": "[encoded data removed]",
      "text/plain": [
       "<matplotlib.figure.Figure at 0x14e0c330>"
      ]
     },
     "metadata": {},
     "output_type": "display_data"
    }
   ],
   "source": [
    "from sklearn import cross_validation\n",
    "import statsmodels.api as sm\n",
    "from statsmodels.tools.tools import add_constant\n",
    "from sklearn.metrics import roc_curve, auc\n",
    "from scipy import interp\n",
    "import matplotlib.pyplot as plt\n",
    "data = df#[df.Wiki!=2]\n",
    "\n",
    "\n",
    "\n",
    "#print \"Wiki=1, i.e., male bias is the reference group while it is the most frequent one.\"\n",
    "\n",
    "#y=data['Wiki']\n",
    "dummy_wiki = pd.get_dummies(data['Wiki'], prefix='Wiki')\n",
    "y_all=[dummy_wiki[\"Wiki_3\"],dummy_wiki[\"Wiki_1\"]]\n",
    "y=y_all[0]\n",
    "X=data[['NormalizedGoogleDif',\"GoogleHitsMale\" ]]#[train_cols]\n",
    "X=sm.add_constant(X, prepend=False)\n",
    "X=X.rename(columns = {'const':'intercept'})\n",
    "skf = cross_validation.StratifiedKFold(y, n_folds=5,shuffle=True)\n",
    "aic_min=9999\n",
    "mean_tpr = 0.0\n",
    "mean_fpr = np.linspace(0, 1, 100)\n",
    "i=0\n",
    "for train_index, test_index in skf:  \n",
    "    y_train, y_test = y[train_index], y[test_index]\n",
    "    X_train, X_test = X.iloc[train_index,:], X.iloc[test_index,:]#X.iloc[0,:] <- for all train_cols\n",
    "    #print \"train:\",len(y_train), \"test:\",len(y_test)\n",
    "    res1 = sm.Logit(y_train, X_train)#(y,X)#(y_train, X_train) \n",
    "    mlogit_res = res1.fit()\n",
    "    \n",
    "    predict= np.array(mlogit_res.predict() > 0.5, dtype=float)\n",
    "    \n",
    "    # Compute ROC curve and area the curve\n",
    "    fpr, tpr, thresholds = roc_curve(y[train_index], mlogit_res.predict())\n",
    "    mean_tpr += interp(mean_fpr, fpr, tpr)\n",
    "    mean_tpr[0] = 0.0\n",
    "    roc_auc = auc(fpr, tpr)\n",
    "    plt.plot(fpr, tpr, lw=1, label='ROC fold %d (area = %0.2f)' % (i, roc_auc))\n",
    "    \n",
    "    aic=mlogit_res.aic\n",
    "    i+=1\n",
    "    if aic<aic_min:\n",
    "        aic_min=aic\n",
    "        best_res=mlogit_res\n",
    "        y_train_best=y_train\n",
    "        best_index=train_index\n",
    "print best_res.params\n",
    "print best_res.summary()\n",
    "print \"AIC:\",best_res.aic\n",
    "print \"BIC:\",best_res.bic\n",
    "predict= np.array(best_res.predict() > 0.5, dtype=float)\n",
    "#pred_table[i,j] refers to the number of times \"i\" was observed and\n",
    "#the model predicted \"j\". Correct predictions are along the diagonal.\n",
    "print best_res.pred_table()\n",
    "acc=float(sum(best_res.pred_table().diagonal()))/float(len(y_train_best))\n",
    "print \"Accuracy:\",acc\n",
    "print \"Odds:\\n\", np.exp(best_res.params)\n",
    "print \"p:\\n\", np.exp(best_res.params)/(1+np.exp(best_res.params))\n",
    "\n",
    "\n",
    "plt.legend(loc=\"lower right\")\n",
    "\n"
   ]
  },
  {
   "cell_type": "markdown",
   "metadata": {},
   "source": [
    "# Neutral "
   ]
  },
  {
   "cell_type": "code",
   "execution_count": 301,
   "metadata": {
    "collapsed": false
   },
   "outputs": [
    {
     "name": "stdout",
     "output_type": "stream",
     "text": [
      "Optimization terminated successfully.\n",
      "         Current function value: 0.099753\n",
      "         Iterations 8\n",
      "Optimization terminated successfully.\n",
      "         Current function value: 0.101982\n",
      "         Iterations 8\n",
      "Optimization terminated successfully.\n",
      "         Current function value: 0.102763\n",
      "         Iterations 8\n",
      "Optimization terminated successfully.\n",
      "         Current function value: 0.103635\n",
      "         Iterations 9\n",
      "Optimization terminated successfully.\n",
      "         Current function value: 0.108967\n",
      "         Iterations 8\n",
      "NormalizedGoogleDif   -1.492459e+00\n",
      "GoogleHitsMale         2.206222e-08\n",
      "intercept             -3.016784e+00\n",
      "dtype: float64\n",
      "                           Logit Regression Results                           \n",
      "==============================================================================\n",
      "Dep. Variable:                 Wiki_2   No. Observations:                  669\n",
      "Model:                          Logit   Df Residuals:                      666\n",
      "Method:                           MLE   Df Model:                            2\n",
      "Date:                Tue, 09 Feb 2016   Pseudo R-squ.:                 0.07050\n",
      "Time:                        14:36:12   Log-Likelihood:                -66.735\n",
      "converged:                       True   LL-Null:                       -71.797\n",
      "                                        LLR p-value:                  0.006335\n",
      "=======================================================================================\n",
      "                          coef    std err          z      P>|z|      [95.0% Conf. Int.]\n",
      "---------------------------------------------------------------------------------------\n",
      "NormalizedGoogleDif    -1.4925      0.451     -3.310      0.001        -2.376    -0.609\n",
      "GoogleHitsMale       2.206e-08   1.17e-08      1.878      0.060     -9.67e-10  4.51e-08\n",
      "intercept              -3.0168      0.313     -9.639      0.000        -3.630    -2.403\n",
      "=======================================================================================\n",
      "AIC: 139.469938528\n",
      "BIC: 152.987290709\n",
      "[[   0.  654.]\n",
      " [   0.   15.]]\n",
      "Accuracy: 0.0224215246637\n",
      "Odds:\n",
      "NormalizedGoogleDif    0.224819\n",
      "GoogleHitsMale         1.000000\n",
      "intercept              0.048958\n",
      "dtype: float64\n",
      "p:\n",
      "NormalizedGoogleDif    0.183553\n",
      "GoogleHitsMale         0.500000\n",
      "intercept              0.046673\n",
      "dtype: float64\n"
     ]
    },
    {
     "data": {
      "text/plain": [
       "<matplotlib.legend.Legend at 0x172acab0>"
      ]
     },
     "execution_count": 301,
     "metadata": {},
     "output_type": "execute_result"
    },
    {
     "data": {
      "image/png": "[encoded data removed]",
      "text/plain": [
       "<matplotlib.figure.Figure at 0x177e87b0>"
      ]
     },
     "metadata": {},
     "output_type": "display_data"
    }
   ],
   "source": [
    "from sklearn import cross_validation\n",
    "import statsmodels.api as sm\n",
    "from statsmodels.tools.tools import add_constant\n",
    "from sklearn.metrics import roc_curve, auc\n",
    "from scipy import interp\n",
    "import matplotlib.pyplot as plt\n",
    "data = df#[df.Wiki!=2]\n",
    "\n",
    "\n",
    "\n",
    "#print \"Wiki=1, i.e., male bias is the reference group while it is the most frequent one.\"\n",
    "\n",
    "#y=data['Wiki']\n",
    "dummy_wiki = pd.get_dummies(data['Wiki'], prefix='Wiki')\n",
    "y_all=[dummy_wiki[\"Wiki_2\"],dummy_wiki[\"Wiki_1\"]]\n",
    "y=y_all[0]\n",
    "X=data[['NormalizedGoogleDif',\"GoogleHitsMale\" ]]#[train_cols]\n",
    "X=sm.add_constant(X, prepend=False)\n",
    "X=X.rename(columns = {'const':'intercept'})\n",
    "skf = cross_validation.StratifiedKFold(y, n_folds=5,shuffle=True)\n",
    "aic_min=9999\n",
    "mean_tpr = 0.0\n",
    "mean_fpr = np.linspace(0, 1, 100)\n",
    "i=0\n",
    "for train_index, test_index in skf:  \n",
    "    y_train, y_test = y[train_index], y[test_index]\n",
    "    X_train, X_test = X.iloc[train_index,:], X.iloc[test_index,:]#X.iloc[0,:] <- for all train_cols\n",
    "    #print \"train:\",len(y_train), \"test:\",len(y_test)\n",
    "    res1 = sm.Logit(y_train, X_train)#(y,X)#(y_train, X_train) \n",
    "    mlogit_res = res1.fit()\n",
    "    \n",
    "    predict= np.array(mlogit_res.predict() > 0.5, dtype=float)\n",
    "    \n",
    "    # Compute ROC curve and area the curve\n",
    "    fpr, tpr, thresholds = roc_curve(y[train_index], mlogit_res.predict())\n",
    "    mean_tpr += interp(mean_fpr, fpr, tpr)\n",
    "    mean_tpr[0] = 0.0\n",
    "    roc_auc = auc(fpr, tpr)\n",
    "    plt.plot(fpr, tpr, lw=1, label='ROC fold %d (area = %0.2f)' % (i, roc_auc))\n",
    "    \n",
    "    aic=mlogit_res.aic\n",
    "    i+=1\n",
    "    if aic<aic_min:\n",
    "        aic_min=aic\n",
    "        best_res=mlogit_res\n",
    "        y_train_best=y_train\n",
    "        best_index=train_index\n",
    "print best_res.params\n",
    "print best_res.summary()\n",
    "print \"AIC:\",best_res.aic\n",
    "print \"BIC:\",best_res.bic\n",
    "predict= np.array(best_res.predict() > 0.5, dtype=float)\n",
    "#pred_table[i,j] refers to the number of times \"i\" was observed and\n",
    "#the model predicted \"j\". Correct predictions are along the diagonal.\n",
    "print best_res.pred_table()\n",
    "acc=float(sum(best_res.pred_table().diagonal()))/float(len(y_train_best))\n",
    "print \"Accuracy:\",acc\n",
    "print \"Odds:\\n\", np.exp(best_res.params)\n",
    "print \"p:\\n\", np.exp(best_res.params)/(1+np.exp(best_res.params))\n",
    "\n",
    "\n",
    "plt.legend(loc=\"lower right\")\n",
    "\n"
   ]
  },
  {
   "cell_type": "markdown",
   "metadata": {},
   "source": [
    "# without neutral case"
   ]
  },
  {
   "cell_type": "code",
   "execution_count": 296,
   "metadata": {
    "collapsed": false
   },
   "outputs": [
    {
     "name": "stdout",
     "output_type": "stream",
     "text": [
      "Optimization terminated successfully.\n",
      "         Current function value: 0.018513\n",
      "         Iterations 20\n",
      "Optimization terminated successfully.\n",
      "         Current function value: 0.020156\n",
      "         Iterations 18\n",
      "Optimization terminated successfully.\n",
      "         Current function value: 0.019443\n",
      "         Iterations 17\n",
      "Optimization terminated successfully.\n",
      "         Current function value: 0.014611\n",
      "         Iterations 17\n",
      "Optimization terminated successfully.\n",
      "         Current function value: 0.016672\n",
      "         Iterations 17\n",
      "NormalizedGoogleDif    6.851270\n",
      "GoogleHitsMale         0.000009\n",
      "intercept              5.967864\n",
      "dtype: float64\n",
      "                           Logit Regression Results                           \n",
      "==============================================================================\n",
      "Dep. Variable:                 Wiki_1   No. Observations:                  655\n",
      "Model:                          Logit   Df Residuals:                      652\n",
      "Method:                           MLE   Df Model:                            2\n",
      "Date:                Tue, 09 Feb 2016   Pseudo R-squ.:                  0.6740\n",
      "Time:                        14:31:35   Log-Likelihood:                -9.5701\n",
      "converged:                       True   LL-Null:                       -29.357\n",
      "                                        LLR p-value:                 2.551e-09\n",
      "=======================================================================================\n",
      "                          coef    std err          z      P>|z|      [95.0% Conf. Int.]\n",
      "---------------------------------------------------------------------------------------\n",
      "NormalizedGoogleDif     6.8513      2.500      2.740      0.006         1.951    11.752\n",
      "GoogleHitsMale       9.251e-06   2.47e-05      0.375      0.708     -3.91e-05  5.76e-05\n",
      "intercept               5.9679      1.955      3.053      0.002         2.137     9.799\n",
      "=======================================================================================\n",
      "AIC: 25.1401997025\n",
      "BIC: 38.5941054094\n",
      "[[   3.    2.]\n",
      " [   0.  650.]]\n",
      "Accuracy: 0.996946564885\n",
      "Odds:\n",
      "NormalizedGoogleDif    945.080236\n",
      "GoogleHitsMale           1.000009\n",
      "intercept              390.670490\n",
      "dtype: float64\n",
      "p:\n",
      "NormalizedGoogleDif    0.998943\n",
      "GoogleHitsMale         0.500002\n",
      "intercept              0.997447\n",
      "dtype: float64\n"
     ]
    },
    {
     "data": {
      "text/plain": [
       "<matplotlib.legend.Legend at 0x16ec8b90>"
      ]
     },
     "execution_count": 296,
     "metadata": {},
     "output_type": "execute_result"
    },
    {
     "data": {
      "image/png": "[encoded data removed]",
      "text/plain": [
       "<matplotlib.figure.Figure at 0x16f4a2b0>"
      ]
     },
     "metadata": {},
     "output_type": "display_data"
    }
   ],
   "source": [
    "from sklearn import cross_validation\n",
    "import statsmodels.api as sm\n",
    "from statsmodels.tools.tools import add_constant\n",
    "from sklearn.metrics import roc_curve, auc\n",
    "from scipy import interp\n",
    "import matplotlib.pyplot as plt\n",
    "data = df[df.Wiki!=2]\n",
    "\n",
    "\n",
    "\n",
    "#print \"Wiki=1, i.e., male bias is the reference group while it is the most frequent one.\"\n",
    "\n",
    "#y=data['Wiki']\n",
    "dummy_wiki = pd.get_dummies(data['Wiki'], prefix='Wiki')\n",
    "y_all=[dummy_wiki[\"Wiki_3\"],dummy_wiki[\"Wiki_1\"]]\n",
    "y=y_all[1]\n",
    "X=data[['NormalizedGoogleDif',\"GoogleHitsMale\" ]]#[train_cols]\n",
    "X=sm.add_constant(X, prepend=False)\n",
    "X=X.rename(columns = {'const':'intercept'})\n",
    "skf = cross_validation.StratifiedKFold(y, n_folds=5,shuffle=True)\n",
    "aic_min=9999\n",
    "mean_tpr = 0.0\n",
    "mean_fpr = np.linspace(0, 1, 100)\n",
    "i=0\n",
    "for train_index, test_index in skf:  \n",
    "    y_train, y_test = y[train_index], y[test_index]\n",
    "    X_train, X_test = X.iloc[train_index,:], X.iloc[test_index,:]#X.iloc[0,:] <- for all train_cols\n",
    "    #print \"train:\",len(y_train), \"test:\",len(y_test)\n",
    "    res1 = sm.Logit(y_train, X_train)#(y,X)#(y_train, X_train) \n",
    "    mlogit_res = res1.fit()\n",
    "    \n",
    "    predict= np.array(mlogit_res.predict() > 0.5, dtype=float)\n",
    "    \n",
    "    # Compute ROC curve and area the curve\n",
    "    fpr, tpr, thresholds = roc_curve(y[train_index], mlogit_res.predict())\n",
    "    mean_tpr += interp(mean_fpr, fpr, tpr)\n",
    "    mean_tpr[0] = 0.0\n",
    "    roc_auc = auc(fpr, tpr)\n",
    "    plt.plot(fpr, tpr, lw=1, label='ROC fold %d (area = %0.2f)' % (i, roc_auc))\n",
    "    \n",
    "    aic=mlogit_res.aic\n",
    "    i+=1\n",
    "    if aic<aic_min:\n",
    "        aic_min=aic\n",
    "        best_res=mlogit_res\n",
    "        y_train_best=y_train\n",
    "        best_index=train_index\n",
    "print best_res.params\n",
    "print best_res.summary()\n",
    "print \"AIC:\",best_res.aic\n",
    "print \"BIC:\",best_res.bic\n",
    "predict= np.array(best_res.predict() > 0.5, dtype=float)\n",
    "#pred_table[i,j] refers to the number of times \"i\" was observed and\n",
    "#the model predicted \"j\". Correct predictions are along the diagonal.\n",
    "print best_res.pred_table()\n",
    "acc=float(sum(best_res.pred_table().diagonal()))/float(len(y_train_best))\n",
    "print \"Accuracy:\",acc\n",
    "print \"Odds:\\n\", np.exp(best_res.params)\n",
    "print \"p:\\n\", np.exp(best_res.params)/(1+np.exp(best_res.params))\n",
    "\n",
    "\n",
    "plt.legend(loc=\"lower right\")\n",
    "\n"
   ]
  },
  {
   "cell_type": "code",
   "execution_count": 297,
   "metadata": {
    "collapsed": false
   },
   "outputs": [
    {
     "data": {
      "text/html": [
       "<table class=\"simpletable\">\n",
       "<tr>\n",
       "        <td>Model:</td>              <td>Logit</td>      <td>Pseudo R-squared:</td>    <td>0.674</td>  \n",
       "</tr>\n",
       "<tr>\n",
       "  <td>Dependent Variable:</td>      <td>Wiki_1</td>            <td>AIC:</td>          <td>25.1402</td> \n",
       "</tr>\n",
       "<tr>\n",
       "         <td>Date:</td>        <td>2016-02-09 14:32</td>       <td>BIC:</td>          <td>38.5941</td> \n",
       "</tr>\n",
       "<tr>\n",
       "   <td>No. Observations:</td>         <td>655</td>        <td>Log-Likelihood:</td>    <td>-9.5701</td> \n",
       "</tr>\n",
       "<tr>\n",
       "       <td>Df Model:</td>              <td>2</td>            <td>LL-Null:</td>        <td>-29.357</td> \n",
       "</tr>\n",
       "<tr>\n",
       "     <td>Df Residuals:</td>           <td>652</td>         <td>LLR p-value:</td>    <td>2.5511e-09</td>\n",
       "</tr>\n",
       "<tr>\n",
       "      <td>Converged:</td>           <td>1.0000</td>           <td>Scale:</td>         <td>1.0000</td>  \n",
       "</tr>\n",
       "<tr>\n",
       "    <td>No. Iterations:</td>        <td>17.0000</td>             <td></td>               <td></td>     \n",
       "</tr>\n",
       "</table>\n",
       "<table class=\"simpletable\">\n",
       "<tr>\n",
       "           <td></td>            <th>Coef.</th> <th>Std.Err.</th>    <th>z</th>    <th>P>|z|</th> <th>[0.025</th>  <th>0.975]</th> \n",
       "</tr>\n",
       "<tr>\n",
       "  <th>NormalizedGoogleDif</th> <td>6.8513</td>  <td>2.5004</td>  <td>2.7400</td> <td>0.0061</td> <td>1.9505</td>  <td>11.7520</td>\n",
       "</tr>\n",
       "<tr>\n",
       "  <th>GoogleHitsMale</th>      <td>0.0000</td>  <td>0.0000</td>  <td>0.3747</td> <td>0.7079</td> <td>-0.0000</td> <td>0.0001</td> \n",
       "</tr>\n",
       "<tr>\n",
       "  <th>intercept</th>           <td>5.9679</td>  <td>1.9548</td>  <td>3.0529</td> <td>0.0023</td> <td>2.1365</td>  <td>9.7992</td> \n",
       "</tr>\n",
       "</table>"
      ],
      "text/plain": [
       "<class 'statsmodels.iolib.summary2.Summary'>\n",
       "\"\"\"\n",
       "                         Results: Logit\n",
       "=================================================================\n",
       "Model:              Logit            Pseudo R-squared: 0.674     \n",
       "Dependent Variable: Wiki_1           AIC:              25.1402   \n",
       "Date:               2016-02-09 14:32 BIC:              38.5941   \n",
       "No. Observations:   655              Log-Likelihood:   -9.5701   \n",
       "Df Model:           2                LL-Null:          -29.357   \n",
       "Df Residuals:       652              LLR p-value:      2.5511e-09\n",
       "Converged:          1.0000           Scale:            1.0000    \n",
       "No. Iterations:     17.0000                                      \n",
       "-----------------------------------------------------------------\n",
       "                    Coef.  Std.Err.   z    P>|z|   [0.025  0.975]\n",
       "-----------------------------------------------------------------\n",
       "NormalizedGoogleDif 6.8513   2.5004 2.7400 0.0061  1.9505 11.7520\n",
       "GoogleHitsMale      0.0000   0.0000 0.3747 0.7079 -0.0000  0.0001\n",
       "intercept           5.9679   1.9548 3.0529 0.0023  2.1365  9.7992\n",
       "=================================================================\n",
       "\n",
       "\"\"\""
      ]
     },
     "execution_count": 297,
     "metadata": {},
     "output_type": "execute_result"
    }
   ],
   "source": [
    "best_res.summary2()"
   ]
  },
  {
   "cell_type": "code",
   "execution_count": 219,
   "metadata": {
    "collapsed": false
   },
   "outputs": [
    {
     "data": {
      "image/png": "[encoded data removed]",
      "text/plain": [
       "<matplotlib.figure.Figure at 0x1542b550>"
      ]
     },
     "execution_count": 219,
     "metadata": {},
     "output_type": "execute_result"
    },
    {
     "data": {
      "image/png": "[encoded data removed]",
      "text/plain": [
       "<matplotlib.figure.Figure at 0x1542b550>"
      ]
     },
     "metadata": {},
     "output_type": "display_data"
    }
   ],
   "source": [
    "\n",
    "\n",
    "from statsmodels.graphics.regressionplots import plot_partregress \n",
    "plot_partregress('Wiki','NormalizedGoogleDif',['Name_length','GoogleHitsMale'],data= data.iloc[best_index,:],obs_labels=False)\n",
    "\n"
   ]
  },
  {
   "cell_type": "code",
   "execution_count": 288,
   "metadata": {
    "collapsed": false
   },
   "outputs": [
    {
     "data": {
      "text/plain": [
       "<matplotlib.legend.Legend at 0x14c247b0>"
      ]
     },
     "execution_count": 288,
     "metadata": {},
     "output_type": "execute_result"
    },
    {
     "data": {
      "image/png": "[encoded data removed]",
      "text/plain": [
       "<matplotlib.figure.Figure at 0x15628630>"
      ]
     },
     "metadata": {},
     "output_type": "display_data"
    }
   ],
   "source": [
    "logit_pars = best_res.params\n",
    "intercept = -logit_pars['intercept'] / logit_pars['GoogleHitsMale']\n",
    "slope = -logit_pars['NormalizedGoogleDif'] / logit_pars['GoogleHitsMale']\n",
    "heights_f=X_train[y_train!=1].NormalizedGoogleDif.values\n",
    "weights_f=X_train[y_train!=1].GoogleHitsMale.values\n",
    "heights_m=X_train[y_train==1].NormalizedGoogleDif.values\n",
    "weights_m=X_train[y_train==1].GoogleHitsMale.values\n",
    "\n",
    "fig = plt.figure(figsize = (10, 8))\n",
    "\n",
    "plt.semilogy()\n",
    "plt.plot(heights_f, weights_f, '.', label = 'Female Bias',c='r')\n",
    "# Men points (blue)\n",
    "plt.plot(heights_m, weights_m, '.', label = 'Male Bias',c=\"b\")#,mfc = 'None', mec='steelblue', alpha = .4)\n",
    "# The separating line\n",
    "plt.plot(np.array([-1,1]), intercept + slope * np.array([-1, 1]),'-', color = '#461B7E')\n",
    "plt.xlabel('NormalizedGoogleDif ')\n",
    "plt.ylabel('GoogleHitsMale')\n",
    "plt.legend(loc='upper left')"
   ]
  },
  {
   "cell_type": "markdown",
   "metadata": {
    "collapsed": true
   },
   "source": [
    "# plot all data"
   ]
  },
  {
   "cell_type": "code",
   "execution_count": 289,
   "metadata": {
    "collapsed": false
   },
   "outputs": [
    {
     "data": {
      "text/plain": [
       "<matplotlib.legend.Legend at 0x7d38d90>"
      ]
     },
     "execution_count": 289,
     "metadata": {},
     "output_type": "execute_result"
    },
    {
     "data": {
      "image/png": "[encoded data removed]",
      "text/plain": [
       "<matplotlib.figure.Figure at 0x1656eb10>"
      ]
     },
     "metadata": {},
     "output_type": "display_data"
    }
   ],
   "source": [
    "\n",
    "heights_f=data[data.Wiki==3].NormalizedGoogleDif.values\n",
    "weights_f=data[data.Wiki==3].GoogleHitsMale.values\n",
    "heights_m=data[data.Wiki==1].NormalizedGoogleDif.values\n",
    "weights_m=data[data.Wiki==1].GoogleHitsMale.values\n",
    "\n",
    "fig = plt.figure(figsize = (10, 8))\n",
    "\n",
    "plt.semilogy()\n",
    "plt.plot(heights_f, weights_f, '.', label = 'Female Bias',c='r')\n",
    "# Men points (blue)\n",
    "plt.plot(heights_m, weights_m, '.', label = 'Male Bias',c=\"b\")#,mfc = 'None', mec='steelblue', alpha = .4)\n",
    "# The separating line\n",
    "#plt.plot(np.array([-1,1]), intercept + slope * np.array([-1, 1]),'-', color = '#461B7E')\n",
    "plt.xlabel('NormalizedGoogleDif ')\n",
    "plt.ylabel('GoogleHitsMale')\n",
    "plt.legend(loc='upper left')"
   ]
  },
  {
   "cell_type": "code",
   "execution_count": 78,
   "metadata": {
    "collapsed": false
   },
   "outputs": [
    {
     "name": "stdout",
     "output_type": "stream",
     "text": [
      "                         2.5%         97.5%          OR\n",
      "NormalizedGoogleDif  8.510443  31593.143356  518.528345\n",
      "GoogleHitsMale       0.999964      1.000055    1.000009\n",
      "intercept            9.589204   5395.972339  227.471048\n"
     ]
    }
   ],
   "source": [
    "params = best_res.params\n",
    "conf = best_res.conf_int()\n",
    "conf['OR'] = params\n",
    "conf.columns = ['2.5%', '97.5%', 'OR']\n",
    "print np.exp(conf)"
   ]
  },
  {
   "cell_type": "code",
   "execution_count": 290,
   "metadata": {
    "collapsed": false
   },
   "outputs": [
    {
     "data": {
      "text/html": [
       "<div>\n",
       "<table border=\"1\" class=\"dataframe\">\n",
       "  <thead>\n",
       "    <tr style=\"text-align: right;\">\n",
       "      <th></th>\n",
       "      <th>GoogleHitsMale</th>\n",
       "      <th>Name_length</th>\n",
       "      <th>NormalizedGoogleDif</th>\n",
       "      <th>Wiki</th>\n",
       "    </tr>\n",
       "  </thead>\n",
       "  <tbody>\n",
       "    <tr>\n",
       "      <th>Beschließer</th>\n",
       "      <td>255</td>\n",
       "      <td>11</td>\n",
       "      <td>-0.320905</td>\n",
       "      <td>3</td>\n",
       "    </tr>\n",
       "    <tr>\n",
       "      <th>Pflegediensthelfer</th>\n",
       "      <td>2120</td>\n",
       "      <td>18</td>\n",
       "      <td>-0.252205</td>\n",
       "      <td>3</td>\n",
       "    </tr>\n",
       "    <tr>\n",
       "      <th>Entbindungspfleger</th>\n",
       "      <td>26700</td>\n",
       "      <td>18</td>\n",
       "      <td>-0.908827</td>\n",
       "      <td>3</td>\n",
       "    </tr>\n",
       "    <tr>\n",
       "      <th>Haushälter</th>\n",
       "      <td>8000</td>\n",
       "      <td>10</td>\n",
       "      <td>-0.807229</td>\n",
       "      <td>3</td>\n",
       "    </tr>\n",
       "    <tr>\n",
       "      <th>Gleichstellungsbeauftragter</th>\n",
       "      <td>2490</td>\n",
       "      <td>27</td>\n",
       "      <td>-0.957971</td>\n",
       "      <td>3</td>\n",
       "    </tr>\n",
       "    <tr>\n",
       "      <th>Belegentbindungspfleger</th>\n",
       "      <td>47</td>\n",
       "      <td>23</td>\n",
       "      <td>-0.993448</td>\n",
       "      <td>3</td>\n",
       "    </tr>\n",
       "  </tbody>\n",
       "</table>\n",
       "</div>"
      ],
      "text/plain": [
       "                             GoogleHitsMale  Name_length  NormalizedGoogleDif  \\\n",
       "Beschließer                             255           11            -0.320905   \n",
       "Pflegediensthelfer                     2120           18            -0.252205   \n",
       "Entbindungspfleger                    26700           18            -0.908827   \n",
       "Haushälter                             8000           10            -0.807229   \n",
       "Gleichstellungsbeauftragter            2490           27            -0.957971   \n",
       "Belegentbindungspfleger                  47           23            -0.993448   \n",
       "\n",
       "                             Wiki  \n",
       "Beschließer                     3  \n",
       "Pflegediensthelfer              3  \n",
       "Entbindungspfleger              3  \n",
       "Haushälter                      3  \n",
       "Gleichstellungsbeauftragter     3  \n",
       "Belegentbindungspfleger         3  "
      ]
     },
     "execution_count": 290,
     "metadata": {},
     "output_type": "execute_result"
    }
   ],
   "source": [
    "data[data.Wiki==3]"
   ]
  },
  {
   "cell_type": "markdown",
   "metadata": {},
   "source": [
    "#!!!END is here======="
   ]
  },
  {
   "cell_type": "markdown",
   "metadata": {},
   "source": [
    "About odds ratios:\n",
    "http://www.ats.ucla.edu/stat/mult_pkg/faq/general/odds_ratio.htm\n",
    "About logistic regression:\n",
    "http://blog.yhat.com/posts/logistic-regression-and-python.html"
   ]
  }
 ],
 "metadata": {
  "kernelspec": {
   "display_name": "Python 2",
   "language": "python",
   "name": "python2"
  },
  "language_info": {
   "codemirror_mode": {
    "name": "ipython",
    "version": 2
   },
   "file_extension": ".py",
   "mimetype": "text/x-python",
   "name": "python",
   "nbconvert_exporter": "python",
   "pygments_lexer": "ipython2",
   "version": "2.7.11"
  }
 },
 "nbformat": 4,
 "nbformat_minor": 0
}
