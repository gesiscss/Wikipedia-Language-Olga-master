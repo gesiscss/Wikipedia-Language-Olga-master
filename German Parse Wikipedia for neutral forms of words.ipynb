{
 "cells": [
  {
   "cell_type": "markdown",
   "metadata": {},
   "source": [
    "# Look for redirections of german occupations (neutral forms)"
   ]
  },
  {
   "cell_type": "code",
   "execution_count": 26,
   "metadata": {
    "collapsed": false
   },
   "outputs": [
    {
     "name": "stdout",
     "output_type": "stream",
     "text": [
      "298\n",
      "===M: Fotodesigner\n",
      "===M: Design-Ingenieur\n",
      "===M: Schmuckdesigner\n",
      "===M: Feinwerktechniker\n",
      "===M: Schmuckgestalter\n",
      "===M: Edelsteingestalter\n",
      "===M: Maskenbildner\n",
      "===M: Sozialgerontologe\n",
      "===M: Altbauerneuerungstechniker\n",
      "===M: Bewährungshelfer\n",
      "===M: Sozialjurist\n",
      "===M: Bauvermessungstechniker\n",
      "===M: Landbautechniker\n",
      "===M: Textildesigner\n",
      "===M: Sozialpädagoge\n",
      "===M: Bergbautechniker\n",
      "===M: Hüttentechniker\n",
      "===M: Baudenkmalpfleger\n",
      "===M: Korrosionsschutztechniker\n",
      "==F: Ingenieurin\n",
      "===M: Abwassertechniker\n",
      "===M: Elektrotechniker\n",
      "276\n"
     ]
    }
   ],
   "source": [
    "import json\n",
    "def load_simple_json(filename):\n",
    "    with open(filename, 'r') as f:\n",
    "        return json.load(f)\n",
    "\n",
    "\n",
    "words=load_simple_json('de/neutral.json')\n",
    "print len(words)\n",
    "neutral=[]\n",
    "words_all=load_simple_json('de/occupation_all.json')\n",
    "words_revert={words_all[i][1]:i for i in words_all}#feminine:masculine\n",
    "for i in words:\n",
    "    if i not in words_all:\n",
    "        if i not in words_revert:\n",
    "            neutral.append(i)\n",
    "        else:\n",
    "            print \"==F:\",i\n",
    "    else:\n",
    "        print \"===M:\",i\n",
    "        \n",
    "print len(neutral)  \n",
    "\n",
    "with open('de/neutral_new.json', 'w') as f:\n",
    "    json.dump(neutral,  f,  indent=4)"
   ]
  },
  {
   "cell_type": "code",
   "execution_count": 27,
   "metadata": {
    "collapsed": false,
    "scrolled": true
   },
   "outputs": [],
   "source": [
    "from bs4 import BeautifulSoup\n",
    "from wikitools import wiki, api\n",
    "import json\n",
    "import re\n",
    "\n",
    "\n",
    "def load_simple_json(filename):\n",
    "    with open(filename, 'r') as f:\n",
    "        return json.load(f)\n",
    "\n",
    "    \n",
    "def check_revision(revisions):\n",
    "    redir=\"\"\n",
    "    page=False\n",
    "    for j in revisions:\n",
    "        redir_marker=[\"#WEITERLEITUNG\",\"#REDIRECT\",\"#redirect\",\"#weiterleitung\",\"#Weiterleitung\",\"#Redirect\"]\n",
    "        if (\"#WEITERLEITUNG\" in j[\"*\"])|(\"#REDIRECT\" in j[\"*\"])|(\"#redirect\" in j[\"*\"])|(\"#weiterleitung\" in j[\"*\"])\\\n",
    "        |(\"#Redirect\" in j[\"*\"])|(\"#Weiterleitung\" in j[\"*\"]):\n",
    "            m = re.search(r\"\\[\\[(.+)\\]\\]\", j[\"*\"])\n",
    "            s = m.group(0)[2:].split('#', 1)[0].replace(\"]]\",'')\n",
    "            redir=s\n",
    "        else:\n",
    "            page=True\n",
    "    return redir,page\n",
    "\n",
    "\n",
    "def check_with_mark_beruf(beruf_m):\n",
    "    beruf_markers=[\" Beruf\",\" (Beruf)\",\" beruf\", \" (Amt)\", \" Amt\"]\n",
    "    for i in beruf_markers:\n",
    "        l=\"de\" \n",
    "        site = wiki.Wiki(\"http://\"+l+\".wikipedia.org/w/api.php\")\n",
    "        params={'action':'query','titles':beruf_m+i,'prop':'revisions','rvprop':'timestamp|content','format':'json','continue':''}\n",
    "        request = api.APIRequest(site, params)\n",
    "        result=request.query()\n",
    "        if result[\"query\"][\"pages\"].values()[0].get(\"revisions\"):\n",
    "            redir,page=check_revision(result[\"query\"][\"pages\"].values()[0][\"revisions\"])\n",
    "            if page:\n",
    "                page=beruf_m+i\n",
    "            return redir,page     \n",
    "    return False,False\n",
    "    \n",
    "words=load_simple_json('de/neutral_new.json')\n",
    "#words = {\"Lehrer\":[[],\"Lehrerin\"],\"Professor\":[[],\"Professorin\"], \"Profesghhsor\":[[],\"Professorin\"]}\n",
    "\n",
    "\n",
    "redirection_m={}\n",
    "redirection_f={}\n",
    "page_m=[]\n",
    "no_page_m=[]\n",
    "no_page_m_new=[]\n",
    "page_f=[]\n",
    "no_page_f=[]\n",
    "for beruf_m in words:\n",
    "    l=\"de\" \n",
    "    site = wiki.Wiki(\"http://\"+l+\".wikipedia.org/w/api.php\")\n",
    "    #last revision\n",
    "    #http://de.wikipedia.org/w/api.php?action=query&prop=revisions&rvprop=timestamp|content&titles=Professorin&format=json&continue=\n",
    "    \n",
    "    #print beruf_m\n",
    "    params={'action':'query','titles':beruf_m,'prop':'revisions','rvprop':'timestamp|content','format':'json','continue':''}\n",
    "    request = api.APIRequest(site, params)\n",
    "    result=request.query()\n",
    "    \n",
    "    if result[\"query\"][\"pages\"].values()[0].get(\"revisions\"):\n",
    "        redir,page=check_revision(result[\"query\"][\"pages\"].values()[0][\"revisions\"])\n",
    "        if redir:\n",
    "            redirection_m[beruf_m]=redir\n",
    "        if page:\n",
    "            page_m.append(beruf_m)        \n",
    "    else:\n",
    "        #there is no page\n",
    "        #print \"no page\",beruf_m\n",
    "        '''\n",
    "        redir,page=check_with_mark_beruf(beruf_m)\n",
    "        if redir:\n",
    "            redirection_m[beruf_m]=redir\n",
    "        elif page:\n",
    "            page_m.append(page)   ######we addd beruf_m+i, where i is some substring,e.g. \" (Beruf)\"           \n",
    "        else:\n",
    "            no_page_m_new.append(beruf_m)'''\n",
    "        no_page_m.append(beruf_m) \n",
    "\n",
    "                "
   ]
  },
  {
   "cell_type": "code",
   "execution_count": 31,
   "metadata": {
    "collapsed": false
   },
   "outputs": [
    {
     "name": "stdout",
     "output_type": "stream",
     "text": [
      "14\n",
      "29\n",
      "233\n",
      "[u'Bestattungsfachkraft', u'Kassenaufsicht', u'Feldwebel', u'Rechtsbeistand', u'Au-pair', u'Portier', u'Aufsichtsperson', u'Knappe', u'Saucier', u'Tiefbau', u'Entremetier', u'CNC-Fachkraft', u'Elektroger\\xe4tefachkraft', u'Fachkraft', u'B\\xfcrokraft', u'Elektrofachkraft', u'First Officer', u'Gardemanger', u'Underwriter', u'Kaltmamsell', u'Diakonisse', u'Direktrice', u'Jockey', u'Master of Business Administration', u'Produktionsfachkraft Chemie', u'Rechtswissenschaft', u'Nachtportier', u'Imam', u'Page']\n",
      "{u'Spinnerei': u'Spinnen', u'Diskjockey': u'DJ', u'Regeltechniker': u'Prozessleitelektroniker', u'Verpackungstechniker': u'Verpackungsmittelmechaniker', u'Demichef de rang': u'Kellner', u'Chemieverfahrenstechniker': u'Chemikant', u'Autosattlerei': u'Autosattler', u'Human Resources': u'Personalwesen', u'IT-Consultant': u'IT-Berater', u'Schiffsjunge': u'Seemann', u'Comedian': u'Komiker', u'Chef de rang': u'Chef de Rang', u'Fotomodell': u'Model', u'Lehrkraft': u'Lehrer'}\n"
     ]
    }
   ],
   "source": [
    "print len(redirection_m)\n",
    "print len(page_m)\n",
    "print len(no_page_m)\n",
    "print page_m\n",
    "print redirection_m\n",
    "#print len(no_page_m_new)\n",
    "\n",
    "\n",
    "with open('de/wiki/n_redirects.json', 'w') as f:\n",
    "    json.dump(redirection_m,  f,  indent=4)\n",
    "with open('de/wiki/n_page.json', 'w') as f:\n",
    "    json.dump(page_m,  f,  indent=4)\n",
    "with open('de/wiki/n_no_page.json', 'w') as f:\n",
    "    json.dump(no_page_m,  f,  indent=4)"
   ]
  },
  {
   "cell_type": "code",
   "execution_count": 3,
   "metadata": {
    "collapsed": false
   },
   "outputs": [
    {
     "data": {
      "text/plain": [
       "\"        \\nwith open('de/wiki/f_links_to_mascuilne.json', 'w') as f:\\n    json.dump(f_links_to_mascuilne,  f,  indent=4)\\nwith open('de/wiki/f_links_to_smth.json', 'w') as f:\\n    json.dump(f_links_to_smth,  f,  indent=4)\""
      ]
     },
     "execution_count": 3,
     "metadata": {},
     "output_type": "execute_result"
    }
   ],
   "source": [
    "import json\n",
    "def load_simple_json(filename):\n",
    "    with open(filename, 'r') as f:\n",
    "        return json.load(f)\n",
    "    \n",
    "redirection_n=load_simple_json('de/wiki/n_redirects.json')\n",
    "words=load_simple_json('de/occupation_all.json')\n",
    "words_revert={words[i][1]:i for i in words}#feminine:masculine\n",
    "\n",
    "n_links_to_masculine={}\n",
    "n_links_to_feminine={}\n",
    "n_links_to_smth={}\n",
    "for i in redirection_n:\n",
    "    if words.has_key(redirection_n[i]):\n",
    "        n_links_to_masculine[i]=redirection_n[i]\n",
    "    elif words_revert.has_key(redirection_n[i]):\n",
    "        n_links_to_feminine[i]=redirection_n[i]\n",
    "    else:\n",
    "        #still links to masculine?\n",
    "        #if redirection_n[i][-2:]==\"er\":\n",
    "        #redirects to masculine\n",
    "        n_links_to_smth[i]=redirection_n[i]\n",
    "        \n",
    "'''        \n",
    "with open('de/wiki/f_links_to_mascuilne.json', 'w') as f:\n",
    "    json.dump(f_links_to_mascuilne,  f,  indent=4)\n",
    "with open('de/wiki/f_links_to_smth.json', 'w') as f:\n",
    "    json.dump(f_links_to_smth,  f,  indent=4)'''"
   ]
  },
  {
   "cell_type": "code",
   "execution_count": 8,
   "metadata": {
    "collapsed": false
   },
   "outputs": [
    {
     "name": "stdout",
     "output_type": "stream",
     "text": [
      "{u'Regeltechniker': u'Prozessleitelektroniker', u'Demichef de rang': u'Kellner', u'Chemieverfahrenstechniker': u'Chemikant', u'IT-Consultant': u'IT-Berater', u'Comedian': u'Komiker', u'Verpackungstechniker': u'Verpackungsmittelmechaniker', u'Lehrkraft': u'Lehrer'}\n",
      "{}\n",
      "{u'Spinnerei': u'Spinnen', u'Diskjockey': u'DJ', u'Autosattlerei': u'Autosattler', u'Human Resources': u'Personalwesen', u'Schiffsjunge': u'Seemann', u'Chef de rang': u'Chef de Rang', u'Fotomodell': u'Model'}\n"
     ]
    }
   ],
   "source": [
    "print n_links_to_masculine\n",
    "print n_links_to_feminine\n",
    "print n_links_to_smth"
   ]
  },
  {
   "cell_type": "markdown",
   "metadata": {},
   "source": [
    "# Check if existing page in one of subcategories Beruf"
   ]
  },
  {
   "cell_type": "code",
   "execution_count": 32,
   "metadata": {
    "collapsed": false,
    "scrolled": true
   },
   "outputs": [],
   "source": [
    "from wikitools import wiki, api,page, category\n",
    "import json\n",
    "def load_simple_json(filename):\n",
    "    with open(filename, 'r') as f:\n",
    "        return json.load(f)\n",
    "    \n",
    "no_page_m=load_simple_json('de/wiki/m_no_page.json')\n",
    "no_page_f=load_simple_json('de/wiki/f_no_page.json')\n",
    "page_m=load_simple_json('de/wiki/m_page.json')\n",
    "page_f=load_simple_json('de/wiki/f_page.json')\n",
    "\n",
    "m_links_to_feminine=load_simple_json('de/wiki/m_links_to_feminine.json')\n",
    "m_links_to_smth=load_simple_json('de/wiki/m_links_to_smth.json')\n",
    "f_links_to_mascuilne=load_simple_json('de/wiki/f_links_to_mascuilne.json')\n",
    "f_links_to_smth=load_simple_json('de/wiki/f_links_to_smth.json')\n",
    "words=load_simple_json('de/occupation_all.json')#{masculine:[[],[feminine]]}\n",
    "words_revert={words[i][1]:i for i in words}#feminine:masculine\n",
    "beruf_subcategories=load_simple_json('de/wiki/beruf_subcategories.json')\n",
    "\n",
    "def check_categories(page,categories):\n",
    "    #http://de.wikipedia.org/w/api.php?action=query&titles=Hebamme&prop=categories\n",
    "    l=\"de\" \n",
    "    site = wiki.Wiki(\"http://\"+l+\".wikipedia.org/w/api.php\")\n",
    "    params={'action':'query','titles':page,'prop':'categories','format':'json','continue':''}\n",
    "    request = api.APIRequest(site, params)\n",
    "    result=request.query()  \n",
    "    cat=[]\n",
    "    if result[\"query\"][\"pages\"].values()[0].get(\"categories\"):\n",
    "        for i in result[\"query\"][\"pages\"].values()[0][\"categories\"]:\n",
    "            cat.append(i[\"title\"])\n",
    "            if i[\"title\"] in categories:\n",
    "                #print i [\"title\"]\n",
    "                return True  \n",
    "        return False\n",
    "    else:\n",
    "        print \"no Categories here\"\n",
    "        return False\n",
    "    \n",
    "\n",
    "\n",
    "####\n",
    "def check_categories_substring(page,overloop=0,seen_cat=[]): #firstly go here\n",
    "    global beruf_subcategories\n",
    "    where_go_categories_=[]\n",
    "    l=\"de\"\n",
    "    seen_cat.append(page)\n",
    "    #print \"Firstly check categories of this page: \"+ page\n",
    "    #http://de.wikipedia.org/w/api.php?action=query&titles=Hebamme&prop=categories\n",
    "    site = wiki.Wiki(\"http://\"+l+\".wikipedia.org/w/api.php\")\n",
    "    params={'action':'query','titles':page,'prop':'categories','format':'json','continue':''}\n",
    "    request = api.APIRequest(site, params)\n",
    "    result=request.query()\n",
    "    if result[\"query\"][\"pages\"].values()[0].get(\"categories\"):\n",
    "        for i in result[\"query\"][\"pages\"].values()[0][\"categories\"]:\n",
    "            if (\"Kategorie:Wikipedia:\" not in i[\"title\"])&(\"Kategorie:!\" not in i[\"title\"]):\n",
    "                if (\"beruf\" in i[\"title\"])|(\"arbeit\" in i[\"title\"])|(\"Arbeit\" in i[\"title\"])|(\"amt\" in i[\"title\"])|(\"Amt\" in i[\"title\"])|(\"Beruf\"in i[\"title\"])|(\"wissenschaftler\"in i[\"title\"])|(\"Wissenschaftler\"in i[\"title\"]):#| (\"Personenbezeichnung\" in i[\"title\"]):\n",
    "                    #print \"--->\",i[\"title\"],\" is word beruf\"\n",
    "                    return True\n",
    "                elif i[\"title\"] in beruf_subcategories:\n",
    "                    #print \"--->\",i[\"title\"],\" in beruf sub\"\n",
    "                    return True  \n",
    "                else:\n",
    "                    if i[\"title\"] not in seen_cat:\n",
    "                        where_go_categories_.append(i[\"title\"])                    \n",
    "    for c in where_go_categories_ :\n",
    "        if c not in seen_cat:\n",
    "            if overloop<4:\n",
    "                if check_categories_substring(c,overloop=overloop+1,seen_cat=seen_cat):\n",
    "                    return True\n",
    "            else:\n",
    "                #print \"overloop ===\"+c\n",
    "                pass\n",
    "    return False     \n",
    "       \n",
    "def check_links(page,link):\n",
    "    #http://de.wikipedia.org/w/api.php?action=query&titles=Hebamme&prop=categories|links\n",
    "    l=\"de\" \n",
    "    site = wiki.Wiki(\"http://\"+l+\".wikipedia.org/w/api.php\")\n",
    "    params={'action':'query','titles':page,'prop':'categories|links','format':'json','continue':''}\n",
    "    request = api.APIRequest(site, params)\n",
    "    result=request.query()  \n",
    "    links=[]\n",
    "    if result[\"query\"][\"pages\"].values()[0].get(\"links\"):\n",
    "        for i in result[\"query\"][\"pages\"].values()[0][\"links\"]:\n",
    "            links.append(i[\"title\"])\n",
    "            if i[\"title\"]==link:\n",
    "                return True  \n",
    "        return False\n",
    "    else:\n",
    "        print \"no links\"\n",
    "        return False\n",
    "    \n",
    "def check_page_category(page):    \n",
    "    page_validated=[]\n",
    "    page_ambigious=[]\n",
    "    page_other=[]\n",
    "    ambigious_de=[u'Kategorie:Begriffskl\\xe4rung']   \n",
    "\n",
    "    for i in page:\n",
    "        if check_categories(i,beruf_subcategories):\n",
    "            #print i, \"in Beruf subcategory\"\n",
    "            page_validated.append(i)\n",
    "        else:\n",
    "            #print i, \"==not in Beruf subcategory\"\n",
    "            if check_categories(i,ambigious_de):\n",
    "                #print i, \"in Kategorie:Begriffsklärung\"\n",
    "                page_ambigious.append(i)\n",
    "                if words_revert.has_key(i):\n",
    "                    if check_links(i,words_revert[i]):\n",
    "                        print i,\"Ambigious!!! have link to maskuline\",words_revert[i]\n",
    "                if words.has_key(i):\n",
    "                    if check_links(i,words[i]):\n",
    "                        print i,\"Ambigious!!! have link to feminine\",words[i]\n",
    "                if check_links(i,i+\" (Beruf)\"):\n",
    "                        print \"Ambigious page has link to:\",i+\" (Beruf)\"       \n",
    "                #maybe learn ambigious pages text???\n",
    "                '''for j in words:\n",
    "                    if check_links(i,j):\n",
    "                        print \"Ambigious!!! have link to another Beruf:\",j\n",
    "                        \n",
    "                    if check_links(i,words[j][1]):\n",
    "                        print \"Ambigious!!! have link to another Beruf:\",words[j][1]'''                      \n",
    "                       \n",
    "            else:\n",
    "                #print \"Start checking...\",i \n",
    "                #check if the categories and there parent cat. has world \"beruf\"or \"amt\" or it's in beruf_subcat\n",
    "                if check_categories_substring(i):\n",
    "                    page_validated.append(i)\n",
    "                else:\n",
    "                    #print i, \"====== just another page\"\n",
    "                    page_other.append(i)\n",
    "                \n",
    "    return page_validated,page_ambigious,page_other"
   ]
  },
  {
   "cell_type": "code",
   "execution_count": 33,
   "metadata": {
    "collapsed": false
   },
   "outputs": [
    {
     "name": "stdout",
     "output_type": "stream",
     "text": [
      "Ambigious page has link to: Direktrice (Beruf)\n"
     ]
    }
   ],
   "source": [
    "#page_f_validated,page_f_ambigious,page_f_other\n",
    "\n",
    "page_n=load_simple_json('de/wiki/n_page.json')\n",
    "page_n_validated,page_n_ambigious,page_n_other=check_page_category(page_n)"
   ]
  },
  {
   "cell_type": "code",
   "execution_count": 34,
   "metadata": {
    "collapsed": false
   },
   "outputs": [
    {
     "name": "stdout",
     "output_type": "stream",
     "text": [
      "[u'Bestattungsfachkraft', u'Feldwebel', u'Rechtsbeistand', u'Au-pair', u'Portier', u'Aufsichtsperson', u'Saucier', u'Entremetier', u'CNC-Fachkraft', u'Elektroger\\xe4tefachkraft', u'B\\xfcrokraft', u'Elektrofachkraft', u'Gardemanger', u'Kaltmamsell', u'Diakonisse', u'Jockey', u'Produktionsfachkraft Chemie', u'Rechtswissenschaft', u'Nachtportier', u'Imam']\n",
      "[u'Knappe', u'First Officer', u'Underwriter', u'Direktrice', u'Page']\n",
      "[u'Kassenaufsicht', u'Tiefbau', u'Fachkraft', u'Master of Business Administration']\n"
     ]
    }
   ],
   "source": [
    "print page_n_validated\n",
    "print page_n_ambigious\n",
    "print page_n_other\n",
    "with open('de/wiki/n_page_validated.json', 'w') as f:\n",
    "    json.dump(page_n_validated,  f,  indent=4)\n",
    "with open('de/wiki/n_page_ambigious.json', 'w') as f:\n",
    "    json.dump(page_n_ambigious,  f,  indent=4)    \n",
    "with open('de/wiki/n_page_other.json', 'w') as f: #wrong page not occupation\n",
    "    json.dump(page_n_other,  f,  indent=4)   "
   ]
  },
  {
   "cell_type": "markdown",
   "metadata": {
    "collapsed": false
   },
   "source": [
    "# Tables"
   ]
  },
  {
   "cell_type": "code",
   "execution_count": 36,
   "metadata": {
    "collapsed": false
   },
   "outputs": [
    {
     "name": "stdout",
     "output_type": "stream",
     "text": [
      "+-----------+--------+------------+-----------------+-----------------+-----------+-------------------------+\n",
      "|    ----   | Occup. | Wiki pages | Validated pages | Ambigious pages | Redirects | Redir. to oposit gender |\n",
      "+-----------+--------+------------+-----------------+-----------------+-----------+-------------------------+\n",
      "| Masculine |  3886  |    818     |       664       |       115       |    487    |            4            |\n",
      "|  Feminine |  3886  |     12     |        7        |        3        |    266    |           176           |\n",
      "|  Neutral  |  276   |     29     |        20       |        5        |     14    |            --           |\n",
      "+-----------+--------+------------+-----------------+-----------------+-----------+-------------------------+\n"
     ]
    }
   ],
   "source": [
    "from prettytable import PrettyTable\n",
    "\n",
    "words=load_simple_json('de/occupation_all.json')#{masculine:[[],[feminine]]}\n",
    "words_revert={words[i][1]:i for i in words}#feminine:masculine\n",
    "neutral=load_simple_json('de/neutral_new.json')\n",
    "\n",
    "no_page_m=load_simple_json('de/wiki/m_no_page.json')\n",
    "no_page_f=load_simple_json('de/wiki/f_no_page.json')\n",
    "no_page_n=load_simple_json('de/wiki/n_no_page.json')\n",
    "page_m=load_simple_json('de/wiki/m_page.json')\n",
    "page_f=load_simple_json('de/wiki/f_page.json')\n",
    "page_n=load_simple_json('de/wiki/n_page.json')\n",
    "\n",
    "\n",
    "page_f_validated=load_simple_json('de/wiki/f_page_validated.json')\n",
    "page_f_ambigious=load_simple_json('de/wiki/f_page_ambigious.json')\n",
    "page_f_other=load_simple_json('de/wiki/f_page_other.json')  \n",
    "    \n",
    "page_m_validated=load_simple_json('de/wiki/m_page_validated.json') \n",
    "page_m_ambigious=load_simple_json('de/wiki/m_page_ambigious.json')\n",
    "page_m_other=load_simple_json('de/wiki/m_page_other.json')\n",
    "\n",
    "page_n_validated=load_simple_json('de/wiki/n_page_validated.json')\n",
    "page_n_ambigious=load_simple_json('de/wiki/n_page_ambigious.json')\n",
    "page_n_other=load_simple_json('de/wiki/n_page_other.json') \n",
    "\n",
    "m_links_to_feminine=load_simple_json('de/wiki/m_links_to_feminine.json')\n",
    "m_links_to_smth=load_simple_json('de/wiki/m_links_to_smth.json')\n",
    "f_links_to_mascuilne=load_simple_json('de/wiki/f_links_to_mascuilne.json')\n",
    "f_links_to_smth=load_simple_json('de/wiki/f_links_to_smth.json')\n",
    "redirection_n=load_simple_json('de/wiki/n_redirects.json')\n",
    "\n",
    "\n",
    "\n",
    "t = PrettyTable(['----',\"Occup.\", 'Wiki pages', \"Validated pages\",\"Ambigious pages\",\"Redirects\",\n",
    "                 \"Redir. to oposit gender\"])\n",
    "t.add_row(['Masculine',len(words), len(page_m), len(page_m_validated), len(page_m_ambigious),\n",
    "           len(m_links_to_feminine)+len(m_links_to_smth), len(m_links_to_feminine)])\n",
    "t.add_row(['Feminine',len(words_revert), len(page_f), len(page_f_validated), len(page_f_ambigious),\n",
    "           len(f_links_to_mascuilne)+len(f_links_to_smth), len(f_links_to_mascuilne)])\n",
    "t.add_row(['Neutral',len(neutral), len(page_n), len(page_n_validated), len(page_n_ambigious),\n",
    "           len(redirection_n), \"--\"])\n",
    "print t"
   ]
  },
  {
   "cell_type": "code",
   "execution_count": 37,
   "metadata": {
    "collapsed": false,
    "scrolled": false
   },
   "outputs": [
    {
     "name": "stdout",
     "output_type": "stream",
     "text": [
      "+-----------+--------+------------+-----------+---------+\n",
      "|    ----   | Occup. | Wiki pages | Redirects | No page |\n",
      "+-----------+--------+------------+-----------+---------+\n",
      "| Masculine |  3886  |    818     |    487    |   2581  |\n",
      "|  Feminine |  3886  |     12     |    266    |   3608  |\n",
      "|  Neutral  |  276   |     29     |     14    |   233   |\n",
      "+-----------+--------+------------+-----------+---------+\n",
      "\n",
      "+-----------+------------+-----------------+-----------------+---------------------+\n",
      "|    ----   | Wiki pages | Validated pages | Ambigious pages | Not validated pages |\n",
      "+-----------+------------+-----------------+-----------------+---------------------+\n",
      "| Masculine |    818     |       664       |       115       |          39         |\n",
      "|  Feminine |     12     |        7        |        3        |          2          |\n",
      "|  Neutral  |     29     |        20       |        5        |          4          |\n",
      "+-----------+------------+-----------------+-----------------+---------------------+\n",
      "\n",
      "+-----------+-----------+----------------------------+-----------------+\n",
      "|    ----   | Redirects | Redirects to oposit gender | Other redirects |\n",
      "+-----------+-----------+----------------------------+-----------------+\n",
      "| Masculine |    487    |             4              |       483       |\n",
      "|  Feminine |    266    |            176             |        90       |\n",
      "|  Neutral  |     14    |             --             |        --       |\n",
      "+-----------+-----------+----------------------------+-----------------+\n"
     ]
    }
   ],
   "source": [
    "t2 = PrettyTable(['----',\"Occup.\", 'Wiki pages', \"Redirects\", \"No page\"])\n",
    "t2.add_row(['Masculine',len(words), len(page_m), len(m_links_to_feminine)+len(m_links_to_smth),\n",
    "            len(no_page_m)])\n",
    "t2.add_row(['Feminine',len(words_revert), len(page_f),len(f_links_to_mascuilne)+len(f_links_to_smth),\n",
    "            len(no_page_f)])\n",
    "t2.add_row(['Neutral',len(neutral), len(page_n),len(redirection_n),len(no_page_n)])\n",
    "print t2\n",
    "print\n",
    "t3 = PrettyTable(['----','Wiki pages', \"Validated pages\",\"Ambigious pages\",\"Not validated pages\"])\n",
    "t3.add_row(['Masculine', len(page_m), len(page_m_validated), len(page_m_ambigious),len(page_m_other)])\n",
    "t3.add_row(['Feminine', len(page_f), len(page_f_validated), len(page_f_ambigious),len(page_f_other)])\n",
    "t3.add_row(['Neutral', len(page_n), len(page_n_validated), len(page_n_ambigious),len(page_n_other)])\n",
    "print t3\n",
    "print\n",
    "t4 = PrettyTable(['----',\"Redirects\",\"Redirects to oposit gender\", \"Other redirects\"])\n",
    "t4.add_row(['Masculine',len(m_links_to_feminine)+len(m_links_to_smth),\n",
    "            len(m_links_to_feminine),len(m_links_to_smth)])\n",
    "t4.add_row(['Feminine',len(f_links_to_mascuilne)+len(f_links_to_smth),\n",
    "            len(f_links_to_mascuilne),len(f_links_to_smth)])\n",
    "t4.add_row(['Neutral',len(redirection_n),\"--\",\"--\"])\n",
    "print t4\n"
   ]
  },
  {
   "cell_type": "code",
   "execution_count": null,
   "metadata": {
    "collapsed": true
   },
   "outputs": [],
   "source": []
  }
 ],
 "metadata": {
  "kernelspec": {
   "display_name": "Python 2",
   "language": "python",
   "name": "python2"
  },
  "language_info": {
   "codemirror_mode": {
    "name": "ipython",
    "version": 2
   },
   "file_extension": ".py",
   "mimetype": "text/x-python",
   "name": "python",
   "nbconvert_exporter": "python",
   "pygments_lexer": "ipython2",
   "version": "2.7.7"
  }
 },
 "nbformat": 4,
 "nbformat_minor": 0
}
